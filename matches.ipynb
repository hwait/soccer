{
 "metadata": {
  "language_info": {
   "codemirror_mode": {
    "name": "ipython",
    "version": 3
   },
   "file_extension": ".py",
   "mimetype": "text/x-python",
   "name": "python",
   "nbconvert_exporter": "python",
   "pygments_lexer": "ipython3",
   "version": "3.8.5-final"
  },
  "orig_nbformat": 2,
  "kernelspec": {
   "name": "python3",
   "display_name": "Python 3.8.5 64-bit ('tfenv': conda)",
   "metadata": {
    "interpreter": {
     "hash": "916a3f29a88f77c2f5dbe0921013e3c6102186662f3922578d8324ea0c6a5534"
    }
   }
  }
 },
 "nbformat": 4,
 "nbformat_minor": 2,
 "cells": [
  {
   "cell_type": "code",
   "execution_count": 1,
   "metadata": {},
   "outputs": [],
   "source": [
    "from os import path,listdir\n",
    "from shutil import move\n",
    "from datetime import datetime,timedelta\n",
    "import time\n",
    "import re\n",
    "import pandas as pd\n",
    "import numpy as np\n",
    "import random\n",
    "import pytz\n",
    "import json\n",
    "from tqdm import tqdm\n",
    "local_tz = 'Asia/Almaty'"
   ]
  },
  {
   "cell_type": "code",
   "execution_count": 2,
   "metadata": {},
   "outputs": [],
   "source": [
    "fn_matches='data/matches.csv'\n",
    "fn_done='data/matches_done.csv'\n",
    "df_matches=pd.read_csv(fn_matches, index_col=None)\n",
    "df_done=pd.read_csv(fn_done, index_col=None)\n",
    "#SERVER_TZ = 'UTC'\n",
    "#df_matches['ts']=pd.DatetimeIndex(pd.to_datetime(df_matches['startTimestamp'], unit='s')).tz_localize(SERVER_TZ)\n",
    "df_matches=df_matches.drop_duplicates(keep='first')\n",
    "df=pd.concat([df_done,df_matches.loc[df_matches['done']==1]])\n",
    "df_matches=df_matches.loc[df_matches['done']==0]\n",
    "df.to_csv('data/matches2.csv', index=False)\n",
    "df_matches.to_csv('data/matches1.csv', index=False)"
   ]
  },
  {
   "cell_type": "code",
   "execution_count": 13,
   "metadata": {},
   "outputs": [],
   "source": [
    "df=pd.read_csv(fn_matches, index_col=None)\n",
    "df['ts']=pd.to_datetime(df['ts'])\n",
    "ds=pytz.timezone(local_tz).localize(datetime(2020, 7, 10))\n",
    "de=pytz.timezone(local_tz).localize(datetime(2020, 11, 1))\n",
    "df=df[(df['ts']>ds) & (df['ts']<de)]\n",
    "df=df.drop_duplicates()\n",
    "df.to_csv('data/matches.csv', index=False)"
   ]
  },
  {
   "cell_type": "code",
   "execution_count": 14,
   "metadata": {},
   "outputs": [
    {
     "output_type": "execute_result",
     "data": {
      "text/plain": [
       "                   homeTeam  status   homeTeamShort  homeScoreHT  homeScoreFT  \\\n",
       "1503                Everton     100         Everton          0.0          1.0   \n",
       "1504         Leicester City     100       Leicester          1.0          2.0   \n",
       "1505         Crystal Palace     100  Crystal Palace          0.0          0.0   \n",
       "1506            Southampton     100     Southampton          0.0          1.0   \n",
       "1507        West Ham United     100        West Ham          3.0          3.0   \n",
       "...                     ...     ...             ...          ...          ...   \n",
       "156548            FC Vizela     100          Vizela          0.0          1.0   \n",
       "156549             UTA Arad     100        UTA Arad          0.0          0.0   \n",
       "156550         Degerfors IF     100       Degerfors          3.0          4.0   \n",
       "156551       Trelleborgs FF     100      Trelleborg          1.0          2.0   \n",
       "156552  Deportivo Maldonado     100  Dep. Maldonado          0.0          0.0   \n",
       "\n",
       "        awayTeamShort                 tournament                awayTeam  \\\n",
       "1503      Aston Villa             premier-league             Aston Villa   \n",
       "1504    Sheffield Utd             premier-league        Sheffield United   \n",
       "1505          Man Utd             premier-league       Manchester United   \n",
       "1506         Brighton             premier-league  Brighton & Hove Albion   \n",
       "1507          Watford             premier-league                 Watford   \n",
       "...               ...                        ...                     ...   \n",
       "156548         Chaves               segunda-liga               GD Chaves   \n",
       "156549   Academica C.                     liga-i   FC Academica Clinceni   \n",
       "156550       Västerås                 superettan             Västerås SK   \n",
       "156551         Norrby                 superettan               Norrby IF   \n",
       "156552        Danubio  primera-division-apertura                 Danubio   \n",
       "\n",
       "                              ts  awayScoreFT  awayScoreHT       id  \\\n",
       "1503   2020-07-16 17:00:00+00:00          1.0          0.0  8692266   \n",
       "1504   2020-07-16 17:00:00+00:00          0.0          0.0  8692268   \n",
       "1505   2020-07-16 19:15:00+00:00          2.0          1.0  8692264   \n",
       "1506   2020-07-16 19:15:00+00:00          1.0          1.0  8692262   \n",
       "1507   2020-07-17 19:00:00+00:00          1.0          0.0  8692271   \n",
       "...                          ...          ...          ...      ...   \n",
       "156548 2020-10-05 18:45:00+00:00          1.0          0.0  8956665   \n",
       "156549 2020-10-05 18:00:00+00:00          0.0          0.0  8849122   \n",
       "156550 2020-10-05 17:00:00+00:00          1.0          1.0  8731037   \n",
       "156551 2020-10-05 17:00:00+00:00          2.0          2.0  8731023   \n",
       "156552 2020-10-06 00:15:00+00:00          0.0          0.0  9035909   \n",
       "\n",
       "        awayScoreET  round  winnerCode  coverage  done  startTimestamp  \\\n",
       "1503            1.0   36.0           3         1     0      1594918800   \n",
       "1504            0.0   36.0           1         1     0      1594918800   \n",
       "1505            2.0   36.0           2         1     0      1594926900   \n",
       "1506            1.0   36.0           3         1     0      1594926900   \n",
       "1507            1.0   36.0           1         1     0      1595012400   \n",
       "...             ...    ...         ...       ...   ...             ...   \n",
       "156548          1.0    5.0           3         3     0      1601923500   \n",
       "156549          0.0    6.0           3         1     0      1601920800   \n",
       "156550          1.0   21.0           1         3     0      1601917200   \n",
       "156551          2.0   21.0           3         3     0      1601917200   \n",
       "156552          0.0   14.0           3         3     0      1601943300   \n",
       "\n",
       "         country  homeScoreET  \n",
       "1503     england          1.0  \n",
       "1504     england          2.0  \n",
       "1505     england          0.0  \n",
       "1506     england          1.0  \n",
       "1507     england          3.0  \n",
       "...          ...          ...  \n",
       "156548  portugal          1.0  \n",
       "156549   romania          0.0  \n",
       "156550    sweden          4.0  \n",
       "156551    sweden          2.0  \n",
       "156552   uruguay          0.0  \n",
       "\n",
       "[4530 rows x 20 columns]"
      ],
      "text/html": "<div>\n<style scoped>\n    .dataframe tbody tr th:only-of-type {\n        vertical-align: middle;\n    }\n\n    .dataframe tbody tr th {\n        vertical-align: top;\n    }\n\n    .dataframe thead th {\n        text-align: right;\n    }\n</style>\n<table border=\"1\" class=\"dataframe\">\n  <thead>\n    <tr style=\"text-align: right;\">\n      <th></th>\n      <th>homeTeam</th>\n      <th>status</th>\n      <th>homeTeamShort</th>\n      <th>homeScoreHT</th>\n      <th>homeScoreFT</th>\n      <th>awayTeamShort</th>\n      <th>tournament</th>\n      <th>awayTeam</th>\n      <th>ts</th>\n      <th>awayScoreFT</th>\n      <th>awayScoreHT</th>\n      <th>id</th>\n      <th>awayScoreET</th>\n      <th>round</th>\n      <th>winnerCode</th>\n      <th>coverage</th>\n      <th>done</th>\n      <th>startTimestamp</th>\n      <th>country</th>\n      <th>homeScoreET</th>\n    </tr>\n  </thead>\n  <tbody>\n    <tr>\n      <th>1503</th>\n      <td>Everton</td>\n      <td>100</td>\n      <td>Everton</td>\n      <td>0.0</td>\n      <td>1.0</td>\n      <td>Aston Villa</td>\n      <td>premier-league</td>\n      <td>Aston Villa</td>\n      <td>2020-07-16 17:00:00+00:00</td>\n      <td>1.0</td>\n      <td>0.0</td>\n      <td>8692266</td>\n      <td>1.0</td>\n      <td>36.0</td>\n      <td>3</td>\n      <td>1</td>\n      <td>0</td>\n      <td>1594918800</td>\n      <td>england</td>\n      <td>1.0</td>\n    </tr>\n    <tr>\n      <th>1504</th>\n      <td>Leicester City</td>\n      <td>100</td>\n      <td>Leicester</td>\n      <td>1.0</td>\n      <td>2.0</td>\n      <td>Sheffield Utd</td>\n      <td>premier-league</td>\n      <td>Sheffield United</td>\n      <td>2020-07-16 17:00:00+00:00</td>\n      <td>0.0</td>\n      <td>0.0</td>\n      <td>8692268</td>\n      <td>0.0</td>\n      <td>36.0</td>\n      <td>1</td>\n      <td>1</td>\n      <td>0</td>\n      <td>1594918800</td>\n      <td>england</td>\n      <td>2.0</td>\n    </tr>\n    <tr>\n      <th>1505</th>\n      <td>Crystal Palace</td>\n      <td>100</td>\n      <td>Crystal Palace</td>\n      <td>0.0</td>\n      <td>0.0</td>\n      <td>Man Utd</td>\n      <td>premier-league</td>\n      <td>Manchester United</td>\n      <td>2020-07-16 19:15:00+00:00</td>\n      <td>2.0</td>\n      <td>1.0</td>\n      <td>8692264</td>\n      <td>2.0</td>\n      <td>36.0</td>\n      <td>2</td>\n      <td>1</td>\n      <td>0</td>\n      <td>1594926900</td>\n      <td>england</td>\n      <td>0.0</td>\n    </tr>\n    <tr>\n      <th>1506</th>\n      <td>Southampton</td>\n      <td>100</td>\n      <td>Southampton</td>\n      <td>0.0</td>\n      <td>1.0</td>\n      <td>Brighton</td>\n      <td>premier-league</td>\n      <td>Brighton &amp; Hove Albion</td>\n      <td>2020-07-16 19:15:00+00:00</td>\n      <td>1.0</td>\n      <td>1.0</td>\n      <td>8692262</td>\n      <td>1.0</td>\n      <td>36.0</td>\n      <td>3</td>\n      <td>1</td>\n      <td>0</td>\n      <td>1594926900</td>\n      <td>england</td>\n      <td>1.0</td>\n    </tr>\n    <tr>\n      <th>1507</th>\n      <td>West Ham United</td>\n      <td>100</td>\n      <td>West Ham</td>\n      <td>3.0</td>\n      <td>3.0</td>\n      <td>Watford</td>\n      <td>premier-league</td>\n      <td>Watford</td>\n      <td>2020-07-17 19:00:00+00:00</td>\n      <td>1.0</td>\n      <td>0.0</td>\n      <td>8692271</td>\n      <td>1.0</td>\n      <td>36.0</td>\n      <td>1</td>\n      <td>1</td>\n      <td>0</td>\n      <td>1595012400</td>\n      <td>england</td>\n      <td>3.0</td>\n    </tr>\n    <tr>\n      <th>...</th>\n      <td>...</td>\n      <td>...</td>\n      <td>...</td>\n      <td>...</td>\n      <td>...</td>\n      <td>...</td>\n      <td>...</td>\n      <td>...</td>\n      <td>...</td>\n      <td>...</td>\n      <td>...</td>\n      <td>...</td>\n      <td>...</td>\n      <td>...</td>\n      <td>...</td>\n      <td>...</td>\n      <td>...</td>\n      <td>...</td>\n      <td>...</td>\n      <td>...</td>\n    </tr>\n    <tr>\n      <th>156548</th>\n      <td>FC Vizela</td>\n      <td>100</td>\n      <td>Vizela</td>\n      <td>0.0</td>\n      <td>1.0</td>\n      <td>Chaves</td>\n      <td>segunda-liga</td>\n      <td>GD Chaves</td>\n      <td>2020-10-05 18:45:00+00:00</td>\n      <td>1.0</td>\n      <td>0.0</td>\n      <td>8956665</td>\n      <td>1.0</td>\n      <td>5.0</td>\n      <td>3</td>\n      <td>3</td>\n      <td>0</td>\n      <td>1601923500</td>\n      <td>portugal</td>\n      <td>1.0</td>\n    </tr>\n    <tr>\n      <th>156549</th>\n      <td>UTA Arad</td>\n      <td>100</td>\n      <td>UTA Arad</td>\n      <td>0.0</td>\n      <td>0.0</td>\n      <td>Academica C.</td>\n      <td>liga-i</td>\n      <td>FC Academica Clinceni</td>\n      <td>2020-10-05 18:00:00+00:00</td>\n      <td>0.0</td>\n      <td>0.0</td>\n      <td>8849122</td>\n      <td>0.0</td>\n      <td>6.0</td>\n      <td>3</td>\n      <td>1</td>\n      <td>0</td>\n      <td>1601920800</td>\n      <td>romania</td>\n      <td>0.0</td>\n    </tr>\n    <tr>\n      <th>156550</th>\n      <td>Degerfors IF</td>\n      <td>100</td>\n      <td>Degerfors</td>\n      <td>3.0</td>\n      <td>4.0</td>\n      <td>Västerås</td>\n      <td>superettan</td>\n      <td>Västerås SK</td>\n      <td>2020-10-05 17:00:00+00:00</td>\n      <td>1.0</td>\n      <td>1.0</td>\n      <td>8731037</td>\n      <td>1.0</td>\n      <td>21.0</td>\n      <td>1</td>\n      <td>3</td>\n      <td>0</td>\n      <td>1601917200</td>\n      <td>sweden</td>\n      <td>4.0</td>\n    </tr>\n    <tr>\n      <th>156551</th>\n      <td>Trelleborgs FF</td>\n      <td>100</td>\n      <td>Trelleborg</td>\n      <td>1.0</td>\n      <td>2.0</td>\n      <td>Norrby</td>\n      <td>superettan</td>\n      <td>Norrby IF</td>\n      <td>2020-10-05 17:00:00+00:00</td>\n      <td>2.0</td>\n      <td>2.0</td>\n      <td>8731023</td>\n      <td>2.0</td>\n      <td>21.0</td>\n      <td>3</td>\n      <td>3</td>\n      <td>0</td>\n      <td>1601917200</td>\n      <td>sweden</td>\n      <td>2.0</td>\n    </tr>\n    <tr>\n      <th>156552</th>\n      <td>Deportivo Maldonado</td>\n      <td>100</td>\n      <td>Dep. Maldonado</td>\n      <td>0.0</td>\n      <td>0.0</td>\n      <td>Danubio</td>\n      <td>primera-division-apertura</td>\n      <td>Danubio</td>\n      <td>2020-10-06 00:15:00+00:00</td>\n      <td>0.0</td>\n      <td>0.0</td>\n      <td>9035909</td>\n      <td>0.0</td>\n      <td>14.0</td>\n      <td>3</td>\n      <td>3</td>\n      <td>0</td>\n      <td>1601943300</td>\n      <td>uruguay</td>\n      <td>0.0</td>\n    </tr>\n  </tbody>\n</table>\n<p>4530 rows × 20 columns</p>\n</div>"
     },
     "metadata": {},
     "execution_count": 14
    }
   ],
   "source": [
    "df"
   ]
  },
  {
   "cell_type": "code",
   "execution_count": 3,
   "metadata": {
    "tags": []
   },
   "outputs": [],
   "source": [
    "def parse_fn(fn):\n",
    "    return int(fn.split('_')[1][:-5])\n",
    "\n",
    "def parse_votes(data, mid):\n",
    "    row=data['vote']\n",
    "    row['mid']=mid\n",
    "    return row\n",
    "\n",
    "def parse_graph(data, mid):\n",
    "    rows=[{'mid':mid,'minute':x['minute'],'value':x['value'] } for x in data['graphPoints']]\n",
    "    return rows\n",
    "\n",
    "def parse_incidents(data, mid):\n",
    "    rows=[]\n",
    "    for x in data[::-1]:\n",
    "        row={'mid':mid}\n",
    "        if 'player' in x.keys():\n",
    "            row['player1']=x['player']['name']\n",
    "            if 'position' in x['player'].keys():\n",
    "                row['position1']=x['player']['position']\n",
    "        if 'assist1' in x.keys():\n",
    "            row['player2']=x['assist1']['name']\n",
    "            if 'position' in x['assist1'].keys():\n",
    "                row['position2']=x['assist1']['position']\n",
    "        if 'playerIn' in x.keys():\n",
    "            row['player1']=x['playerIn']['name']\n",
    "            if 'position' in x['playerIn'].keys():\n",
    "                row['position1']=x['playerIn']['position']\n",
    "        if 'playerOut' in x.keys():\n",
    "            row['player2']=x['playerOut']['name']\n",
    "            if 'position' in x['playerOut'].keys():\n",
    "                row['position2']=x['playerOut']['position']\n",
    "        if  'incidentClass' in x.keys() and x['incidentType']=='card':\n",
    "            row['incidentType']=x['incidentClass']\n",
    "        else:\n",
    "            row['incidentType']=x['incidentType']\n",
    "        if 'addedTime' in x.keys():\n",
    "            row['addedTime']=x['length'] if x['incidentType']=='injuryTime' else x['addedTime']\n",
    "        if 'isHome' in x.keys():\n",
    "            row['isHome']=x['isHome'] \n",
    "        if 'time' in x.keys():\n",
    "            row['time']=x['time']\n",
    "        rows.append(row)\n",
    "    return rows\n",
    "\n",
    "def parse_team(data, home, mid):\n",
    "    rows= [  {\n",
    "        'mid':mid,\n",
    "        'home':home,\n",
    "        'name' : x['player']['name'],\n",
    "        'slug' : x['player']['slug'],\n",
    "        'position' : x['position'] if 'position' in x.keys() else '',\n",
    "        'substitute' : x['substitute'] if 'substitute' in x.keys() else False,\n",
    "        'totalPass' : x['statistics']['totalPass'] if 'statistics' in x.keys() and 'totalPass' in x['statistics'].keys() else np.NaN,\n",
    "        'accuratePass' : x['statistics']['accuratePass'] if 'statistics' in x.keys() and 'accuratePass' in x['statistics'].keys() else np.NaN,\n",
    "        'totalLongBalls' : x['statistics']['totalLongBalls'] if 'statistics' in x.keys() and 'totalLongBalls' in x['statistics'].keys() else np.NaN,\n",
    "        'accurateLongBalls' : x['statistics']['accurateLongBalls'] if 'statistics' in x.keys() and 'accurateLongBalls' in x['statistics'].keys() else np.NaN,\n",
    "        'aerialLost' : x['statistics']['aerialLost'] if 'statistics' in x.keys() and 'aerialLost' in x['statistics'].keys() else np.NaN,\n",
    "        'duelLost' : x['statistics']['duelLost'] if 'statistics' in x.keys() and 'duelLost' in x['statistics'].keys() else np.NaN,\n",
    "        'totalClearance' : x['statistics']['totalClearance'] if 'statistics' in x.keys() and 'totalClearance' in x['statistics'].keys() else np.NaN,\n",
    "        'goodHighClaim' : x['statistics']['goodHighClaim'] if 'statistics' in x.keys() and 'goodHighClaim' in x['statistics'].keys() else np.NaN,\n",
    "        'savedShotsFromInsideTheBox' : x['statistics']['savedShotsFromInsideTheBox'] if 'statistics' in x.keys() and 'tosavedShotsFromInsideTheBoxalCross' in x['statistics'].keys() else np.NaN,\n",
    "        'saves' : x['statistics']['saves'] if 'statistics' in x.keys() and 'saves' in x['statistics'].keys() else np.NaN,\n",
    "        'totalKeeperSweeper' : x['statistics']['totalKeeperSweeper'] if 'statistics' in x.keys() and 'totalKeeperSweeper' in x['statistics'].keys() else np.NaN,\n",
    "        'accurateKeeperSweeper' : x['statistics']['accurateKeeperSweeper'] if 'statistics' in x.keys() and 'accurateKeeperSweeper' in x['statistics'].keys() else np.NaN,\n",
    "        'minutesPlayed' : x['statistics']['minutesPlayed'] if 'statistics' in x.keys() and 'minutesPlayed' in x['statistics'].keys() else np.NaN,\n",
    "        'touches' : x['statistics']['touches'] if 'statistics' in x.keys() and 'touches' in x['statistics'].keys() else np.NaN,\n",
    "        'rating' : x['statistics']['rating'] if 'statistics' in x.keys() and 'rating' in x['statistics'].keys() else np.NaN,\n",
    "        'totalCross' : x['statistics']['totalCross'] if 'statistics' in x.keys() and 'totalCross' in x['statistics'].keys() else np.NaN,\n",
    "        'aerialWon' : x['statistics']['aerialWon'] if 'statistics' in x.keys() and 'aerialWon' in x['statistics'].keys() else np.NaN,\n",
    "        'duelWon' : x['statistics']['duelWon'] if 'statistics' in x.keys() and 'duelWon' in x['statistics'].keys() else np.NaN,\n",
    "        'interceptionWon' : x['statistics']['interceptionWon'] if 'statistics' in x.keys() and 'interceptionWon' in x['statistics'].keys() else np.NaN,\n",
    "        'totalTackle' : x['statistics']['totalTackle'] if 'statistics' in x.keys() and 'totalTackle' in x['statistics'].keys() else np.NaN,\n",
    "        'fouls' : x['statistics']['fouls'] if 'statistics' in x.keys() and 'fouls' in x['statistics'].keys() else np.NaN,\n",
    "        'shotOffTarget' : x['statistics']['shotOffTarget'] if 'statistics' in x.keys() and 'shotOffTarget' in x['statistics'].keys() else np.NaN,\n",
    "        'wasFouled' : x['statistics']['wasFouled'] if 'statistics' in x.keys() and 'wasFouled' in x['statistics'].keys() else np.NaN,\n",
    "        'onTargetScoringAttempt' : x['statistics']['onTargetScoringAttempt'] if 'statistics' in x.keys() and 'onTargetScoringAttempt' in x['statistics'].keys() else np.NaN,\n",
    "        'blockedScoringAttempt' : x['statistics']['blockedScoringAttempt'] if 'statistics' in x.keys() and 'blockedScoringAttempt' in x['statistics'].keys() else np.NaN,\n",
    "        'wonContest' : x['statistics']['wonContest'] if 'statistics' in x.keys() and 'wonContest' in x['statistics'].keys() else np.NaN,\n",
    "        'totalContest' : x['statistics']['totalContest'] if 'statistics' in x.keys() and 'totalContest' in x['statistics'].keys() else np.NaN,\n",
    "        'challengeLost' : x['statistics']['challengeLost'] if 'statistics' in x.keys() and 'challengeLost' in x['statistics'].keys() else np.NaN,\n",
    "        'dispossessed' : x['statistics']['dispossessed'] if 'statistics' in x.keys() and 'dispossessed' in x['statistics'].keys() else np.NaN,\n",
    "        'savedShotsFromInsideTheBox' : x['statistics']['savedShotsFromInsideTheBox'] if 'statistics' in x.keys() and 'savedShotsFromInsideTheBox' in x['statistics'].keys() else np.NaN,\n",
    "        'totalOffside' : x['statistics']['totalOffside'] if 'statistics' in x.keys() and 'totalOffside' in x['statistics'].keys() else np.NaN,\n",
    "        'bigChanceCreated' : x['statistics']['bigChanceCreated'] if 'statistics' in x.keys() and 'bigChanceCreated' in x['statistics'].keys() else np.NaN,\n",
    "        'goals' : x['statistics']['goals'] if 'statistics' in x.keys() and 'goals' in x['statistics'].keys() else np.NaN }  \n",
    "    for x in data['players'] ]\n",
    "    return rows\n",
    "\n",
    "def parse_lineups(data, mid):\n",
    "    home=data['home']\n",
    "    away=data['away']\n",
    "    formations= { \n",
    "        'mid':mid, \n",
    "        'formation_h': home['formation'] if 'formation' in home.keys() else '', \n",
    "        'formation_a': away['formation'] if 'formation' in away.keys() else '' }\n",
    "    rows=parse_team(home, 1, mid)\n",
    "    rows+=parse_team(away, 0, mid)\n",
    "    return rows, formations\n",
    "\n",
    "def parse_htft(x, mid):\n",
    "    home_row= { 'mid':mid, 'period':x['period'], 'ishome':1 }\n",
    "    for i in x['groups']:\n",
    "        for j in i['statisticsItems']:\n",
    "            col=j['name']\n",
    "            home_row[col]= j['home']\n",
    "    away_row= { 'mid':mid, 'period':x['period'], 'ishome':0 }\n",
    "    for i in x['groups']:\n",
    "        for j in i['statisticsItems']:\n",
    "            col=j['name']\n",
    "            away_row[col]= j['away']\n",
    "    return home_row,away_row\n",
    "\n",
    "def parse_matches():\n",
    "    DIR='raw/matches/'\n",
    "    DIR_OUT='raw/done/matches/'\n",
    "    arr = {'votes':[],\n",
    "        'graph':[],\n",
    "        'incidents':[],\n",
    "        'lineups':[],\n",
    "        'statistics':[],\n",
    "        'formations':[]  }\n",
    "    row={}\n",
    "    for file in tqdm(listdir('raw/matches')):\n",
    "        if len(file)>25 or file=='.empty':\n",
    "            continue\n",
    "        mid=int(file.split('_')[1][:-5])\n",
    "        with open(DIR+file, 'r', encoding='utf8') as f:\n",
    "            data=json.load(f)\n",
    "        isFound=True\n",
    "        if file.startswith('votes'):\n",
    "            row=parse_votes(data,mid)\n",
    "            arr['votes'].append(row)\n",
    "        elif file.startswith('graph'):\n",
    "            rows=parse_graph(data,mid)\n",
    "            arr['graph']+=rows\n",
    "        elif file.startswith('incidents'):\n",
    "            rows=parse_incidents(data['incidents'],mid)\n",
    "            arr['incidents']+=rows\n",
    "        elif file.startswith('lineups'):\n",
    "            rows, formations=parse_lineups(data,mid)\n",
    "            if formations['formation_h']!='' and formations['formation_a']!='':\n",
    "                arr['formations'].append(formations) \n",
    "            arr['lineups']+=rows\n",
    "        elif file.startswith('statistics'):\n",
    "            for x in data['statistics']:\n",
    "                home_row,away_row=parse_htft(x,mid)\n",
    "                arr['statistics'].append(home_row)\n",
    "                arr['statistics'].append(away_row)\n",
    "        else:\n",
    "            isFound=False\n",
    "        if isFound:\n",
    "            move( DIR+file, DIR_OUT+file)\n",
    "    \n",
    "    name='votes'\n",
    "    file_name=f'data/{name}.csv'\n",
    "    if path.exists(file_name):\n",
    "        pd.concat([pd.read_csv(file_name, index_col=None), pd.DataFrame(data=arr[name])]).to_csv(file_name, index=False)\n",
    "    else:\n",
    "        pd.DataFrame(data=arr[name]).to_csv(file_name, index=False)\n",
    "    \n",
    "    name='graph'\n",
    "    file_name=f'data/{name}.csv'\n",
    "    if path.exists(file_name):\n",
    "        pd.concat([pd.read_csv(file_name, index_col=None), pd.DataFrame(data=arr[name])]).to_csv(file_name, index=False)\n",
    "    else:\n",
    "        pd.DataFrame(data=arr[name]).to_csv(file_name, index=False)\n",
    "    \n",
    "    name='incidents'\n",
    "    file_name=f'data/{name}.csv'\n",
    "    if path.exists(file_name):\n",
    "        pd.concat([pd.read_csv(file_name, index_col=None), pd.DataFrame(data=arr[name])]).to_csv(file_name, index=False)\n",
    "    else:\n",
    "        pd.DataFrame(data=arr[name]).to_csv(file_name, index=False)\n",
    "    \n",
    "    name='lineups'\n",
    "    file_name=f'data/{name}.csv'\n",
    "    if path.exists(file_name):\n",
    "        pd.concat([pd.read_csv(file_name, index_col=None), pd.DataFrame(data=arr[name])]).to_csv(file_name, index=False)\n",
    "    else:\n",
    "        pd.DataFrame(data=arr[name]).to_csv(file_name, index=False)\n",
    "    \n",
    "    name='formations'\n",
    "    file_name=f'data/{name}.csv'\n",
    "    if path.exists(file_name):\n",
    "        pd.concat([pd.read_csv(file_name, index_col=None), pd.DataFrame(data=arr[name])]).to_csv(file_name, index=False)\n",
    "    else:\n",
    "        pd.DataFrame(data=arr[name]).to_csv(file_name, index=False)\n",
    "    \n",
    "    name='statistics'\n",
    "    file_name=f'data/{name}.csv'\n",
    "    if path.exists(file_name):\n",
    "        pd.concat([pd.read_csv(file_name, index_col=None), pd.DataFrame(data=arr[name])]).to_csv(file_name, index=False)\n",
    "    else:\n",
    "        pd.DataFrame(data=arr[name]).to_csv(file_name, index=False)\n",
    "    \n"
   ]
  },
  {
   "cell_type": "code",
   "execution_count": 4,
   "metadata": {
    "tags": []
   },
   "outputs": [
    {
     "output_type": "stream",
     "name": "stderr",
     "text": [
      "100%|██████████| 22127/22127 [02:10<00:00, 169.57it/s]\n"
     ]
    }
   ],
   "source": [
    "parse_matches()"
   ]
  },
  {
   "cell_type": "code",
   "execution_count": null,
   "metadata": {},
   "outputs": [],
   "source": [
    "row"
   ]
  },
  {
   "cell_type": "code",
   "execution_count": null,
   "metadata": {},
   "outputs": [],
   "source": [
    "file_name='raw/matches/graph_5076016.json'\n",
    "with open(file_name, 'r', encoding='utf8') as f:\n",
    "    data=json.load(f)\n",
    "a=data[\"graphPoints\"]"
   ]
  },
  {
   "cell_type": "code",
   "execution_count": null,
   "metadata": {},
   "outputs": [],
   "source": [
    "pd.DataFrame(data=[row])"
   ]
  },
  {
   "cell_type": "code",
   "execution_count": null,
   "metadata": {},
   "outputs": [],
   "source": [
    " row={}\n",
    " for x in a:\n",
    "     row['m{}'.format(x['minute'])]=x['value']\n",
    "row "
   ]
  },
  {
   "cell_type": "code",
   "execution_count": null,
   "metadata": {},
   "outputs": [],
   "source": [
    "\n",
    "file_name='raw/matches/statistics_6768144.json'\n",
    "with open(file_name, 'r', encoding='utf8') as f:\n",
    "    data=json.load(f)"
   ]
  },
  {
   "cell_type": "code",
   "execution_count": null,
   "metadata": {},
   "outputs": [],
   "source": []
  },
  {
   "cell_type": "code",
   "execution_count": null,
   "metadata": {},
   "outputs": [],
   "source": [
    "rows=[]\n",
    "for x in data['statistics']:\n",
    "    home_row,away_row=parse_htft(x,1)\n",
    "    rows.append(home_row)\n",
    "    rows.append(away_row)\n",
    "rows"
   ]
  },
  {
   "cell_type": "code",
   "execution_count": null,
   "metadata": {},
   "outputs": [],
   "source": [
    "\n",
    "[  {\n",
    "    'name' : x['player']['name'],\n",
    "    'slug' : x['player']['slug'],\n",
    "    'position' : x['position'] if 'position' in x.keys() else '',\n",
    "    'substitute' : x['substitute'] if 'substitute' in x.keys() else False,\n",
    "    'totalPass' : x['statistics']['totalPass'] if 'statistics' in x.keys() and 'totalPass' in x['statistics'].keys() else np.NaN,\n",
    "    'accuratePass' : x['statistics']['accuratePass'] if 'statistics' in x.keys() and 'accuratePass' in x['statistics'].keys() else np.NaN,\n",
    "    'totalLongBalls' : x['statistics']['totalLongBalls'] if 'statistics' in x.keys() and 'totalLongBalls' in x['statistics'].keys() else np.NaN,\n",
    "    'accurateLongBalls' : x['statistics']['accurateLongBalls'] if 'statistics' in x.keys() and 'accurateLongBalls' in x['statistics'].keys() else np.NaN,\n",
    "    'aerialLost' : x['statistics']['aerialLost'] if 'statistics' in x.keys() and 'aerialLost' in x['statistics'].keys() else np.NaN,\n",
    "    'duelLost' : x['statistics']['duelLost'] if 'statistics' in x.keys() and 'duelLost' in x['statistics'].keys() else np.NaN,\n",
    "    'totalClearance' : x['statistics']['totalClearance'] if 'statistics' in x.keys() and 'totalClearance' in x['statistics'].keys() else np.NaN,\n",
    "    'goodHighClaim' : x['statistics']['goodHighClaim'] if 'statistics' in x.keys() and 'goodHighClaim' in x['statistics'].keys() else np.NaN,\n",
    "    'savedShotsFromInsideTheBox' : x['statistics']['savedShotsFromInsideTheBox'] if 'statistics' in x.keys() and 'tosavedShotsFromInsideTheBoxalCross' in x['statistics'].keys() else np.NaN,\n",
    "    'saves' : x['statistics']['saves'] if 'statistics' in x.keys() and 'saves' in x['statistics'].keys() else np.NaN,\n",
    "    'totalKeeperSweeper' : x['statistics']['totalKeeperSweeper'] if 'statistics' in x.keys() and 'totalKeeperSweeper' in x['statistics'].keys() else np.NaN,\n",
    "    'accurateKeeperSweeper' : x['statistics']['accurateKeeperSweeper'] if 'statistics' in x.keys() and 'accurateKeeperSweeper' in x['statistics'].keys() else np.NaN,\n",
    "    'minutesPlayed' : x['statistics']['minutesPlayed'] if 'statistics' in x.keys() and 'minutesPlayed' in x['statistics'].keys() else np.NaN,\n",
    "    'touches' : x['statistics']['touches'] if 'statistics' in x.keys() and 'touches' in x['statistics'].keys() else np.NaN,\n",
    "    'rating' : x['statistics']['rating'] if 'statistics' in x.keys() and 'rating' in x['statistics'].keys() else np.NaN,\n",
    "    'totalCross' : x['statistics']['totalCross'] if 'statistics' in x.keys() and 'totalCross' in x['statistics'].keys() else np.NaN,\n",
    "    'aerialWon' : x['statistics']['aerialWon'] if 'statistics' in x.keys() and 'aerialWon' in x['statistics'].keys() else np.NaN,\n",
    "    'duelWon' : x['statistics']['duelWon'] if 'statistics' in x.keys() and 'duelWon' in x['statistics'].keys() else np.NaN,\n",
    "    'interceptionWon' : x['statistics']['interceptionWon'] if 'statistics' in x.keys() and 'interceptionWon' in x['statistics'].keys() else np.NaN,\n",
    "    'totalTackle' : x['statistics']['totalTackle'] if 'statistics' in x.keys() and 'totalTackle' in x['statistics'].keys() else np.NaN,\n",
    "    'fouls' : x['statistics']['fouls'] if 'statistics' in x.keys() and 'fouls' in x['statistics'].keys() else np.NaN,\n",
    "    'shotOffTarget' : x['statistics']['shotOffTarget'] if 'statistics' in x.keys() and 'shotOffTarget' in x['statistics'].keys() else np.NaN,\n",
    "    'wasFouled' : x['statistics']['wasFouled'] if 'statistics' in x.keys() and 'wasFouled' in x['statistics'].keys() else np.NaN,\n",
    "    'onTargetScoringAttempt' : x['statistics']['onTargetScoringAttempt'] if 'statistics' in x.keys() and 'onTargetScoringAttempt' in x['statistics'].keys() else np.NaN,\n",
    "    'blockedScoringAttempt' : x['statistics']['blockedScoringAttempt'] if 'statistics' in x.keys() and 'blockedScoringAttempt' in x['statistics'].keys() else np.NaN,\n",
    "    'wonContest' : x['statistics']['wonContest'] if 'statistics' in x.keys() and 'wonContest' in x['statistics'].keys() else np.NaN,\n",
    "    'totalContest' : x['statistics']['totalContest'] if 'statistics' in x.keys() and 'totalContest' in x['statistics'].keys() else np.NaN,\n",
    "    'challengeLost' : x['statistics']['challengeLost'] if 'statistics' in x.keys() and 'challengeLost' in x['statistics'].keys() else np.NaN,\n",
    "    'dispossessed' : x['statistics']['dispossessed'] if 'statistics' in x.keys() and 'dispossessed' in x['statistics'].keys() else np.NaN,\n",
    "    'savedShotsFromInsideTheBox' : x['statistics']['savedShotsFromInsideTheBox'] if 'statistics' in x.keys() and 'savedShotsFromInsideTheBox' in x['statistics'].keys() else np.NaN,\n",
    "    'totalOffside' : x['statistics']['totalOffside'] if 'statistics' in x.keys() and 'totalOffside' in x['statistics'].keys() else np.NaN,\n",
    "    'bigChanceCreated' : x['statistics']['bigChanceCreated'] if 'statistics' in x.keys() and 'bigChanceCreated' in x['statistics'].keys() else np.NaN,\n",
    "    'goals' : x['statistics']['goals'] if 'statistics' in x.keys() and 'goals' in x['statistics'].keys() else np.NaN }  \n",
    " for x in home['players']\n",
    "]\n"
   ]
  },
  {
   "cell_type": "code",
   "execution_count": null,
   "metadata": {},
   "outputs": [],
   "source": [
    "pd.DataFrame(data=rows)"
   ]
  },
  {
   "cell_type": "code",
   "execution_count": null,
   "metadata": {},
   "outputs": [],
   "source": [
    "matches=[x for x in dp.data['events'] if 'coverage' in x.keys()]\n",
    "matches=[x for x in matches if x['coverage']>-1]\n",
    "matches=[x for x in matches if x['status']['code']==100 or x['status']['code']==110]\n",
    "len(matches)"
   ]
  },
  {
   "cell_type": "code",
   "execution_count": null,
   "metadata": {},
   "outputs": [],
   "source": [
    "a=[  {'tournament' : x['tournament']['slug'],\n",
    "    'country' : x['tournament']['category']['slug'],\n",
    "    'round' : x['roundInfo']['round'] if 'roundInfo' in x.keys() else np.NaN,\n",
    "    'status' : x['status']['code'],\n",
    "    'homeTeam' : x['homeTeam']['name'],\n",
    "    'homeTeamShort' : x['homeTeam']['shortName'],\n",
    "    'awayTeam' : x['awayTeam']['name'],\n",
    "    'awayTeamShort' : x['awayTeam']['shortName'],\n",
    "    'homeScoreFT' : x['homeScore']['normaltime'] if 'normaltime' in x.keys() else np.NaN,\n",
    "    'homeScoreET' : x['homeScore']['current'] if 'current' in x.keys() else np.NaN,\n",
    "    'homeScoreHT' : x['homeScore']['period1'] if 'period1' in x.keys() else np.NaN,\n",
    "    'awayScoreFT' : x['awayScore']['normaltime'] if 'normaltime' in x.keys() else np.NaN,\n",
    "    'awayScoreET' : x['awayScore']['current'] if 'current' in x.keys() else np.NaN,\n",
    "    'awayScoreHT' : x['awayScore']['period1'] if 'period1' in x.keys() else np.NaN,\n",
    "    'id' : x['id'],\n",
    "    'startTimestamp' : x['startTimestamp'],\n",
    "    'coverage' : x['coverage'],\n",
    "    'winnerCode' : x['winnerCode']} for x in matches]"
   ]
  },
  {
   "cell_type": "code",
   "execution_count": null,
   "metadata": {},
   "outputs": [],
   "source": [
    "pd.DataFrame(data=a)\n"
   ]
  },
  {
   "cell_type": "code",
   "execution_count": null,
   "metadata": {},
   "outputs": [],
   "source": [
    "load_json('best-players',did, headers)"
   ]
  },
  {
   "cell_type": "code",
   "execution_count": null,
   "metadata": {},
   "outputs": [],
   "source": [
    "did=9091942\n",
    "load_match_info(did)"
   ]
  },
  {
   "cell_type": "code",
   "execution_count": 60,
   "metadata": {},
   "outputs": [],
   "source": [
    "df_matches=pd.read_csv('data/matches_done.csv', index_col=None)\n",
    "df_statistics=pd.read_csv('data/statistics.csv', index_col=None)\n",
    "df_formations=pd.read_csv('data/formations.csv', index_col=None)\n",
    "df_votes=pd.read_csv('data/votes.csv', index_col=None)"
   ]
  },
  {
   "cell_type": "code",
   "execution_count": 61,
   "metadata": {},
   "outputs": [],
   "source": [
    "df=df_matches.merge(df_formations, on='mid', how='left')\n",
    "df=df.merge(df_votes, on='mid', how='left')\n",
    "\n",
    "df['v1_prob']=df['vote1']/(df['vote1']+df['vote2']+df['voteX'])\n",
    "df['v2_prob']=df['voteX']/(df['vote1']+df['vote2']+df['voteX'])\n",
    "df['v0_prob']=df['vote2']/(df['vote1']+df['vote2']+df['voteX'])\n",
    "\n",
    "df['v1x_prob']=(df['vote1']+df['voteX'])/(df['vote1']+df['vote2']+df['voteX'])\n",
    "df['v2x_prob']=(df['vote2']+df['voteX'])/(df['vote1']+df['vote2']+df['voteX'])\n",
    "df['v12_prob']=(df['vote1']+df['vote2'])/(df['vote1']+df['vote2']+df['voteX'])"
   ]
  },
  {
   "cell_type": "code",
   "execution_count": 54,
   "metadata": {},
   "outputs": [],
   "source": [
    "df.loc[df['homeScoreHT']>df['awayScoreHT'], 'res']=1\n",
    "df.loc[df['homeScoreHT']<df['awayScoreHT'], 'res']=0\n",
    "df.loc[df['homeScoreHT']==df['awayScoreHT'], 'res']=2\n",
    "df['res1']=np.where(df['homeScoreHT']>df['awayScoreHT'],1,0)\n",
    "df['res0']=np.where(df['homeScoreHT']<df['awayScoreHT'],1,0)\n",
    "df['res2']=np.where(df['homeScoreHT']==df['awayScoreHT'],1,0)\n",
    "df['res1x']=np.where(df['homeScoreHT']>=df['awayScoreHT'],1,0)\n",
    "df['res2x']=np.where(df['homeScoreHT']<=df['awayScoreHT'],1,0)\n",
    "df['res12']=np.where(~(df['homeScoreHT']==df['awayScoreHT']),1,0)"
   ]
  },
  {
   "cell_type": "code",
   "execution_count": 63,
   "metadata": {},
   "outputs": [],
   "source": [
    "df.loc[df['homeScoreFT']>df['awayScoreFT'], 'res']=1\n",
    "df.loc[df['homeScoreFT']<df['awayScoreFT'], 'res']=0\n",
    "df.loc[df['homeScoreFT']==df['awayScoreFT'], 'res']=2\n",
    "df['res1']=np.where(df['homeScoreFT']>df['awayScoreFT'],1,0)\n",
    "df['res0']=np.where(df['homeScoreFT']<df['awayScoreFT'],1,0)\n",
    "df['res2']=np.where(df['homeScoreFT']==df['awayScoreFT'],1,0)\n",
    "df['res1x']=np.where(df['homeScoreFT']>=df['awayScoreFT'],1,0)\n",
    "df['res2x']=np.where(df['homeScoreFT']<=df['awayScoreFT'],1,0)\n",
    "df['res12']=np.where(~(df['homeScoreFT']==df['awayScoreFT']),1,0)"
   ]
  },
  {
   "cell_type": "code",
   "execution_count": 64,
   "metadata": {},
   "outputs": [
    {
     "output_type": "execute_result",
     "data": {
      "text/plain": [
       "             res1   v1_prob\n",
       "res1     1.000000  0.296231\n",
       "v1_prob  0.296231  1.000000"
      ],
      "text/html": "<div>\n<style scoped>\n    .dataframe tbody tr th:only-of-type {\n        vertical-align: middle;\n    }\n\n    .dataframe tbody tr th {\n        vertical-align: top;\n    }\n\n    .dataframe thead th {\n        text-align: right;\n    }\n</style>\n<table border=\"1\" class=\"dataframe\">\n  <thead>\n    <tr style=\"text-align: right;\">\n      <th></th>\n      <th>res1</th>\n      <th>v1_prob</th>\n    </tr>\n  </thead>\n  <tbody>\n    <tr>\n      <th>res1</th>\n      <td>1.000000</td>\n      <td>0.296231</td>\n    </tr>\n    <tr>\n      <th>v1_prob</th>\n      <td>0.296231</td>\n      <td>1.000000</td>\n    </tr>\n  </tbody>\n</table>\n</div>"
     },
     "metadata": {},
     "execution_count": 64
    }
   ],
   "source": [
    "df[['res1','v1_prob']].corr()\n"
   ]
  },
  {
   "cell_type": "code",
   "execution_count": 65,
   "metadata": {},
   "outputs": [
    {
     "output_type": "execute_result",
     "data": {
      "text/plain": [
       "             res2   v2_prob\n",
       "res2     1.000000  0.063173\n",
       "v2_prob  0.063173  1.000000"
      ],
      "text/html": "<div>\n<style scoped>\n    .dataframe tbody tr th:only-of-type {\n        vertical-align: middle;\n    }\n\n    .dataframe tbody tr th {\n        vertical-align: top;\n    }\n\n    .dataframe thead th {\n        text-align: right;\n    }\n</style>\n<table border=\"1\" class=\"dataframe\">\n  <thead>\n    <tr style=\"text-align: right;\">\n      <th></th>\n      <th>res2</th>\n      <th>v2_prob</th>\n    </tr>\n  </thead>\n  <tbody>\n    <tr>\n      <th>res2</th>\n      <td>1.000000</td>\n      <td>0.063173</td>\n    </tr>\n    <tr>\n      <th>v2_prob</th>\n      <td>0.063173</td>\n      <td>1.000000</td>\n    </tr>\n  </tbody>\n</table>\n</div>"
     },
     "metadata": {},
     "execution_count": 65
    }
   ],
   "source": [
    "df[['res2','v2_prob']].corr()"
   ]
  },
  {
   "cell_type": "code",
   "execution_count": 66,
   "metadata": {},
   "outputs": [
    {
     "output_type": "execute_result",
     "data": {
      "text/plain": [
       "             res0   v0_prob\n",
       "res0     1.000000  0.295919\n",
       "v0_prob  0.295919  1.000000"
      ],
      "text/html": "<div>\n<style scoped>\n    .dataframe tbody tr th:only-of-type {\n        vertical-align: middle;\n    }\n\n    .dataframe tbody tr th {\n        vertical-align: top;\n    }\n\n    .dataframe thead th {\n        text-align: right;\n    }\n</style>\n<table border=\"1\" class=\"dataframe\">\n  <thead>\n    <tr style=\"text-align: right;\">\n      <th></th>\n      <th>res0</th>\n      <th>v0_prob</th>\n    </tr>\n  </thead>\n  <tbody>\n    <tr>\n      <th>res0</th>\n      <td>1.000000</td>\n      <td>0.295919</td>\n    </tr>\n    <tr>\n      <th>v0_prob</th>\n      <td>0.295919</td>\n      <td>1.000000</td>\n    </tr>\n  </tbody>\n</table>\n</div>"
     },
     "metadata": {},
     "execution_count": 66
    }
   ],
   "source": [
    "df[['res0','v0_prob']].corr()"
   ]
  },
  {
   "cell_type": "code",
   "execution_count": 67,
   "metadata": {},
   "outputs": [
    {
     "output_type": "execute_result",
     "data": {
      "text/plain": [
       "             res1x  v1x_prob\n",
       "res1x     1.000000  0.296427\n",
       "v1x_prob  0.296427  1.000000"
      ],
      "text/html": "<div>\n<style scoped>\n    .dataframe tbody tr th:only-of-type {\n        vertical-align: middle;\n    }\n\n    .dataframe tbody tr th {\n        vertical-align: top;\n    }\n\n    .dataframe thead th {\n        text-align: right;\n    }\n</style>\n<table border=\"1\" class=\"dataframe\">\n  <thead>\n    <tr style=\"text-align: right;\">\n      <th></th>\n      <th>res1x</th>\n      <th>v1x_prob</th>\n    </tr>\n  </thead>\n  <tbody>\n    <tr>\n      <th>res1x</th>\n      <td>1.000000</td>\n      <td>0.296427</td>\n    </tr>\n    <tr>\n      <th>v1x_prob</th>\n      <td>0.296427</td>\n      <td>1.000000</td>\n    </tr>\n  </tbody>\n</table>\n</div>"
     },
     "metadata": {},
     "execution_count": 67
    }
   ],
   "source": [
    "df[['res1x','v1x_prob']].corr()"
   ]
  },
  {
   "cell_type": "code",
   "execution_count": 69,
   "metadata": {},
   "outputs": [
    {
     "output_type": "execute_result",
     "data": {
      "text/plain": [
       "             res2x  v2x_prob\n",
       "res2x     1.000000  0.295779\n",
       "v2x_prob  0.295779  1.000000"
      ],
      "text/html": "<div>\n<style scoped>\n    .dataframe tbody tr th:only-of-type {\n        vertical-align: middle;\n    }\n\n    .dataframe tbody tr th {\n        vertical-align: top;\n    }\n\n    .dataframe thead th {\n        text-align: right;\n    }\n</style>\n<table border=\"1\" class=\"dataframe\">\n  <thead>\n    <tr style=\"text-align: right;\">\n      <th></th>\n      <th>res2x</th>\n      <th>v2x_prob</th>\n    </tr>\n  </thead>\n  <tbody>\n    <tr>\n      <th>res2x</th>\n      <td>1.000000</td>\n      <td>0.295779</td>\n    </tr>\n    <tr>\n      <th>v2x_prob</th>\n      <td>0.295779</td>\n      <td>1.000000</td>\n    </tr>\n  </tbody>\n</table>\n</div>"
     },
     "metadata": {},
     "execution_count": 69
    }
   ],
   "source": [
    "df[['res2x','v2x_prob']].corr()"
   ]
  },
  {
   "cell_type": "code",
   "execution_count": 68,
   "metadata": {},
   "outputs": [
    {
     "output_type": "execute_result",
     "data": {
      "text/plain": [
       "             res12  v12_prob\n",
       "res12     1.000000  0.063173\n",
       "v12_prob  0.063173  1.000000"
      ],
      "text/html": "<div>\n<style scoped>\n    .dataframe tbody tr th:only-of-type {\n        vertical-align: middle;\n    }\n\n    .dataframe tbody tr th {\n        vertical-align: top;\n    }\n\n    .dataframe thead th {\n        text-align: right;\n    }\n</style>\n<table border=\"1\" class=\"dataframe\">\n  <thead>\n    <tr style=\"text-align: right;\">\n      <th></th>\n      <th>res12</th>\n      <th>v12_prob</th>\n    </tr>\n  </thead>\n  <tbody>\n    <tr>\n      <th>res12</th>\n      <td>1.000000</td>\n      <td>0.063173</td>\n    </tr>\n    <tr>\n      <th>v12_prob</th>\n      <td>0.063173</td>\n      <td>1.000000</td>\n    </tr>\n  </tbody>\n</table>\n</div>"
     },
     "metadata": {},
     "execution_count": 68
    }
   ],
   "source": [
    "df[['res12','v12_prob']].corr()"
   ]
  },
  {
   "cell_type": "code",
   "execution_count": 187,
   "metadata": {},
   "outputs": [
    {
     "output_type": "execute_result",
     "data": {
      "text/plain": [
       "       homeTeamShort                awayTeam                    tournament  \\\n",
       "0     Western Sydney  Central Coast Mariners                      a-league   \n",
       "1         Dundee Utd               Dundee FC                   premiership   \n",
       "2              Stoke       Manchester United                premier-league   \n",
       "3        İdman Yurdu        Fatih Karagümrük        turkiye-kupasi-group-c   \n",
       "4        Aston Villa          Crystal Palace                premier-league   \n",
       "...              ...                     ...                           ...   \n",
       "7589         Tondela                 CD Aves                 primeira-liga   \n",
       "7590   Balıkesirspor            Ümraniyespor                         1-lig   \n",
       "7591        Rizespor             Giresunspor                         1-lig   \n",
       "7592  Daco-Getica B.        Gaz Metan Mediaș       liga-1-relegation-round   \n",
       "7593         Trenčín       Slovan Bratislava  superliga-championship-round   \n",
       "\n",
       "       awayTeamShort                  homeTeam  startTimestamp      mid  \\\n",
       "0      Central Coast  Western Sydney Wanderers      1420101000  5578766   \n",
       "1             Dundee             Dundee United      1420114500  5587542   \n",
       "2            Man Utd                Stoke City      1420116300  5582826   \n",
       "3         Karagümrük        Mersin İdman Yurdu      1420119000  6378723   \n",
       "4     Crystal Palace               Aston Villa      1420124400  5582812   \n",
       "...              ...                       ...             ...      ...   \n",
       "7589            Aves                   Tondela      1524409200  7473290   \n",
       "7590    Ümraniyespor             Balıkesirspor      1524409200  7507476   \n",
       "7591     Giresunspor           Çaykur Rizespor      1524409200  7507466   \n",
       "7592       Gaz Metan     Daco-Getica Bucureşti      1524409200  7736048   \n",
       "7593          Slovan                AS Trenčín      1524409200  7764696   \n",
       "\n",
       "      awayScoreFT  awayScoreET  done  ...  v1x_prob  v2x_prob  v12_prob  res  \\\n",
       "0             0.0            0     1  ...  0.714829  0.520913  0.764259  2.0   \n",
       "1             2.0            2     1  ...  0.932605  0.209472  0.857923  1.0   \n",
       "2             1.0            1     1  ...  0.199892  0.901950  0.898158  2.0   \n",
       "3             0.0            0     1  ...  0.730769  0.461538  0.807692  2.0   \n",
       "4             0.0            0     1  ...  0.872861  0.348166  0.778973  2.0   \n",
       "...           ...          ...   ...  ...       ...       ...       ...  ...   \n",
       "7589          0.0            0     1  ...  0.854422  0.471435  0.674143  2.0   \n",
       "7590          1.0            1     1  ...  0.524116  0.752412  0.723473  0.0   \n",
       "7591          0.0            0     1  ...  0.928172  0.256185  0.815642  2.0   \n",
       "7592          3.0            3     1  ...  0.730769  0.647215  0.622016  0.0   \n",
       "7593          3.0            3     1  ...  0.706897  0.534483  0.758621  0.0   \n",
       "\n",
       "      res1 res0  res2 res1x  res2x  res12  \n",
       "0        0    0     1     1      1      0  \n",
       "1        1    0     0     1      0      1  \n",
       "2        0    0     1     1      1      0  \n",
       "3        0    0     1     1      1      0  \n",
       "4        0    0     1     1      1      0  \n",
       "...    ...  ...   ...   ...    ...    ...  \n",
       "7589     0    0     1     1      1      0  \n",
       "7590     0    1     0     0      1      1  \n",
       "7591     0    0     1     1      1      0  \n",
       "7592     0    1     0     0      1      1  \n",
       "7593     0    1     0     0      1      1  \n",
       "\n",
       "[7594 rows x 38 columns]"
      ],
      "text/html": "<div>\n<style scoped>\n    .dataframe tbody tr th:only-of-type {\n        vertical-align: middle;\n    }\n\n    .dataframe tbody tr th {\n        vertical-align: top;\n    }\n\n    .dataframe thead th {\n        text-align: right;\n    }\n</style>\n<table border=\"1\" class=\"dataframe\">\n  <thead>\n    <tr style=\"text-align: right;\">\n      <th></th>\n      <th>homeTeamShort</th>\n      <th>awayTeam</th>\n      <th>tournament</th>\n      <th>awayTeamShort</th>\n      <th>homeTeam</th>\n      <th>startTimestamp</th>\n      <th>mid</th>\n      <th>awayScoreFT</th>\n      <th>awayScoreET</th>\n      <th>done</th>\n      <th>...</th>\n      <th>v1x_prob</th>\n      <th>v2x_prob</th>\n      <th>v12_prob</th>\n      <th>res</th>\n      <th>res1</th>\n      <th>res0</th>\n      <th>res2</th>\n      <th>res1x</th>\n      <th>res2x</th>\n      <th>res12</th>\n    </tr>\n  </thead>\n  <tbody>\n    <tr>\n      <th>0</th>\n      <td>Western Sydney</td>\n      <td>Central Coast Mariners</td>\n      <td>a-league</td>\n      <td>Central Coast</td>\n      <td>Western Sydney Wanderers</td>\n      <td>1420101000</td>\n      <td>5578766</td>\n      <td>0.0</td>\n      <td>0</td>\n      <td>1</td>\n      <td>...</td>\n      <td>0.714829</td>\n      <td>0.520913</td>\n      <td>0.764259</td>\n      <td>2.0</td>\n      <td>0</td>\n      <td>0</td>\n      <td>1</td>\n      <td>1</td>\n      <td>1</td>\n      <td>0</td>\n    </tr>\n    <tr>\n      <th>1</th>\n      <td>Dundee Utd</td>\n      <td>Dundee FC</td>\n      <td>premiership</td>\n      <td>Dundee</td>\n      <td>Dundee United</td>\n      <td>1420114500</td>\n      <td>5587542</td>\n      <td>2.0</td>\n      <td>2</td>\n      <td>1</td>\n      <td>...</td>\n      <td>0.932605</td>\n      <td>0.209472</td>\n      <td>0.857923</td>\n      <td>1.0</td>\n      <td>1</td>\n      <td>0</td>\n      <td>0</td>\n      <td>1</td>\n      <td>0</td>\n      <td>1</td>\n    </tr>\n    <tr>\n      <th>2</th>\n      <td>Stoke</td>\n      <td>Manchester United</td>\n      <td>premier-league</td>\n      <td>Man Utd</td>\n      <td>Stoke City</td>\n      <td>1420116300</td>\n      <td>5582826</td>\n      <td>1.0</td>\n      <td>1</td>\n      <td>1</td>\n      <td>...</td>\n      <td>0.199892</td>\n      <td>0.901950</td>\n      <td>0.898158</td>\n      <td>2.0</td>\n      <td>0</td>\n      <td>0</td>\n      <td>1</td>\n      <td>1</td>\n      <td>1</td>\n      <td>0</td>\n    </tr>\n    <tr>\n      <th>3</th>\n      <td>İdman Yurdu</td>\n      <td>Fatih Karagümrük</td>\n      <td>turkiye-kupasi-group-c</td>\n      <td>Karagümrük</td>\n      <td>Mersin İdman Yurdu</td>\n      <td>1420119000</td>\n      <td>6378723</td>\n      <td>0.0</td>\n      <td>0</td>\n      <td>1</td>\n      <td>...</td>\n      <td>0.730769</td>\n      <td>0.461538</td>\n      <td>0.807692</td>\n      <td>2.0</td>\n      <td>0</td>\n      <td>0</td>\n      <td>1</td>\n      <td>1</td>\n      <td>1</td>\n      <td>0</td>\n    </tr>\n    <tr>\n      <th>4</th>\n      <td>Aston Villa</td>\n      <td>Crystal Palace</td>\n      <td>premier-league</td>\n      <td>Crystal Palace</td>\n      <td>Aston Villa</td>\n      <td>1420124400</td>\n      <td>5582812</td>\n      <td>0.0</td>\n      <td>0</td>\n      <td>1</td>\n      <td>...</td>\n      <td>0.872861</td>\n      <td>0.348166</td>\n      <td>0.778973</td>\n      <td>2.0</td>\n      <td>0</td>\n      <td>0</td>\n      <td>1</td>\n      <td>1</td>\n      <td>1</td>\n      <td>0</td>\n    </tr>\n    <tr>\n      <th>...</th>\n      <td>...</td>\n      <td>...</td>\n      <td>...</td>\n      <td>...</td>\n      <td>...</td>\n      <td>...</td>\n      <td>...</td>\n      <td>...</td>\n      <td>...</td>\n      <td>...</td>\n      <td>...</td>\n      <td>...</td>\n      <td>...</td>\n      <td>...</td>\n      <td>...</td>\n      <td>...</td>\n      <td>...</td>\n      <td>...</td>\n      <td>...</td>\n      <td>...</td>\n      <td>...</td>\n    </tr>\n    <tr>\n      <th>7589</th>\n      <td>Tondela</td>\n      <td>CD Aves</td>\n      <td>primeira-liga</td>\n      <td>Aves</td>\n      <td>Tondela</td>\n      <td>1524409200</td>\n      <td>7473290</td>\n      <td>0.0</td>\n      <td>0</td>\n      <td>1</td>\n      <td>...</td>\n      <td>0.854422</td>\n      <td>0.471435</td>\n      <td>0.674143</td>\n      <td>2.0</td>\n      <td>0</td>\n      <td>0</td>\n      <td>1</td>\n      <td>1</td>\n      <td>1</td>\n      <td>0</td>\n    </tr>\n    <tr>\n      <th>7590</th>\n      <td>Balıkesirspor</td>\n      <td>Ümraniyespor</td>\n      <td>1-lig</td>\n      <td>Ümraniyespor</td>\n      <td>Balıkesirspor</td>\n      <td>1524409200</td>\n      <td>7507476</td>\n      <td>1.0</td>\n      <td>1</td>\n      <td>1</td>\n      <td>...</td>\n      <td>0.524116</td>\n      <td>0.752412</td>\n      <td>0.723473</td>\n      <td>0.0</td>\n      <td>0</td>\n      <td>1</td>\n      <td>0</td>\n      <td>0</td>\n      <td>1</td>\n      <td>1</td>\n    </tr>\n    <tr>\n      <th>7591</th>\n      <td>Rizespor</td>\n      <td>Giresunspor</td>\n      <td>1-lig</td>\n      <td>Giresunspor</td>\n      <td>Çaykur Rizespor</td>\n      <td>1524409200</td>\n      <td>7507466</td>\n      <td>0.0</td>\n      <td>0</td>\n      <td>1</td>\n      <td>...</td>\n      <td>0.928172</td>\n      <td>0.256185</td>\n      <td>0.815642</td>\n      <td>2.0</td>\n      <td>0</td>\n      <td>0</td>\n      <td>1</td>\n      <td>1</td>\n      <td>1</td>\n      <td>0</td>\n    </tr>\n    <tr>\n      <th>7592</th>\n      <td>Daco-Getica B.</td>\n      <td>Gaz Metan Mediaș</td>\n      <td>liga-1-relegation-round</td>\n      <td>Gaz Metan</td>\n      <td>Daco-Getica Bucureşti</td>\n      <td>1524409200</td>\n      <td>7736048</td>\n      <td>3.0</td>\n      <td>3</td>\n      <td>1</td>\n      <td>...</td>\n      <td>0.730769</td>\n      <td>0.647215</td>\n      <td>0.622016</td>\n      <td>0.0</td>\n      <td>0</td>\n      <td>1</td>\n      <td>0</td>\n      <td>0</td>\n      <td>1</td>\n      <td>1</td>\n    </tr>\n    <tr>\n      <th>7593</th>\n      <td>Trenčín</td>\n      <td>Slovan Bratislava</td>\n      <td>superliga-championship-round</td>\n      <td>Slovan</td>\n      <td>AS Trenčín</td>\n      <td>1524409200</td>\n      <td>7764696</td>\n      <td>3.0</td>\n      <td>3</td>\n      <td>1</td>\n      <td>...</td>\n      <td>0.706897</td>\n      <td>0.534483</td>\n      <td>0.758621</td>\n      <td>0.0</td>\n      <td>0</td>\n      <td>1</td>\n      <td>0</td>\n      <td>0</td>\n      <td>1</td>\n      <td>1</td>\n    </tr>\n  </tbody>\n</table>\n<p>7594 rows × 38 columns</p>\n</div>"
     },
     "metadata": {},
     "execution_count": 187
    }
   ],
   "source": [
    "df"
   ]
  },
  {
   "cell_type": "code",
   "execution_count": 2,
   "metadata": {},
   "outputs": [],
   "source": [
    "df_incidents=pd.read_csv('data/incidents.csv', index_col=None)\n",
    "df_incidents=df_incidents.loc[df_incidents['incidentType']!='varDecision']\n",
    "df_incidents=df_incidents.loc[df_incidents['incidentType']!='injuryTime']\n",
    "df_incidents=df_incidents.loc[df_incidents['time']>0]\n",
    "df_incidents=df_incidents.loc[df_incidents['time']<91]\n",
    "\n",
    "df_graph=pd.read_csv('data/graph.csv', index_col=None)\n",
    "df_graph=df_graph.loc[df_graph['minute']>0]\n",
    "df_graph=df_graph.loc[df_graph['minute']<91]"
   ]
  },
  {
   "cell_type": "code",
   "execution_count": 123,
   "metadata": {},
   "outputs": [
    {
     "output_type": "execute_result",
     "data": {
      "text/plain": [
       "array([20., 32., 45., 55., 56., 63., 67., 70., 72., 80., 83., 90., 29.,\n",
       "       30., 46., 47., 57., 66., 71., 81., 82., 87., 37., 42., 61., 68.,\n",
       "       69., 77., 79.,  9., 10., 31., 36., 44., 53., 60., 75., 89.,  6.,\n",
       "       41., 58., 73., 88.,  2., 17., 52., 19., 35., 65., 74., 13., 25.,\n",
       "       49., 54., 59., 62., 85., 43., 48., 50., 51.,  4., 39., 86., 18.,\n",
       "       34., 21., 84., 38., 16., 24., 64., 23., 78.,  3., 22., 26., 76.,\n",
       "       11., 33., 28.,  7., 40., 15., 12., 27.,  8.,  1., 14.,  5.])"
      ]
     },
     "metadata": {},
     "execution_count": 123
    }
   ],
   "source": [
    "df_incidents['time'].unique()"
   ]
  },
  {
   "cell_type": "code",
   "execution_count": 117,
   "metadata": {},
   "outputs": [
    {
     "output_type": "execute_result",
     "data": {
      "text/plain": [
       "Empty DataFrame\n",
       "Columns: [mid, player1, position1, player2, position2, incidentType, isHome, time, addedTime]\n",
       "Index: []"
      ],
      "text/html": "<div>\n<style scoped>\n    .dataframe tbody tr th:only-of-type {\n        vertical-align: middle;\n    }\n\n    .dataframe tbody tr th {\n        vertical-align: top;\n    }\n\n    .dataframe thead th {\n        text-align: right;\n    }\n</style>\n<table border=\"1\" class=\"dataframe\">\n  <thead>\n    <tr style=\"text-align: right;\">\n      <th></th>\n      <th>mid</th>\n      <th>player1</th>\n      <th>position1</th>\n      <th>player2</th>\n      <th>position2</th>\n      <th>incidentType</th>\n      <th>isHome</th>\n      <th>time</th>\n      <th>addedTime</th>\n    </tr>\n  </thead>\n  <tbody>\n  </tbody>\n</table>\n</div>"
     },
     "metadata": {},
     "execution_count": 117
    }
   ],
   "source": [
    "df_incidents.loc[df_incidents['time']<-5]"
   ]
  },
  {
   "cell_type": "code",
   "execution_count": 121,
   "metadata": {},
   "outputs": [
    {
     "output_type": "execute_result",
     "data": {
      "text/plain": [
       "          mid                 player1 position1                 player2  \\\n",
       "3869  5555430           Steven Defour         M                     NaN   \n",
       "3870  5555430              Jeff Louis         M                     NaN   \n",
       "3871  5555430                     NaN       NaN                     NaN   \n",
       "3872  5555430           Steven Defour         M                     NaN   \n",
       "3873  5555430          Sacha Kljestan         M           Oswal Alvarez   \n",
       "3874  5555430           Laurent Ciman         D           Adrien Trebel   \n",
       "3875  5555430           Laurent Ciman         D                     NaN   \n",
       "3876  5555430         Paul-José Mpoku         F            Geoffrey Bia   \n",
       "3877  5555430             Marko Marin         M            Maxime Colin   \n",
       "3878  5555430        Aaron Leya Iseka         F         Youri Tielemans   \n",
       "3879  5555430                Yuji Ono         M              Jeff Louis   \n",
       "3880  5555430  Mehdi Carcela-González         M                     NaN   \n",
       "3881  5555430          Tortol Lumanza         M  Mehdi Carcela-González   \n",
       "3882  5555430         Igor De Camargo         F                Yuji Ono   \n",
       "3884  5555430        Fabrice N'Sakala         D                     NaN   \n",
       "3885  5555430                     NaN       NaN                     NaN   \n",
       "3886  5555430    Anthony Vanden Borre         D                     NaN   \n",
       "\n",
       "     position2  incidentType isHome  time  addedTime  \n",
       "3869       NaN        yellow  False  32.0        NaN  \n",
       "3870       NaN        yellow   True  43.0        NaN  \n",
       "3871       NaN        period    NaN  45.0      999.0  \n",
       "3872       NaN     yellowRed  False  53.0        NaN  \n",
       "3873         F  substitution  False  59.0        NaN  \n",
       "3874         M          goal   True  64.0        NaN  \n",
       "3875       NaN        yellow   True  65.0        NaN  \n",
       "3876         M  substitution   True  67.0        NaN  \n",
       "3877         D  substitution  False  75.0        NaN  \n",
       "3878         M  substitution  False  76.0        NaN  \n",
       "3879         M  substitution   True  78.0        NaN  \n",
       "3880       NaN        yellow   True  85.0        NaN  \n",
       "3881         M  substitution   True  86.0        NaN  \n",
       "3882         M          goal   True  88.0        NaN  \n",
       "3884       NaN        yellow  False  90.0        9.0  \n",
       "3885       NaN        period    NaN  90.0      999.0  \n",
       "3886       NaN        yellow  False  -5.0        NaN  "
      ],
      "text/html": "<div>\n<style scoped>\n    .dataframe tbody tr th:only-of-type {\n        vertical-align: middle;\n    }\n\n    .dataframe tbody tr th {\n        vertical-align: top;\n    }\n\n    .dataframe thead th {\n        text-align: right;\n    }\n</style>\n<table border=\"1\" class=\"dataframe\">\n  <thead>\n    <tr style=\"text-align: right;\">\n      <th></th>\n      <th>mid</th>\n      <th>player1</th>\n      <th>position1</th>\n      <th>player2</th>\n      <th>position2</th>\n      <th>incidentType</th>\n      <th>isHome</th>\n      <th>time</th>\n      <th>addedTime</th>\n    </tr>\n  </thead>\n  <tbody>\n    <tr>\n      <th>3869</th>\n      <td>5555430</td>\n      <td>Steven Defour</td>\n      <td>M</td>\n      <td>NaN</td>\n      <td>NaN</td>\n      <td>yellow</td>\n      <td>False</td>\n      <td>32.0</td>\n      <td>NaN</td>\n    </tr>\n    <tr>\n      <th>3870</th>\n      <td>5555430</td>\n      <td>Jeff Louis</td>\n      <td>M</td>\n      <td>NaN</td>\n      <td>NaN</td>\n      <td>yellow</td>\n      <td>True</td>\n      <td>43.0</td>\n      <td>NaN</td>\n    </tr>\n    <tr>\n      <th>3871</th>\n      <td>5555430</td>\n      <td>NaN</td>\n      <td>NaN</td>\n      <td>NaN</td>\n      <td>NaN</td>\n      <td>period</td>\n      <td>NaN</td>\n      <td>45.0</td>\n      <td>999.0</td>\n    </tr>\n    <tr>\n      <th>3872</th>\n      <td>5555430</td>\n      <td>Steven Defour</td>\n      <td>M</td>\n      <td>NaN</td>\n      <td>NaN</td>\n      <td>yellowRed</td>\n      <td>False</td>\n      <td>53.0</td>\n      <td>NaN</td>\n    </tr>\n    <tr>\n      <th>3873</th>\n      <td>5555430</td>\n      <td>Sacha Kljestan</td>\n      <td>M</td>\n      <td>Oswal Alvarez</td>\n      <td>F</td>\n      <td>substitution</td>\n      <td>False</td>\n      <td>59.0</td>\n      <td>NaN</td>\n    </tr>\n    <tr>\n      <th>3874</th>\n      <td>5555430</td>\n      <td>Laurent Ciman</td>\n      <td>D</td>\n      <td>Adrien Trebel</td>\n      <td>M</td>\n      <td>goal</td>\n      <td>True</td>\n      <td>64.0</td>\n      <td>NaN</td>\n    </tr>\n    <tr>\n      <th>3875</th>\n      <td>5555430</td>\n      <td>Laurent Ciman</td>\n      <td>D</td>\n      <td>NaN</td>\n      <td>NaN</td>\n      <td>yellow</td>\n      <td>True</td>\n      <td>65.0</td>\n      <td>NaN</td>\n    </tr>\n    <tr>\n      <th>3876</th>\n      <td>5555430</td>\n      <td>Paul-José Mpoku</td>\n      <td>F</td>\n      <td>Geoffrey Bia</td>\n      <td>M</td>\n      <td>substitution</td>\n      <td>True</td>\n      <td>67.0</td>\n      <td>NaN</td>\n    </tr>\n    <tr>\n      <th>3877</th>\n      <td>5555430</td>\n      <td>Marko Marin</td>\n      <td>M</td>\n      <td>Maxime Colin</td>\n      <td>D</td>\n      <td>substitution</td>\n      <td>False</td>\n      <td>75.0</td>\n      <td>NaN</td>\n    </tr>\n    <tr>\n      <th>3878</th>\n      <td>5555430</td>\n      <td>Aaron Leya Iseka</td>\n      <td>F</td>\n      <td>Youri Tielemans</td>\n      <td>M</td>\n      <td>substitution</td>\n      <td>False</td>\n      <td>76.0</td>\n      <td>NaN</td>\n    </tr>\n    <tr>\n      <th>3879</th>\n      <td>5555430</td>\n      <td>Yuji Ono</td>\n      <td>M</td>\n      <td>Jeff Louis</td>\n      <td>M</td>\n      <td>substitution</td>\n      <td>True</td>\n      <td>78.0</td>\n      <td>NaN</td>\n    </tr>\n    <tr>\n      <th>3880</th>\n      <td>5555430</td>\n      <td>Mehdi Carcela-González</td>\n      <td>M</td>\n      <td>NaN</td>\n      <td>NaN</td>\n      <td>yellow</td>\n      <td>True</td>\n      <td>85.0</td>\n      <td>NaN</td>\n    </tr>\n    <tr>\n      <th>3881</th>\n      <td>5555430</td>\n      <td>Tortol Lumanza</td>\n      <td>M</td>\n      <td>Mehdi Carcela-González</td>\n      <td>M</td>\n      <td>substitution</td>\n      <td>True</td>\n      <td>86.0</td>\n      <td>NaN</td>\n    </tr>\n    <tr>\n      <th>3882</th>\n      <td>5555430</td>\n      <td>Igor De Camargo</td>\n      <td>F</td>\n      <td>Yuji Ono</td>\n      <td>M</td>\n      <td>goal</td>\n      <td>True</td>\n      <td>88.0</td>\n      <td>NaN</td>\n    </tr>\n    <tr>\n      <th>3884</th>\n      <td>5555430</td>\n      <td>Fabrice N'Sakala</td>\n      <td>D</td>\n      <td>NaN</td>\n      <td>NaN</td>\n      <td>yellow</td>\n      <td>False</td>\n      <td>90.0</td>\n      <td>9.0</td>\n    </tr>\n    <tr>\n      <th>3885</th>\n      <td>5555430</td>\n      <td>NaN</td>\n      <td>NaN</td>\n      <td>NaN</td>\n      <td>NaN</td>\n      <td>period</td>\n      <td>NaN</td>\n      <td>90.0</td>\n      <td>999.0</td>\n    </tr>\n    <tr>\n      <th>3886</th>\n      <td>5555430</td>\n      <td>Anthony Vanden Borre</td>\n      <td>D</td>\n      <td>NaN</td>\n      <td>NaN</td>\n      <td>yellow</td>\n      <td>False</td>\n      <td>-5.0</td>\n      <td>NaN</td>\n    </tr>\n  </tbody>\n</table>\n</div>"
     },
     "metadata": {},
     "execution_count": 121
    }
   ],
   "source": [
    "df_incidents.loc[df_incidents['mid']==5555430]"
   ]
  },
  {
   "cell_type": "code",
   "execution_count": 118,
   "metadata": {},
   "outputs": [],
   "source": [
    "mids=df_incidents.loc[df_incidents['time']<0]['mid']"
   ]
  },
  {
   "cell_type": "code",
   "execution_count": 120,
   "metadata": {},
   "outputs": [
    {
     "output_type": "execute_result",
     "data": {
      "text/plain": [
       "       homeTeamShort          awayTeam                       tournament  \\\n",
       "67        Elazığspor         Adanaspor                            1-lig   \n",
       "69     Balıkesirspor       Trabzonspor                        super-lig   \n",
       "119     Panthrakikos  Atromitos Athens                     super-league   \n",
       "150       Levadiakos  Asteras Tripolis                     super-league   \n",
       "171   Standard Liège    RSC Anderlecht                       pro-league   \n",
       "...              ...               ...                              ...   \n",
       "6988    Ümraniyespor     Eskişehirspor                            1-lig   \n",
       "7183         Karpaty   Olimpik Donetsk  premier-league-relegation-round   \n",
       "7203          Novara           Brescia                          serie-b   \n",
       "7226           Rudar          NK Celje                         prvaliga   \n",
       "7284     Salernitana            Novara                          serie-b   \n",
       "\n",
       "      awayTeamShort        homeTeam  startTimestamp        mid  awayScoreFT  \\\n",
       "67        Adanaspor      Elazığspor      1420477200  5862734.0          0.0   \n",
       "69      Trabzonspor   Balıkesirspor      1420480800  5722442.0          2.0   \n",
       "119       Atromitos    Panthrakikos      1420989300  6570346.0          1.0   \n",
       "150         Asteras      Levadiakos      1421586000  5774462.0          1.0   \n",
       "171      Anderlecht  Standard Liège      1422192600  5555430.0          0.0   \n",
       "...             ...             ...             ...        ...          ...   \n",
       "6988  Eskişehirspor    Ümraniyespor      1518948000  7507373.0          1.0   \n",
       "7183        Olimpik    Karpaty Lviv      1520769600  7743064.0          3.0   \n",
       "7203        Brescia          Novara      1520883000  7517123.0          1.0   \n",
       "7226          Celje   Rudar Velenje      1521295200  7457734.0          1.0   \n",
       "7284         Novara     Salernitana      1521982800  7517152.0          0.0   \n",
       "\n",
       "      awayScoreET  done  ...  homeScoreFT  winnerCode  homeScoreHT  round  \\\n",
       "67            0.0     1  ...          0.0           3          0.0   16.0   \n",
       "69            2.0     1  ...          2.0           3          2.0   16.0   \n",
       "119           1.0     1  ...          1.0           3          1.0   11.0   \n",
       "150           1.0     1  ...          3.0           1          1.0   19.0   \n",
       "171           0.0     1  ...          2.0           1          0.0   23.0   \n",
       "...           ...   ...  ...          ...         ...          ...    ...   \n",
       "6988          1.0     1  ...          0.0           2          0.0   22.0   \n",
       "7183          3.0     1  ...          0.0           2          0.0   23.0   \n",
       "7203          1.0     1  ...          2.0           1          0.0   30.0   \n",
       "7226          1.0     1  ...          2.0           1          1.0   24.0   \n",
       "7284          0.0     1  ...          1.0           1          0.0   32.0   \n",
       "\n",
       "       country status                         ts homeScoreET  awayScoreHT  id  \n",
       "67      turkey    100  2015-01-05 17:00:00+00:00         0.0          0.0 NaN  \n",
       "69      turkey    100  2015-01-05 18:00:00+00:00         2.0          0.0 NaN  \n",
       "119     greece    100  2015-01-11 15:15:00+00:00         1.0          0.0 NaN  \n",
       "150     greece    100  2015-01-18 13:00:00+00:00         3.0          1.0 NaN  \n",
       "171    belgium    100  2015-01-25 13:30:00+00:00         2.0          0.0 NaN  \n",
       "...        ...    ...                        ...         ...          ...  ..  \n",
       "6988    turkey    100  2018-02-18 10:00:00+00:00         0.0          1.0 NaN  \n",
       "7183   ukraine    100  2018-03-11 12:00:00+00:00         0.0          1.0 NaN  \n",
       "7203     italy    100  2018-03-12 19:30:00+00:00         2.0          1.0 NaN  \n",
       "7226  slovenia    100  2018-03-17 14:00:00+00:00         2.0          1.0 NaN  \n",
       "7284     italy    100  2018-03-25 13:00:00+00:00         1.0          0.0 NaN  \n",
       "\n",
       "[114 rows x 21 columns]"
      ],
      "text/html": "<div>\n<style scoped>\n    .dataframe tbody tr th:only-of-type {\n        vertical-align: middle;\n    }\n\n    .dataframe tbody tr th {\n        vertical-align: top;\n    }\n\n    .dataframe thead th {\n        text-align: right;\n    }\n</style>\n<table border=\"1\" class=\"dataframe\">\n  <thead>\n    <tr style=\"text-align: right;\">\n      <th></th>\n      <th>homeTeamShort</th>\n      <th>awayTeam</th>\n      <th>tournament</th>\n      <th>awayTeamShort</th>\n      <th>homeTeam</th>\n      <th>startTimestamp</th>\n      <th>mid</th>\n      <th>awayScoreFT</th>\n      <th>awayScoreET</th>\n      <th>done</th>\n      <th>...</th>\n      <th>homeScoreFT</th>\n      <th>winnerCode</th>\n      <th>homeScoreHT</th>\n      <th>round</th>\n      <th>country</th>\n      <th>status</th>\n      <th>ts</th>\n      <th>homeScoreET</th>\n      <th>awayScoreHT</th>\n      <th>id</th>\n    </tr>\n  </thead>\n  <tbody>\n    <tr>\n      <th>67</th>\n      <td>Elazığspor</td>\n      <td>Adanaspor</td>\n      <td>1-lig</td>\n      <td>Adanaspor</td>\n      <td>Elazığspor</td>\n      <td>1420477200</td>\n      <td>5862734.0</td>\n      <td>0.0</td>\n      <td>0.0</td>\n      <td>1</td>\n      <td>...</td>\n      <td>0.0</td>\n      <td>3</td>\n      <td>0.0</td>\n      <td>16.0</td>\n      <td>turkey</td>\n      <td>100</td>\n      <td>2015-01-05 17:00:00+00:00</td>\n      <td>0.0</td>\n      <td>0.0</td>\n      <td>NaN</td>\n    </tr>\n    <tr>\n      <th>69</th>\n      <td>Balıkesirspor</td>\n      <td>Trabzonspor</td>\n      <td>super-lig</td>\n      <td>Trabzonspor</td>\n      <td>Balıkesirspor</td>\n      <td>1420480800</td>\n      <td>5722442.0</td>\n      <td>2.0</td>\n      <td>2.0</td>\n      <td>1</td>\n      <td>...</td>\n      <td>2.0</td>\n      <td>3</td>\n      <td>2.0</td>\n      <td>16.0</td>\n      <td>turkey</td>\n      <td>100</td>\n      <td>2015-01-05 18:00:00+00:00</td>\n      <td>2.0</td>\n      <td>0.0</td>\n      <td>NaN</td>\n    </tr>\n    <tr>\n      <th>119</th>\n      <td>Panthrakikos</td>\n      <td>Atromitos Athens</td>\n      <td>super-league</td>\n      <td>Atromitos</td>\n      <td>Panthrakikos</td>\n      <td>1420989300</td>\n      <td>6570346.0</td>\n      <td>1.0</td>\n      <td>1.0</td>\n      <td>1</td>\n      <td>...</td>\n      <td>1.0</td>\n      <td>3</td>\n      <td>1.0</td>\n      <td>11.0</td>\n      <td>greece</td>\n      <td>100</td>\n      <td>2015-01-11 15:15:00+00:00</td>\n      <td>1.0</td>\n      <td>0.0</td>\n      <td>NaN</td>\n    </tr>\n    <tr>\n      <th>150</th>\n      <td>Levadiakos</td>\n      <td>Asteras Tripolis</td>\n      <td>super-league</td>\n      <td>Asteras</td>\n      <td>Levadiakos</td>\n      <td>1421586000</td>\n      <td>5774462.0</td>\n      <td>1.0</td>\n      <td>1.0</td>\n      <td>1</td>\n      <td>...</td>\n      <td>3.0</td>\n      <td>1</td>\n      <td>1.0</td>\n      <td>19.0</td>\n      <td>greece</td>\n      <td>100</td>\n      <td>2015-01-18 13:00:00+00:00</td>\n      <td>3.0</td>\n      <td>1.0</td>\n      <td>NaN</td>\n    </tr>\n    <tr>\n      <th>171</th>\n      <td>Standard Liège</td>\n      <td>RSC Anderlecht</td>\n      <td>pro-league</td>\n      <td>Anderlecht</td>\n      <td>Standard Liège</td>\n      <td>1422192600</td>\n      <td>5555430.0</td>\n      <td>0.0</td>\n      <td>0.0</td>\n      <td>1</td>\n      <td>...</td>\n      <td>2.0</td>\n      <td>1</td>\n      <td>0.0</td>\n      <td>23.0</td>\n      <td>belgium</td>\n      <td>100</td>\n      <td>2015-01-25 13:30:00+00:00</td>\n      <td>2.0</td>\n      <td>0.0</td>\n      <td>NaN</td>\n    </tr>\n    <tr>\n      <th>...</th>\n      <td>...</td>\n      <td>...</td>\n      <td>...</td>\n      <td>...</td>\n      <td>...</td>\n      <td>...</td>\n      <td>...</td>\n      <td>...</td>\n      <td>...</td>\n      <td>...</td>\n      <td>...</td>\n      <td>...</td>\n      <td>...</td>\n      <td>...</td>\n      <td>...</td>\n      <td>...</td>\n      <td>...</td>\n      <td>...</td>\n      <td>...</td>\n      <td>...</td>\n      <td>...</td>\n    </tr>\n    <tr>\n      <th>6988</th>\n      <td>Ümraniyespor</td>\n      <td>Eskişehirspor</td>\n      <td>1-lig</td>\n      <td>Eskişehirspor</td>\n      <td>Ümraniyespor</td>\n      <td>1518948000</td>\n      <td>7507373.0</td>\n      <td>1.0</td>\n      <td>1.0</td>\n      <td>1</td>\n      <td>...</td>\n      <td>0.0</td>\n      <td>2</td>\n      <td>0.0</td>\n      <td>22.0</td>\n      <td>turkey</td>\n      <td>100</td>\n      <td>2018-02-18 10:00:00+00:00</td>\n      <td>0.0</td>\n      <td>1.0</td>\n      <td>NaN</td>\n    </tr>\n    <tr>\n      <th>7183</th>\n      <td>Karpaty</td>\n      <td>Olimpik Donetsk</td>\n      <td>premier-league-relegation-round</td>\n      <td>Olimpik</td>\n      <td>Karpaty Lviv</td>\n      <td>1520769600</td>\n      <td>7743064.0</td>\n      <td>3.0</td>\n      <td>3.0</td>\n      <td>1</td>\n      <td>...</td>\n      <td>0.0</td>\n      <td>2</td>\n      <td>0.0</td>\n      <td>23.0</td>\n      <td>ukraine</td>\n      <td>100</td>\n      <td>2018-03-11 12:00:00+00:00</td>\n      <td>0.0</td>\n      <td>1.0</td>\n      <td>NaN</td>\n    </tr>\n    <tr>\n      <th>7203</th>\n      <td>Novara</td>\n      <td>Brescia</td>\n      <td>serie-b</td>\n      <td>Brescia</td>\n      <td>Novara</td>\n      <td>1520883000</td>\n      <td>7517123.0</td>\n      <td>1.0</td>\n      <td>1.0</td>\n      <td>1</td>\n      <td>...</td>\n      <td>2.0</td>\n      <td>1</td>\n      <td>0.0</td>\n      <td>30.0</td>\n      <td>italy</td>\n      <td>100</td>\n      <td>2018-03-12 19:30:00+00:00</td>\n      <td>2.0</td>\n      <td>1.0</td>\n      <td>NaN</td>\n    </tr>\n    <tr>\n      <th>7226</th>\n      <td>Rudar</td>\n      <td>NK Celje</td>\n      <td>prvaliga</td>\n      <td>Celje</td>\n      <td>Rudar Velenje</td>\n      <td>1521295200</td>\n      <td>7457734.0</td>\n      <td>1.0</td>\n      <td>1.0</td>\n      <td>1</td>\n      <td>...</td>\n      <td>2.0</td>\n      <td>1</td>\n      <td>1.0</td>\n      <td>24.0</td>\n      <td>slovenia</td>\n      <td>100</td>\n      <td>2018-03-17 14:00:00+00:00</td>\n      <td>2.0</td>\n      <td>1.0</td>\n      <td>NaN</td>\n    </tr>\n    <tr>\n      <th>7284</th>\n      <td>Salernitana</td>\n      <td>Novara</td>\n      <td>serie-b</td>\n      <td>Novara</td>\n      <td>Salernitana</td>\n      <td>1521982800</td>\n      <td>7517152.0</td>\n      <td>0.0</td>\n      <td>0.0</td>\n      <td>1</td>\n      <td>...</td>\n      <td>1.0</td>\n      <td>1</td>\n      <td>0.0</td>\n      <td>32.0</td>\n      <td>italy</td>\n      <td>100</td>\n      <td>2018-03-25 13:00:00+00:00</td>\n      <td>1.0</td>\n      <td>0.0</td>\n      <td>NaN</td>\n    </tr>\n  </tbody>\n</table>\n<p>114 rows × 21 columns</p>\n</div>"
     },
     "metadata": {},
     "execution_count": 120
    }
   ],
   "source": [
    "df_matches.loc[df_matches['mid'].isin(mids)]"
   ]
  },
  {
   "cell_type": "code",
   "execution_count": 17,
   "metadata": {},
   "outputs": [
    {
     "output_type": "execute_result",
     "data": {
      "text/plain": [
       "       homeTeamShort                awayTeam                    tournament  \\\n",
       "0     Western Sydney  Central Coast Mariners                      a-league   \n",
       "1         Dundee Utd               Dundee FC                   premiership   \n",
       "2              Stoke       Manchester United                premier-league   \n",
       "3        İdman Yurdu        Fatih Karagümrük        turkiye-kupasi-group-c   \n",
       "4        Aston Villa          Crystal Palace                premier-league   \n",
       "...              ...                     ...                           ...   \n",
       "7589         Tondela                 CD Aves                 primeira-liga   \n",
       "7590   Balıkesirspor            Ümraniyespor                         1-lig   \n",
       "7591        Rizespor             Giresunspor                         1-lig   \n",
       "7592  Daco-Getica B.        Gaz Metan Mediaș       liga-1-relegation-round   \n",
       "7593         Trenčín       Slovan Bratislava  superliga-championship-round   \n",
       "\n",
       "       awayTeamShort                  homeTeam  startTimestamp      mid  \\\n",
       "0      Central Coast  Western Sydney Wanderers      1420101000  5578766   \n",
       "1             Dundee             Dundee United      1420114500  5587542   \n",
       "2            Man Utd                Stoke City      1420116300  5582826   \n",
       "3         Karagümrük        Mersin İdman Yurdu      1420119000  6378723   \n",
       "4     Crystal Palace               Aston Villa      1420124400  5582812   \n",
       "...              ...                       ...             ...      ...   \n",
       "7589            Aves                   Tondela      1524409200  7473290   \n",
       "7590    Ümraniyespor             Balıkesirspor      1524409200  7507476   \n",
       "7591     Giresunspor           Çaykur Rizespor      1524409200  7507466   \n",
       "7592       Gaz Metan     Daco-Getica Bucureşti      1524409200  7736048   \n",
       "7593          Slovan                AS Trenčín      1524409200  7764696   \n",
       "\n",
       "      awayScoreFT  awayScoreET  done  coverage  homeScoreFT  winnerCode  \\\n",
       "0             0.0            0     1         1          0.0           3   \n",
       "1             2.0            2     1         1          6.0           1   \n",
       "2             1.0            1     1         1          1.0           3   \n",
       "3             0.0            0     1         1          3.0           1   \n",
       "4             0.0            0     1         1          0.0           3   \n",
       "...           ...          ...   ...       ...          ...         ...   \n",
       "7589          0.0            0     1         1          3.0           1   \n",
       "7590          1.0            1     1         1          1.0           3   \n",
       "7591          0.0            0     1         1          1.0           1   \n",
       "7592          3.0            3     1         1          0.0           2   \n",
       "7593          3.0            3     1         1          1.0           2   \n",
       "\n",
       "      homeScoreHT  round    country  status                         ts  \\\n",
       "0               0   13.0  australia     100  2015-01-01 08:30:00+00:00   \n",
       "1               4   19.0   scotland     100  2015-01-01 12:15:00+00:00   \n",
       "2               1   20.0    england     100  2015-01-01 12:45:00+00:00   \n",
       "3               0    4.0     turkey     100  2015-01-01 13:30:00+00:00   \n",
       "4               0   20.0    england     100  2015-01-01 15:00:00+00:00   \n",
       "...           ...    ...        ...     ...                        ...   \n",
       "7589            0   31.0   portugal     100  2018-04-22 15:00:00+00:00   \n",
       "7590            0   32.0     turkey     100  2018-04-22 15:00:00+00:00   \n",
       "7591            0   32.0     turkey     100  2018-04-22 15:00:00+00:00   \n",
       "7592            0    6.0    romania     100  2018-04-22 15:00:00+00:00   \n",
       "7593            0    6.0   slovakia     100  2018-04-22 15:00:00+00:00   \n",
       "\n",
       "      homeScoreET  awayScoreHT  \n",
       "0               0            0  \n",
       "1               6            1  \n",
       "2               1            1  \n",
       "3               3            0  \n",
       "4               0            0  \n",
       "...           ...          ...  \n",
       "7589            3            0  \n",
       "7590            1            1  \n",
       "7591            1            0  \n",
       "7592            0            1  \n",
       "7593            1            2  \n",
       "\n",
       "[7594 rows x 20 columns]"
      ],
      "text/html": "<div>\n<style scoped>\n    .dataframe tbody tr th:only-of-type {\n        vertical-align: middle;\n    }\n\n    .dataframe tbody tr th {\n        vertical-align: top;\n    }\n\n    .dataframe thead th {\n        text-align: right;\n    }\n</style>\n<table border=\"1\" class=\"dataframe\">\n  <thead>\n    <tr style=\"text-align: right;\">\n      <th></th>\n      <th>homeTeamShort</th>\n      <th>awayTeam</th>\n      <th>tournament</th>\n      <th>awayTeamShort</th>\n      <th>homeTeam</th>\n      <th>startTimestamp</th>\n      <th>mid</th>\n      <th>awayScoreFT</th>\n      <th>awayScoreET</th>\n      <th>done</th>\n      <th>coverage</th>\n      <th>homeScoreFT</th>\n      <th>winnerCode</th>\n      <th>homeScoreHT</th>\n      <th>round</th>\n      <th>country</th>\n      <th>status</th>\n      <th>ts</th>\n      <th>homeScoreET</th>\n      <th>awayScoreHT</th>\n    </tr>\n  </thead>\n  <tbody>\n    <tr>\n      <th>0</th>\n      <td>Western Sydney</td>\n      <td>Central Coast Mariners</td>\n      <td>a-league</td>\n      <td>Central Coast</td>\n      <td>Western Sydney Wanderers</td>\n      <td>1420101000</td>\n      <td>5578766</td>\n      <td>0.0</td>\n      <td>0</td>\n      <td>1</td>\n      <td>1</td>\n      <td>0.0</td>\n      <td>3</td>\n      <td>0</td>\n      <td>13.0</td>\n      <td>australia</td>\n      <td>100</td>\n      <td>2015-01-01 08:30:00+00:00</td>\n      <td>0</td>\n      <td>0</td>\n    </tr>\n    <tr>\n      <th>1</th>\n      <td>Dundee Utd</td>\n      <td>Dundee FC</td>\n      <td>premiership</td>\n      <td>Dundee</td>\n      <td>Dundee United</td>\n      <td>1420114500</td>\n      <td>5587542</td>\n      <td>2.0</td>\n      <td>2</td>\n      <td>1</td>\n      <td>1</td>\n      <td>6.0</td>\n      <td>1</td>\n      <td>4</td>\n      <td>19.0</td>\n      <td>scotland</td>\n      <td>100</td>\n      <td>2015-01-01 12:15:00+00:00</td>\n      <td>6</td>\n      <td>1</td>\n    </tr>\n    <tr>\n      <th>2</th>\n      <td>Stoke</td>\n      <td>Manchester United</td>\n      <td>premier-league</td>\n      <td>Man Utd</td>\n      <td>Stoke City</td>\n      <td>1420116300</td>\n      <td>5582826</td>\n      <td>1.0</td>\n      <td>1</td>\n      <td>1</td>\n      <td>1</td>\n      <td>1.0</td>\n      <td>3</td>\n      <td>1</td>\n      <td>20.0</td>\n      <td>england</td>\n      <td>100</td>\n      <td>2015-01-01 12:45:00+00:00</td>\n      <td>1</td>\n      <td>1</td>\n    </tr>\n    <tr>\n      <th>3</th>\n      <td>İdman Yurdu</td>\n      <td>Fatih Karagümrük</td>\n      <td>turkiye-kupasi-group-c</td>\n      <td>Karagümrük</td>\n      <td>Mersin İdman Yurdu</td>\n      <td>1420119000</td>\n      <td>6378723</td>\n      <td>0.0</td>\n      <td>0</td>\n      <td>1</td>\n      <td>1</td>\n      <td>3.0</td>\n      <td>1</td>\n      <td>0</td>\n      <td>4.0</td>\n      <td>turkey</td>\n      <td>100</td>\n      <td>2015-01-01 13:30:00+00:00</td>\n      <td>3</td>\n      <td>0</td>\n    </tr>\n    <tr>\n      <th>4</th>\n      <td>Aston Villa</td>\n      <td>Crystal Palace</td>\n      <td>premier-league</td>\n      <td>Crystal Palace</td>\n      <td>Aston Villa</td>\n      <td>1420124400</td>\n      <td>5582812</td>\n      <td>0.0</td>\n      <td>0</td>\n      <td>1</td>\n      <td>1</td>\n      <td>0.0</td>\n      <td>3</td>\n      <td>0</td>\n      <td>20.0</td>\n      <td>england</td>\n      <td>100</td>\n      <td>2015-01-01 15:00:00+00:00</td>\n      <td>0</td>\n      <td>0</td>\n    </tr>\n    <tr>\n      <th>...</th>\n      <td>...</td>\n      <td>...</td>\n      <td>...</td>\n      <td>...</td>\n      <td>...</td>\n      <td>...</td>\n      <td>...</td>\n      <td>...</td>\n      <td>...</td>\n      <td>...</td>\n      <td>...</td>\n      <td>...</td>\n      <td>...</td>\n      <td>...</td>\n      <td>...</td>\n      <td>...</td>\n      <td>...</td>\n      <td>...</td>\n      <td>...</td>\n      <td>...</td>\n    </tr>\n    <tr>\n      <th>7589</th>\n      <td>Tondela</td>\n      <td>CD Aves</td>\n      <td>primeira-liga</td>\n      <td>Aves</td>\n      <td>Tondela</td>\n      <td>1524409200</td>\n      <td>7473290</td>\n      <td>0.0</td>\n      <td>0</td>\n      <td>1</td>\n      <td>1</td>\n      <td>3.0</td>\n      <td>1</td>\n      <td>0</td>\n      <td>31.0</td>\n      <td>portugal</td>\n      <td>100</td>\n      <td>2018-04-22 15:00:00+00:00</td>\n      <td>3</td>\n      <td>0</td>\n    </tr>\n    <tr>\n      <th>7590</th>\n      <td>Balıkesirspor</td>\n      <td>Ümraniyespor</td>\n      <td>1-lig</td>\n      <td>Ümraniyespor</td>\n      <td>Balıkesirspor</td>\n      <td>1524409200</td>\n      <td>7507476</td>\n      <td>1.0</td>\n      <td>1</td>\n      <td>1</td>\n      <td>1</td>\n      <td>1.0</td>\n      <td>3</td>\n      <td>0</td>\n      <td>32.0</td>\n      <td>turkey</td>\n      <td>100</td>\n      <td>2018-04-22 15:00:00+00:00</td>\n      <td>1</td>\n      <td>1</td>\n    </tr>\n    <tr>\n      <th>7591</th>\n      <td>Rizespor</td>\n      <td>Giresunspor</td>\n      <td>1-lig</td>\n      <td>Giresunspor</td>\n      <td>Çaykur Rizespor</td>\n      <td>1524409200</td>\n      <td>7507466</td>\n      <td>0.0</td>\n      <td>0</td>\n      <td>1</td>\n      <td>1</td>\n      <td>1.0</td>\n      <td>1</td>\n      <td>0</td>\n      <td>32.0</td>\n      <td>turkey</td>\n      <td>100</td>\n      <td>2018-04-22 15:00:00+00:00</td>\n      <td>1</td>\n      <td>0</td>\n    </tr>\n    <tr>\n      <th>7592</th>\n      <td>Daco-Getica B.</td>\n      <td>Gaz Metan Mediaș</td>\n      <td>liga-1-relegation-round</td>\n      <td>Gaz Metan</td>\n      <td>Daco-Getica Bucureşti</td>\n      <td>1524409200</td>\n      <td>7736048</td>\n      <td>3.0</td>\n      <td>3</td>\n      <td>1</td>\n      <td>1</td>\n      <td>0.0</td>\n      <td>2</td>\n      <td>0</td>\n      <td>6.0</td>\n      <td>romania</td>\n      <td>100</td>\n      <td>2018-04-22 15:00:00+00:00</td>\n      <td>0</td>\n      <td>1</td>\n    </tr>\n    <tr>\n      <th>7593</th>\n      <td>Trenčín</td>\n      <td>Slovan Bratislava</td>\n      <td>superliga-championship-round</td>\n      <td>Slovan</td>\n      <td>AS Trenčín</td>\n      <td>1524409200</td>\n      <td>7764696</td>\n      <td>3.0</td>\n      <td>3</td>\n      <td>1</td>\n      <td>1</td>\n      <td>1.0</td>\n      <td>2</td>\n      <td>0</td>\n      <td>6.0</td>\n      <td>slovakia</td>\n      <td>100</td>\n      <td>2018-04-22 15:00:00+00:00</td>\n      <td>1</td>\n      <td>2</td>\n    </tr>\n  </tbody>\n</table>\n<p>7594 rows × 20 columns</p>\n</div>"
     },
     "metadata": {},
     "execution_count": 17
    }
   ],
   "source": [
    "df_matches"
   ]
  },
  {
   "cell_type": "code",
   "execution_count": null,
   "metadata": {},
   "outputs": [],
   "source": []
  }
 ]
}