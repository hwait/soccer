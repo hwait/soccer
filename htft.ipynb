{
 "metadata": {
  "language_info": {
   "codemirror_mode": {
    "name": "ipython",
    "version": 3
   },
   "file_extension": ".py",
   "mimetype": "text/x-python",
   "name": "python",
   "nbconvert_exporter": "python",
   "pygments_lexer": "ipython3",
   "version": "3.8.5-final"
  },
  "orig_nbformat": 2,
  "kernelspec": {
   "name": "python3",
   "display_name": "Python 3.8.5 64-bit ('tfenv': conda)",
   "metadata": {
    "interpreter": {
     "hash": "916a3f29a88f77c2f5dbe0921013e3c6102186662f3922578d8324ea0c6a5534"
    }
   }
  }
 },
 "nbformat": 4,
 "nbformat_minor": 2,
 "cells": [
  {
   "cell_type": "code",
   "execution_count": 1,
   "metadata": {},
   "outputs": [],
   "source": [
    "import time\n",
    "from math import sqrt\n",
    "import pandas as pd\n",
    "import numpy as np\n",
    "from matplotlib import pyplot\n",
    "from tqdm import tqdm\n",
    "from sklearn.preprocessing import MinMaxScaler\n",
    "from sklearn.metrics import mean_squared_error, f1_score\n",
    "from tensorflow import keras\n",
    "from tensorflow.keras import layers\n",
    "from sklearn.model_selection import train_test_split\n",
    "from catboost import Pool, CatBoostClassifier\n",
    "import seaborn as sns\n",
    "import matplotlib.pyplot as plt\n",
    "pd.set_option('display.max_rows', 100)"
   ]
  },
  {
   "cell_type": "code",
   "execution_count": 12,
   "metadata": {},
   "outputs": [],
   "source": [
    "df_stats=pd.read_csv('data/statistics.csv', index_col=None)\n",
    "df_stats=df_stats.loc[df_stats['period']=='1ST']\n",
    "df_stats['Ball possession']=df_stats['Ball possession'].apply(lambda x: float(x.replace('%',''))/100)"
   ]
  },
  {
   "cell_type": "code",
   "execution_count": 13,
   "metadata": {},
   "outputs": [],
   "source": [
    "df_stats_h=df_stats.loc[df_stats['ishome']==1].reset_index(drop=True)\n",
    "df_stats_a=df_stats.loc[df_stats['ishome']==0].reset_index(drop=True)"
   ]
  },
  {
   "cell_type": "code",
   "execution_count": 7,
   "metadata": {},
   "outputs": [
    {
     "output_type": "execute_result",
     "data": {
      "text/plain": [
       "            mid period  ishome  Ball possession  Shots on target  \\\n",
       "724     5583114    1ST       1             0.71              3.0   \n",
       "725     5583114    1ST       0             0.29              0.0   \n",
       "730     5583116    1ST       1             0.62              5.0   \n",
       "731     5583116    1ST       0             0.38              2.0   \n",
       "736     5583118    1ST       1             0.30              1.0   \n",
       "...         ...    ...     ...              ...              ...   \n",
       "154253  7775071    1ST       0             0.33              1.0   \n",
       "154264  7779099    1ST       1             0.64              3.0   \n",
       "154265  7779099    1ST       0             0.36              0.0   \n",
       "154270  7779100    1ST       1             0.58              2.0   \n",
       "154271  7779100    1ST       0             0.42              0.0   \n",
       "\n",
       "        Shots off target  Corner kicks  Offsides  Fouls  Yellow cards  ...  \\\n",
       "724                  7.0           2.0       0.0    NaN           1.0  ...   \n",
       "725                  1.0           0.0       0.0    NaN           0.0  ...   \n",
       "730                  6.0           6.0       3.0    NaN           0.0  ...   \n",
       "731                  2.0           2.0       0.0    NaN           2.0  ...   \n",
       "736                  0.0           2.0       1.0    NaN           0.0  ...   \n",
       "...                  ...           ...       ...    ...           ...  ...   \n",
       "154253               5.0           2.0       0.0    NaN           1.0  ...   \n",
       "154264               5.0           6.0       0.0    NaN           2.0  ...   \n",
       "154265               1.0           0.0       1.0    NaN           0.0  ...   \n",
       "154270               1.0           4.0       0.0    NaN           1.0  ...   \n",
       "154271               2.0           6.0       0.0    NaN           1.0  ...   \n",
       "\n",
       "        Hit woodwork  Big chances  Big chances missed  Possession lost  \\\n",
       "724              0.0          NaN                 NaN              NaN   \n",
       "725              0.0          NaN                 NaN              NaN   \n",
       "730              NaN          NaN                 NaN              NaN   \n",
       "731              NaN          NaN                 NaN              NaN   \n",
       "736              0.0          NaN                 NaN              NaN   \n",
       "...              ...          ...                 ...              ...   \n",
       "154253           0.0          0.0                 0.0              NaN   \n",
       "154264           NaN          1.0                 1.0              NaN   \n",
       "154265           NaN          0.0                 0.0              NaN   \n",
       "154270           NaN          0.0                 0.0              NaN   \n",
       "154271           NaN          0.0                 0.0              NaN   \n",
       "\n",
       "        Long balls  Crosses  Dribbles  Tackles Interceptions  Clearances  \n",
       "724            NaN      NaN       NaN      NaN           NaN         NaN  \n",
       "725            NaN      NaN       NaN      NaN           NaN         NaN  \n",
       "730            NaN      NaN       NaN      NaN           NaN         NaN  \n",
       "731            NaN      NaN       NaN      NaN           NaN         NaN  \n",
       "736            NaN      NaN       NaN      NaN           NaN         NaN  \n",
       "...            ...      ...       ...      ...           ...         ...  \n",
       "154253         NaN      NaN       NaN      NaN           NaN         NaN  \n",
       "154264         NaN      NaN       NaN      NaN           NaN         NaN  \n",
       "154265         NaN      NaN       NaN      NaN           NaN         NaN  \n",
       "154270         NaN      NaN       NaN      NaN           NaN         NaN  \n",
       "154271         NaN      NaN       NaN      NaN           NaN         NaN  \n",
       "\n",
       "[37622 rows x 31 columns]"
      ],
      "text/html": "<div>\n<style scoped>\n    .dataframe tbody tr th:only-of-type {\n        vertical-align: middle;\n    }\n\n    .dataframe tbody tr th {\n        vertical-align: top;\n    }\n\n    .dataframe thead th {\n        text-align: right;\n    }\n</style>\n<table border=\"1\" class=\"dataframe\">\n  <thead>\n    <tr style=\"text-align: right;\">\n      <th></th>\n      <th>mid</th>\n      <th>period</th>\n      <th>ishome</th>\n      <th>Ball possession</th>\n      <th>Shots on target</th>\n      <th>Shots off target</th>\n      <th>Corner kicks</th>\n      <th>Offsides</th>\n      <th>Fouls</th>\n      <th>Yellow cards</th>\n      <th>...</th>\n      <th>Hit woodwork</th>\n      <th>Big chances</th>\n      <th>Big chances missed</th>\n      <th>Possession lost</th>\n      <th>Long balls</th>\n      <th>Crosses</th>\n      <th>Dribbles</th>\n      <th>Tackles</th>\n      <th>Interceptions</th>\n      <th>Clearances</th>\n    </tr>\n  </thead>\n  <tbody>\n    <tr>\n      <th>724</th>\n      <td>5583114</td>\n      <td>1ST</td>\n      <td>1</td>\n      <td>0.71</td>\n      <td>3.0</td>\n      <td>7.0</td>\n      <td>2.0</td>\n      <td>0.0</td>\n      <td>NaN</td>\n      <td>1.0</td>\n      <td>...</td>\n      <td>0.0</td>\n      <td>NaN</td>\n      <td>NaN</td>\n      <td>NaN</td>\n      <td>NaN</td>\n      <td>NaN</td>\n      <td>NaN</td>\n      <td>NaN</td>\n      <td>NaN</td>\n      <td>NaN</td>\n    </tr>\n    <tr>\n      <th>725</th>\n      <td>5583114</td>\n      <td>1ST</td>\n      <td>0</td>\n      <td>0.29</td>\n      <td>0.0</td>\n      <td>1.0</td>\n      <td>0.0</td>\n      <td>0.0</td>\n      <td>NaN</td>\n      <td>0.0</td>\n      <td>...</td>\n      <td>0.0</td>\n      <td>NaN</td>\n      <td>NaN</td>\n      <td>NaN</td>\n      <td>NaN</td>\n      <td>NaN</td>\n      <td>NaN</td>\n      <td>NaN</td>\n      <td>NaN</td>\n      <td>NaN</td>\n    </tr>\n    <tr>\n      <th>730</th>\n      <td>5583116</td>\n      <td>1ST</td>\n      <td>1</td>\n      <td>0.62</td>\n      <td>5.0</td>\n      <td>6.0</td>\n      <td>6.0</td>\n      <td>3.0</td>\n      <td>NaN</td>\n      <td>0.0</td>\n      <td>...</td>\n      <td>NaN</td>\n      <td>NaN</td>\n      <td>NaN</td>\n      <td>NaN</td>\n      <td>NaN</td>\n      <td>NaN</td>\n      <td>NaN</td>\n      <td>NaN</td>\n      <td>NaN</td>\n      <td>NaN</td>\n    </tr>\n    <tr>\n      <th>731</th>\n      <td>5583116</td>\n      <td>1ST</td>\n      <td>0</td>\n      <td>0.38</td>\n      <td>2.0</td>\n      <td>2.0</td>\n      <td>2.0</td>\n      <td>0.0</td>\n      <td>NaN</td>\n      <td>2.0</td>\n      <td>...</td>\n      <td>NaN</td>\n      <td>NaN</td>\n      <td>NaN</td>\n      <td>NaN</td>\n      <td>NaN</td>\n      <td>NaN</td>\n      <td>NaN</td>\n      <td>NaN</td>\n      <td>NaN</td>\n      <td>NaN</td>\n    </tr>\n    <tr>\n      <th>736</th>\n      <td>5583118</td>\n      <td>1ST</td>\n      <td>1</td>\n      <td>0.30</td>\n      <td>1.0</td>\n      <td>0.0</td>\n      <td>2.0</td>\n      <td>1.0</td>\n      <td>NaN</td>\n      <td>0.0</td>\n      <td>...</td>\n      <td>0.0</td>\n      <td>NaN</td>\n      <td>NaN</td>\n      <td>NaN</td>\n      <td>NaN</td>\n      <td>NaN</td>\n      <td>NaN</td>\n      <td>NaN</td>\n      <td>NaN</td>\n      <td>NaN</td>\n    </tr>\n    <tr>\n      <th>...</th>\n      <td>...</td>\n      <td>...</td>\n      <td>...</td>\n      <td>...</td>\n      <td>...</td>\n      <td>...</td>\n      <td>...</td>\n      <td>...</td>\n      <td>...</td>\n      <td>...</td>\n      <td>...</td>\n      <td>...</td>\n      <td>...</td>\n      <td>...</td>\n      <td>...</td>\n      <td>...</td>\n      <td>...</td>\n      <td>...</td>\n      <td>...</td>\n      <td>...</td>\n      <td>...</td>\n    </tr>\n    <tr>\n      <th>154253</th>\n      <td>7775071</td>\n      <td>1ST</td>\n      <td>0</td>\n      <td>0.33</td>\n      <td>1.0</td>\n      <td>5.0</td>\n      <td>2.0</td>\n      <td>0.0</td>\n      <td>NaN</td>\n      <td>1.0</td>\n      <td>...</td>\n      <td>0.0</td>\n      <td>0.0</td>\n      <td>0.0</td>\n      <td>NaN</td>\n      <td>NaN</td>\n      <td>NaN</td>\n      <td>NaN</td>\n      <td>NaN</td>\n      <td>NaN</td>\n      <td>NaN</td>\n    </tr>\n    <tr>\n      <th>154264</th>\n      <td>7779099</td>\n      <td>1ST</td>\n      <td>1</td>\n      <td>0.64</td>\n      <td>3.0</td>\n      <td>5.0</td>\n      <td>6.0</td>\n      <td>0.0</td>\n      <td>NaN</td>\n      <td>2.0</td>\n      <td>...</td>\n      <td>NaN</td>\n      <td>1.0</td>\n      <td>1.0</td>\n      <td>NaN</td>\n      <td>NaN</td>\n      <td>NaN</td>\n      <td>NaN</td>\n      <td>NaN</td>\n      <td>NaN</td>\n      <td>NaN</td>\n    </tr>\n    <tr>\n      <th>154265</th>\n      <td>7779099</td>\n      <td>1ST</td>\n      <td>0</td>\n      <td>0.36</td>\n      <td>0.0</td>\n      <td>1.0</td>\n      <td>0.0</td>\n      <td>1.0</td>\n      <td>NaN</td>\n      <td>0.0</td>\n      <td>...</td>\n      <td>NaN</td>\n      <td>0.0</td>\n      <td>0.0</td>\n      <td>NaN</td>\n      <td>NaN</td>\n      <td>NaN</td>\n      <td>NaN</td>\n      <td>NaN</td>\n      <td>NaN</td>\n      <td>NaN</td>\n    </tr>\n    <tr>\n      <th>154270</th>\n      <td>7779100</td>\n      <td>1ST</td>\n      <td>1</td>\n      <td>0.58</td>\n      <td>2.0</td>\n      <td>1.0</td>\n      <td>4.0</td>\n      <td>0.0</td>\n      <td>NaN</td>\n      <td>1.0</td>\n      <td>...</td>\n      <td>NaN</td>\n      <td>0.0</td>\n      <td>0.0</td>\n      <td>NaN</td>\n      <td>NaN</td>\n      <td>NaN</td>\n      <td>NaN</td>\n      <td>NaN</td>\n      <td>NaN</td>\n      <td>NaN</td>\n    </tr>\n    <tr>\n      <th>154271</th>\n      <td>7779100</td>\n      <td>1ST</td>\n      <td>0</td>\n      <td>0.42</td>\n      <td>0.0</td>\n      <td>2.0</td>\n      <td>6.0</td>\n      <td>0.0</td>\n      <td>NaN</td>\n      <td>1.0</td>\n      <td>...</td>\n      <td>NaN</td>\n      <td>0.0</td>\n      <td>0.0</td>\n      <td>NaN</td>\n      <td>NaN</td>\n      <td>NaN</td>\n      <td>NaN</td>\n      <td>NaN</td>\n      <td>NaN</td>\n      <td>NaN</td>\n    </tr>\n  </tbody>\n</table>\n<p>37622 rows × 31 columns</p>\n</div>"
     },
     "metadata": {},
     "execution_count": 7
    }
   ],
   "source": [
    "df_stats"
   ]
  },
  {
   "cell_type": "code",
   "execution_count": 60,
   "metadata": {},
   "outputs": [],
   "source": [
    "descr=pd.DataFrame(df_stats_h.describe().iloc[0])\n",
    "descr['pct']=descr['count']/df_stats_h.shape[0]\n",
    "keep=descr.loc[descr['pct']>.8].index\n",
    "df_stats_h=df_stats_h[keep]\n",
    "df_stats_a=df_stats_a[keep]"
   ]
  },
  {
   "cell_type": "code",
   "execution_count": 15,
   "metadata": {},
   "outputs": [],
   "source": [
    "descr=pd.DataFrame(df_stats_h.describe().iloc[0])\n",
    "descr['pct']=descr['count']/df_stats_h.shape[0]"
   ]
  },
  {
   "cell_type": "code",
   "execution_count": 5,
   "metadata": {},
   "outputs": [],
   "source": [
    "df_incidents=pd.read_csv('data/incidents.csv', index_col=None)\n",
    "df_incidents=df_incidents.loc[df_incidents['incidentType']!='varDecision']\n",
    "df_incidents=df_incidents.loc[df_incidents['incidentType']!='injuryTime']\n",
    "df_incidents=df_incidents.loc[df_incidents['time']>0]\n",
    "df_incidents=df_incidents.loc[df_incidents['time']<91]\n",
    "torem=['period','injuryTime']\n",
    "df_incidents=df_incidents.loc[~(df_incidents['incidentType'].isin(torem))]\n",
    "df_incidents.loc[(df_incidents['addedTime']>0) & (df_incidents['time']==90),'time']=90.5\n",
    "df_incidents.loc[(df_incidents['addedTime']>0) & (df_incidents['time']==45),'time']=45.5\n",
    "\n",
    "df_stats=pd.read_csv('data/statistics.csv', index_col=None)\n",
    "df_stats=df_stats.loc[df_stats['period']=='1ST']\n",
    "df_stats=df_stats.loc[df_stats['mid'].isin(df_incidents['mid'].unique())]\n",
    "df_stats['Ball possession']=df_stats['Ball possession'].apply(lambda x: float(str(x).replace('%',''))/100)\n",
    "\n",
    "df_stats_h=df_stats.loc[df_stats['ishome']==1].reset_index(drop=True)\n",
    "df_stats_a=df_stats.loc[df_stats['ishome']==0].reset_index(drop=True)\n",
    "\n",
    "descr=pd.DataFrame(df_stats_h.describe().iloc[0])\n",
    "descr['pct']=descr['count']/df_stats_h.shape[0]\n",
    "keep=descr.loc[descr['pct']>.8].index\n",
    "df_stats_h=df_stats_h[keep]\n",
    "df_stats_a=df_stats_a[keep]\n",
    "cols_stats=df_stats_h.columns[1:]\n",
    "cols_stats_diffs=[x+'_diff' for x in cols_stats]\n",
    "stats_diffs=df_stats_h[cols_stats]-df_stats_a[cols_stats]\n",
    "stats_diffs.columns=cols_stats_diffs\n",
    "df_stats_h=pd.concat([df_stats_h,stats_diffs], axis=1)\n",
    "df_stats_a=pd.concat([df_stats_a,stats_diffs*-1], axis=1)\n",
    "\n",
    "df_incidents=df_incidents.loc[df_incidents['mid'].isin(df_stats['mid'].unique())]\n",
    "\n",
    "df_graph=pd.read_csv('data/graph.csv', index_col=None)\n",
    "df_graph=df_graph.loc[df_graph['minute']>0]\n",
    "df_graph=df_graph.loc[df_graph['minute']<91]\n",
    "df_graph.columns=['mid','time','graph']\n",
    "df_graph=df_graph.loc[df_graph['mid'].isin(df_incidents['mid'].unique())]\n",
    "df=df_graph.merge(df_incidents[['mid','time','position1','incidentType','isHome']], on=['mid','time'], how='left')\n",
    "\n",
    "df=pd.get_dummies(df, columns=['incidentType'], prefix=['it'] )\n",
    "df=pd.get_dummies(df, columns=['position1'], prefix=['p'] )\n",
    "df=pd.get_dummies(df, columns=['isHome'], prefix=['h'] )\n",
    "\n",
    "df['h_goal']=df['it_goal']*df['h_True']\n",
    "df['a_goal']=df['it_goal']*df['h_False']\n",
    "\n",
    "df['h_red']=(df['it_red']+df['it_yellowRed'])*df['h_True']\n",
    "df['a_red']=(df['it_red']+df['it_yellowRed'])*df['h_False']\n",
    "\n",
    "df['h_yellow']=(df['it_yellow']+df['it_yellowRed'])*df['h_True']\n",
    "df['a_yellow']=(df['it_yellow']+df['it_yellowRed'])*df['h_False']\n",
    "\n",
    "df['h_penalty']=df['it_inGamePenalty']*df['h_True']\n",
    "df['a_penalty']=df['it_inGamePenalty']*df['h_False']\n",
    "\n",
    "df['h_subs']=df['it_substitution']*df['h_True']\n",
    "df['a_subs']=df['it_substitution']*df['h_False']\n",
    "\n",
    "df.drop(['it_yellowRed','it_inGamePenalty','it_substitution','it_yellow','it_red','it_goal','h_True','h_False'], axis = 1, inplace=True) \n",
    "df['half']=np.where(df['time']<46,0,1)\n",
    "df['half_dyn']=df['time'].apply(lambda x: 1 if x<30 else 2 if x<46 else 0)\n"
   ]
  },
  {
   "cell_type": "code",
   "execution_count": 6,
   "metadata": {},
   "outputs": [],
   "source": [
    "df_half=df.loc[df['half']==0].groupby('mid')[['graph','p_D','p_F','p_G','p_M','h_goal','a_goal','h_red','a_red','h_yellow','a_yellow','h_penalty','a_penalty','h_subs','a_subs']].mean().reset_index()\n",
    "\n",
    "df_h1=df.loc[df['half']==0].groupby('mid')[['h_goal','a_goal']].sum().reset_index()\n",
    "df_h1[['h_goal','a_goal']]=df_h1[['h_goal','a_goal']].astype(float)\n",
    "df_h1.columns=['mid','h_goal_h1','a_goal_h1']\n",
    "\n",
    "df_h2=df.loc[df['half']==1].groupby('mid')[['h_goal','a_goal']].sum().reset_index()\n",
    "df_h2[['h_goal','a_goal']]=df_h2[['h_goal','a_goal']].astype(float)\n",
    "df_h2.columns=['mid','h_goal_h2','a_goal_h2']\n",
    "\n",
    "df_ft=df.groupby('mid')[['h_goal','a_goal']].sum().reset_index()\n",
    "df_ft[['h_goal','a_goal']]=df_ft[['h_goal','a_goal']].astype(float)\n",
    "df_ft.columns=['mid','h_goal_ft','a_goal_ft']\n",
    "\n",
    "df_half=df_half.merge(df_h1, on='mid', how='left')\n",
    "df_half=df_half.merge(df_h2, on='mid', how='left')\n",
    "df_half=df_half.merge(df_ft, on='mid', how='left')\n",
    "\n",
    "df_half['h1_res']=np.where(df_half['h_goal_h1']==df_half['a_goal_h1'],0,np.where(df_half['h_goal_h1']>df_half['a_goal_h1'],1,2))\n",
    "df_half['h2_res']=np.where(df_half['h_goal_h2']==df_half['a_goal_h2'],0,np.where(df_half['h_goal_h2']>df_half['a_goal_h2'],1,2))\n",
    "df_half['ft_res']=np.where(df_half['h_goal_ft']==df_half['a_goal_ft'],0,np.where(df_half['h_goal_ft']>df_half['a_goal_ft'],1,2))\n",
    "\n",
    "# DIFFS \n",
    "\n",
    "df_half['goal_d']=df_half['h_goal_h1']-df_half['a_goal_h1']\n",
    "df_half['red_d']=df_half['h_red']-df_half['a_red']\n",
    "df_half['yellow_d']=df_half['h_yellow']-df_half['a_yellow']\n",
    "df_half['penalty_d']=df_half['h_penalty']-df_half['a_penalty']\n",
    "df_half['subs_d']=df_half['h_subs']-df_half['a_subs']\n",
    "df_half.drop(columns=['p_D', 'p_F', 'p_G', 'p_M', 'h_goal', 'a_goal', 'h_red', 'a_red', 'h_yellow', 'a_yellow', 'h_penalty', 'a_penalty', 'h_subs', 'a_subs'], inplace=True)\n",
    "\n",
    "# DYNAMICS\n",
    "cols_dyn=['graph','h_goal','a_goal','h_red','a_red','h_yellow','a_yellow','h_penalty','a_penalty','h_subs','a_subs']\n",
    "df_h1=df.loc[df['half_dyn']==1].groupby('mid')[cols_dyn].mean().reset_index()\n",
    "df_h2=df.loc[df['half_dyn']==2].groupby('mid')[cols_dyn].mean().reset_index()\n",
    "df_h1=df_h1.loc[df_h1['mid'].isin(df_h2['mid'])]\n",
    "df_h1=df_h1.reset_index(drop=True)\n",
    "df_h2=df_h2.reset_index(drop=True)\n",
    "df_h2[cols_dyn]=df_h2[cols_dyn]-df_h1[cols_dyn]\n",
    "\n",
    "df_h2['goal_dyn']=df_h2['h_goal']-df_h2['a_goal']\n",
    "df_h2['red_dyn']=df_h2['h_red']-df_h2['a_red']\n",
    "df_h2['yellow_dyn']=df_h2['h_yellow']-df_h2['a_yellow']\n",
    "df_h2['penalty_dyn']=df_h2['h_penalty']-df_h2['a_penalty']\n",
    "df_h2['subs_dyn']=df_h2['h_subs']-df_h2['a_subs']\n",
    "df_h2=df_h2.rename(columns={'graph':'graph_dyn'})\n",
    "\n",
    "df_half=df_half.merge(df_h2[['mid', 'graph_dyn', 'goal_dyn', 'red_dyn', 'yellow_dyn', 'penalty_dyn', 'subs_dyn']], on='mid', how='left')\n"
   ]
  },
  {
   "cell_type": "code",
   "execution_count": 8,
   "metadata": {},
   "outputs": [],
   "source": [
    "df_home=df_half.copy()\n",
    "df_home['home']=1\n",
    "df_away=df_half.copy()\n",
    "df_away['home']=0\n",
    "df_away[['graph','goal_d','red_d','yellow_d','penalty_d','subs_d', 'graph_dyn', 'goal_dyn', 'red_dyn', 'yellow_dyn', 'penalty_dyn', 'subs_dyn']]=df_away[['graph','goal_d','red_d','yellow_d','penalty_d','subs_d', 'graph_dyn', 'goal_dyn', 'red_dyn', 'yellow_dyn', 'penalty_dyn', 'subs_dyn']]*-1\n",
    "df_away['h1_res']=df_away['h1_res'].apply(lambda x: 0 if x==0 else 1 if x==2 else 2)\n",
    "df_away['h2_res']=df_away['h2_res'].apply(lambda x: 0 if x==0 else 1 if x==2 else 2)\n",
    "df_away['ft_res']=df_away['ft_res'].apply(lambda x: 0 if x==0 else 1 if x==2 else 2)\n",
    "df_away=df_away.rename(columns={'h_goal_h1':'a_goal_h1', 'a_goal_h1':'h_goal_h1', 'h_goal_h2':'a_goal_h2', 'a_goal_h2':'h_goal_h2',\n",
    "       'h_goal_ft':'a_goal_ft', 'a_goal_ft':'h_goal_ft'})\n",
    "df_home=df_home.merge(df_stats_h, on='mid', how='left')\n",
    "df_away=df_away.merge(df_stats_a, on='mid', how='left')\n",
    "df_half=pd.concat([df_home, df_away]).reset_index(drop=True)\n",
    "df_half=df_half.sample(frac=1).reset_index(drop=True)\n",
    "df_half['htft_changed']=np.where(df_half['h1_res']==df_half['ft_res'],0,1)"
   ]
  },
  {
   "cell_type": "code",
   "execution_count": 10,
   "metadata": {},
   "outputs": [
    {
     "output_type": "stream",
     "name": "stdout",
     "text": [
      "H1-FT 0.5956607495069034\nH1-H2 0.37299429607121914\nHTFT Changed 0.40433925049309666\n"
     ]
    }
   ],
   "source": [
    "print('H1-FT',f1_score(df_half['h1_res'], df_half['ft_res'], average='micro'))\n",
    "print('H1-H2',f1_score(df_half['h1_res'], df_half['h2_res'], average='micro'))\n",
    "print('HTFT Changed',df_half['htft_changed'].mean())"
   ]
  },
  {
   "cell_type": "code",
   "execution_count": 11,
   "metadata": {},
   "outputs": [],
   "source": [
    "#df_half=pd.get_dummies(df_half, columns=['h2_res'], prefix=['h2_res'] )\n",
    "#df_half=pd.get_dummies(df_half, columns=['ft_res'], prefix=['ft_res'] )\n",
    "\n",
    "cols_info=['mid', 'home', 'h_goal_h1', 'a_goal_h1', 'h_goal_h2', 'a_goal_h2', 'h_goal_ft', 'a_goal_ft','h1_res', 'h2_res','ft_res','htft_changed']\n",
    "cols_num=['graph', 'goal_d', 'h_goal_h1', 'a_goal_h1','red_d','yellow_d','penalty_d','subs_d', 'graph_dyn', 'goal_dyn', 'red_dyn', 'yellow_dyn', 'penalty_dyn', 'subs_dyn']+list(cols_stats)+list(cols_stats_diffs)\n",
    "cols_cat=['home','h1_res'] #h1_res\n",
    "#cols_out=[ 'h2_res_0','h2_res_1','h2_res_2']\n",
    "#cols_out=[ 'ft_res_0','ft_res_1','ft_res_2']\n",
    "cols_out=[ 'h2_res','ft_res', 'htft_changed']\n",
    "scaler = MinMaxScaler(feature_range=(0, 1))\n",
    "scaled = scaler.fit_transform(df_half[cols_num].values)\n",
    "df_X=pd.concat([pd.DataFrame(data=scaled, columns=cols_num), df_half[cols_cat]], axis=1)\n",
    "df_X[cols_cat].astype(int)\n",
    "#df_X=pd.DataFrame(data=scaled, columns=cols_num)\n",
    "df_y=df_half[cols_out]\n",
    "df_info=df_half[cols_info]\n",
    "cat_features=[len(df_X.columns)-2,len(df_X.columns)-1]\n"
   ]
  },
  {
   "cell_type": "code",
   "execution_count": 28,
   "metadata": {},
   "outputs": [],
   "source": [
    "#df_X=pd.concat([pd.DataFrame(data=scaled, columns=cols_num), df_half[cols_info+cols_bin]], axis=1).values\n",
    "#df_y=df_half[cols_out].values\n",
    "\n",
    "#df_X=pd.concat([pd.DataFrame(data=scaled, columns=cols_num), df_half[cols_info+cols_bin]], axis=1)\n",
    "#df_y=df_half[cols_out]"
   ]
  },
  {
   "cell_type": "code",
   "execution_count": 13,
   "metadata": {},
   "outputs": [
    {
     "output_type": "stream",
     "name": "stdout",
     "text": [
      "(22510, 46) (22510, 3) (22510, 12) (7504, 46) (7504, 3) (7504, 12) (7504, 46) (7504, 3) (7504, 12)\n"
     ]
    }
   ],
   "source": [
    "train_X, test_X, train_y, test_y, train_info, test_info = train_test_split(df_X, df_y, df_info, test_size=0.4, random_state=42)\n",
    "validate_X, test_X, validate_y, test_y, validate_info, test_info = train_test_split(test_X, test_y, test_info, test_size=0.5, random_state=42)\n",
    "print(train_X.shape, train_y.shape, train_info.shape, test_X.shape, test_y.shape ,test_info.shape, validate_X.shape, validate_y.shape ,validate_info.shape)"
   ]
  },
  {
   "cell_type": "code",
   "execution_count": 14,
   "metadata": {
    "tags": []
   },
   "outputs": [],
   "source": [
    "target='h2_res'\n",
    "train_dataset = Pool(data=train_X, label=train_y[target], cat_features=cat_features)\n",
    "eval_dataset = Pool(data=test_X, label=test_y[target], cat_features=cat_features)\n",
    "validate_dataset = Pool(data=validate_X, label=validate_y[target], cat_features=cat_features)\n",
    "model = CatBoostClassifier(iterations=10000, learning_rate=.001, depth=4, loss_function='MultiClass')\n",
    "model.fit(train_dataset,eval_set=validate_dataset,early_stopping_rounds=50,use_best_model=True, verbose=False)\n",
    "preds_class = model.predict(eval_dataset)\n",
    "#preds_proba = model.predict_proba(eval_dataset)"
   ]
  },
  {
   "cell_type": "code",
   "execution_count": 15,
   "metadata": {},
   "outputs": [],
   "source": [
    "dfr=pd.concat([test_info.reset_index(drop=True),pd.DataFrame(preds_class, columns=['pred_h2'])], axis=1)"
   ]
  },
  {
   "cell_type": "code",
   "execution_count": 16,
   "metadata": {},
   "outputs": [],
   "source": [
    "target='ft_res'\n",
    "train_dataset = Pool(data=train_X, label=train_y[target], cat_features=cat_features)\n",
    "eval_dataset = Pool(data=test_X, label=test_y[target], cat_features=cat_features)\n",
    "validate_dataset = Pool(data=validate_X, label=validate_y[target], cat_features=cat_features)\n",
    "model = CatBoostClassifier(iterations=10000, learning_rate=.001, depth=4, loss_function='MultiClass')\n",
    "model.fit(train_dataset,eval_set=validate_dataset,early_stopping_rounds=50,use_best_model=True, verbose=False)\n",
    "preds_class = model.predict(eval_dataset)"
   ]
  },
  {
   "cell_type": "code",
   "execution_count": 17,
   "metadata": {},
   "outputs": [],
   "source": [
    "dfr=pd.concat([dfr.reset_index(drop=True),pd.DataFrame(preds_class, columns=['pred_ft'])], axis=1)"
   ]
  },
  {
   "cell_type": "code",
   "execution_count": 18,
   "metadata": {
    "tags": [
     "outputPrepend"
    ]
   },
   "outputs": [
    {
     "output_type": "stream",
     "name": "stdout",
     "text": [
      ":\tlearn: 0.5603634\ttest: 0.5638436\tbest: 0.5638436 (9784)\ttotal: 6m 4s\tremaining: 8.01s\n",
      "9785:\tlearn: 0.5603616\ttest: 0.5638444\tbest: 0.5638436 (9784)\ttotal: 6m 4s\tremaining: 7.98s\n",
      "9786:\tlearn: 0.5603600\ttest: 0.5638451\tbest: 0.5638436 (9784)\ttotal: 6m 4s\tremaining: 7.94s\n",
      "9787:\tlearn: 0.5603586\ttest: 0.5638453\tbest: 0.5638436 (9784)\ttotal: 6m 4s\tremaining: 7.9s\n",
      "9788:\tlearn: 0.5603573\ttest: 0.5638448\tbest: 0.5638436 (9784)\ttotal: 6m 4s\tremaining: 7.86s\n",
      "9789:\tlearn: 0.5603560\ttest: 0.5638448\tbest: 0.5638436 (9784)\ttotal: 6m 4s\tremaining: 7.83s\n",
      "9790:\tlearn: 0.5603545\ttest: 0.5638451\tbest: 0.5638436 (9784)\ttotal: 6m 4s\tremaining: 7.79s\n",
      "9791:\tlearn: 0.5603527\ttest: 0.5638456\tbest: 0.5638436 (9784)\ttotal: 6m 4s\tremaining: 7.75s\n",
      "9792:\tlearn: 0.5603525\ttest: 0.5638454\tbest: 0.5638436 (9784)\ttotal: 6m 5s\tremaining: 7.71s\n",
      "9793:\tlearn: 0.5603518\ttest: 0.5638451\tbest: 0.5638436 (9784)\ttotal: 6m 5s\tremaining: 7.68s\n",
      "9794:\tlearn: 0.5603507\ttest: 0.5638444\tbest: 0.5638436 (9784)\ttotal: 6m 5s\tremaining: 7.64s\n",
      "9795:\tlearn: 0.5603491\ttest: 0.5638440\tbest: 0.5638436 (9784)\ttotal: 6m 5s\tremaining: 7.6s\n",
      "9796:\tlearn: 0.5603485\ttest: 0.5638437\tbest: 0.5638436 (9784)\ttotal: 6m 5s\tremaining: 7.57s\n",
      "9797:\tlearn: 0.5603474\ttest: 0.5638436\tbest: 0.5638436 (9797)\ttotal: 6m 5s\tremaining: 7.53s\n",
      "9798:\tlearn: 0.5603458\ttest: 0.5638426\tbest: 0.5638426 (9798)\ttotal: 6m 5s\tremaining: 7.49s\n",
      "9799:\tlearn: 0.5603454\ttest: 0.5638427\tbest: 0.5638426 (9798)\ttotal: 6m 5s\tremaining: 7.45s\n",
      "9800:\tlearn: 0.5603427\ttest: 0.5638408\tbest: 0.5638408 (9800)\ttotal: 6m 5s\tremaining: 7.42s\n",
      "9801:\tlearn: 0.5603419\ttest: 0.5638409\tbest: 0.5638408 (9800)\ttotal: 6m 5s\tremaining: 7.38s\n",
      "9802:\tlearn: 0.5603413\ttest: 0.5638407\tbest: 0.5638407 (9802)\ttotal: 6m 5s\tremaining: 7.34s\n",
      "9803:\tlearn: 0.5603397\ttest: 0.5638409\tbest: 0.5638407 (9802)\ttotal: 6m 5s\tremaining: 7.3s\n",
      "9804:\tlearn: 0.5603379\ttest: 0.5638403\tbest: 0.5638403 (9804)\ttotal: 6m 5s\tremaining: 7.27s\n",
      "9805:\tlearn: 0.5603364\ttest: 0.5638399\tbest: 0.5638399 (9805)\ttotal: 6m 5s\tremaining: 7.23s\n",
      "9806:\tlearn: 0.5603357\ttest: 0.5638391\tbest: 0.5638391 (9806)\ttotal: 6m 5s\tremaining: 7.19s\n",
      "9807:\tlearn: 0.5603340\ttest: 0.5638387\tbest: 0.5638387 (9807)\ttotal: 6m 5s\tremaining: 7.16s\n",
      "9808:\tlearn: 0.5603334\ttest: 0.5638391\tbest: 0.5638387 (9807)\ttotal: 6m 5s\tremaining: 7.12s\n",
      "9809:\tlearn: 0.5603319\ttest: 0.5638387\tbest: 0.5638387 (9807)\ttotal: 6m 5s\tremaining: 7.08s\n",
      "9810:\tlearn: 0.5603303\ttest: 0.5638394\tbest: 0.5638387 (9807)\ttotal: 6m 5s\tremaining: 7.04s\n",
      "9811:\tlearn: 0.5603297\ttest: 0.5638394\tbest: 0.5638387 (9807)\ttotal: 6m 5s\tremaining: 7.01s\n",
      "9812:\tlearn: 0.5603281\ttest: 0.5638397\tbest: 0.5638387 (9807)\ttotal: 6m 5s\tremaining: 6.97s\n",
      "9813:\tlearn: 0.5603267\ttest: 0.5638392\tbest: 0.5638387 (9807)\ttotal: 6m 5s\tremaining: 6.93s\n",
      "9814:\tlearn: 0.5603264\ttest: 0.5638392\tbest: 0.5638387 (9807)\ttotal: 6m 5s\tremaining: 6.89s\n",
      "9815:\tlearn: 0.5603258\ttest: 0.5638391\tbest: 0.5638387 (9807)\ttotal: 6m 5s\tremaining: 6.86s\n",
      "9816:\tlearn: 0.5603242\ttest: 0.5638396\tbest: 0.5638387 (9807)\ttotal: 6m 5s\tremaining: 6.82s\n",
      "9817:\tlearn: 0.5603216\ttest: 0.5638380\tbest: 0.5638380 (9817)\ttotal: 6m 5s\tremaining: 6.78s\n",
      "9818:\tlearn: 0.5603189\ttest: 0.5638378\tbest: 0.5638378 (9818)\ttotal: 6m 5s\tremaining: 6.75s\n",
      "9819:\tlearn: 0.5603173\ttest: 0.5638378\tbest: 0.5638378 (9819)\ttotal: 6m 5s\tremaining: 6.71s\n",
      "9820:\tlearn: 0.5603161\ttest: 0.5638378\tbest: 0.5638378 (9819)\ttotal: 6m 6s\tremaining: 6.67s\n",
      "9821:\tlearn: 0.5603149\ttest: 0.5638373\tbest: 0.5638373 (9821)\ttotal: 6m 6s\tremaining: 6.63s\n",
      "9822:\tlearn: 0.5603127\ttest: 0.5638366\tbest: 0.5638366 (9822)\ttotal: 6m 6s\tremaining: 6.6s\n",
      "9823:\tlearn: 0.5603108\ttest: 0.5638359\tbest: 0.5638359 (9823)\ttotal: 6m 6s\tremaining: 6.56s\n",
      "9824:\tlearn: 0.5603098\ttest: 0.5638356\tbest: 0.5638356 (9824)\ttotal: 6m 6s\tremaining: 6.52s\n",
      "9825:\tlearn: 0.5603066\ttest: 0.5638348\tbest: 0.5638348 (9825)\ttotal: 6m 6s\tremaining: 6.49s\n",
      "9826:\tlearn: 0.5603060\ttest: 0.5638350\tbest: 0.5638348 (9825)\ttotal: 6m 6s\tremaining: 6.45s\n",
      "9827:\tlearn: 0.5603046\ttest: 0.5638355\tbest: 0.5638348 (9825)\ttotal: 6m 6s\tremaining: 6.41s\n",
      "9828:\tlearn: 0.5603034\ttest: 0.5638347\tbest: 0.5638347 (9828)\ttotal: 6m 6s\tremaining: 6.37s\n",
      "9829:\tlearn: 0.5603003\ttest: 0.5638325\tbest: 0.5638325 (9829)\ttotal: 6m 6s\tremaining: 6.34s\n",
      "9830:\tlearn: 0.5602966\ttest: 0.5638304\tbest: 0.5638304 (9830)\ttotal: 6m 6s\tremaining: 6.3s\n",
      "9831:\tlearn: 0.5602955\ttest: 0.5638304\tbest: 0.5638304 (9831)\ttotal: 6m 6s\tremaining: 6.26s\n",
      "9832:\tlearn: 0.5602946\ttest: 0.5638307\tbest: 0.5638304 (9831)\ttotal: 6m 6s\tremaining: 6.22s\n",
      "9833:\tlearn: 0.5602946\ttest: 0.5638307\tbest: 0.5638304 (9831)\ttotal: 6m 6s\tremaining: 6.19s\n",
      "9834:\tlearn: 0.5602937\ttest: 0.5638304\tbest: 0.5638304 (9834)\ttotal: 6m 6s\tremaining: 6.15s\n",
      "9835:\tlearn: 0.5602935\ttest: 0.5638305\tbest: 0.5638304 (9834)\ttotal: 6m 6s\tremaining: 6.11s\n",
      "9836:\tlearn: 0.5602933\ttest: 0.5638309\tbest: 0.5638304 (9834)\ttotal: 6m 6s\tremaining: 6.07s\n",
      "9837:\tlearn: 0.5602921\ttest: 0.5638300\tbest: 0.5638300 (9837)\ttotal: 6m 6s\tremaining: 6.04s\n",
      "9838:\tlearn: 0.5602899\ttest: 0.5638296\tbest: 0.5638296 (9838)\ttotal: 6m 6s\tremaining: 6s\n",
      "9839:\tlearn: 0.5602882\ttest: 0.5638295\tbest: 0.5638295 (9839)\ttotal: 6m 6s\tremaining: 5.96s\n",
      "9840:\tlearn: 0.5602866\ttest: 0.5638290\tbest: 0.5638290 (9840)\ttotal: 6m 6s\tremaining: 5.92s\n",
      "9841:\tlearn: 0.5602855\ttest: 0.5638287\tbest: 0.5638287 (9841)\ttotal: 6m 6s\tremaining: 5.89s\n",
      "9842:\tlearn: 0.5602845\ttest: 0.5638292\tbest: 0.5638287 (9841)\ttotal: 6m 6s\tremaining: 5.85s\n",
      "9843:\tlearn: 0.5602834\ttest: 0.5638287\tbest: 0.5638287 (9841)\ttotal: 6m 6s\tremaining: 5.81s\n",
      "9844:\tlearn: 0.5602821\ttest: 0.5638287\tbest: 0.5638287 (9841)\ttotal: 6m 6s\tremaining: 5.78s\n",
      "9845:\tlearn: 0.5602819\ttest: 0.5638291\tbest: 0.5638287 (9841)\ttotal: 6m 6s\tremaining: 5.74s\n",
      "9846:\tlearn: 0.5602803\ttest: 0.5638282\tbest: 0.5638282 (9846)\ttotal: 6m 6s\tremaining: 5.7s\n",
      "9847:\tlearn: 0.5602786\ttest: 0.5638284\tbest: 0.5638282 (9846)\ttotal: 6m 7s\tremaining: 5.66s\n",
      "9848:\tlearn: 0.5602760\ttest: 0.5638277\tbest: 0.5638277 (9848)\ttotal: 6m 7s\tremaining: 5.63s\n",
      "9849:\tlearn: 0.5602738\ttest: 0.5638271\tbest: 0.5638271 (9849)\ttotal: 6m 7s\tremaining: 5.59s\n",
      "9850:\tlearn: 0.5602734\ttest: 0.5638271\tbest: 0.5638271 (9849)\ttotal: 6m 7s\tremaining: 5.55s\n",
      "9851:\tlearn: 0.5602720\ttest: 0.5638274\tbest: 0.5638271 (9849)\ttotal: 6m 7s\tremaining: 5.51s\n",
      "9852:\tlearn: 0.5602704\ttest: 0.5638268\tbest: 0.5638268 (9852)\ttotal: 6m 7s\tremaining: 5.48s\n",
      "9853:\tlearn: 0.5602692\ttest: 0.5638261\tbest: 0.5638261 (9853)\ttotal: 6m 7s\tremaining: 5.44s\n",
      "9854:\tlearn: 0.5602679\ttest: 0.5638263\tbest: 0.5638261 (9853)\ttotal: 6m 7s\tremaining: 5.4s\n",
      "9855:\tlearn: 0.5602676\ttest: 0.5638263\tbest: 0.5638261 (9853)\ttotal: 6m 7s\tremaining: 5.37s\n",
      "9856:\tlearn: 0.5602658\ttest: 0.5638259\tbest: 0.5638259 (9856)\ttotal: 6m 7s\tremaining: 5.33s\n",
      "9857:\tlearn: 0.5602649\ttest: 0.5638262\tbest: 0.5638259 (9856)\ttotal: 6m 7s\tremaining: 5.29s\n",
      "9858:\tlearn: 0.5602639\ttest: 0.5638260\tbest: 0.5638259 (9856)\ttotal: 6m 7s\tremaining: 5.25s\n",
      "9859:\tlearn: 0.5602626\ttest: 0.5638255\tbest: 0.5638255 (9859)\ttotal: 6m 7s\tremaining: 5.22s\n",
      "9860:\tlearn: 0.5602607\ttest: 0.5638250\tbest: 0.5638250 (9860)\ttotal: 6m 7s\tremaining: 5.18s\n",
      "9861:\tlearn: 0.5602601\ttest: 0.5638246\tbest: 0.5638246 (9861)\ttotal: 6m 7s\tremaining: 5.14s\n",
      "9862:\tlearn: 0.5602594\ttest: 0.5638249\tbest: 0.5638246 (9861)\ttotal: 6m 7s\tremaining: 5.11s\n",
      "9863:\tlearn: 0.5602583\ttest: 0.5638247\tbest: 0.5638246 (9861)\ttotal: 6m 7s\tremaining: 5.07s\n",
      "9864:\tlearn: 0.5602573\ttest: 0.5638246\tbest: 0.5638246 (9861)\ttotal: 6m 7s\tremaining: 5.03s\n",
      "9865:\tlearn: 0.5602561\ttest: 0.5638254\tbest: 0.5638246 (9861)\ttotal: 6m 7s\tremaining: 4.99s\n",
      "9866:\tlearn: 0.5602540\ttest: 0.5638246\tbest: 0.5638246 (9861)\ttotal: 6m 7s\tremaining: 4.96s\n",
      "9867:\tlearn: 0.5602528\ttest: 0.5638245\tbest: 0.5638245 (9867)\ttotal: 6m 7s\tremaining: 4.92s\n",
      "9868:\tlearn: 0.5602511\ttest: 0.5638241\tbest: 0.5638241 (9868)\ttotal: 6m 7s\tremaining: 4.88s\n",
      "9869:\tlearn: 0.5602505\ttest: 0.5638246\tbest: 0.5638241 (9868)\ttotal: 6m 7s\tremaining: 4.84s\n",
      "9870:\tlearn: 0.5602492\ttest: 0.5638242\tbest: 0.5638241 (9868)\ttotal: 6m 7s\tremaining: 4.81s\n",
      "9871:\tlearn: 0.5602481\ttest: 0.5638244\tbest: 0.5638241 (9868)\ttotal: 6m 7s\tremaining: 4.77s\n",
      "9872:\tlearn: 0.5602464\ttest: 0.5638236\tbest: 0.5638236 (9872)\ttotal: 6m 7s\tremaining: 4.73s\n",
      "9873:\tlearn: 0.5602444\ttest: 0.5638227\tbest: 0.5638227 (9873)\ttotal: 6m 7s\tremaining: 4.7s\n",
      "9874:\tlearn: 0.5602428\ttest: 0.5638227\tbest: 0.5638227 (9873)\ttotal: 6m 8s\tremaining: 4.66s\n",
      "9875:\tlearn: 0.5602400\ttest: 0.5638202\tbest: 0.5638202 (9875)\ttotal: 6m 8s\tremaining: 4.62s\n",
      "9876:\tlearn: 0.5602377\ttest: 0.5638187\tbest: 0.5638187 (9876)\ttotal: 6m 8s\tremaining: 4.58s\n",
      "9877:\tlearn: 0.5602358\ttest: 0.5638186\tbest: 0.5638186 (9877)\ttotal: 6m 8s\tremaining: 4.55s\n",
      "9878:\tlearn: 0.5602354\ttest: 0.5638191\tbest: 0.5638186 (9877)\ttotal: 6m 8s\tremaining: 4.51s\n",
      "9879:\tlearn: 0.5602351\ttest: 0.5638191\tbest: 0.5638186 (9877)\ttotal: 6m 8s\tremaining: 4.47s\n",
      "9880:\tlearn: 0.5602337\ttest: 0.5638190\tbest: 0.5638186 (9877)\ttotal: 6m 8s\tremaining: 4.43s\n",
      "9881:\tlearn: 0.5602322\ttest: 0.5638191\tbest: 0.5638186 (9877)\ttotal: 6m 8s\tremaining: 4.4s\n",
      "9882:\tlearn: 0.5602312\ttest: 0.5638195\tbest: 0.5638186 (9877)\ttotal: 6m 8s\tremaining: 4.36s\n",
      "9883:\tlearn: 0.5602301\ttest: 0.5638192\tbest: 0.5638186 (9877)\ttotal: 6m 8s\tremaining: 4.32s\n",
      "9884:\tlearn: 0.5602297\ttest: 0.5638196\tbest: 0.5638186 (9877)\ttotal: 6m 8s\tremaining: 4.29s\n",
      "9885:\tlearn: 0.5602292\ttest: 0.5638196\tbest: 0.5638186 (9877)\ttotal: 6m 8s\tremaining: 4.25s\n",
      "9886:\tlearn: 0.5602277\ttest: 0.5638204\tbest: 0.5638186 (9877)\ttotal: 6m 8s\tremaining: 4.21s\n",
      "9887:\tlearn: 0.5602271\ttest: 0.5638204\tbest: 0.5638186 (9877)\ttotal: 6m 8s\tremaining: 4.17s\n",
      "9888:\tlearn: 0.5602266\ttest: 0.5638200\tbest: 0.5638186 (9877)\ttotal: 6m 8s\tremaining: 4.14s\n",
      "9889:\tlearn: 0.5602239\ttest: 0.5638195\tbest: 0.5638186 (9877)\ttotal: 6m 8s\tremaining: 4.1s\n",
      "9890:\tlearn: 0.5602233\ttest: 0.5638192\tbest: 0.5638186 (9877)\ttotal: 6m 8s\tremaining: 4.06s\n",
      "9891:\tlearn: 0.5602223\ttest: 0.5638197\tbest: 0.5638186 (9877)\ttotal: 6m 8s\tremaining: 4.02s\n",
      "9892:\tlearn: 0.5602207\ttest: 0.5638191\tbest: 0.5638186 (9877)\ttotal: 6m 8s\tremaining: 3.99s\n",
      "9893:\tlearn: 0.5602197\ttest: 0.5638191\tbest: 0.5638186 (9877)\ttotal: 6m 8s\tremaining: 3.95s\n",
      "9894:\tlearn: 0.5602177\ttest: 0.5638194\tbest: 0.5638186 (9877)\ttotal: 6m 8s\tremaining: 3.91s\n",
      "9895:\tlearn: 0.5602162\ttest: 0.5638194\tbest: 0.5638186 (9877)\ttotal: 6m 8s\tremaining: 3.88s\n",
      "9896:\tlearn: 0.5602156\ttest: 0.5638192\tbest: 0.5638186 (9877)\ttotal: 6m 8s\tremaining: 3.84s\n",
      "9897:\tlearn: 0.5602140\ttest: 0.5638200\tbest: 0.5638186 (9877)\ttotal: 6m 8s\tremaining: 3.8s\n",
      "9898:\tlearn: 0.5602127\ttest: 0.5638194\tbest: 0.5638186 (9877)\ttotal: 6m 8s\tremaining: 3.76s\n",
      "9899:\tlearn: 0.5602120\ttest: 0.5638195\tbest: 0.5638186 (9877)\ttotal: 6m 8s\tremaining: 3.73s\n",
      "9900:\tlearn: 0.5602112\ttest: 0.5638189\tbest: 0.5638186 (9877)\ttotal: 6m 8s\tremaining: 3.69s\n",
      "9901:\tlearn: 0.5602093\ttest: 0.5638185\tbest: 0.5638185 (9901)\ttotal: 6m 8s\tremaining: 3.65s\n",
      "9902:\tlearn: 0.5602087\ttest: 0.5638185\tbest: 0.5638185 (9902)\ttotal: 6m 8s\tremaining: 3.61s\n",
      "9903:\tlearn: 0.5602059\ttest: 0.5638171\tbest: 0.5638171 (9903)\ttotal: 6m 9s\tremaining: 3.58s\n",
      "9904:\tlearn: 0.5602056\ttest: 0.5638171\tbest: 0.5638171 (9904)\ttotal: 6m 9s\tremaining: 3.54s\n",
      "9905:\tlearn: 0.5602040\ttest: 0.5638164\tbest: 0.5638164 (9905)\ttotal: 6m 9s\tremaining: 3.5s\n",
      "9906:\tlearn: 0.5602032\ttest: 0.5638169\tbest: 0.5638164 (9905)\ttotal: 6m 9s\tremaining: 3.46s\n",
      "9907:\tlearn: 0.5602017\ttest: 0.5638163\tbest: 0.5638163 (9907)\ttotal: 6m 9s\tremaining: 3.43s\n",
      "9908:\tlearn: 0.5602004\ttest: 0.5638159\tbest: 0.5638159 (9908)\ttotal: 6m 9s\tremaining: 3.39s\n",
      "9909:\tlearn: 0.5601987\ttest: 0.5638153\tbest: 0.5638153 (9909)\ttotal: 6m 9s\tremaining: 3.35s\n",
      "9910:\tlearn: 0.5601982\ttest: 0.5638152\tbest: 0.5638152 (9910)\ttotal: 6m 9s\tremaining: 3.31s\n",
      "9911:\tlearn: 0.5601973\ttest: 0.5638149\tbest: 0.5638149 (9911)\ttotal: 6m 9s\tremaining: 3.28s\n",
      "9912:\tlearn: 0.5601959\ttest: 0.5638154\tbest: 0.5638149 (9911)\ttotal: 6m 9s\tremaining: 3.24s\n",
      "9913:\tlearn: 0.5601954\ttest: 0.5638152\tbest: 0.5638149 (9911)\ttotal: 6m 9s\tremaining: 3.2s\n",
      "9914:\tlearn: 0.5601939\ttest: 0.5638144\tbest: 0.5638144 (9914)\ttotal: 6m 9s\tremaining: 3.17s\n",
      "9915:\tlearn: 0.5601926\ttest: 0.5638141\tbest: 0.5638141 (9915)\ttotal: 6m 9s\tremaining: 3.13s\n",
      "9916:\tlearn: 0.5601910\ttest: 0.5638137\tbest: 0.5638137 (9916)\ttotal: 6m 9s\tremaining: 3.09s\n",
      "9917:\tlearn: 0.5601908\ttest: 0.5638136\tbest: 0.5638136 (9917)\ttotal: 6m 9s\tremaining: 3.06s\n",
      "9918:\tlearn: 0.5601896\ttest: 0.5638137\tbest: 0.5638136 (9917)\ttotal: 6m 9s\tremaining: 3.02s\n",
      "9919:\tlearn: 0.5601884\ttest: 0.5638144\tbest: 0.5638136 (9917)\ttotal: 6m 9s\tremaining: 2.98s\n",
      "9920:\tlearn: 0.5601875\ttest: 0.5638137\tbest: 0.5638136 (9917)\ttotal: 6m 9s\tremaining: 2.94s\n",
      "9921:\tlearn: 0.5601864\ttest: 0.5638134\tbest: 0.5638134 (9921)\ttotal: 6m 9s\tremaining: 2.91s\n",
      "9922:\tlearn: 0.5601863\ttest: 0.5638135\tbest: 0.5638134 (9921)\ttotal: 6m 9s\tremaining: 2.87s\n",
      "9923:\tlearn: 0.5601848\ttest: 0.5638138\tbest: 0.5638134 (9921)\ttotal: 6m 9s\tremaining: 2.83s\n",
      "9924:\tlearn: 0.5601837\ttest: 0.5638131\tbest: 0.5638131 (9924)\ttotal: 6m 9s\tremaining: 2.79s\n",
      "9925:\tlearn: 0.5601826\ttest: 0.5638125\tbest: 0.5638125 (9925)\ttotal: 6m 9s\tremaining: 2.76s\n",
      "9926:\tlearn: 0.5601807\ttest: 0.5638126\tbest: 0.5638125 (9925)\ttotal: 6m 9s\tremaining: 2.72s\n",
      "9927:\tlearn: 0.5601796\ttest: 0.5638128\tbest: 0.5638125 (9925)\ttotal: 6m 9s\tremaining: 2.68s\n",
      "9928:\tlearn: 0.5601784\ttest: 0.5638131\tbest: 0.5638125 (9925)\ttotal: 6m 9s\tremaining: 2.65s\n",
      "9929:\tlearn: 0.5601773\ttest: 0.5638131\tbest: 0.5638125 (9925)\ttotal: 6m 9s\tremaining: 2.61s\n",
      "9930:\tlearn: 0.5601739\ttest: 0.5638129\tbest: 0.5638125 (9925)\ttotal: 6m 10s\tremaining: 2.57s\n",
      "9931:\tlearn: 0.5601731\ttest: 0.5638132\tbest: 0.5638125 (9925)\ttotal: 6m 10s\tremaining: 2.53s\n",
      "9932:\tlearn: 0.5601709\ttest: 0.5638110\tbest: 0.5638110 (9932)\ttotal: 6m 10s\tremaining: 2.5s\n",
      "9933:\tlearn: 0.5601685\ttest: 0.5638102\tbest: 0.5638102 (9933)\ttotal: 6m 10s\tremaining: 2.46s\n",
      "9934:\tlearn: 0.5601663\ttest: 0.5638110\tbest: 0.5638102 (9933)\ttotal: 6m 10s\tremaining: 2.42s\n",
      "9935:\tlearn: 0.5601648\ttest: 0.5638107\tbest: 0.5638102 (9933)\ttotal: 6m 10s\tremaining: 2.38s\n",
      "9936:\tlearn: 0.5601642\ttest: 0.5638106\tbest: 0.5638102 (9933)\ttotal: 6m 10s\tremaining: 2.35s\n",
      "9937:\tlearn: 0.5601623\ttest: 0.5638112\tbest: 0.5638102 (9933)\ttotal: 6m 10s\tremaining: 2.31s\n",
      "9938:\tlearn: 0.5601609\ttest: 0.5638125\tbest: 0.5638102 (9933)\ttotal: 6m 10s\tremaining: 2.27s\n",
      "9939:\tlearn: 0.5601595\ttest: 0.5638121\tbest: 0.5638102 (9933)\ttotal: 6m 10s\tremaining: 2.23s\n",
      "9940:\tlearn: 0.5601589\ttest: 0.5638124\tbest: 0.5638102 (9933)\ttotal: 6m 10s\tremaining: 2.2s\n",
      "9941:\tlearn: 0.5601557\ttest: 0.5638104\tbest: 0.5638102 (9933)\ttotal: 6m 10s\tremaining: 2.16s\n",
      "9942:\tlearn: 0.5601553\ttest: 0.5638107\tbest: 0.5638102 (9933)\ttotal: 6m 10s\tremaining: 2.12s\n",
      "9943:\tlearn: 0.5601549\ttest: 0.5638108\tbest: 0.5638102 (9933)\ttotal: 6m 10s\tremaining: 2.09s\n",
      "9944:\tlearn: 0.5601539\ttest: 0.5638111\tbest: 0.5638102 (9933)\ttotal: 6m 10s\tremaining: 2.05s\n",
      "9945:\tlearn: 0.5601534\ttest: 0.5638110\tbest: 0.5638102 (9933)\ttotal: 6m 10s\tremaining: 2.01s\n",
      "9946:\tlearn: 0.5601531\ttest: 0.5638108\tbest: 0.5638102 (9933)\ttotal: 6m 10s\tremaining: 1.97s\n",
      "9947:\tlearn: 0.5601504\ttest: 0.5638089\tbest: 0.5638089 (9947)\ttotal: 6m 10s\tremaining: 1.94s\n",
      "9948:\tlearn: 0.5601496\ttest: 0.5638084\tbest: 0.5638084 (9948)\ttotal: 6m 10s\tremaining: 1.9s\n",
      "9949:\tlearn: 0.5601494\ttest: 0.5638082\tbest: 0.5638082 (9949)\ttotal: 6m 10s\tremaining: 1.86s\n",
      "9950:\tlearn: 0.5601486\ttest: 0.5638085\tbest: 0.5638082 (9949)\ttotal: 6m 10s\tremaining: 1.82s\n",
      "9951:\tlearn: 0.5601475\ttest: 0.5638081\tbest: 0.5638081 (9951)\ttotal: 6m 10s\tremaining: 1.79s\n",
      "9952:\tlearn: 0.5601467\ttest: 0.5638073\tbest: 0.5638073 (9952)\ttotal: 6m 10s\tremaining: 1.75s\n",
      "9953:\tlearn: 0.5601457\ttest: 0.5638068\tbest: 0.5638068 (9953)\ttotal: 6m 10s\tremaining: 1.71s\n",
      "9954:\tlearn: 0.5601443\ttest: 0.5638069\tbest: 0.5638068 (9953)\ttotal: 6m 10s\tremaining: 1.68s\n",
      "9955:\tlearn: 0.5601431\ttest: 0.5638068\tbest: 0.5638068 (9953)\ttotal: 6m 10s\tremaining: 1.64s\n",
      "9956:\tlearn: 0.5601426\ttest: 0.5638068\tbest: 0.5638068 (9953)\ttotal: 6m 10s\tremaining: 1.6s\n",
      "9957:\tlearn: 0.5601414\ttest: 0.5638068\tbest: 0.5638068 (9957)\ttotal: 6m 10s\tremaining: 1.56s\n",
      "9958:\tlearn: 0.5601408\ttest: 0.5638065\tbest: 0.5638065 (9958)\ttotal: 6m 10s\tremaining: 1.53s\n",
      "9959:\tlearn: 0.5601405\ttest: 0.5638061\tbest: 0.5638061 (9959)\ttotal: 6m 11s\tremaining: 1.49s\n",
      "9960:\tlearn: 0.5601395\ttest: 0.5638068\tbest: 0.5638061 (9959)\ttotal: 6m 11s\tremaining: 1.45s\n",
      "9961:\tlearn: 0.5601381\ttest: 0.5638060\tbest: 0.5638060 (9961)\ttotal: 6m 11s\tremaining: 1.42s\n",
      "9962:\tlearn: 0.5601371\ttest: 0.5638058\tbest: 0.5638058 (9962)\ttotal: 6m 11s\tremaining: 1.38s\n",
      "9963:\tlearn: 0.5601363\ttest: 0.5638062\tbest: 0.5638058 (9962)\ttotal: 6m 11s\tremaining: 1.34s\n",
      "9964:\tlearn: 0.5601350\ttest: 0.5638056\tbest: 0.5638056 (9964)\ttotal: 6m 11s\tremaining: 1.3s\n",
      "9965:\tlearn: 0.5601342\ttest: 0.5638056\tbest: 0.5638056 (9964)\ttotal: 6m 11s\tremaining: 1.27s\n",
      "9966:\tlearn: 0.5601338\ttest: 0.5638056\tbest: 0.5638056 (9966)\ttotal: 6m 11s\tremaining: 1.23s\n",
      "9967:\tlearn: 0.5601331\ttest: 0.5638058\tbest: 0.5638056 (9966)\ttotal: 6m 11s\tremaining: 1.19s\n",
      "9968:\tlearn: 0.5601326\ttest: 0.5638062\tbest: 0.5638056 (9966)\ttotal: 6m 11s\tremaining: 1.15s\n",
      "9969:\tlearn: 0.5601302\ttest: 0.5638053\tbest: 0.5638053 (9969)\ttotal: 6m 11s\tremaining: 1.12s\n",
      "9970:\tlearn: 0.5601292\ttest: 0.5638054\tbest: 0.5638053 (9969)\ttotal: 6m 11s\tremaining: 1.08s\n",
      "9971:\tlearn: 0.5601268\ttest: 0.5638050\tbest: 0.5638050 (9971)\ttotal: 6m 11s\tremaining: 1.04s\n",
      "9972:\tlearn: 0.5601266\ttest: 0.5638052\tbest: 0.5638050 (9971)\ttotal: 6m 11s\tremaining: 1s\n",
      "9973:\tlearn: 0.5601253\ttest: 0.5638049\tbest: 0.5638049 (9973)\ttotal: 6m 11s\tremaining: 968ms\n",
      "9974:\tlearn: 0.5601235\ttest: 0.5638046\tbest: 0.5638046 (9974)\ttotal: 6m 11s\tremaining: 931ms\n",
      "9975:\tlearn: 0.5601228\ttest: 0.5638044\tbest: 0.5638044 (9975)\ttotal: 6m 11s\tremaining: 894ms\n",
      "9976:\tlearn: 0.5601208\ttest: 0.5638039\tbest: 0.5638039 (9976)\ttotal: 6m 11s\tremaining: 857ms\n",
      "9977:\tlearn: 0.5601195\ttest: 0.5638030\tbest: 0.5638030 (9977)\ttotal: 6m 11s\tremaining: 819ms\n",
      "9978:\tlearn: 0.5601192\ttest: 0.5638032\tbest: 0.5638030 (9977)\ttotal: 6m 11s\tremaining: 782ms\n",
      "9979:\tlearn: 0.5601182\ttest: 0.5638031\tbest: 0.5638030 (9977)\ttotal: 6m 11s\tremaining: 745ms\n",
      "9980:\tlearn: 0.5601177\ttest: 0.5638034\tbest: 0.5638030 (9977)\ttotal: 6m 11s\tremaining: 708ms\n",
      "9981:\tlearn: 0.5601173\ttest: 0.5638034\tbest: 0.5638030 (9977)\ttotal: 6m 11s\tremaining: 670ms\n",
      "9982:\tlearn: 0.5601162\ttest: 0.5638029\tbest: 0.5638029 (9982)\ttotal: 6m 11s\tremaining: 633ms\n",
      "9983:\tlearn: 0.5601151\ttest: 0.5638028\tbest: 0.5638028 (9983)\ttotal: 6m 11s\tremaining: 596ms\n",
      "9984:\tlearn: 0.5601143\ttest: 0.5638030\tbest: 0.5638028 (9983)\ttotal: 6m 11s\tremaining: 559ms\n",
      "9985:\tlearn: 0.5601125\ttest: 0.5638024\tbest: 0.5638024 (9985)\ttotal: 6m 11s\tremaining: 521ms\n",
      "9986:\tlearn: 0.5601115\ttest: 0.5638024\tbest: 0.5638024 (9986)\ttotal: 6m 12s\tremaining: 484ms\n",
      "9987:\tlearn: 0.5601094\ttest: 0.5638032\tbest: 0.5638024 (9986)\ttotal: 6m 12s\tremaining: 447ms\n",
      "9988:\tlearn: 0.5601085\ttest: 0.5638029\tbest: 0.5638024 (9986)\ttotal: 6m 12s\tremaining: 410ms\n",
      "9989:\tlearn: 0.5601071\ttest: 0.5638025\tbest: 0.5638024 (9986)\ttotal: 6m 12s\tremaining: 372ms\n",
      "9990:\tlearn: 0.5601058\ttest: 0.5638024\tbest: 0.5638024 (9990)\ttotal: 6m 12s\tremaining: 335ms\n",
      "9991:\tlearn: 0.5601051\ttest: 0.5638024\tbest: 0.5638024 (9991)\ttotal: 6m 12s\tremaining: 298ms\n",
      "9992:\tlearn: 0.5601037\ttest: 0.5638023\tbest: 0.5638023 (9992)\ttotal: 6m 12s\tremaining: 261ms\n",
      "9993:\tlearn: 0.5601028\ttest: 0.5638014\tbest: 0.5638014 (9993)\ttotal: 6m 12s\tremaining: 223ms\n",
      "9994:\tlearn: 0.5601019\ttest: 0.5638017\tbest: 0.5638014 (9993)\ttotal: 6m 12s\tremaining: 186ms\n",
      "9995:\tlearn: 0.5601018\ttest: 0.5638015\tbest: 0.5638014 (9993)\ttotal: 6m 12s\tremaining: 149ms\n",
      "9996:\tlearn: 0.5601013\ttest: 0.5638013\tbest: 0.5638013 (9996)\ttotal: 6m 12s\tremaining: 112ms\n",
      "9997:\tlearn: 0.5601006\ttest: 0.5638014\tbest: 0.5638013 (9996)\ttotal: 6m 12s\tremaining: 74.5ms\n",
      "9998:\tlearn: 0.5600989\ttest: 0.5638013\tbest: 0.5638013 (9996)\ttotal: 6m 12s\tremaining: 37.2ms\n",
      "9999:\tlearn: 0.5600977\ttest: 0.5638019\tbest: 0.5638013 (9996)\ttotal: 6m 12s\tremaining: 0us\n",
      "\n",
      "bestTest = 0.5638013048\n",
      "bestIteration = 9996\n",
      "\n",
      "Shrink model to first 9997 iterations.\n"
     ]
    }
   ],
   "source": [
    "target='htft_changed'\n",
    "train_dataset = Pool(data=train_X, label=train_y[target], cat_features=cat_features)\n",
    "eval_dataset = Pool(data=test_X, label=test_y[target], cat_features=cat_features)\n",
    "validate_dataset = Pool(data=validate_X, label=validate_y[target], cat_features=cat_features)\n",
    "model = CatBoostClassifier(iterations=10000, learning_rate=.001, depth=4)\n",
    "model.fit(train_dataset,eval_set=validate_dataset,early_stopping_rounds=50,use_best_model=True)\n",
    "preds_class = model.predict(eval_dataset)\n",
    "preds_proba = model.predict_proba(eval_dataset)"
   ]
  },
  {
   "cell_type": "code",
   "execution_count": 19,
   "metadata": {},
   "outputs": [],
   "source": [
    "dfr=pd.concat([dfr.reset_index(drop=True),pd.DataFrame(preds_proba, columns=['pred_ch1','pred_ch0'])], axis=1)\n",
    "dfr=pd.concat([dfr.reset_index(drop=True),pd.DataFrame(preds_class, columns=['pred_ch'])], axis=1)"
   ]
  },
  {
   "cell_type": "code",
   "execution_count": 20,
   "metadata": {},
   "outputs": [],
   "source": [
    "dfr['h1_diff']=(dfr['h_goal_h1']-dfr['a_goal_h1']).abs()\n",
    "dfr['h2_acc']=np.where(dfr['h2_res']==dfr['pred_h2'],1,0)\n",
    "dfr['ft_acc']=np.where(dfr['ft_res']==dfr['pred_ft'],1,0)\n",
    "dfr['ch_acc']=np.where(dfr['htft_changed']==dfr['pred_ch'],1,0)"
   ]
  },
  {
   "cell_type": "code",
   "execution_count": 21,
   "metadata": {},
   "outputs": [
    {
     "output_type": "execute_result",
     "data": {
      "text/plain": [
       "              htft_changed   pred_ch    h2_acc    ft_acc    ch_acc  pred_ch1  \\\n",
       "home h1_diff                                                                   \n",
       "0    0.0          0.632154  0.999357  0.437942  0.436656  0.632797  0.368327   \n",
       "     1.0          0.304749  0.003298  0.434697  0.695251  0.697230  0.703984   \n",
       "     2.0          0.127376  0.000000  0.412548  0.872624  0.872624  0.871978   \n",
       "     3.0          0.013158  0.000000  0.381579  0.986842  0.986842  0.928428   \n",
       "     4.0          0.021739  0.000000  0.478261  0.978261  0.978261  0.933059   \n",
       "     5.0          0.000000  0.000000  0.000000  1.000000  1.000000  0.941094   \n",
       "     6.0          0.000000  0.000000  0.625000  1.000000  1.000000  0.926927   \n",
       "     8.0          0.000000  0.000000  0.000000  1.000000  1.000000  0.895666   \n",
       "1    0.0          0.631223  1.000000  0.429625  0.436386  0.631223  0.362562   \n",
       "     1.0          0.296066  0.002070  0.437543  0.703244  0.703244  0.703790   \n",
       "     2.0          0.125912  0.000000  0.427007  0.874088  0.874088  0.870614   \n",
       "     3.0          0.021739  0.000000  0.445652  0.978261  0.978261  0.928449   \n",
       "     4.0          0.065217  0.000000  0.369565  0.934783  0.934783  0.925845   \n",
       "     5.0          0.000000  0.000000  0.333333  1.000000  1.000000  0.953076   \n",
       "     6.0          0.166667  0.000000  0.666667  0.833333  0.833333  0.935176   \n",
       "     8.0          0.000000  0.000000  0.333333  1.000000  1.000000  0.929885   \n",
       "     10.0         0.000000  0.000000  0.000000  1.000000  1.000000  0.918192   \n",
       "\n",
       "              pred_ch0  \n",
       "home h1_diff            \n",
       "0    0.0      0.631673  \n",
       "     1.0      0.296016  \n",
       "     2.0      0.128022  \n",
       "     3.0      0.071572  \n",
       "     4.0      0.066941  \n",
       "     5.0      0.058906  \n",
       "     6.0      0.073073  \n",
       "     8.0      0.104334  \n",
       "1    0.0      0.637438  \n",
       "     1.0      0.296210  \n",
       "     2.0      0.129386  \n",
       "     3.0      0.071551  \n",
       "     4.0      0.074155  \n",
       "     5.0      0.046924  \n",
       "     6.0      0.064824  \n",
       "     8.0      0.070115  \n",
       "     10.0     0.081808  "
      ],
      "text/html": "<div>\n<style scoped>\n    .dataframe tbody tr th:only-of-type {\n        vertical-align: middle;\n    }\n\n    .dataframe tbody tr th {\n        vertical-align: top;\n    }\n\n    .dataframe thead th {\n        text-align: right;\n    }\n</style>\n<table border=\"1\" class=\"dataframe\">\n  <thead>\n    <tr style=\"text-align: right;\">\n      <th></th>\n      <th></th>\n      <th>htft_changed</th>\n      <th>pred_ch</th>\n      <th>h2_acc</th>\n      <th>ft_acc</th>\n      <th>ch_acc</th>\n      <th>pred_ch1</th>\n      <th>pred_ch0</th>\n    </tr>\n    <tr>\n      <th>home</th>\n      <th>h1_diff</th>\n      <th></th>\n      <th></th>\n      <th></th>\n      <th></th>\n      <th></th>\n      <th></th>\n      <th></th>\n    </tr>\n  </thead>\n  <tbody>\n    <tr>\n      <th rowspan=\"8\" valign=\"top\">0</th>\n      <th>0.0</th>\n      <td>0.632154</td>\n      <td>0.999357</td>\n      <td>0.437942</td>\n      <td>0.436656</td>\n      <td>0.632797</td>\n      <td>0.368327</td>\n      <td>0.631673</td>\n    </tr>\n    <tr>\n      <th>1.0</th>\n      <td>0.304749</td>\n      <td>0.003298</td>\n      <td>0.434697</td>\n      <td>0.695251</td>\n      <td>0.697230</td>\n      <td>0.703984</td>\n      <td>0.296016</td>\n    </tr>\n    <tr>\n      <th>2.0</th>\n      <td>0.127376</td>\n      <td>0.000000</td>\n      <td>0.412548</td>\n      <td>0.872624</td>\n      <td>0.872624</td>\n      <td>0.871978</td>\n      <td>0.128022</td>\n    </tr>\n    <tr>\n      <th>3.0</th>\n      <td>0.013158</td>\n      <td>0.000000</td>\n      <td>0.381579</td>\n      <td>0.986842</td>\n      <td>0.986842</td>\n      <td>0.928428</td>\n      <td>0.071572</td>\n    </tr>\n    <tr>\n      <th>4.0</th>\n      <td>0.021739</td>\n      <td>0.000000</td>\n      <td>0.478261</td>\n      <td>0.978261</td>\n      <td>0.978261</td>\n      <td>0.933059</td>\n      <td>0.066941</td>\n    </tr>\n    <tr>\n      <th>5.0</th>\n      <td>0.000000</td>\n      <td>0.000000</td>\n      <td>0.000000</td>\n      <td>1.000000</td>\n      <td>1.000000</td>\n      <td>0.941094</td>\n      <td>0.058906</td>\n    </tr>\n    <tr>\n      <th>6.0</th>\n      <td>0.000000</td>\n      <td>0.000000</td>\n      <td>0.625000</td>\n      <td>1.000000</td>\n      <td>1.000000</td>\n      <td>0.926927</td>\n      <td>0.073073</td>\n    </tr>\n    <tr>\n      <th>8.0</th>\n      <td>0.000000</td>\n      <td>0.000000</td>\n      <td>0.000000</td>\n      <td>1.000000</td>\n      <td>1.000000</td>\n      <td>0.895666</td>\n      <td>0.104334</td>\n    </tr>\n    <tr>\n      <th rowspan=\"9\" valign=\"top\">1</th>\n      <th>0.0</th>\n      <td>0.631223</td>\n      <td>1.000000</td>\n      <td>0.429625</td>\n      <td>0.436386</td>\n      <td>0.631223</td>\n      <td>0.362562</td>\n      <td>0.637438</td>\n    </tr>\n    <tr>\n      <th>1.0</th>\n      <td>0.296066</td>\n      <td>0.002070</td>\n      <td>0.437543</td>\n      <td>0.703244</td>\n      <td>0.703244</td>\n      <td>0.703790</td>\n      <td>0.296210</td>\n    </tr>\n    <tr>\n      <th>2.0</th>\n      <td>0.125912</td>\n      <td>0.000000</td>\n      <td>0.427007</td>\n      <td>0.874088</td>\n      <td>0.874088</td>\n      <td>0.870614</td>\n      <td>0.129386</td>\n    </tr>\n    <tr>\n      <th>3.0</th>\n      <td>0.021739</td>\n      <td>0.000000</td>\n      <td>0.445652</td>\n      <td>0.978261</td>\n      <td>0.978261</td>\n      <td>0.928449</td>\n      <td>0.071551</td>\n    </tr>\n    <tr>\n      <th>4.0</th>\n      <td>0.065217</td>\n      <td>0.000000</td>\n      <td>0.369565</td>\n      <td>0.934783</td>\n      <td>0.934783</td>\n      <td>0.925845</td>\n      <td>0.074155</td>\n    </tr>\n    <tr>\n      <th>5.0</th>\n      <td>0.000000</td>\n      <td>0.000000</td>\n      <td>0.333333</td>\n      <td>1.000000</td>\n      <td>1.000000</td>\n      <td>0.953076</td>\n      <td>0.046924</td>\n    </tr>\n    <tr>\n      <th>6.0</th>\n      <td>0.166667</td>\n      <td>0.000000</td>\n      <td>0.666667</td>\n      <td>0.833333</td>\n      <td>0.833333</td>\n      <td>0.935176</td>\n      <td>0.064824</td>\n    </tr>\n    <tr>\n      <th>8.0</th>\n      <td>0.000000</td>\n      <td>0.000000</td>\n      <td>0.333333</td>\n      <td>1.000000</td>\n      <td>1.000000</td>\n      <td>0.929885</td>\n      <td>0.070115</td>\n    </tr>\n    <tr>\n      <th>10.0</th>\n      <td>0.000000</td>\n      <td>0.000000</td>\n      <td>0.000000</td>\n      <td>1.000000</td>\n      <td>1.000000</td>\n      <td>0.918192</td>\n      <td>0.081808</td>\n    </tr>\n  </tbody>\n</table>\n</div>"
     },
     "metadata": {},
     "execution_count": 21
    }
   ],
   "source": [
    "dfr.groupby(['home','h1_diff'])[['htft_changed','pred_ch','h2_acc','ft_acc','ch_acc','pred_ch1','pred_ch0']].mean()"
   ]
  },
  {
   "cell_type": "code",
   "execution_count": 106,
   "metadata": {},
   "outputs": [
    {
     "output_type": "execute_result",
     "data": {
      "text/plain": [
       "htft_changed    0.400928\n",
       "pred_ch         0.417169\n",
       "h2_acc          0.429234\n",
       "ft_acc          0.619954\n",
       "ch_acc          0.710905\n",
       "pred_ch1        0.595688\n",
       "pred_ch0        0.404312\n",
       "dtype: float64"
      ]
     },
     "metadata": {},
     "execution_count": 106
    }
   ],
   "source": [
    "dfr[['htft_changed','pred_ch','h2_acc','ft_acc','ch_acc','pred_ch1','pred_ch0']].mean()"
   ]
  },
  {
   "cell_type": "code",
   "execution_count": 105,
   "metadata": {},
   "outputs": [
    {
     "output_type": "error",
     "ename": "ValueError",
     "evalue": "Classification metrics can't handle a mix of multiclass-multioutput and binary targets",
     "traceback": [
      "\u001b[1;31m---------------------------------------------------------------------------\u001b[0m",
      "\u001b[1;31mValueError\u001b[0m                                Traceback (most recent call last)",
      "\u001b[1;32m<ipython-input-105-eb06d67826b2>\u001b[0m in \u001b[0;36m<module>\u001b[1;34m\u001b[0m\n\u001b[0;32m      1\u001b[0m \u001b[1;31m#print('macro',f1_score(test_y.values, preds_class, average='macro'))\u001b[0m\u001b[1;33m\u001b[0m\u001b[1;33m\u001b[0m\u001b[1;33m\u001b[0m\u001b[0m\n\u001b[1;32m----> 2\u001b[1;33m \u001b[0mprint\u001b[0m\u001b[1;33m(\u001b[0m\u001b[1;34m'micro'\u001b[0m\u001b[1;33m,\u001b[0m\u001b[0mf1_score\u001b[0m\u001b[1;33m(\u001b[0m\u001b[0mtest_y\u001b[0m\u001b[1;33m.\u001b[0m\u001b[0mvalues\u001b[0m\u001b[1;33m,\u001b[0m \u001b[0mpreds_class\u001b[0m\u001b[1;33m,\u001b[0m \u001b[0maverage\u001b[0m\u001b[1;33m=\u001b[0m\u001b[1;34m'micro'\u001b[0m\u001b[1;33m)\u001b[0m\u001b[1;33m)\u001b[0m\u001b[1;33m\u001b[0m\u001b[1;33m\u001b[0m\u001b[0m\n\u001b[0m\u001b[0;32m      3\u001b[0m \u001b[0mprint\u001b[0m\u001b[1;33m(\u001b[0m\u001b[1;34m'H1-H2'\u001b[0m\u001b[1;33m,\u001b[0m\u001b[0mf1_score\u001b[0m\u001b[1;33m(\u001b[0m\u001b[0mtest_info\u001b[0m\u001b[1;33m[\u001b[0m\u001b[1;34m'h1_res'\u001b[0m\u001b[1;33m]\u001b[0m\u001b[1;33m,\u001b[0m \u001b[0mtest_info\u001b[0m\u001b[1;33m[\u001b[0m\u001b[1;34m'h2_res'\u001b[0m\u001b[1;33m]\u001b[0m\u001b[1;33m,\u001b[0m \u001b[0maverage\u001b[0m\u001b[1;33m=\u001b[0m\u001b[1;34m'micro'\u001b[0m\u001b[1;33m)\u001b[0m\u001b[1;33m)\u001b[0m\u001b[1;33m\u001b[0m\u001b[1;33m\u001b[0m\u001b[0m\n\u001b[0;32m      4\u001b[0m \u001b[1;31m#print('weighted',f1_score(test_y.values, preds_class, average='weighted'))\u001b[0m\u001b[1;33m\u001b[0m\u001b[1;33m\u001b[0m\u001b[1;33m\u001b[0m\u001b[0m\n",
      "\u001b[1;32mC:\\ProgramData\\Miniconda3\\envs\\tfenv\\lib\\site-packages\\sklearn\\utils\\validation.py\u001b[0m in \u001b[0;36minner_f\u001b[1;34m(*args, **kwargs)\u001b[0m\n\u001b[0;32m     70\u001b[0m                           FutureWarning)\n\u001b[0;32m     71\u001b[0m         \u001b[0mkwargs\u001b[0m\u001b[1;33m.\u001b[0m\u001b[0mupdate\u001b[0m\u001b[1;33m(\u001b[0m\u001b[1;33m{\u001b[0m\u001b[0mk\u001b[0m\u001b[1;33m:\u001b[0m \u001b[0marg\u001b[0m \u001b[1;32mfor\u001b[0m \u001b[0mk\u001b[0m\u001b[1;33m,\u001b[0m \u001b[0marg\u001b[0m \u001b[1;32min\u001b[0m \u001b[0mzip\u001b[0m\u001b[1;33m(\u001b[0m\u001b[0msig\u001b[0m\u001b[1;33m.\u001b[0m\u001b[0mparameters\u001b[0m\u001b[1;33m,\u001b[0m \u001b[0margs\u001b[0m\u001b[1;33m)\u001b[0m\u001b[1;33m}\u001b[0m\u001b[1;33m)\u001b[0m\u001b[1;33m\u001b[0m\u001b[1;33m\u001b[0m\u001b[0m\n\u001b[1;32m---> 72\u001b[1;33m         \u001b[1;32mreturn\u001b[0m \u001b[0mf\u001b[0m\u001b[1;33m(\u001b[0m\u001b[1;33m**\u001b[0m\u001b[0mkwargs\u001b[0m\u001b[1;33m)\u001b[0m\u001b[1;33m\u001b[0m\u001b[1;33m\u001b[0m\u001b[0m\n\u001b[0m\u001b[0;32m     73\u001b[0m     \u001b[1;32mreturn\u001b[0m \u001b[0minner_f\u001b[0m\u001b[1;33m\u001b[0m\u001b[1;33m\u001b[0m\u001b[0m\n\u001b[0;32m     74\u001b[0m \u001b[1;33m\u001b[0m\u001b[0m\n",
      "\u001b[1;32mC:\\ProgramData\\Miniconda3\\envs\\tfenv\\lib\\site-packages\\sklearn\\metrics\\_classification.py\u001b[0m in \u001b[0;36mf1_score\u001b[1;34m(y_true, y_pred, labels, pos_label, average, sample_weight, zero_division)\u001b[0m\n\u001b[0;32m   1042\u001b[0m     \u001b[0mmodified\u001b[0m \u001b[1;32mwith\u001b[0m\u001b[0;31m \u001b[0m\u001b[0;31m`\u001b[0m\u001b[0;31m`\u001b[0m\u001b[0mzero_division\u001b[0m\u001b[0;31m`\u001b[0m\u001b[0;31m`\u001b[0m\u001b[1;33m.\u001b[0m\u001b[1;33m\u001b[0m\u001b[1;33m\u001b[0m\u001b[0m\n\u001b[0;32m   1043\u001b[0m     \"\"\"\n\u001b[1;32m-> 1044\u001b[1;33m     return fbeta_score(y_true, y_pred, beta=1, labels=labels,\n\u001b[0m\u001b[0;32m   1045\u001b[0m                        \u001b[0mpos_label\u001b[0m\u001b[1;33m=\u001b[0m\u001b[0mpos_label\u001b[0m\u001b[1;33m,\u001b[0m \u001b[0maverage\u001b[0m\u001b[1;33m=\u001b[0m\u001b[0maverage\u001b[0m\u001b[1;33m,\u001b[0m\u001b[1;33m\u001b[0m\u001b[1;33m\u001b[0m\u001b[0m\n\u001b[0;32m   1046\u001b[0m                        \u001b[0msample_weight\u001b[0m\u001b[1;33m=\u001b[0m\u001b[0msample_weight\u001b[0m\u001b[1;33m,\u001b[0m\u001b[1;33m\u001b[0m\u001b[1;33m\u001b[0m\u001b[0m\n",
      "\u001b[1;32mC:\\ProgramData\\Miniconda3\\envs\\tfenv\\lib\\site-packages\\sklearn\\utils\\validation.py\u001b[0m in \u001b[0;36minner_f\u001b[1;34m(*args, **kwargs)\u001b[0m\n\u001b[0;32m     70\u001b[0m                           FutureWarning)\n\u001b[0;32m     71\u001b[0m         \u001b[0mkwargs\u001b[0m\u001b[1;33m.\u001b[0m\u001b[0mupdate\u001b[0m\u001b[1;33m(\u001b[0m\u001b[1;33m{\u001b[0m\u001b[0mk\u001b[0m\u001b[1;33m:\u001b[0m \u001b[0marg\u001b[0m \u001b[1;32mfor\u001b[0m \u001b[0mk\u001b[0m\u001b[1;33m,\u001b[0m \u001b[0marg\u001b[0m \u001b[1;32min\u001b[0m \u001b[0mzip\u001b[0m\u001b[1;33m(\u001b[0m\u001b[0msig\u001b[0m\u001b[1;33m.\u001b[0m\u001b[0mparameters\u001b[0m\u001b[1;33m,\u001b[0m \u001b[0margs\u001b[0m\u001b[1;33m)\u001b[0m\u001b[1;33m}\u001b[0m\u001b[1;33m)\u001b[0m\u001b[1;33m\u001b[0m\u001b[1;33m\u001b[0m\u001b[0m\n\u001b[1;32m---> 72\u001b[1;33m         \u001b[1;32mreturn\u001b[0m \u001b[0mf\u001b[0m\u001b[1;33m(\u001b[0m\u001b[1;33m**\u001b[0m\u001b[0mkwargs\u001b[0m\u001b[1;33m)\u001b[0m\u001b[1;33m\u001b[0m\u001b[1;33m\u001b[0m\u001b[0m\n\u001b[0m\u001b[0;32m     73\u001b[0m     \u001b[1;32mreturn\u001b[0m \u001b[0minner_f\u001b[0m\u001b[1;33m\u001b[0m\u001b[1;33m\u001b[0m\u001b[0m\n\u001b[0;32m     74\u001b[0m \u001b[1;33m\u001b[0m\u001b[0m\n",
      "\u001b[1;32mC:\\ProgramData\\Miniconda3\\envs\\tfenv\\lib\\site-packages\\sklearn\\metrics\\_classification.py\u001b[0m in \u001b[0;36mfbeta_score\u001b[1;34m(y_true, y_pred, beta, labels, pos_label, average, sample_weight, zero_division)\u001b[0m\n\u001b[0;32m   1166\u001b[0m     \"\"\"\n\u001b[0;32m   1167\u001b[0m \u001b[1;33m\u001b[0m\u001b[0m\n\u001b[1;32m-> 1168\u001b[1;33m     _, _, f, _ = precision_recall_fscore_support(y_true, y_pred,\n\u001b[0m\u001b[0;32m   1169\u001b[0m                                                  \u001b[0mbeta\u001b[0m\u001b[1;33m=\u001b[0m\u001b[0mbeta\u001b[0m\u001b[1;33m,\u001b[0m\u001b[1;33m\u001b[0m\u001b[1;33m\u001b[0m\u001b[0m\n\u001b[0;32m   1170\u001b[0m                                                  \u001b[0mlabels\u001b[0m\u001b[1;33m=\u001b[0m\u001b[0mlabels\u001b[0m\u001b[1;33m,\u001b[0m\u001b[1;33m\u001b[0m\u001b[1;33m\u001b[0m\u001b[0m\n",
      "\u001b[1;32mC:\\ProgramData\\Miniconda3\\envs\\tfenv\\lib\\site-packages\\sklearn\\utils\\validation.py\u001b[0m in \u001b[0;36minner_f\u001b[1;34m(*args, **kwargs)\u001b[0m\n\u001b[0;32m     70\u001b[0m                           FutureWarning)\n\u001b[0;32m     71\u001b[0m         \u001b[0mkwargs\u001b[0m\u001b[1;33m.\u001b[0m\u001b[0mupdate\u001b[0m\u001b[1;33m(\u001b[0m\u001b[1;33m{\u001b[0m\u001b[0mk\u001b[0m\u001b[1;33m:\u001b[0m \u001b[0marg\u001b[0m \u001b[1;32mfor\u001b[0m \u001b[0mk\u001b[0m\u001b[1;33m,\u001b[0m \u001b[0marg\u001b[0m \u001b[1;32min\u001b[0m \u001b[0mzip\u001b[0m\u001b[1;33m(\u001b[0m\u001b[0msig\u001b[0m\u001b[1;33m.\u001b[0m\u001b[0mparameters\u001b[0m\u001b[1;33m,\u001b[0m \u001b[0margs\u001b[0m\u001b[1;33m)\u001b[0m\u001b[1;33m}\u001b[0m\u001b[1;33m)\u001b[0m\u001b[1;33m\u001b[0m\u001b[1;33m\u001b[0m\u001b[0m\n\u001b[1;32m---> 72\u001b[1;33m         \u001b[1;32mreturn\u001b[0m \u001b[0mf\u001b[0m\u001b[1;33m(\u001b[0m\u001b[1;33m**\u001b[0m\u001b[0mkwargs\u001b[0m\u001b[1;33m)\u001b[0m\u001b[1;33m\u001b[0m\u001b[1;33m\u001b[0m\u001b[0m\n\u001b[0m\u001b[0;32m     73\u001b[0m     \u001b[1;32mreturn\u001b[0m \u001b[0minner_f\u001b[0m\u001b[1;33m\u001b[0m\u001b[1;33m\u001b[0m\u001b[0m\n\u001b[0;32m     74\u001b[0m \u001b[1;33m\u001b[0m\u001b[0m\n",
      "\u001b[1;32mC:\\ProgramData\\Miniconda3\\envs\\tfenv\\lib\\site-packages\\sklearn\\metrics\\_classification.py\u001b[0m in \u001b[0;36mprecision_recall_fscore_support\u001b[1;34m(y_true, y_pred, beta, labels, pos_label, average, warn_for, sample_weight, zero_division)\u001b[0m\n\u001b[0;32m   1431\u001b[0m     \u001b[1;32mif\u001b[0m \u001b[0mbeta\u001b[0m \u001b[1;33m<\u001b[0m \u001b[1;36m0\u001b[0m\u001b[1;33m:\u001b[0m\u001b[1;33m\u001b[0m\u001b[1;33m\u001b[0m\u001b[0m\n\u001b[0;32m   1432\u001b[0m         \u001b[1;32mraise\u001b[0m \u001b[0mValueError\u001b[0m\u001b[1;33m(\u001b[0m\u001b[1;34m\"beta should be >=0 in the F-beta score\"\u001b[0m\u001b[1;33m)\u001b[0m\u001b[1;33m\u001b[0m\u001b[1;33m\u001b[0m\u001b[0m\n\u001b[1;32m-> 1433\u001b[1;33m     labels = _check_set_wise_labels(y_true, y_pred, average, labels,\n\u001b[0m\u001b[0;32m   1434\u001b[0m                                     pos_label)\n\u001b[0;32m   1435\u001b[0m \u001b[1;33m\u001b[0m\u001b[0m\n",
      "\u001b[1;32mC:\\ProgramData\\Miniconda3\\envs\\tfenv\\lib\\site-packages\\sklearn\\metrics\\_classification.py\u001b[0m in \u001b[0;36m_check_set_wise_labels\u001b[1;34m(y_true, y_pred, average, labels, pos_label)\u001b[0m\n\u001b[0;32m   1248\u001b[0m                          str(average_options))\n\u001b[0;32m   1249\u001b[0m \u001b[1;33m\u001b[0m\u001b[0m\n\u001b[1;32m-> 1250\u001b[1;33m     \u001b[0my_type\u001b[0m\u001b[1;33m,\u001b[0m \u001b[0my_true\u001b[0m\u001b[1;33m,\u001b[0m \u001b[0my_pred\u001b[0m \u001b[1;33m=\u001b[0m \u001b[0m_check_targets\u001b[0m\u001b[1;33m(\u001b[0m\u001b[0my_true\u001b[0m\u001b[1;33m,\u001b[0m \u001b[0my_pred\u001b[0m\u001b[1;33m)\u001b[0m\u001b[1;33m\u001b[0m\u001b[1;33m\u001b[0m\u001b[0m\n\u001b[0m\u001b[0;32m   1251\u001b[0m     \u001b[0mpresent_labels\u001b[0m \u001b[1;33m=\u001b[0m \u001b[0munique_labels\u001b[0m\u001b[1;33m(\u001b[0m\u001b[0my_true\u001b[0m\u001b[1;33m,\u001b[0m \u001b[0my_pred\u001b[0m\u001b[1;33m)\u001b[0m\u001b[1;33m\u001b[0m\u001b[1;33m\u001b[0m\u001b[0m\n\u001b[0;32m   1252\u001b[0m     \u001b[1;32mif\u001b[0m \u001b[0maverage\u001b[0m \u001b[1;33m==\u001b[0m \u001b[1;34m'binary'\u001b[0m\u001b[1;33m:\u001b[0m\u001b[1;33m\u001b[0m\u001b[1;33m\u001b[0m\u001b[0m\n",
      "\u001b[1;32mC:\\ProgramData\\Miniconda3\\envs\\tfenv\\lib\\site-packages\\sklearn\\metrics\\_classification.py\u001b[0m in \u001b[0;36m_check_targets\u001b[1;34m(y_true, y_pred)\u001b[0m\n\u001b[0;32m     88\u001b[0m \u001b[1;33m\u001b[0m\u001b[0m\n\u001b[0;32m     89\u001b[0m     \u001b[1;32mif\u001b[0m \u001b[0mlen\u001b[0m\u001b[1;33m(\u001b[0m\u001b[0my_type\u001b[0m\u001b[1;33m)\u001b[0m \u001b[1;33m>\u001b[0m \u001b[1;36m1\u001b[0m\u001b[1;33m:\u001b[0m\u001b[1;33m\u001b[0m\u001b[1;33m\u001b[0m\u001b[0m\n\u001b[1;32m---> 90\u001b[1;33m         raise ValueError(\"Classification metrics can't handle a mix of {0} \"\n\u001b[0m\u001b[0;32m     91\u001b[0m                          \"and {1} targets\".format(type_true, type_pred))\n\u001b[0;32m     92\u001b[0m \u001b[1;33m\u001b[0m\u001b[0m\n",
      "\u001b[1;31mValueError\u001b[0m: Classification metrics can't handle a mix of multiclass-multioutput and binary targets"
     ]
    }
   ],
   "source": [
    "#print('macro',f1_score(test_y.values, preds_class, average='macro'))\n",
    "print('micro',f1_score(test_y.values, preds_class, average='micro'))\n",
    "print('H1-H2',f1_score(test_info['h1_res'], test_info['h2_res'], average='micro'))\n",
    "#print('weighted',f1_score(test_y.values, preds_class, average='weighted'))"
   ]
  },
  {
   "cell_type": "code",
   "execution_count": 139,
   "metadata": {},
   "outputs": [
    {
     "output_type": "execute_result",
     "data": {
      "text/plain": [
       "array([[1],\n",
       "       [0],\n",
       "       [2],\n",
       "       ...,\n",
       "       [1],\n",
       "       [2],\n",
       "       [0]], dtype=int64)"
      ]
     },
     "metadata": {},
     "execution_count": 139
    }
   ],
   "source": [
    "test_y.values"
   ]
  },
  {
   "cell_type": "code",
   "execution_count": 140,
   "metadata": {},
   "outputs": [
    {
     "output_type": "execute_result",
     "data": {
      "text/plain": [
       "array([[1],\n",
       "       [0],\n",
       "       [2],\n",
       "       ...,\n",
       "       [1],\n",
       "       [2],\n",
       "       [0]], dtype=int64)"
      ]
     },
     "metadata": {},
     "execution_count": 140
    }
   ],
   "source": [
    "preds_class"
   ]
  },
  {
   "cell_type": "code",
   "execution_count": 104,
   "metadata": {},
   "outputs": [],
   "source": [
    "dfr.to_csv('pred.csv')"
   ]
  },
  {
   "cell_type": "code",
   "execution_count": null,
   "metadata": {},
   "outputs": [],
   "source": [
    "# design network\n",
    "model = keras.Sequential()\n",
    "model.add(layers.Dense(50, input_shape=(train_X.shape[1], train_X.shape[2])))\n",
    "model.add(layers.Dense(1))\n",
    "model.compile(loss='mae', optimizer='adam')\n",
    "# fit network\n",
    "history = model.fit(train_X, train_y, epochs=50, batch_size=72, validation_data=(test_X, test_y), verbose=2, shuffle=False)\n",
    "# plot history\n",
    "pyplot.plot(history.history['loss'], label='train')\n",
    "pyplot.plot(history.history['val_loss'], label='test')\n",
    "pyplot.legend()\n",
    "pyplot.show()"
   ]
  },
  {
   "cell_type": "code",
   "execution_count": null,
   "metadata": {},
   "outputs": [],
   "source": [
    "yhat.min()"
   ]
  },
  {
   "cell_type": "code",
   "execution_count": null,
   "metadata": {},
   "outputs": [],
   "source": [
    "# make a prediction\n",
    "yhat = model.predict(test_X)\n",
    "test_X = test_X.reshape((test_X.shape[0], test_X.shape[2]))\n",
    "# invert scaling for forecast\n",
    "inv_yhat = np.concatenate((yhat, test_X[:, 1:]), axis=1)\n",
    "inv_yhat = scaler.inverse_transform(inv_yhat)\n",
    "inv_yhat = inv_yhat[:,0]\n",
    "# invert scaling for actual\n",
    "test_y = test_y.reshape((len(test_y), 1))\n",
    "inv_y = np.concatenate((test_y, test_X[:, 1:]), axis=1)\n",
    "inv_y = scaler.inverse_transform(inv_y)\n",
    "inv_y = inv_y[:,0]\n",
    "# calculate RMSE\n",
    "rmse = sqrt(mean_squared_error(inv_y, inv_yhat))\n",
    "print('Test RMSE: %.3f' % rmse)"
   ]
  },
  {
   "cell_type": "code",
   "execution_count": null,
   "metadata": {},
   "outputs": [],
   "source": [
    "df.loc[df['mid']==8699223]"
   ]
  },
  {
   "cell_type": "code",
   "execution_count": null,
   "metadata": {},
   "outputs": [],
   "source": []
  },
  {
   "cell_type": "code",
   "execution_count": null,
   "metadata": {},
   "outputs": [],
   "source": []
  }
 ]
}