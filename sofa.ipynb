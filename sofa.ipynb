{
 "metadata": {
  "language_info": {
   "codemirror_mode": {
    "name": "ipython",
    "version": 3
   },
   "file_extension": ".py",
   "mimetype": "text/x-python",
   "name": "python",
   "nbconvert_exporter": "python",
   "pygments_lexer": "ipython3",
   "version": "3.8.5-final"
  },
  "orig_nbformat": 2,
  "kernelspec": {
   "name": "python3",
   "display_name": "Python 3.8.5 64-bit ('mlenv': conda)",
   "metadata": {
    "interpreter": {
     "hash": "12f2fd9a8da6c9ddda222d67ff20ee53b82617d5a9ac88eb47f60b586ce1b05e"
    }
   }
  }
 },
 "nbformat": 4,
 "nbformat_minor": 2,
 "cells": [
  {
   "cell_type": "code",
   "execution_count": 4,
   "metadata": {},
   "outputs": [
    {
     "output_type": "stream",
     "name": "stdout",
     "text": [
      "The autoreload extension is already loaded. To reload it, use:\n  %reload_ext autoreload\n"
     ]
    }
   ],
   "source": [
    "import os\n",
    "import pandas as pd\n",
    "import numpy as np\n",
    "import seaborn as sns\n",
    "import pickle\n",
    "\n",
    "from sklearn.preprocessing import LabelEncoder,OneHotEncoder,MinMaxScaler\n",
    "from sklearn.model_selection import RepeatedKFold,train_test_split\n",
    "import tensorflow as tf\n",
    "from tensorflow import keras\n",
    "from tensorflow.keras.layers import Dense, BatchNormalization,Dropout\n",
    "from tensorflow.keras.models import Sequential\n",
    "from sklearn.metrics import accuracy_score\n",
    "\n",
    "import api.util\n",
    "from api.time_series import *\n",
    "from api.predictions_converter import PredictionsConverter\n",
    "from api.sofa_dp import SofaDataProvider\n",
    "\n",
    "from IPython.display import display\n",
    "pd.options.display.max_columns = None\n",
    "%load_ext autoreload\n",
    "%autoreload 2"
   ]
  },
  {
   "cell_type": "code",
   "execution_count": 2,
   "metadata": {},
   "outputs": [],
   "source": [
    "dp=SofaDataProvider(load=False)\n",
    "data, labels, info, df=dp.provide_data()\n",
    "#df=dp._load_data()"
   ]
  },
  {
   "source": [
    "## Today"
   ],
   "cell_type": "markdown",
   "metadata": {}
  },
  {
   "cell_type": "code",
   "execution_count": 5,
   "metadata": {},
   "outputs": [],
   "source": [
    "dp=SofaDataProvider(today=True)\n",
    "df=dp._load_data()"
   ]
  },
  {
   "cell_type": "code",
   "execution_count": 6,
   "metadata": {},
   "outputs": [
    {
     "output_type": "execute_result",
     "data": {
      "text/plain": [
       "    awayScoreHT        country  country_id                        ds  \\\n",
       "0           NaN  south-america          40 2021-01-30 20:00:00+00:00   \n",
       "1           NaN        england          15 2021-01-30 17:30:00+00:00   \n",
       "2           NaN        england          15 2021-01-30 20:00:00+00:00   \n",
       "3           NaN        england          15 2021-01-31 12:00:00+00:00   \n",
       "4           NaN          spain          42 2021-01-30 17:30:00+00:00   \n",
       "..          ...            ...         ...                       ...   \n",
       "75          NaN        romania          34 2021-01-30 18:15:00+00:00   \n",
       "76          NaN        romania          34 2021-01-31 10:00:00+00:00   \n",
       "77          NaN        romania          34 2021-01-31 12:00:00+00:00   \n",
       "78          NaN        uruguay          47 2021-01-30 21:00:00+00:00   \n",
       "79          NaN        uruguay          47 2021-01-31 00:00:00+00:00   \n",
       "\n",
       "    homeScoreHT                       liga      mid  round  sc1  sc2  \\\n",
       "0           NaN      conmebol-libertadores  9282231      1  NaN  NaN   \n",
       "1           NaN             premier-league  8897030     21  NaN  NaN   \n",
       "2           NaN             premier-league  8897023     21  NaN  NaN   \n",
       "3           NaN             premier-league  8897050     21  NaN  NaN   \n",
       "4           NaN                     laliga  8966530     21  NaN  NaN   \n",
       "..          ...                        ...      ...    ...  ...  ...   \n",
       "75          NaN                     liga-i  8849141     20  NaN  NaN   \n",
       "76          NaN                     liga-i  8849243     20  NaN  NaN   \n",
       "77          NaN                     liga-i  8849250     20  NaN  NaN   \n",
       "78          NaN  primera-division-clausura  9305553      3  NaN  NaN   \n",
       "79          NaN  primera-division-clausura  9305554      3  NaN  NaN   \n",
       "\n",
       "                     t1                     t2  tid1  tid2 winner formation_h  \\\n",
       "0             palmeiras                 santos   761   712   draw       4-4-2   \n",
       "1               arsenal      manchester united   240   226   draw     4-2-3-1   \n",
       "2           southampton            aston villa   247    96   draw       4-4-2   \n",
       "3               chelsea                burnley     4     3   draw       4-3-3   \n",
       "4              valencia               elche cf   101   144   draw       4-4-2   \n",
       "..                  ...                    ...   ...   ...    ...         ...   \n",
       "75                 fcsb  csm politehnica iashi   607   636   draw         NaN   \n",
       "76          fc botosani        fc hermannstadt   499  1499   draw         NaN   \n",
       "77        astra giurgiu  fc viitorul constanta   627   594   draw         NaN   \n",
       "78  deportivo maldonado              rentistas  1682  1683   draw         NaN   \n",
       "79             nacional   montevideo wanderers   841   344   draw         NaN   \n",
       "\n",
       "   formation_a  home_formation  away_formation  vote_home  vote_draw  \\\n",
       "0        4-4-2            20.0            20.0   0.436580   0.177032   \n",
       "1      4-2-3-1            14.0            14.0   0.324676   0.198349   \n",
       "2      4-2-3-1            20.0            14.0   0.402716   0.313163   \n",
       "3        4-4-2            18.0            20.0   0.796923   0.130741   \n",
       "4        5-4-1            20.0            24.0   0.689419   0.250863   \n",
       "..         ...             ...             ...        ...        ...   \n",
       "75         NaN             NaN             NaN   0.767565   0.193616   \n",
       "76         NaN             NaN             NaN   0.618750   0.303125   \n",
       "77         NaN             NaN             NaN   0.320000   0.306667   \n",
       "78         NaN             NaN             NaN   0.189024   0.457317   \n",
       "79         NaN             NaN             NaN   0.561620   0.304577   \n",
       "\n",
       "    vote_away  votes     y  pop_r  \n",
       "0    0.386388  43094  2021    4.0  \n",
       "1    0.476975  72312  2021    4.0  \n",
       "2    0.284121  27168  2021    4.0  \n",
       "3    0.072336  13064  2021    2.0  \n",
       "4    0.059718  22020  2021    3.0  \n",
       "..        ...    ...   ...    ...  \n",
       "75   0.038819   6234  2021    1.0  \n",
       "76   0.078125    320  2021    NaN  \n",
       "77   0.373333    225  2021    NaN  \n",
       "78   0.353659    328  2021    NaN  \n",
       "79   0.133803    568  2021    NaN  \n",
       "\n",
       "[80 rows x 25 columns]"
      ],
      "text/html": "<div>\n<style scoped>\n    .dataframe tbody tr th:only-of-type {\n        vertical-align: middle;\n    }\n\n    .dataframe tbody tr th {\n        vertical-align: top;\n    }\n\n    .dataframe thead th {\n        text-align: right;\n    }\n</style>\n<table border=\"1\" class=\"dataframe\">\n  <thead>\n    <tr style=\"text-align: right;\">\n      <th></th>\n      <th>awayScoreHT</th>\n      <th>country</th>\n      <th>country_id</th>\n      <th>ds</th>\n      <th>homeScoreHT</th>\n      <th>liga</th>\n      <th>mid</th>\n      <th>round</th>\n      <th>sc1</th>\n      <th>sc2</th>\n      <th>t1</th>\n      <th>t2</th>\n      <th>tid1</th>\n      <th>tid2</th>\n      <th>winner</th>\n      <th>formation_h</th>\n      <th>formation_a</th>\n      <th>home_formation</th>\n      <th>away_formation</th>\n      <th>vote_home</th>\n      <th>vote_draw</th>\n      <th>vote_away</th>\n      <th>votes</th>\n      <th>y</th>\n      <th>pop_r</th>\n    </tr>\n  </thead>\n  <tbody>\n    <tr>\n      <th>0</th>\n      <td>NaN</td>\n      <td>south-america</td>\n      <td>40</td>\n      <td>2021-01-30 20:00:00+00:00</td>\n      <td>NaN</td>\n      <td>conmebol-libertadores</td>\n      <td>9282231</td>\n      <td>1</td>\n      <td>NaN</td>\n      <td>NaN</td>\n      <td>palmeiras</td>\n      <td>santos</td>\n      <td>761</td>\n      <td>712</td>\n      <td>draw</td>\n      <td>4-4-2</td>\n      <td>4-4-2</td>\n      <td>20.0</td>\n      <td>20.0</td>\n      <td>0.436580</td>\n      <td>0.177032</td>\n      <td>0.386388</td>\n      <td>43094</td>\n      <td>2021</td>\n      <td>4.0</td>\n    </tr>\n    <tr>\n      <th>1</th>\n      <td>NaN</td>\n      <td>england</td>\n      <td>15</td>\n      <td>2021-01-30 17:30:00+00:00</td>\n      <td>NaN</td>\n      <td>premier-league</td>\n      <td>8897030</td>\n      <td>21</td>\n      <td>NaN</td>\n      <td>NaN</td>\n      <td>arsenal</td>\n      <td>manchester united</td>\n      <td>240</td>\n      <td>226</td>\n      <td>draw</td>\n      <td>4-2-3-1</td>\n      <td>4-2-3-1</td>\n      <td>14.0</td>\n      <td>14.0</td>\n      <td>0.324676</td>\n      <td>0.198349</td>\n      <td>0.476975</td>\n      <td>72312</td>\n      <td>2021</td>\n      <td>4.0</td>\n    </tr>\n    <tr>\n      <th>2</th>\n      <td>NaN</td>\n      <td>england</td>\n      <td>15</td>\n      <td>2021-01-30 20:00:00+00:00</td>\n      <td>NaN</td>\n      <td>premier-league</td>\n      <td>8897023</td>\n      <td>21</td>\n      <td>NaN</td>\n      <td>NaN</td>\n      <td>southampton</td>\n      <td>aston villa</td>\n      <td>247</td>\n      <td>96</td>\n      <td>draw</td>\n      <td>4-4-2</td>\n      <td>4-2-3-1</td>\n      <td>20.0</td>\n      <td>14.0</td>\n      <td>0.402716</td>\n      <td>0.313163</td>\n      <td>0.284121</td>\n      <td>27168</td>\n      <td>2021</td>\n      <td>4.0</td>\n    </tr>\n    <tr>\n      <th>3</th>\n      <td>NaN</td>\n      <td>england</td>\n      <td>15</td>\n      <td>2021-01-31 12:00:00+00:00</td>\n      <td>NaN</td>\n      <td>premier-league</td>\n      <td>8897050</td>\n      <td>21</td>\n      <td>NaN</td>\n      <td>NaN</td>\n      <td>chelsea</td>\n      <td>burnley</td>\n      <td>4</td>\n      <td>3</td>\n      <td>draw</td>\n      <td>4-3-3</td>\n      <td>4-4-2</td>\n      <td>18.0</td>\n      <td>20.0</td>\n      <td>0.796923</td>\n      <td>0.130741</td>\n      <td>0.072336</td>\n      <td>13064</td>\n      <td>2021</td>\n      <td>2.0</td>\n    </tr>\n    <tr>\n      <th>4</th>\n      <td>NaN</td>\n      <td>spain</td>\n      <td>42</td>\n      <td>2021-01-30 17:30:00+00:00</td>\n      <td>NaN</td>\n      <td>laliga</td>\n      <td>8966530</td>\n      <td>21</td>\n      <td>NaN</td>\n      <td>NaN</td>\n      <td>valencia</td>\n      <td>elche cf</td>\n      <td>101</td>\n      <td>144</td>\n      <td>draw</td>\n      <td>4-4-2</td>\n      <td>5-4-1</td>\n      <td>20.0</td>\n      <td>24.0</td>\n      <td>0.689419</td>\n      <td>0.250863</td>\n      <td>0.059718</td>\n      <td>22020</td>\n      <td>2021</td>\n      <td>3.0</td>\n    </tr>\n    <tr>\n      <th>...</th>\n      <td>...</td>\n      <td>...</td>\n      <td>...</td>\n      <td>...</td>\n      <td>...</td>\n      <td>...</td>\n      <td>...</td>\n      <td>...</td>\n      <td>...</td>\n      <td>...</td>\n      <td>...</td>\n      <td>...</td>\n      <td>...</td>\n      <td>...</td>\n      <td>...</td>\n      <td>...</td>\n      <td>...</td>\n      <td>...</td>\n      <td>...</td>\n      <td>...</td>\n      <td>...</td>\n      <td>...</td>\n      <td>...</td>\n      <td>...</td>\n      <td>...</td>\n    </tr>\n    <tr>\n      <th>75</th>\n      <td>NaN</td>\n      <td>romania</td>\n      <td>34</td>\n      <td>2021-01-30 18:15:00+00:00</td>\n      <td>NaN</td>\n      <td>liga-i</td>\n      <td>8849141</td>\n      <td>20</td>\n      <td>NaN</td>\n      <td>NaN</td>\n      <td>fcsb</td>\n      <td>csm politehnica iashi</td>\n      <td>607</td>\n      <td>636</td>\n      <td>draw</td>\n      <td>NaN</td>\n      <td>NaN</td>\n      <td>NaN</td>\n      <td>NaN</td>\n      <td>0.767565</td>\n      <td>0.193616</td>\n      <td>0.038819</td>\n      <td>6234</td>\n      <td>2021</td>\n      <td>1.0</td>\n    </tr>\n    <tr>\n      <th>76</th>\n      <td>NaN</td>\n      <td>romania</td>\n      <td>34</td>\n      <td>2021-01-31 10:00:00+00:00</td>\n      <td>NaN</td>\n      <td>liga-i</td>\n      <td>8849243</td>\n      <td>20</td>\n      <td>NaN</td>\n      <td>NaN</td>\n      <td>fc botosani</td>\n      <td>fc hermannstadt</td>\n      <td>499</td>\n      <td>1499</td>\n      <td>draw</td>\n      <td>NaN</td>\n      <td>NaN</td>\n      <td>NaN</td>\n      <td>NaN</td>\n      <td>0.618750</td>\n      <td>0.303125</td>\n      <td>0.078125</td>\n      <td>320</td>\n      <td>2021</td>\n      <td>NaN</td>\n    </tr>\n    <tr>\n      <th>77</th>\n      <td>NaN</td>\n      <td>romania</td>\n      <td>34</td>\n      <td>2021-01-31 12:00:00+00:00</td>\n      <td>NaN</td>\n      <td>liga-i</td>\n      <td>8849250</td>\n      <td>20</td>\n      <td>NaN</td>\n      <td>NaN</td>\n      <td>astra giurgiu</td>\n      <td>fc viitorul constanta</td>\n      <td>627</td>\n      <td>594</td>\n      <td>draw</td>\n      <td>NaN</td>\n      <td>NaN</td>\n      <td>NaN</td>\n      <td>NaN</td>\n      <td>0.320000</td>\n      <td>0.306667</td>\n      <td>0.373333</td>\n      <td>225</td>\n      <td>2021</td>\n      <td>NaN</td>\n    </tr>\n    <tr>\n      <th>78</th>\n      <td>NaN</td>\n      <td>uruguay</td>\n      <td>47</td>\n      <td>2021-01-30 21:00:00+00:00</td>\n      <td>NaN</td>\n      <td>primera-division-clausura</td>\n      <td>9305553</td>\n      <td>3</td>\n      <td>NaN</td>\n      <td>NaN</td>\n      <td>deportivo maldonado</td>\n      <td>rentistas</td>\n      <td>1682</td>\n      <td>1683</td>\n      <td>draw</td>\n      <td>NaN</td>\n      <td>NaN</td>\n      <td>NaN</td>\n      <td>NaN</td>\n      <td>0.189024</td>\n      <td>0.457317</td>\n      <td>0.353659</td>\n      <td>328</td>\n      <td>2021</td>\n      <td>NaN</td>\n    </tr>\n    <tr>\n      <th>79</th>\n      <td>NaN</td>\n      <td>uruguay</td>\n      <td>47</td>\n      <td>2021-01-31 00:00:00+00:00</td>\n      <td>NaN</td>\n      <td>primera-division-clausura</td>\n      <td>9305554</td>\n      <td>3</td>\n      <td>NaN</td>\n      <td>NaN</td>\n      <td>nacional</td>\n      <td>montevideo wanderers</td>\n      <td>841</td>\n      <td>344</td>\n      <td>draw</td>\n      <td>NaN</td>\n      <td>NaN</td>\n      <td>NaN</td>\n      <td>NaN</td>\n      <td>0.561620</td>\n      <td>0.304577</td>\n      <td>0.133803</td>\n      <td>568</td>\n      <td>2021</td>\n      <td>NaN</td>\n    </tr>\n  </tbody>\n</table>\n<p>80 rows × 25 columns</p>\n</div>"
     },
     "metadata": {},
     "execution_count": 6
    }
   ],
   "source": [
    "df"
   ]
  },
  {
   "cell_type": "code",
   "execution_count": 161,
   "metadata": {},
   "outputs": [
    {
     "output_type": "error",
     "ename": "TypeError",
     "evalue": "_provide_statistics() missing 1 required positional argument: 'df_src'",
     "traceback": [
      "\u001b[1;31m---------------------------------------------------------------------------\u001b[0m",
      "\u001b[1;31mTypeError\u001b[0m                                 Traceback (most recent call last)",
      "\u001b[1;32m<ipython-input-161-f5a9767fe989>\u001b[0m in \u001b[0;36m<module>\u001b[1;34m\u001b[0m\n\u001b[1;32m----> 1\u001b[1;33m \u001b[0mdf\u001b[0m\u001b[1;33m=\u001b[0m\u001b[0mdp\u001b[0m\u001b[1;33m.\u001b[0m\u001b[0m_provide_statistics\u001b[0m\u001b[1;33m(\u001b[0m\u001b[1;33m)\u001b[0m\u001b[1;33m\u001b[0m\u001b[1;33m\u001b[0m\u001b[0m\n\u001b[0m",
      "\u001b[1;31mTypeError\u001b[0m: _provide_statistics() missing 1 required positional argument: 'df_src'"
     ]
    }
   ],
   "source": [
    "df=dp._provide_statistics()"
   ]
  },
  {
   "cell_type": "code",
   "execution_count": 112,
   "metadata": {},
   "outputs": [],
   "source": [
    "df=dp._provide_statistics()\n",
    "nulls=pd.DataFrame(df.isna().sum(), columns=['n'])\n",
    "drop_cols=list(nulls[nulls.n>50000].sort_values(by='n').index)+['Total shots']\n",
    "cols_to_keep=[x for x in df.columns if not x in drop_cols]\n",
    "df=df[cols_to_keep]\n",
    "df=df.reset_index(drop=True)\n",
    "\n",
    "scaler = MinMaxScaler()\n",
    "df_scaled = scaler.fit_transform(df[df.columns[4:]])\n",
    "df=pd.concat([df[df.columns[:4]],pd.DataFrame(df_scaled, columns=df.columns[4:])], axis=1)\n",
    "\n",
    "cols_stats=['possession', 'shont', 'shofft', 'corners', 'offsides', 'fouls', 'cards', 'gksaves']\n",
    "df1=df[df['ishome']==1].reset_index(drop=True).sort_values(by='mid')\n",
    "df1=df1.drop(columns=['period', 'ishome'])\n",
    "df1.columns=['mid']+[x+'1' for x in cols_stats]\n",
    "df0=df[df['ishome']==0].reset_index(drop=True).sort_values(by='mid')\n",
    "df0=df0.drop(columns=['mid','period', 'ishome'])\n",
    "df0.columns=[x+'0' for x in cols_stats]\n",
    "df=pd.concat([df1,df0], axis=1)\n",
    "df=df.dropna()\n",
    "df['possession1']=df['possession1'].str[:-1].astype(float)/100\n",
    "df['possession0']=df['possession0'].str[:-1].astype(float)/100\n"
   ]
  },
  {
   "cell_type": "code",
   "execution_count": 162,
   "metadata": {},
   "outputs": [
    {
     "output_type": "execute_result",
     "data": {
      "text/plain": [
       "       awayScoreHT   country  country_id                        ds  \\\n",
       "0              0.0   england          15 2015-01-10 12:15:00+00:00   \n",
       "2              0.0    france          19 2015-01-10 13:00:00+00:00   \n",
       "4              1.0    greece          21 2015-01-10 13:00:00+00:00   \n",
       "6              1.0   england          15 2015-01-10 15:00:00+00:00   \n",
       "8              0.0   england          15 2015-01-10 15:00:00+00:00   \n",
       "...            ...       ...         ...                       ...   \n",
       "87180          0.0  portugal          33 2021-01-10 15:00:00+00:00   \n",
       "87181          0.0  portugal          33 2021-01-10 17:00:00+00:00   \n",
       "87182          1.0  portugal          33 2021-01-10 17:00:00+00:00   \n",
       "87183          1.0   romania          34 2021-01-10 17:00:00+00:00   \n",
       "87184          1.0  scotland          36 2021-01-10 15:00:00+00:00   \n",
       "\n",
       "       homeScoreHT            liga      mid  round  sc1  sc2  \\\n",
       "0              0.0    championship  5583876     25  0.0  1.0   \n",
       "2              1.0         ligue-2  5510536     19  1.0  0.0   \n",
       "4              1.0    super-league  6570345     11  1.0  1.0   \n",
       "6              2.0  premier-league  5582834     21  2.0  1.0   \n",
       "8              1.0  premier-league  5582836     21  2.0  0.0   \n",
       "...            ...             ...      ...    ...  ...  ...   \n",
       "87180          1.0    segunda-liga  8956894     15  1.0  0.0   \n",
       "87181          0.0    segunda-liga  8956856     15  1.0  1.0   \n",
       "87182          1.0    segunda-liga  8956724     15  2.0  1.0   \n",
       "87183          1.0          liga-i  9270007     12  2.0  1.0   \n",
       "87184          0.0     premiership  8736289     23  1.0  2.0   \n",
       "\n",
       "                          t1                   t2  tid1  tid2 winner  \\\n",
       "0               ipswich town         derby county     0    86   away   \n",
       "2                     troyes    stade brestois 29     1    79   home   \n",
       "4                  veria nfc          ael kalloni     2    67   draw   \n",
       "6                    burnley  queens park rangers     3   442   home   \n",
       "8                    chelsea     newcastle united     4   105   home   \n",
       "...                      ...                  ...   ...   ...    ...   \n",
       "87180         ud oliveirense             feirense   283   280   home   \n",
       "87181               casa pia               arouca  1647    39   draw   \n",
       "87182              fc vizela   cd cova da piedade  1748  1293   home   \n",
       "87183  fc viitorul constanta      fc hermannstadt   594  1499   home   \n",
       "87184               aberdeen              rangers   685   306   away   \n",
       "\n",
       "      formation_h formation_a  home_formation  away_formation    graph1  \\\n",
       "0           4-4-2       4-3-3              20              18       NaN   \n",
       "2           4-4-2       4-4-2              20              20       NaN   \n",
       "4         4-2-3-1     4-2-3-1              14              14       NaN   \n",
       "6         4-4-1-1     4-4-1-1              19              19       NaN   \n",
       "8         4-2-3-1       4-4-2              14              20       NaN   \n",
       "...           ...         ...             ...             ...       ...   \n",
       "87180       4-3-3       4-3-3              18              18  0.423606   \n",
       "87181       4-4-2       4-4-2              20              20       NaN   \n",
       "87182       4-3-3       4-4-2              18              20  0.584996   \n",
       "87183       4-3-3     4-2-3-1              18              14  0.666844   \n",
       "87184     3-4-1-2       4-3-3               5              18  0.293606   \n",
       "\n",
       "         graph2  vote_home  vote_draw  vote_away  pop_r  possession1  shont1  \\\n",
       "0           NaN   0.492176   0.236131   0.271693      2         0.46    0.16   \n",
       "2           NaN   0.578125   0.300781   0.121094      1         0.49    0.04   \n",
       "4           NaN   0.678571   0.192857   0.128571      0         0.53    0.12   \n",
       "6           NaN   0.413851   0.232545   0.353604      3         0.48    0.24   \n",
       "8           NaN   0.771883   0.094132   0.133985      4         0.56    0.16   \n",
       "...         ...        ...        ...        ...    ...          ...     ...   \n",
       "87180  0.576394   0.160300   0.278652   0.561049      0          NaN     NaN   \n",
       "87181       NaN   0.339020   0.402450   0.258530      0          NaN     NaN   \n",
       "87182  0.415004   0.633021   0.286765   0.080214      0          NaN     NaN   \n",
       "87183  0.333156   0.623808   0.307603   0.068589      0         0.45    0.36   \n",
       "87184  0.706394   0.130155   0.222222   0.647623      2         0.20    0.08   \n",
       "\n",
       "        shofft1  corners1  offsides1    fouls1    cards1  gksaves1  \\\n",
       "0      0.206897  0.153846     0.0625  0.250000  0.272727  0.095238   \n",
       "2      0.034483  0.076923     0.1250  0.232143  0.181818  0.047619   \n",
       "4      0.172414  0.192308     0.2500  0.303571  0.181818  0.095238   \n",
       "6      0.206897  0.384615     0.0625  0.232143  0.181818  0.285714   \n",
       "8      0.137931  0.269231     0.3750  0.267857  0.181818  0.238095   \n",
       "...         ...       ...        ...       ...       ...       ...   \n",
       "87180       NaN       NaN        NaN       NaN       NaN       NaN   \n",
       "87181       NaN       NaN        NaN       NaN       NaN       NaN   \n",
       "87182       NaN       NaN        NaN       NaN       NaN       NaN   \n",
       "87183  0.413793  0.346154     0.0625  0.214286  0.181818  0.000000   \n",
       "87184  0.068966  0.038462     0.0625  0.339286  0.181818  0.190476   \n",
       "\n",
       "       possession2  shont2   shofft2  corners2  offsides2    fouls2    cards2  \\\n",
       "0             0.54    0.12  0.103448  0.153846     0.0625  0.214286  0.090909   \n",
       "2             0.51    0.08  0.275862  0.192308     0.2500  0.285714  0.090909   \n",
       "4             0.47    0.12  0.137931  0.038462     0.3125  0.285714  0.090909   \n",
       "6             0.52    0.32  0.137931  0.230769     0.1875  0.142857  0.181818   \n",
       "8             0.44    0.20  0.034483  0.153846     0.0000  0.178571  0.272727   \n",
       "...            ...     ...       ...       ...        ...       ...       ...   \n",
       "87180          NaN     NaN       NaN       NaN        NaN       NaN       NaN   \n",
       "87181          NaN     NaN       NaN       NaN        NaN       NaN       NaN   \n",
       "87182          NaN     NaN       NaN       NaN        NaN       NaN       NaN   \n",
       "87183         0.55    0.04  0.034483  0.038462     0.0625  0.232143  0.090909   \n",
       "87184         0.80    0.28  0.206897  0.230769     0.0000  0.125000  0.090909   \n",
       "\n",
       "       gksaves2  \n",
       "0      0.190476  \n",
       "2      0.000000  \n",
       "4      0.142857  \n",
       "6      0.190476  \n",
       "8      0.047619  \n",
       "...         ...  \n",
       "87180       NaN  \n",
       "87181       NaN  \n",
       "87182       NaN  \n",
       "87183  0.333333  \n",
       "87184  0.047619  \n",
       "\n",
       "[67805 rows x 41 columns]"
      ],
      "text/html": "<div>\n<style scoped>\n    .dataframe tbody tr th:only-of-type {\n        vertical-align: middle;\n    }\n\n    .dataframe tbody tr th {\n        vertical-align: top;\n    }\n\n    .dataframe thead th {\n        text-align: right;\n    }\n</style>\n<table border=\"1\" class=\"dataframe\">\n  <thead>\n    <tr style=\"text-align: right;\">\n      <th></th>\n      <th>awayScoreHT</th>\n      <th>country</th>\n      <th>country_id</th>\n      <th>ds</th>\n      <th>homeScoreHT</th>\n      <th>liga</th>\n      <th>mid</th>\n      <th>round</th>\n      <th>sc1</th>\n      <th>sc2</th>\n      <th>t1</th>\n      <th>t2</th>\n      <th>tid1</th>\n      <th>tid2</th>\n      <th>winner</th>\n      <th>formation_h</th>\n      <th>formation_a</th>\n      <th>home_formation</th>\n      <th>away_formation</th>\n      <th>graph1</th>\n      <th>graph2</th>\n      <th>vote_home</th>\n      <th>vote_draw</th>\n      <th>vote_away</th>\n      <th>pop_r</th>\n      <th>possession1</th>\n      <th>shont1</th>\n      <th>shofft1</th>\n      <th>corners1</th>\n      <th>offsides1</th>\n      <th>fouls1</th>\n      <th>cards1</th>\n      <th>gksaves1</th>\n      <th>possession2</th>\n      <th>shont2</th>\n      <th>shofft2</th>\n      <th>corners2</th>\n      <th>offsides2</th>\n      <th>fouls2</th>\n      <th>cards2</th>\n      <th>gksaves2</th>\n    </tr>\n  </thead>\n  <tbody>\n    <tr>\n      <th>0</th>\n      <td>0.0</td>\n      <td>england</td>\n      <td>15</td>\n      <td>2015-01-10 12:15:00+00:00</td>\n      <td>0.0</td>\n      <td>championship</td>\n      <td>5583876</td>\n      <td>25</td>\n      <td>0.0</td>\n      <td>1.0</td>\n      <td>ipswich town</td>\n      <td>derby county</td>\n      <td>0</td>\n      <td>86</td>\n      <td>away</td>\n      <td>4-4-2</td>\n      <td>4-3-3</td>\n      <td>20</td>\n      <td>18</td>\n      <td>NaN</td>\n      <td>NaN</td>\n      <td>0.492176</td>\n      <td>0.236131</td>\n      <td>0.271693</td>\n      <td>2</td>\n      <td>0.46</td>\n      <td>0.16</td>\n      <td>0.206897</td>\n      <td>0.153846</td>\n      <td>0.0625</td>\n      <td>0.250000</td>\n      <td>0.272727</td>\n      <td>0.095238</td>\n      <td>0.54</td>\n      <td>0.12</td>\n      <td>0.103448</td>\n      <td>0.153846</td>\n      <td>0.0625</td>\n      <td>0.214286</td>\n      <td>0.090909</td>\n      <td>0.190476</td>\n    </tr>\n    <tr>\n      <th>2</th>\n      <td>0.0</td>\n      <td>france</td>\n      <td>19</td>\n      <td>2015-01-10 13:00:00+00:00</td>\n      <td>1.0</td>\n      <td>ligue-2</td>\n      <td>5510536</td>\n      <td>19</td>\n      <td>1.0</td>\n      <td>0.0</td>\n      <td>troyes</td>\n      <td>stade brestois 29</td>\n      <td>1</td>\n      <td>79</td>\n      <td>home</td>\n      <td>4-4-2</td>\n      <td>4-4-2</td>\n      <td>20</td>\n      <td>20</td>\n      <td>NaN</td>\n      <td>NaN</td>\n      <td>0.578125</td>\n      <td>0.300781</td>\n      <td>0.121094</td>\n      <td>1</td>\n      <td>0.49</td>\n      <td>0.04</td>\n      <td>0.034483</td>\n      <td>0.076923</td>\n      <td>0.1250</td>\n      <td>0.232143</td>\n      <td>0.181818</td>\n      <td>0.047619</td>\n      <td>0.51</td>\n      <td>0.08</td>\n      <td>0.275862</td>\n      <td>0.192308</td>\n      <td>0.2500</td>\n      <td>0.285714</td>\n      <td>0.090909</td>\n      <td>0.000000</td>\n    </tr>\n    <tr>\n      <th>4</th>\n      <td>1.0</td>\n      <td>greece</td>\n      <td>21</td>\n      <td>2015-01-10 13:00:00+00:00</td>\n      <td>1.0</td>\n      <td>super-league</td>\n      <td>6570345</td>\n      <td>11</td>\n      <td>1.0</td>\n      <td>1.0</td>\n      <td>veria nfc</td>\n      <td>ael kalloni</td>\n      <td>2</td>\n      <td>67</td>\n      <td>draw</td>\n      <td>4-2-3-1</td>\n      <td>4-2-3-1</td>\n      <td>14</td>\n      <td>14</td>\n      <td>NaN</td>\n      <td>NaN</td>\n      <td>0.678571</td>\n      <td>0.192857</td>\n      <td>0.128571</td>\n      <td>0</td>\n      <td>0.53</td>\n      <td>0.12</td>\n      <td>0.172414</td>\n      <td>0.192308</td>\n      <td>0.2500</td>\n      <td>0.303571</td>\n      <td>0.181818</td>\n      <td>0.095238</td>\n      <td>0.47</td>\n      <td>0.12</td>\n      <td>0.137931</td>\n      <td>0.038462</td>\n      <td>0.3125</td>\n      <td>0.285714</td>\n      <td>0.090909</td>\n      <td>0.142857</td>\n    </tr>\n    <tr>\n      <th>6</th>\n      <td>1.0</td>\n      <td>england</td>\n      <td>15</td>\n      <td>2015-01-10 15:00:00+00:00</td>\n      <td>2.0</td>\n      <td>premier-league</td>\n      <td>5582834</td>\n      <td>21</td>\n      <td>2.0</td>\n      <td>1.0</td>\n      <td>burnley</td>\n      <td>queens park rangers</td>\n      <td>3</td>\n      <td>442</td>\n      <td>home</td>\n      <td>4-4-1-1</td>\n      <td>4-4-1-1</td>\n      <td>19</td>\n      <td>19</td>\n      <td>NaN</td>\n      <td>NaN</td>\n      <td>0.413851</td>\n      <td>0.232545</td>\n      <td>0.353604</td>\n      <td>3</td>\n      <td>0.48</td>\n      <td>0.24</td>\n      <td>0.206897</td>\n      <td>0.384615</td>\n      <td>0.0625</td>\n      <td>0.232143</td>\n      <td>0.181818</td>\n      <td>0.285714</td>\n      <td>0.52</td>\n      <td>0.32</td>\n      <td>0.137931</td>\n      <td>0.230769</td>\n      <td>0.1875</td>\n      <td>0.142857</td>\n      <td>0.181818</td>\n      <td>0.190476</td>\n    </tr>\n    <tr>\n      <th>8</th>\n      <td>0.0</td>\n      <td>england</td>\n      <td>15</td>\n      <td>2015-01-10 15:00:00+00:00</td>\n      <td>1.0</td>\n      <td>premier-league</td>\n      <td>5582836</td>\n      <td>21</td>\n      <td>2.0</td>\n      <td>0.0</td>\n      <td>chelsea</td>\n      <td>newcastle united</td>\n      <td>4</td>\n      <td>105</td>\n      <td>home</td>\n      <td>4-2-3-1</td>\n      <td>4-4-2</td>\n      <td>14</td>\n      <td>20</td>\n      <td>NaN</td>\n      <td>NaN</td>\n      <td>0.771883</td>\n      <td>0.094132</td>\n      <td>0.133985</td>\n      <td>4</td>\n      <td>0.56</td>\n      <td>0.16</td>\n      <td>0.137931</td>\n      <td>0.269231</td>\n      <td>0.3750</td>\n      <td>0.267857</td>\n      <td>0.181818</td>\n      <td>0.238095</td>\n      <td>0.44</td>\n      <td>0.20</td>\n      <td>0.034483</td>\n      <td>0.153846</td>\n      <td>0.0000</td>\n      <td>0.178571</td>\n      <td>0.272727</td>\n      <td>0.047619</td>\n    </tr>\n    <tr>\n      <th>...</th>\n      <td>...</td>\n      <td>...</td>\n      <td>...</td>\n      <td>...</td>\n      <td>...</td>\n      <td>...</td>\n      <td>...</td>\n      <td>...</td>\n      <td>...</td>\n      <td>...</td>\n      <td>...</td>\n      <td>...</td>\n      <td>...</td>\n      <td>...</td>\n      <td>...</td>\n      <td>...</td>\n      <td>...</td>\n      <td>...</td>\n      <td>...</td>\n      <td>...</td>\n      <td>...</td>\n      <td>...</td>\n      <td>...</td>\n      <td>...</td>\n      <td>...</td>\n      <td>...</td>\n      <td>...</td>\n      <td>...</td>\n      <td>...</td>\n      <td>...</td>\n      <td>...</td>\n      <td>...</td>\n      <td>...</td>\n      <td>...</td>\n      <td>...</td>\n      <td>...</td>\n      <td>...</td>\n      <td>...</td>\n      <td>...</td>\n      <td>...</td>\n      <td>...</td>\n    </tr>\n    <tr>\n      <th>87180</th>\n      <td>0.0</td>\n      <td>portugal</td>\n      <td>33</td>\n      <td>2021-01-10 15:00:00+00:00</td>\n      <td>1.0</td>\n      <td>segunda-liga</td>\n      <td>8956894</td>\n      <td>15</td>\n      <td>1.0</td>\n      <td>0.0</td>\n      <td>ud oliveirense</td>\n      <td>feirense</td>\n      <td>283</td>\n      <td>280</td>\n      <td>home</td>\n      <td>4-3-3</td>\n      <td>4-3-3</td>\n      <td>18</td>\n      <td>18</td>\n      <td>0.423606</td>\n      <td>0.576394</td>\n      <td>0.160300</td>\n      <td>0.278652</td>\n      <td>0.561049</td>\n      <td>0</td>\n      <td>NaN</td>\n      <td>NaN</td>\n      <td>NaN</td>\n      <td>NaN</td>\n      <td>NaN</td>\n      <td>NaN</td>\n      <td>NaN</td>\n      <td>NaN</td>\n      <td>NaN</td>\n      <td>NaN</td>\n      <td>NaN</td>\n      <td>NaN</td>\n      <td>NaN</td>\n      <td>NaN</td>\n      <td>NaN</td>\n      <td>NaN</td>\n    </tr>\n    <tr>\n      <th>87181</th>\n      <td>0.0</td>\n      <td>portugal</td>\n      <td>33</td>\n      <td>2021-01-10 17:00:00+00:00</td>\n      <td>0.0</td>\n      <td>segunda-liga</td>\n      <td>8956856</td>\n      <td>15</td>\n      <td>1.0</td>\n      <td>1.0</td>\n      <td>casa pia</td>\n      <td>arouca</td>\n      <td>1647</td>\n      <td>39</td>\n      <td>draw</td>\n      <td>4-4-2</td>\n      <td>4-4-2</td>\n      <td>20</td>\n      <td>20</td>\n      <td>NaN</td>\n      <td>NaN</td>\n      <td>0.339020</td>\n      <td>0.402450</td>\n      <td>0.258530</td>\n      <td>0</td>\n      <td>NaN</td>\n      <td>NaN</td>\n      <td>NaN</td>\n      <td>NaN</td>\n      <td>NaN</td>\n      <td>NaN</td>\n      <td>NaN</td>\n      <td>NaN</td>\n      <td>NaN</td>\n      <td>NaN</td>\n      <td>NaN</td>\n      <td>NaN</td>\n      <td>NaN</td>\n      <td>NaN</td>\n      <td>NaN</td>\n      <td>NaN</td>\n    </tr>\n    <tr>\n      <th>87182</th>\n      <td>1.0</td>\n      <td>portugal</td>\n      <td>33</td>\n      <td>2021-01-10 17:00:00+00:00</td>\n      <td>1.0</td>\n      <td>segunda-liga</td>\n      <td>8956724</td>\n      <td>15</td>\n      <td>2.0</td>\n      <td>1.0</td>\n      <td>fc vizela</td>\n      <td>cd cova da piedade</td>\n      <td>1748</td>\n      <td>1293</td>\n      <td>home</td>\n      <td>4-3-3</td>\n      <td>4-4-2</td>\n      <td>18</td>\n      <td>20</td>\n      <td>0.584996</td>\n      <td>0.415004</td>\n      <td>0.633021</td>\n      <td>0.286765</td>\n      <td>0.080214</td>\n      <td>0</td>\n      <td>NaN</td>\n      <td>NaN</td>\n      <td>NaN</td>\n      <td>NaN</td>\n      <td>NaN</td>\n      <td>NaN</td>\n      <td>NaN</td>\n      <td>NaN</td>\n      <td>NaN</td>\n      <td>NaN</td>\n      <td>NaN</td>\n      <td>NaN</td>\n      <td>NaN</td>\n      <td>NaN</td>\n      <td>NaN</td>\n      <td>NaN</td>\n    </tr>\n    <tr>\n      <th>87183</th>\n      <td>1.0</td>\n      <td>romania</td>\n      <td>34</td>\n      <td>2021-01-10 17:00:00+00:00</td>\n      <td>1.0</td>\n      <td>liga-i</td>\n      <td>9270007</td>\n      <td>12</td>\n      <td>2.0</td>\n      <td>1.0</td>\n      <td>fc viitorul constanta</td>\n      <td>fc hermannstadt</td>\n      <td>594</td>\n      <td>1499</td>\n      <td>home</td>\n      <td>4-3-3</td>\n      <td>4-2-3-1</td>\n      <td>18</td>\n      <td>14</td>\n      <td>0.666844</td>\n      <td>0.333156</td>\n      <td>0.623808</td>\n      <td>0.307603</td>\n      <td>0.068589</td>\n      <td>0</td>\n      <td>0.45</td>\n      <td>0.36</td>\n      <td>0.413793</td>\n      <td>0.346154</td>\n      <td>0.0625</td>\n      <td>0.214286</td>\n      <td>0.181818</td>\n      <td>0.000000</td>\n      <td>0.55</td>\n      <td>0.04</td>\n      <td>0.034483</td>\n      <td>0.038462</td>\n      <td>0.0625</td>\n      <td>0.232143</td>\n      <td>0.090909</td>\n      <td>0.333333</td>\n    </tr>\n    <tr>\n      <th>87184</th>\n      <td>1.0</td>\n      <td>scotland</td>\n      <td>36</td>\n      <td>2021-01-10 15:00:00+00:00</td>\n      <td>0.0</td>\n      <td>premiership</td>\n      <td>8736289</td>\n      <td>23</td>\n      <td>1.0</td>\n      <td>2.0</td>\n      <td>aberdeen</td>\n      <td>rangers</td>\n      <td>685</td>\n      <td>306</td>\n      <td>away</td>\n      <td>3-4-1-2</td>\n      <td>4-3-3</td>\n      <td>5</td>\n      <td>18</td>\n      <td>0.293606</td>\n      <td>0.706394</td>\n      <td>0.130155</td>\n      <td>0.222222</td>\n      <td>0.647623</td>\n      <td>2</td>\n      <td>0.20</td>\n      <td>0.08</td>\n      <td>0.068966</td>\n      <td>0.038462</td>\n      <td>0.0625</td>\n      <td>0.339286</td>\n      <td>0.181818</td>\n      <td>0.190476</td>\n      <td>0.80</td>\n      <td>0.28</td>\n      <td>0.206897</td>\n      <td>0.230769</td>\n      <td>0.0000</td>\n      <td>0.125000</td>\n      <td>0.090909</td>\n      <td>0.047619</td>\n    </tr>\n  </tbody>\n</table>\n<p>67805 rows × 41 columns</p>\n</div>"
     },
     "metadata": {},
     "execution_count": 162
    }
   ],
   "source": [
    "df.drop_duplicates()"
   ]
  },
  {
   "cell_type": "code",
   "execution_count": 108,
   "metadata": {},
   "outputs": [
    {
     "output_type": "execute_result",
     "data": {
      "text/plain": [
       "        Shots on target  Shots off target  Corner kicks  Offsides     Fouls  \\\n",
       "0                  0.24          0.103448      0.115385    0.0000  0.232143   \n",
       "1                  0.28          0.206897      0.115385    0.0625  0.232143   \n",
       "2                  0.28          0.206897      0.461538    0.1875  0.160714   \n",
       "3                  0.12          0.137931      0.192308    0.0000  0.285714   \n",
       "4                  0.32          0.206897      0.192308    0.1250  0.482143   \n",
       "...                 ...               ...           ...       ...       ...   \n",
       "159143             0.16          0.344828      0.038462    0.1250  0.178571   \n",
       "159144             0.28          0.206897      0.307692    0.0625  0.285714   \n",
       "159145             0.12          0.172414      0.076923    0.0000  0.375000   \n",
       "159146             0.36          0.413793      0.346154    0.0625  0.214286   \n",
       "159147             0.04          0.034483      0.038462    0.0625  0.232143   \n",
       "\n",
       "        Yellow cards  Goalkeeper saves  \n",
       "0           0.181818          0.190476  \n",
       "1           0.090909          0.285714  \n",
       "2           0.181818          0.095238  \n",
       "3           0.181818          0.285714  \n",
       "4           0.090909          0.095238  \n",
       "...              ...               ...  \n",
       "159143      0.090909          0.238095  \n",
       "159144      0.000000          0.047619  \n",
       "159145      0.181818          0.190476  \n",
       "159146      0.181818          0.000000  \n",
       "159147      0.090909          0.333333  \n",
       "\n",
       "[159148 rows x 7 columns]"
      ],
      "text/html": "<div>\n<style scoped>\n    .dataframe tbody tr th:only-of-type {\n        vertical-align: middle;\n    }\n\n    .dataframe tbody tr th {\n        vertical-align: top;\n    }\n\n    .dataframe thead th {\n        text-align: right;\n    }\n</style>\n<table border=\"1\" class=\"dataframe\">\n  <thead>\n    <tr style=\"text-align: right;\">\n      <th></th>\n      <th>Shots on target</th>\n      <th>Shots off target</th>\n      <th>Corner kicks</th>\n      <th>Offsides</th>\n      <th>Fouls</th>\n      <th>Yellow cards</th>\n      <th>Goalkeeper saves</th>\n    </tr>\n  </thead>\n  <tbody>\n    <tr>\n      <th>0</th>\n      <td>0.24</td>\n      <td>0.103448</td>\n      <td>0.115385</td>\n      <td>0.0000</td>\n      <td>0.232143</td>\n      <td>0.181818</td>\n      <td>0.190476</td>\n    </tr>\n    <tr>\n      <th>1</th>\n      <td>0.28</td>\n      <td>0.206897</td>\n      <td>0.115385</td>\n      <td>0.0625</td>\n      <td>0.232143</td>\n      <td>0.090909</td>\n      <td>0.285714</td>\n    </tr>\n    <tr>\n      <th>2</th>\n      <td>0.28</td>\n      <td>0.206897</td>\n      <td>0.461538</td>\n      <td>0.1875</td>\n      <td>0.160714</td>\n      <td>0.181818</td>\n      <td>0.095238</td>\n    </tr>\n    <tr>\n      <th>3</th>\n      <td>0.12</td>\n      <td>0.137931</td>\n      <td>0.192308</td>\n      <td>0.0000</td>\n      <td>0.285714</td>\n      <td>0.181818</td>\n      <td>0.285714</td>\n    </tr>\n    <tr>\n      <th>4</th>\n      <td>0.32</td>\n      <td>0.206897</td>\n      <td>0.192308</td>\n      <td>0.1250</td>\n      <td>0.482143</td>\n      <td>0.090909</td>\n      <td>0.095238</td>\n    </tr>\n    <tr>\n      <th>...</th>\n      <td>...</td>\n      <td>...</td>\n      <td>...</td>\n      <td>...</td>\n      <td>...</td>\n      <td>...</td>\n      <td>...</td>\n    </tr>\n    <tr>\n      <th>159143</th>\n      <td>0.16</td>\n      <td>0.344828</td>\n      <td>0.038462</td>\n      <td>0.1250</td>\n      <td>0.178571</td>\n      <td>0.090909</td>\n      <td>0.238095</td>\n    </tr>\n    <tr>\n      <th>159144</th>\n      <td>0.28</td>\n      <td>0.206897</td>\n      <td>0.307692</td>\n      <td>0.0625</td>\n      <td>0.285714</td>\n      <td>0.000000</td>\n      <td>0.047619</td>\n    </tr>\n    <tr>\n      <th>159145</th>\n      <td>0.12</td>\n      <td>0.172414</td>\n      <td>0.076923</td>\n      <td>0.0000</td>\n      <td>0.375000</td>\n      <td>0.181818</td>\n      <td>0.190476</td>\n    </tr>\n    <tr>\n      <th>159146</th>\n      <td>0.36</td>\n      <td>0.413793</td>\n      <td>0.346154</td>\n      <td>0.0625</td>\n      <td>0.214286</td>\n      <td>0.181818</td>\n      <td>0.000000</td>\n    </tr>\n    <tr>\n      <th>159147</th>\n      <td>0.04</td>\n      <td>0.034483</td>\n      <td>0.038462</td>\n      <td>0.0625</td>\n      <td>0.232143</td>\n      <td>0.090909</td>\n      <td>0.333333</td>\n    </tr>\n  </tbody>\n</table>\n<p>159148 rows × 7 columns</p>\n</div>"
     },
     "metadata": {},
     "execution_count": 108
    }
   ],
   "source": []
  },
  {
   "cell_type": "code",
   "execution_count": 109,
   "metadata": {},
   "outputs": [
    {
     "output_type": "execute_result",
     "data": {
      "text/plain": [
       "            mid period  ishome Ball possession  Shots on target  \\\n",
       "0       5076016    ALL       1             45%             0.24   \n",
       "1       5076016    ALL       0             55%             0.28   \n",
       "2       5076018    ALL       1             65%             0.28   \n",
       "3       5076018    ALL       0             35%             0.12   \n",
       "4       5076020    ALL       1             65%             0.32   \n",
       "...         ...    ...     ...             ...              ...   \n",
       "159143  9258633    ALL       0             44%             0.16   \n",
       "159144  9258635    ALL       1             64%             0.28   \n",
       "159145  9258635    ALL       0             36%             0.12   \n",
       "159146  9270007    ALL       1             45%             0.36   \n",
       "159147  9270007    ALL       0             55%             0.04   \n",
       "\n",
       "        Shots off target  Corner kicks  Offsides     Fouls  Yellow cards  \\\n",
       "0               0.103448      0.115385    0.0000  0.232143      0.181818   \n",
       "1               0.206897      0.115385    0.0625  0.232143      0.090909   \n",
       "2               0.206897      0.461538    0.1875  0.160714      0.181818   \n",
       "3               0.137931      0.192308    0.0000  0.285714      0.181818   \n",
       "4               0.206897      0.192308    0.1250  0.482143      0.090909   \n",
       "...                  ...           ...       ...       ...           ...   \n",
       "159143          0.344828      0.038462    0.1250  0.178571      0.090909   \n",
       "159144          0.206897      0.307692    0.0625  0.285714      0.000000   \n",
       "159145          0.172414      0.076923    0.0000  0.375000      0.181818   \n",
       "159146          0.413793      0.346154    0.0625  0.214286      0.181818   \n",
       "159147          0.034483      0.038462    0.0625  0.232143      0.090909   \n",
       "\n",
       "        Goalkeeper saves  \n",
       "0               0.190476  \n",
       "1               0.285714  \n",
       "2               0.095238  \n",
       "3               0.285714  \n",
       "4               0.095238  \n",
       "...                  ...  \n",
       "159143          0.238095  \n",
       "159144          0.047619  \n",
       "159145          0.190476  \n",
       "159146          0.000000  \n",
       "159147          0.333333  \n",
       "\n",
       "[159148 rows x 11 columns]"
      ],
      "text/html": "<div>\n<style scoped>\n    .dataframe tbody tr th:only-of-type {\n        vertical-align: middle;\n    }\n\n    .dataframe tbody tr th {\n        vertical-align: top;\n    }\n\n    .dataframe thead th {\n        text-align: right;\n    }\n</style>\n<table border=\"1\" class=\"dataframe\">\n  <thead>\n    <tr style=\"text-align: right;\">\n      <th></th>\n      <th>mid</th>\n      <th>period</th>\n      <th>ishome</th>\n      <th>Ball possession</th>\n      <th>Shots on target</th>\n      <th>Shots off target</th>\n      <th>Corner kicks</th>\n      <th>Offsides</th>\n      <th>Fouls</th>\n      <th>Yellow cards</th>\n      <th>Goalkeeper saves</th>\n    </tr>\n  </thead>\n  <tbody>\n    <tr>\n      <th>0</th>\n      <td>5076016</td>\n      <td>ALL</td>\n      <td>1</td>\n      <td>45%</td>\n      <td>0.24</td>\n      <td>0.103448</td>\n      <td>0.115385</td>\n      <td>0.0000</td>\n      <td>0.232143</td>\n      <td>0.181818</td>\n      <td>0.190476</td>\n    </tr>\n    <tr>\n      <th>1</th>\n      <td>5076016</td>\n      <td>ALL</td>\n      <td>0</td>\n      <td>55%</td>\n      <td>0.28</td>\n      <td>0.206897</td>\n      <td>0.115385</td>\n      <td>0.0625</td>\n      <td>0.232143</td>\n      <td>0.090909</td>\n      <td>0.285714</td>\n    </tr>\n    <tr>\n      <th>2</th>\n      <td>5076018</td>\n      <td>ALL</td>\n      <td>1</td>\n      <td>65%</td>\n      <td>0.28</td>\n      <td>0.206897</td>\n      <td>0.461538</td>\n      <td>0.1875</td>\n      <td>0.160714</td>\n      <td>0.181818</td>\n      <td>0.095238</td>\n    </tr>\n    <tr>\n      <th>3</th>\n      <td>5076018</td>\n      <td>ALL</td>\n      <td>0</td>\n      <td>35%</td>\n      <td>0.12</td>\n      <td>0.137931</td>\n      <td>0.192308</td>\n      <td>0.0000</td>\n      <td>0.285714</td>\n      <td>0.181818</td>\n      <td>0.285714</td>\n    </tr>\n    <tr>\n      <th>4</th>\n      <td>5076020</td>\n      <td>ALL</td>\n      <td>1</td>\n      <td>65%</td>\n      <td>0.32</td>\n      <td>0.206897</td>\n      <td>0.192308</td>\n      <td>0.1250</td>\n      <td>0.482143</td>\n      <td>0.090909</td>\n      <td>0.095238</td>\n    </tr>\n    <tr>\n      <th>...</th>\n      <td>...</td>\n      <td>...</td>\n      <td>...</td>\n      <td>...</td>\n      <td>...</td>\n      <td>...</td>\n      <td>...</td>\n      <td>...</td>\n      <td>...</td>\n      <td>...</td>\n      <td>...</td>\n    </tr>\n    <tr>\n      <th>159143</th>\n      <td>9258633</td>\n      <td>ALL</td>\n      <td>0</td>\n      <td>44%</td>\n      <td>0.16</td>\n      <td>0.344828</td>\n      <td>0.038462</td>\n      <td>0.1250</td>\n      <td>0.178571</td>\n      <td>0.090909</td>\n      <td>0.238095</td>\n    </tr>\n    <tr>\n      <th>159144</th>\n      <td>9258635</td>\n      <td>ALL</td>\n      <td>1</td>\n      <td>64%</td>\n      <td>0.28</td>\n      <td>0.206897</td>\n      <td>0.307692</td>\n      <td>0.0625</td>\n      <td>0.285714</td>\n      <td>0.000000</td>\n      <td>0.047619</td>\n    </tr>\n    <tr>\n      <th>159145</th>\n      <td>9258635</td>\n      <td>ALL</td>\n      <td>0</td>\n      <td>36%</td>\n      <td>0.12</td>\n      <td>0.172414</td>\n      <td>0.076923</td>\n      <td>0.0000</td>\n      <td>0.375000</td>\n      <td>0.181818</td>\n      <td>0.190476</td>\n    </tr>\n    <tr>\n      <th>159146</th>\n      <td>9270007</td>\n      <td>ALL</td>\n      <td>1</td>\n      <td>45%</td>\n      <td>0.36</td>\n      <td>0.413793</td>\n      <td>0.346154</td>\n      <td>0.0625</td>\n      <td>0.214286</td>\n      <td>0.181818</td>\n      <td>0.000000</td>\n    </tr>\n    <tr>\n      <th>159147</th>\n      <td>9270007</td>\n      <td>ALL</td>\n      <td>0</td>\n      <td>55%</td>\n      <td>0.04</td>\n      <td>0.034483</td>\n      <td>0.038462</td>\n      <td>0.0625</td>\n      <td>0.232143</td>\n      <td>0.090909</td>\n      <td>0.333333</td>\n    </tr>\n  </tbody>\n</table>\n<p>159148 rows × 11 columns</p>\n</div>"
     },
     "metadata": {},
     "execution_count": 109
    }
   ],
   "source": [
    "pd.concat([df[df.columns[:4]],pd.DataFrame(df_scaled, columns=df.columns[4:])], axis=1)"
   ]
  },
  {
   "cell_type": "code",
   "execution_count": 96,
   "metadata": {},
   "outputs": [],
   "source": [
    "cols_stats=['possession', 'shont', 'shofft', 'corners', 'offsides', 'fouls', 'cards', 'gksaves']\n",
    "df1=df[df['ishome']==1].reset_index(drop=True).sort_values(by='mid')\n",
    "df1=df1.drop(columns=['period', 'ishome'])\n",
    "df1.columns=['mid']+[x+'1' for x in cols_stats]\n",
    "df0=df[df['ishome']==0].reset_index(drop=True).sort_values(by='mid')\n",
    "df0=df0.drop(columns=['mid','period', 'ishome'])\n",
    "df0.columns=[x+'0' for x in cols_stats]\n",
    "df=pd.concat([df1,df0], axis=1)\n",
    "df=df.dropna()\n",
    "df['possession1']=df['possession1'].str[:-1].astype(float)/100\n",
    "df['possession0']=df['possession0'].str[:-1].astype(float)/100\n"
   ]
  },
  {
   "cell_type": "code",
   "execution_count": 97,
   "metadata": {},
   "outputs": [
    {
     "output_type": "execute_result",
     "data": {
      "text/plain": [
       "           mid  possession1  shont1  shofft1  corners1  offsides1  fouls1  \\\n",
       "0      5076016         0.45     6.0      3.0       3.0        0.0    13.0   \n",
       "1      5076018         0.65     7.0      6.0      12.0        3.0     9.0   \n",
       "2      5076020         0.65     8.0      6.0       5.0        2.0    27.0   \n",
       "3      5076028         0.45     2.0      5.0       3.0        0.0    17.0   \n",
       "11418  5076032         0.64     6.0      5.0       2.0        1.0    15.0   \n",
       "...        ...          ...     ...      ...       ...        ...     ...   \n",
       "79569  9258631         0.64     6.0      3.0       9.0        3.0    16.0   \n",
       "79570  9258632         0.52    10.0      3.0       7.0        2.0    11.0   \n",
       "79571  9258633         0.56     8.0     10.0       6.0        0.0    11.0   \n",
       "79572  9258635         0.64     7.0      6.0       8.0        1.0    16.0   \n",
       "79573  9270007         0.45     9.0     12.0       9.0        1.0    12.0   \n",
       "\n",
       "       cards1  gksaves1  possession0  shont0  shofft0  corners0  offsides0  \\\n",
       "0         2.0       4.0         0.55     7.0      6.0       3.0        1.0   \n",
       "1         2.0       2.0         0.35     3.0      4.0       5.0        0.0   \n",
       "2         1.0       2.0         0.35     3.0      4.0       0.0        2.0   \n",
       "3         5.0       6.0         0.55     8.0      3.0       3.0        2.0   \n",
       "11418     1.0       2.0         0.36     4.0      6.0       5.0        1.0   \n",
       "...       ...       ...          ...     ...      ...       ...        ...   \n",
       "79569     1.0       1.0         0.36     3.0      4.0       2.0        3.0   \n",
       "79570     1.0       1.0         0.48     2.0      6.0       4.0        5.0   \n",
       "79571     3.0       4.0         0.44     4.0     10.0       1.0        2.0   \n",
       "79572     0.0       1.0         0.36     3.0      5.0       2.0        0.0   \n",
       "79573     2.0       0.0         0.55     1.0      1.0       1.0        1.0   \n",
       "\n",
       "       fouls0  cards0  gksaves0  \n",
       "0        13.0     1.0       6.0  \n",
       "1        16.0     2.0       6.0  \n",
       "2        10.0     1.0       7.0  \n",
       "3        20.0     5.0       0.0  \n",
       "11418    24.0     3.0       2.0  \n",
       "...       ...     ...       ...  \n",
       "79569    15.0     1.0       5.0  \n",
       "79570    10.0     2.0       7.0  \n",
       "79571    10.0     1.0       5.0  \n",
       "79572    21.0     2.0       4.0  \n",
       "79573    13.0     1.0       7.0  \n",
       "\n",
       "[65290 rows x 17 columns]"
      ],
      "text/html": "<div>\n<style scoped>\n    .dataframe tbody tr th:only-of-type {\n        vertical-align: middle;\n    }\n\n    .dataframe tbody tr th {\n        vertical-align: top;\n    }\n\n    .dataframe thead th {\n        text-align: right;\n    }\n</style>\n<table border=\"1\" class=\"dataframe\">\n  <thead>\n    <tr style=\"text-align: right;\">\n      <th></th>\n      <th>mid</th>\n      <th>possession1</th>\n      <th>shont1</th>\n      <th>shofft1</th>\n      <th>corners1</th>\n      <th>offsides1</th>\n      <th>fouls1</th>\n      <th>cards1</th>\n      <th>gksaves1</th>\n      <th>possession0</th>\n      <th>shont0</th>\n      <th>shofft0</th>\n      <th>corners0</th>\n      <th>offsides0</th>\n      <th>fouls0</th>\n      <th>cards0</th>\n      <th>gksaves0</th>\n    </tr>\n  </thead>\n  <tbody>\n    <tr>\n      <th>0</th>\n      <td>5076016</td>\n      <td>0.45</td>\n      <td>6.0</td>\n      <td>3.0</td>\n      <td>3.0</td>\n      <td>0.0</td>\n      <td>13.0</td>\n      <td>2.0</td>\n      <td>4.0</td>\n      <td>0.55</td>\n      <td>7.0</td>\n      <td>6.0</td>\n      <td>3.0</td>\n      <td>1.0</td>\n      <td>13.0</td>\n      <td>1.0</td>\n      <td>6.0</td>\n    </tr>\n    <tr>\n      <th>1</th>\n      <td>5076018</td>\n      <td>0.65</td>\n      <td>7.0</td>\n      <td>6.0</td>\n      <td>12.0</td>\n      <td>3.0</td>\n      <td>9.0</td>\n      <td>2.0</td>\n      <td>2.0</td>\n      <td>0.35</td>\n      <td>3.0</td>\n      <td>4.0</td>\n      <td>5.0</td>\n      <td>0.0</td>\n      <td>16.0</td>\n      <td>2.0</td>\n      <td>6.0</td>\n    </tr>\n    <tr>\n      <th>2</th>\n      <td>5076020</td>\n      <td>0.65</td>\n      <td>8.0</td>\n      <td>6.0</td>\n      <td>5.0</td>\n      <td>2.0</td>\n      <td>27.0</td>\n      <td>1.0</td>\n      <td>2.0</td>\n      <td>0.35</td>\n      <td>3.0</td>\n      <td>4.0</td>\n      <td>0.0</td>\n      <td>2.0</td>\n      <td>10.0</td>\n      <td>1.0</td>\n      <td>7.0</td>\n    </tr>\n    <tr>\n      <th>3</th>\n      <td>5076028</td>\n      <td>0.45</td>\n      <td>2.0</td>\n      <td>5.0</td>\n      <td>3.0</td>\n      <td>0.0</td>\n      <td>17.0</td>\n      <td>5.0</td>\n      <td>6.0</td>\n      <td>0.55</td>\n      <td>8.0</td>\n      <td>3.0</td>\n      <td>3.0</td>\n      <td>2.0</td>\n      <td>20.0</td>\n      <td>5.0</td>\n      <td>0.0</td>\n    </tr>\n    <tr>\n      <th>11418</th>\n      <td>5076032</td>\n      <td>0.64</td>\n      <td>6.0</td>\n      <td>5.0</td>\n      <td>2.0</td>\n      <td>1.0</td>\n      <td>15.0</td>\n      <td>1.0</td>\n      <td>2.0</td>\n      <td>0.36</td>\n      <td>4.0</td>\n      <td>6.0</td>\n      <td>5.0</td>\n      <td>1.0</td>\n      <td>24.0</td>\n      <td>3.0</td>\n      <td>2.0</td>\n    </tr>\n    <tr>\n      <th>...</th>\n      <td>...</td>\n      <td>...</td>\n      <td>...</td>\n      <td>...</td>\n      <td>...</td>\n      <td>...</td>\n      <td>...</td>\n      <td>...</td>\n      <td>...</td>\n      <td>...</td>\n      <td>...</td>\n      <td>...</td>\n      <td>...</td>\n      <td>...</td>\n      <td>...</td>\n      <td>...</td>\n      <td>...</td>\n    </tr>\n    <tr>\n      <th>79569</th>\n      <td>9258631</td>\n      <td>0.64</td>\n      <td>6.0</td>\n      <td>3.0</td>\n      <td>9.0</td>\n      <td>3.0</td>\n      <td>16.0</td>\n      <td>1.0</td>\n      <td>1.0</td>\n      <td>0.36</td>\n      <td>3.0</td>\n      <td>4.0</td>\n      <td>2.0</td>\n      <td>3.0</td>\n      <td>15.0</td>\n      <td>1.0</td>\n      <td>5.0</td>\n    </tr>\n    <tr>\n      <th>79570</th>\n      <td>9258632</td>\n      <td>0.52</td>\n      <td>10.0</td>\n      <td>3.0</td>\n      <td>7.0</td>\n      <td>2.0</td>\n      <td>11.0</td>\n      <td>1.0</td>\n      <td>1.0</td>\n      <td>0.48</td>\n      <td>2.0</td>\n      <td>6.0</td>\n      <td>4.0</td>\n      <td>5.0</td>\n      <td>10.0</td>\n      <td>2.0</td>\n      <td>7.0</td>\n    </tr>\n    <tr>\n      <th>79571</th>\n      <td>9258633</td>\n      <td>0.56</td>\n      <td>8.0</td>\n      <td>10.0</td>\n      <td>6.0</td>\n      <td>0.0</td>\n      <td>11.0</td>\n      <td>3.0</td>\n      <td>4.0</td>\n      <td>0.44</td>\n      <td>4.0</td>\n      <td>10.0</td>\n      <td>1.0</td>\n      <td>2.0</td>\n      <td>10.0</td>\n      <td>1.0</td>\n      <td>5.0</td>\n    </tr>\n    <tr>\n      <th>79572</th>\n      <td>9258635</td>\n      <td>0.64</td>\n      <td>7.0</td>\n      <td>6.0</td>\n      <td>8.0</td>\n      <td>1.0</td>\n      <td>16.0</td>\n      <td>0.0</td>\n      <td>1.0</td>\n      <td>0.36</td>\n      <td>3.0</td>\n      <td>5.0</td>\n      <td>2.0</td>\n      <td>0.0</td>\n      <td>21.0</td>\n      <td>2.0</td>\n      <td>4.0</td>\n    </tr>\n    <tr>\n      <th>79573</th>\n      <td>9270007</td>\n      <td>0.45</td>\n      <td>9.0</td>\n      <td>12.0</td>\n      <td>9.0</td>\n      <td>1.0</td>\n      <td>12.0</td>\n      <td>2.0</td>\n      <td>0.0</td>\n      <td>0.55</td>\n      <td>1.0</td>\n      <td>1.0</td>\n      <td>1.0</td>\n      <td>1.0</td>\n      <td>13.0</td>\n      <td>1.0</td>\n      <td>7.0</td>\n    </tr>\n  </tbody>\n</table>\n<p>65290 rows × 17 columns</p>\n</div>"
     },
     "metadata": {},
     "execution_count": 97
    }
   ],
   "source": [
    "df\n",
    "\n"
   ]
  },
  {
   "cell_type": "code",
   "execution_count": 67,
   "metadata": {},
   "outputs": [
    {
     "output_type": "execute_result",
     "data": {
      "text/plain": [
       "Index(['mid', 'period', 'ishome', 'Ball possession', 'Shots on target',\n",
       "       'Shots off target', 'Corner kicks', 'Offsides', 'Fouls', 'Yellow cards',\n",
       "       'Goalkeeper saves', 'Total shots'],\n",
       "      dtype='object')"
      ]
     },
     "metadata": {},
     "execution_count": 67
    }
   ],
   "source": [
    "df1.columns"
   ]
  },
  {
   "cell_type": "code",
   "execution_count": 57,
   "metadata": {},
   "outputs": [
    {
     "output_type": "execute_result",
     "data": {
      "text/plain": [
       "Index(['Blocked shots', 'Duels won', 'Shots inside box', 'Shots outside box',\n",
       "       'Passes', 'Accurate passes', 'Aerials won', 'Red cards',\n",
       "       'Possession lost', 'Big chances', 'Clearances', 'Big chances missed',\n",
       "       'Long balls', 'Crosses', 'Dribbles', 'Tackles', 'Interceptions',\n",
       "       'Hit woodwork', 'Counter attacks', 'Counter attack shots',\n",
       "       'Counter attack goals'],\n",
       "      dtype='object')"
      ]
     },
     "metadata": {},
     "execution_count": 57
    }
   ],
   "source": [
    "nulls=pd.DataFrame(df.isna().sum(), columns=['n'])\n",
    "drop_cols=nulls[nulls.n>50000].sort_values(by='n').index\n",
    "cols_to_keep=[x for x in df.columns if not x in drop_cols]\n",
    "drop_cols"
   ]
  },
  {
   "cell_type": "code",
   "execution_count": 20,
   "metadata": {},
   "outputs": [
    {
     "output_type": "execute_result",
     "data": {
      "text/plain": [
       "mid\n",
       "5076016    -6.417582\n",
       "5076018    13.714286\n",
       "5076020    10.626374\n",
       "5076028    -6.285714\n",
       "5076032     8.406593\n",
       "             ...    \n",
       "9258631    16.098901\n",
       "9258632     7.362637\n",
       "9258633     2.846154\n",
       "9258635    16.857143\n",
       "9270007    18.318681\n",
       "Name: graph, Length: 66130, dtype: float64"
      ]
     },
     "metadata": {},
     "execution_count": 20
    }
   ],
   "source": [
    "df_graph.groupby('mid').graph.sum()/91"
   ]
  },
  {
   "cell_type": "code",
   "execution_count": 21,
   "metadata": {},
   "outputs": [
    {
     "output_type": "execute_result",
     "data": {
      "text/plain": [
       "array([[0.46723419],\n",
       "       [0.62968875],\n",
       "       [0.60477077],\n",
       "       ...,\n",
       "       [0.54198812],\n",
       "       [0.6550501 ],\n",
       "       [0.66684402]])"
      ]
     },
     "metadata": {},
     "execution_count": 21
    }
   ],
   "source": [
    "scaler.fit_transform(df_graph.groupby('mid')[['graph']].sum())"
   ]
  },
  {
   "cell_type": "code",
   "execution_count": 14,
   "metadata": {},
   "outputs": [],
   "source": [
    "scaler = MinMaxScaler()\n",
    "df_scaled_graph = scaler.fit_transform(df_graph_pivoted.iloc[:, 1:].T).T\n",
    "df_scaled_graph_rev = scaler.fit_transform((df_graph_pivoted.iloc[:, 1:]*-1).T).T"
   ]
  },
  {
   "cell_type": "code",
   "execution_count": 15,
   "metadata": {},
   "outputs": [
    {
     "output_type": "execute_result",
     "data": {
      "text/plain": [
       "array([[0.57718121, 0.59060403, 0.60402685, ..., 0.51677852, 0.51677852,\n",
       "        0.33557047],\n",
       "       [0.22868217, 0.22868217, 0.03100775, ..., 0.26356589, 0.24418605,\n",
       "        1.        ],\n",
       "       [0.44047619, 0.44047619, 0.44047619, ..., 0.55357143, 0.49404762,\n",
       "        0.88095238],\n",
       "       ...,\n",
       "       [0.42857143, 0.09774436, 0.21052632, ..., 0.61654135, 0.58646617,\n",
       "        0.81954887],\n",
       "       [0.38135593, 0.52542373, 0.74576271, ..., 0.        , 0.1440678 ,\n",
       "        0.00847458],\n",
       "       [0.42937853, 0.42372881, 0.59887006, ..., 0.51977401, 0.48022599,\n",
       "        0.43502825]])"
      ]
     },
     "metadata": {},
     "execution_count": 15
    }
   ],
   "source": [
    "df_scaled_graph"
   ]
  },
  {
   "cell_type": "code",
   "execution_count": 12,
   "metadata": {},
   "outputs": [
    {
     "output_type": "stream",
     "name": "stderr",
     "text": [
      "  0%|          | 0/9 [01:23<?, ?it/s]\n"
     ]
    },
    {
     "output_type": "error",
     "ename": "KeyboardInterrupt",
     "evalue": "",
     "traceback": [
      "\u001b[1;31m---------------------------------------------------------------------------\u001b[0m",
      "\u001b[1;31mKeyboardInterrupt\u001b[0m                         Traceback (most recent call last)",
      "\u001b[1;32m<ipython-input-12-c233062941c7>\u001b[0m in \u001b[0;36m<module>\u001b[1;34m\u001b[0m\n\u001b[1;32m----> 1\u001b[1;33m \u001b[0mfind_kmeans\u001b[0m\u001b[1;33m(\u001b[0m\u001b[0mdf_scaled_graph\u001b[0m\u001b[1;33m,\u001b[0m \u001b[1;34m\"softdtw\"\u001b[0m\u001b[1;33m,\u001b[0m \u001b[1;36m10\u001b[0m\u001b[1;33m)\u001b[0m\u001b[1;33m\u001b[0m\u001b[1;33m\u001b[0m\u001b[0m\n\u001b[0m",
      "\u001b[1;32mc:\\dev\\soccer\\api\\time_series.py\u001b[0m in \u001b[0;36mfind_kmeans\u001b[1;34m(df_scaled, metric, clasters)\u001b[0m\n\u001b[0;32m     35\u001b[0m         \u001b[0mkmeanModel\u001b[0m \u001b[1;33m=\u001b[0m \u001b[0mTimeSeriesKMeans\u001b[0m\u001b[1;33m(\u001b[0m\u001b[0mn_clusters\u001b[0m\u001b[1;33m=\u001b[0m\u001b[0mk\u001b[0m\u001b[1;33m,\u001b[0m \u001b[0mmetric\u001b[0m\u001b[1;33m=\u001b[0m\u001b[0mmetric\u001b[0m\u001b[1;33m,\u001b[0m \u001b[0mn_jobs\u001b[0m\u001b[1;33m=\u001b[0m\u001b[1;36m20\u001b[0m\u001b[1;33m,\u001b[0m \u001b[0mmax_iter\u001b[0m\u001b[1;33m=\u001b[0m\u001b[1;36m10\u001b[0m\u001b[1;33m)\u001b[0m\u001b[1;33m\u001b[0m\u001b[1;33m\u001b[0m\u001b[0m\n\u001b[0;32m     36\u001b[0m         \u001b[1;31m#kmeanModel = TimeSeriesKMeans(n_clusters=k, metric=\"euclidean\", n_jobs=6, max_iter=10)\u001b[0m\u001b[1;33m\u001b[0m\u001b[1;33m\u001b[0m\u001b[1;33m\u001b[0m\u001b[0m\n\u001b[1;32m---> 37\u001b[1;33m         \u001b[0mkmeanModel\u001b[0m\u001b[1;33m.\u001b[0m\u001b[0mfit\u001b[0m\u001b[1;33m(\u001b[0m\u001b[0mdf_scaled\u001b[0m\u001b[1;33m)\u001b[0m\u001b[1;33m\u001b[0m\u001b[1;33m\u001b[0m\u001b[0m\n\u001b[0m\u001b[0;32m     38\u001b[0m         \u001b[0mdistortions\u001b[0m\u001b[1;33m.\u001b[0m\u001b[0mappend\u001b[0m\u001b[1;33m(\u001b[0m\u001b[0mkmeanModel\u001b[0m\u001b[1;33m.\u001b[0m\u001b[0minertia_\u001b[0m\u001b[1;33m)\u001b[0m\u001b[1;33m\u001b[0m\u001b[1;33m\u001b[0m\u001b[0m\n\u001b[0;32m     39\u001b[0m         \u001b[1;32mif\u001b[0m \u001b[0mk\u001b[0m \u001b[1;33m>\u001b[0m \u001b[1;36m1\u001b[0m\u001b[1;33m:\u001b[0m\u001b[1;33m\u001b[0m\u001b[1;33m\u001b[0m\u001b[0m\n",
      "\u001b[1;32mC:\\ProgramData\\Miniconda3\\envs\\mlenv\\lib\\site-packages\\tslearn\\clustering\\kmeans.py\u001b[0m in \u001b[0;36mfit\u001b[1;34m(self, X, y)\u001b[0m\n\u001b[0;32m    778\u001b[0m                     \u001b[0mprint\u001b[0m\u001b[1;33m(\u001b[0m\u001b[1;34m\"Init %d\"\u001b[0m \u001b[1;33m%\u001b[0m \u001b[1;33m(\u001b[0m\u001b[0mn_successful\u001b[0m \u001b[1;33m+\u001b[0m \u001b[1;36m1\u001b[0m\u001b[1;33m)\u001b[0m\u001b[1;33m)\u001b[0m\u001b[1;33m\u001b[0m\u001b[1;33m\u001b[0m\u001b[0m\n\u001b[0;32m    779\u001b[0m                 \u001b[0mn_attempts\u001b[0m \u001b[1;33m+=\u001b[0m \u001b[1;36m1\u001b[0m\u001b[1;33m\u001b[0m\u001b[1;33m\u001b[0m\u001b[0m\n\u001b[1;32m--> 780\u001b[1;33m                 \u001b[0mself\u001b[0m\u001b[1;33m.\u001b[0m\u001b[0m_fit_one_init\u001b[0m\u001b[1;33m(\u001b[0m\u001b[0mX_\u001b[0m\u001b[1;33m,\u001b[0m \u001b[0mx_squared_norms\u001b[0m\u001b[1;33m,\u001b[0m \u001b[0mrs\u001b[0m\u001b[1;33m)\u001b[0m\u001b[1;33m\u001b[0m\u001b[1;33m\u001b[0m\u001b[0m\n\u001b[0m\u001b[0;32m    781\u001b[0m                 \u001b[1;32mif\u001b[0m \u001b[0mself\u001b[0m\u001b[1;33m.\u001b[0m\u001b[0minertia_\u001b[0m \u001b[1;33m<\u001b[0m \u001b[0mmin_inertia\u001b[0m\u001b[1;33m:\u001b[0m\u001b[1;33m\u001b[0m\u001b[1;33m\u001b[0m\u001b[0m\n\u001b[0;32m    782\u001b[0m                     \u001b[0mbest_correct_centroids\u001b[0m \u001b[1;33m=\u001b[0m \u001b[0mself\u001b[0m\u001b[1;33m.\u001b[0m\u001b[0mcluster_centers_\u001b[0m\u001b[1;33m.\u001b[0m\u001b[0mcopy\u001b[0m\u001b[1;33m(\u001b[0m\u001b[1;33m)\u001b[0m\u001b[1;33m\u001b[0m\u001b[1;33m\u001b[0m\u001b[0m\n",
      "\u001b[1;32mC:\\ProgramData\\Miniconda3\\envs\\mlenv\\lib\\site-packages\\tslearn\\clustering\\kmeans.py\u001b[0m in \u001b[0;36m_fit_one_init\u001b[1;34m(self, X, x_squared_norms, rs)\u001b[0m\n\u001b[0;32m    660\u001b[0m \u001b[1;33m\u001b[0m\u001b[0m\n\u001b[0;32m    661\u001b[0m         \u001b[1;32mfor\u001b[0m \u001b[0mit\u001b[0m \u001b[1;32min\u001b[0m \u001b[0mrange\u001b[0m\u001b[1;33m(\u001b[0m\u001b[0mself\u001b[0m\u001b[1;33m.\u001b[0m\u001b[0mmax_iter\u001b[0m\u001b[1;33m)\u001b[0m\u001b[1;33m:\u001b[0m\u001b[1;33m\u001b[0m\u001b[1;33m\u001b[0m\u001b[0m\n\u001b[1;32m--> 662\u001b[1;33m             \u001b[0mself\u001b[0m\u001b[1;33m.\u001b[0m\u001b[0m_assign\u001b[0m\u001b[1;33m(\u001b[0m\u001b[0mX\u001b[0m\u001b[1;33m)\u001b[0m\u001b[1;33m\u001b[0m\u001b[1;33m\u001b[0m\u001b[0m\n\u001b[0m\u001b[0;32m    663\u001b[0m             \u001b[1;32mif\u001b[0m \u001b[0mself\u001b[0m\u001b[1;33m.\u001b[0m\u001b[0mverbose\u001b[0m\u001b[1;33m:\u001b[0m\u001b[1;33m\u001b[0m\u001b[1;33m\u001b[0m\u001b[0m\n\u001b[0;32m    664\u001b[0m                 \u001b[0mprint\u001b[0m\u001b[1;33m(\u001b[0m\u001b[1;34m\"%.3f\"\u001b[0m \u001b[1;33m%\u001b[0m \u001b[0mself\u001b[0m\u001b[1;33m.\u001b[0m\u001b[0minertia_\u001b[0m\u001b[1;33m,\u001b[0m \u001b[0mend\u001b[0m\u001b[1;33m=\u001b[0m\u001b[1;34m\" --> \"\u001b[0m\u001b[1;33m)\u001b[0m\u001b[1;33m\u001b[0m\u001b[1;33m\u001b[0m\u001b[0m\n",
      "\u001b[1;32mC:\\ProgramData\\Miniconda3\\envs\\mlenv\\lib\\site-packages\\tslearn\\clustering\\kmeans.py\u001b[0m in \u001b[0;36m_assign\u001b[1;34m(self, X, update_class_attributes)\u001b[0m\n\u001b[0;32m    691\u001b[0m \u001b[1;33m\u001b[0m\u001b[0m\n\u001b[0;32m    692\u001b[0m     \u001b[1;32mdef\u001b[0m \u001b[0m_assign\u001b[0m\u001b[1;33m(\u001b[0m\u001b[0mself\u001b[0m\u001b[1;33m,\u001b[0m \u001b[0mX\u001b[0m\u001b[1;33m,\u001b[0m \u001b[0mupdate_class_attributes\u001b[0m\u001b[1;33m=\u001b[0m\u001b[1;32mTrue\u001b[0m\u001b[1;33m)\u001b[0m\u001b[1;33m:\u001b[0m\u001b[1;33m\u001b[0m\u001b[1;33m\u001b[0m\u001b[0m\n\u001b[1;32m--> 693\u001b[1;33m         \u001b[0mdists\u001b[0m \u001b[1;33m=\u001b[0m \u001b[0mself\u001b[0m\u001b[1;33m.\u001b[0m\u001b[0m_transform\u001b[0m\u001b[1;33m(\u001b[0m\u001b[0mX\u001b[0m\u001b[1;33m)\u001b[0m\u001b[1;33m\u001b[0m\u001b[1;33m\u001b[0m\u001b[0m\n\u001b[0m\u001b[0;32m    694\u001b[0m         \u001b[0mmatched_labels\u001b[0m \u001b[1;33m=\u001b[0m \u001b[0mdists\u001b[0m\u001b[1;33m.\u001b[0m\u001b[0margmin\u001b[0m\u001b[1;33m(\u001b[0m\u001b[0maxis\u001b[0m\u001b[1;33m=\u001b[0m\u001b[1;36m1\u001b[0m\u001b[1;33m)\u001b[0m\u001b[1;33m\u001b[0m\u001b[1;33m\u001b[0m\u001b[0m\n\u001b[0;32m    695\u001b[0m         \u001b[1;32mif\u001b[0m \u001b[0mupdate_class_attributes\u001b[0m\u001b[1;33m:\u001b[0m\u001b[1;33m\u001b[0m\u001b[1;33m\u001b[0m\u001b[0m\n",
      "\u001b[1;32mC:\\ProgramData\\Miniconda3\\envs\\mlenv\\lib\\site-packages\\tslearn\\clustering\\kmeans.py\u001b[0m in \u001b[0;36m_transform\u001b[1;34m(self, X)\u001b[0m\n\u001b[0;32m    685\u001b[0m                              verbose=self.verbose, **metric_params)\n\u001b[0;32m    686\u001b[0m         \u001b[1;32melif\u001b[0m \u001b[0mself\u001b[0m\u001b[1;33m.\u001b[0m\u001b[0mmetric\u001b[0m \u001b[1;33m==\u001b[0m \u001b[1;34m\"softdtw\"\u001b[0m\u001b[1;33m:\u001b[0m\u001b[1;33m\u001b[0m\u001b[1;33m\u001b[0m\u001b[0m\n\u001b[1;32m--> 687\u001b[1;33m             \u001b[1;32mreturn\u001b[0m \u001b[0mcdist_soft_dtw\u001b[0m\u001b[1;33m(\u001b[0m\u001b[0mX\u001b[0m\u001b[1;33m,\u001b[0m \u001b[0mself\u001b[0m\u001b[1;33m.\u001b[0m\u001b[0mcluster_centers_\u001b[0m\u001b[1;33m,\u001b[0m \u001b[1;33m**\u001b[0m\u001b[0mmetric_params\u001b[0m\u001b[1;33m)\u001b[0m\u001b[1;33m\u001b[0m\u001b[1;33m\u001b[0m\u001b[0m\n\u001b[0m\u001b[0;32m    688\u001b[0m         \u001b[1;32melse\u001b[0m\u001b[1;33m:\u001b[0m\u001b[1;33m\u001b[0m\u001b[1;33m\u001b[0m\u001b[0m\n\u001b[0;32m    689\u001b[0m             raise ValueError(\"Incorrect metric: %s (should be one of 'dtw', \"\n",
      "\u001b[1;32mC:\\ProgramData\\Miniconda3\\envs\\mlenv\\lib\\site-packages\\tslearn\\metrics\\softdtw_variants.py\u001b[0m in \u001b[0;36mcdist_soft_dtw\u001b[1;34m(dataset1, dataset2, gamma)\u001b[0m\n\u001b[0;32m    528\u001b[0m                 \u001b[0mdists\u001b[0m\u001b[1;33m[\u001b[0m\u001b[0mi\u001b[0m\u001b[1;33m,\u001b[0m \u001b[0mj\u001b[0m\u001b[1;33m]\u001b[0m \u001b[1;33m=\u001b[0m \u001b[0mdists\u001b[0m\u001b[1;33m[\u001b[0m\u001b[0mj\u001b[0m\u001b[1;33m,\u001b[0m \u001b[0mi\u001b[0m\u001b[1;33m]\u001b[0m\u001b[1;33m\u001b[0m\u001b[1;33m\u001b[0m\u001b[0m\n\u001b[0;32m    529\u001b[0m             \u001b[1;32melse\u001b[0m\u001b[1;33m:\u001b[0m\u001b[1;33m\u001b[0m\u001b[1;33m\u001b[0m\u001b[0m\n\u001b[1;32m--> 530\u001b[1;33m                 \u001b[0mdists\u001b[0m\u001b[1;33m[\u001b[0m\u001b[0mi\u001b[0m\u001b[1;33m,\u001b[0m \u001b[0mj\u001b[0m\u001b[1;33m]\u001b[0m \u001b[1;33m=\u001b[0m \u001b[0msoft_dtw\u001b[0m\u001b[1;33m(\u001b[0m\u001b[0mts1_short\u001b[0m\u001b[1;33m,\u001b[0m \u001b[0mts2_short\u001b[0m\u001b[1;33m,\u001b[0m \u001b[0mgamma\u001b[0m\u001b[1;33m=\u001b[0m\u001b[0mgamma\u001b[0m\u001b[1;33m)\u001b[0m\u001b[1;33m\u001b[0m\u001b[1;33m\u001b[0m\u001b[0m\n\u001b[0m\u001b[0;32m    531\u001b[0m \u001b[1;33m\u001b[0m\u001b[0m\n\u001b[0;32m    532\u001b[0m     \u001b[1;32mreturn\u001b[0m \u001b[0mdists\u001b[0m\u001b[1;33m\u001b[0m\u001b[1;33m\u001b[0m\u001b[0m\n",
      "\u001b[1;32mC:\\ProgramData\\Miniconda3\\envs\\mlenv\\lib\\site-packages\\tslearn\\metrics\\softdtw_variants.py\u001b[0m in \u001b[0;36msoft_dtw\u001b[1;34m(ts1, ts2, gamma)\u001b[0m\n\u001b[0;32m    371\u001b[0m     \u001b[1;32mif\u001b[0m \u001b[0mgamma\u001b[0m \u001b[1;33m==\u001b[0m \u001b[1;36m0.\u001b[0m\u001b[1;33m:\u001b[0m\u001b[1;33m\u001b[0m\u001b[1;33m\u001b[0m\u001b[0m\n\u001b[0;32m    372\u001b[0m         \u001b[1;32mreturn\u001b[0m \u001b[0mdtw\u001b[0m\u001b[1;33m(\u001b[0m\u001b[0mts1\u001b[0m\u001b[1;33m,\u001b[0m \u001b[0mts2\u001b[0m\u001b[1;33m)\u001b[0m \u001b[1;33m**\u001b[0m \u001b[1;36m2\u001b[0m\u001b[1;33m\u001b[0m\u001b[1;33m\u001b[0m\u001b[0m\n\u001b[1;32m--> 373\u001b[1;33m     return SoftDTW(SquaredEuclidean(ts1[:ts_size(ts1)], ts2[:ts_size(ts2)]),\n\u001b[0m\u001b[0;32m    374\u001b[0m                    gamma=gamma).compute()\n\u001b[0;32m    375\u001b[0m \u001b[1;33m\u001b[0m\u001b[0m\n",
      "\u001b[1;32mC:\\ProgramData\\Miniconda3\\envs\\mlenv\\lib\\site-packages\\tslearn\\metrics\\softdtw_variants.py\u001b[0m in \u001b[0;36m__init__\u001b[1;34m(self, D, gamma)\u001b[0m\n\u001b[0;32m    621\u001b[0m         \"\"\"\n\u001b[0;32m    622\u001b[0m         \u001b[1;32mif\u001b[0m \u001b[0mhasattr\u001b[0m\u001b[1;33m(\u001b[0m\u001b[0mD\u001b[0m\u001b[1;33m,\u001b[0m \u001b[1;34m\"compute\"\u001b[0m\u001b[1;33m)\u001b[0m\u001b[1;33m:\u001b[0m\u001b[1;33m\u001b[0m\u001b[1;33m\u001b[0m\u001b[0m\n\u001b[1;32m--> 623\u001b[1;33m             \u001b[0mself\u001b[0m\u001b[1;33m.\u001b[0m\u001b[0mD\u001b[0m \u001b[1;33m=\u001b[0m \u001b[0mD\u001b[0m\u001b[1;33m.\u001b[0m\u001b[0mcompute\u001b[0m\u001b[1;33m(\u001b[0m\u001b[1;33m)\u001b[0m\u001b[1;33m\u001b[0m\u001b[1;33m\u001b[0m\u001b[0m\n\u001b[0m\u001b[0;32m    624\u001b[0m         \u001b[1;32melse\u001b[0m\u001b[1;33m:\u001b[0m\u001b[1;33m\u001b[0m\u001b[1;33m\u001b[0m\u001b[0m\n\u001b[0;32m    625\u001b[0m             \u001b[0mself\u001b[0m\u001b[1;33m.\u001b[0m\u001b[0mD\u001b[0m \u001b[1;33m=\u001b[0m \u001b[0mD\u001b[0m\u001b[1;33m\u001b[0m\u001b[1;33m\u001b[0m\u001b[0m\n",
      "\u001b[1;32mC:\\ProgramData\\Miniconda3\\envs\\mlenv\\lib\\site-packages\\tslearn\\metrics\\softdtw_variants.py\u001b[0m in \u001b[0;36mcompute\u001b[1;34m(self)\u001b[0m\n\u001b[0;32m    708\u001b[0m             \u001b[0mDistance\u001b[0m \u001b[0mmatrix\u001b[0m\u001b[1;33m.\u001b[0m\u001b[1;33m\u001b[0m\u001b[1;33m\u001b[0m\u001b[0m\n\u001b[0;32m    709\u001b[0m         \"\"\"\n\u001b[1;32m--> 710\u001b[1;33m         \u001b[1;32mreturn\u001b[0m \u001b[0meuclidean_distances\u001b[0m\u001b[1;33m(\u001b[0m\u001b[0mself\u001b[0m\u001b[1;33m.\u001b[0m\u001b[0mX\u001b[0m\u001b[1;33m,\u001b[0m \u001b[0mself\u001b[0m\u001b[1;33m.\u001b[0m\u001b[0mY\u001b[0m\u001b[1;33m,\u001b[0m \u001b[0msquared\u001b[0m\u001b[1;33m=\u001b[0m\u001b[1;32mTrue\u001b[0m\u001b[1;33m)\u001b[0m\u001b[1;33m\u001b[0m\u001b[1;33m\u001b[0m\u001b[0m\n\u001b[0m\u001b[0;32m    711\u001b[0m \u001b[1;33m\u001b[0m\u001b[0m\n\u001b[0;32m    712\u001b[0m     \u001b[1;32mdef\u001b[0m \u001b[0mjacobian_product\u001b[0m\u001b[1;33m(\u001b[0m\u001b[0mself\u001b[0m\u001b[1;33m,\u001b[0m \u001b[0mE\u001b[0m\u001b[1;33m)\u001b[0m\u001b[1;33m:\u001b[0m\u001b[1;33m\u001b[0m\u001b[1;33m\u001b[0m\u001b[0m\n",
      "\u001b[1;32mC:\\ProgramData\\Miniconda3\\envs\\mlenv\\lib\\site-packages\\sklearn\\utils\\validation.py\u001b[0m in \u001b[0;36minner_f\u001b[1;34m(*args, **kwargs)\u001b[0m\n\u001b[0;32m     61\u001b[0m             \u001b[0mextra_args\u001b[0m \u001b[1;33m=\u001b[0m \u001b[0mlen\u001b[0m\u001b[1;33m(\u001b[0m\u001b[0margs\u001b[0m\u001b[1;33m)\u001b[0m \u001b[1;33m-\u001b[0m \u001b[0mlen\u001b[0m\u001b[1;33m(\u001b[0m\u001b[0mall_args\u001b[0m\u001b[1;33m)\u001b[0m\u001b[1;33m\u001b[0m\u001b[1;33m\u001b[0m\u001b[0m\n\u001b[0;32m     62\u001b[0m             \u001b[1;32mif\u001b[0m \u001b[0mextra_args\u001b[0m \u001b[1;33m<=\u001b[0m \u001b[1;36m0\u001b[0m\u001b[1;33m:\u001b[0m\u001b[1;33m\u001b[0m\u001b[1;33m\u001b[0m\u001b[0m\n\u001b[1;32m---> 63\u001b[1;33m                 \u001b[1;32mreturn\u001b[0m \u001b[0mf\u001b[0m\u001b[1;33m(\u001b[0m\u001b[1;33m*\u001b[0m\u001b[0margs\u001b[0m\u001b[1;33m,\u001b[0m \u001b[1;33m**\u001b[0m\u001b[0mkwargs\u001b[0m\u001b[1;33m)\u001b[0m\u001b[1;33m\u001b[0m\u001b[1;33m\u001b[0m\u001b[0m\n\u001b[0m\u001b[0;32m     64\u001b[0m \u001b[1;33m\u001b[0m\u001b[0m\n\u001b[0;32m     65\u001b[0m             \u001b[1;31m# extra_args > 0\u001b[0m\u001b[1;33m\u001b[0m\u001b[1;33m\u001b[0m\u001b[1;33m\u001b[0m\u001b[0m\n",
      "\u001b[1;32mC:\\ProgramData\\Miniconda3\\envs\\mlenv\\lib\\site-packages\\sklearn\\metrics\\pairwise.py\u001b[0m in \u001b[0;36meuclidean_distances\u001b[1;34m(X, Y, Y_norm_squared, squared, X_norm_squared)\u001b[0m\n\u001b[0;32m    311\u001b[0m     \u001b[1;32melse\u001b[0m\u001b[1;33m:\u001b[0m\u001b[1;33m\u001b[0m\u001b[1;33m\u001b[0m\u001b[0m\n\u001b[0;32m    312\u001b[0m         \u001b[1;31m# if dtype is already float64, no need to chunk and upcast\u001b[0m\u001b[1;33m\u001b[0m\u001b[1;33m\u001b[0m\u001b[1;33m\u001b[0m\u001b[0m\n\u001b[1;32m--> 313\u001b[1;33m         \u001b[0mdistances\u001b[0m \u001b[1;33m=\u001b[0m \u001b[1;33m-\u001b[0m \u001b[1;36m2\u001b[0m \u001b[1;33m*\u001b[0m \u001b[0msafe_sparse_dot\u001b[0m\u001b[1;33m(\u001b[0m\u001b[0mX\u001b[0m\u001b[1;33m,\u001b[0m \u001b[0mY\u001b[0m\u001b[1;33m.\u001b[0m\u001b[0mT\u001b[0m\u001b[1;33m,\u001b[0m \u001b[0mdense_output\u001b[0m\u001b[1;33m=\u001b[0m\u001b[1;32mTrue\u001b[0m\u001b[1;33m)\u001b[0m\u001b[1;33m\u001b[0m\u001b[1;33m\u001b[0m\u001b[0m\n\u001b[0m\u001b[0;32m    314\u001b[0m         \u001b[0mdistances\u001b[0m \u001b[1;33m+=\u001b[0m \u001b[0mXX\u001b[0m\u001b[1;33m\u001b[0m\u001b[1;33m\u001b[0m\u001b[0m\n\u001b[0;32m    315\u001b[0m         \u001b[0mdistances\u001b[0m \u001b[1;33m+=\u001b[0m \u001b[0mYY\u001b[0m\u001b[1;33m\u001b[0m\u001b[1;33m\u001b[0m\u001b[0m\n",
      "\u001b[1;32mC:\\ProgramData\\Miniconda3\\envs\\mlenv\\lib\\site-packages\\sklearn\\utils\\validation.py\u001b[0m in \u001b[0;36minner_f\u001b[1;34m(*args, **kwargs)\u001b[0m\n\u001b[0;32m     61\u001b[0m             \u001b[0mextra_args\u001b[0m \u001b[1;33m=\u001b[0m \u001b[0mlen\u001b[0m\u001b[1;33m(\u001b[0m\u001b[0margs\u001b[0m\u001b[1;33m)\u001b[0m \u001b[1;33m-\u001b[0m \u001b[0mlen\u001b[0m\u001b[1;33m(\u001b[0m\u001b[0mall_args\u001b[0m\u001b[1;33m)\u001b[0m\u001b[1;33m\u001b[0m\u001b[1;33m\u001b[0m\u001b[0m\n\u001b[0;32m     62\u001b[0m             \u001b[1;32mif\u001b[0m \u001b[0mextra_args\u001b[0m \u001b[1;33m<=\u001b[0m \u001b[1;36m0\u001b[0m\u001b[1;33m:\u001b[0m\u001b[1;33m\u001b[0m\u001b[1;33m\u001b[0m\u001b[0m\n\u001b[1;32m---> 63\u001b[1;33m                 \u001b[1;32mreturn\u001b[0m \u001b[0mf\u001b[0m\u001b[1;33m(\u001b[0m\u001b[1;33m*\u001b[0m\u001b[0margs\u001b[0m\u001b[1;33m,\u001b[0m \u001b[1;33m**\u001b[0m\u001b[0mkwargs\u001b[0m\u001b[1;33m)\u001b[0m\u001b[1;33m\u001b[0m\u001b[1;33m\u001b[0m\u001b[0m\n\u001b[0m\u001b[0;32m     64\u001b[0m \u001b[1;33m\u001b[0m\u001b[0m\n\u001b[0;32m     65\u001b[0m             \u001b[1;31m# extra_args > 0\u001b[0m\u001b[1;33m\u001b[0m\u001b[1;33m\u001b[0m\u001b[1;33m\u001b[0m\u001b[0m\n",
      "\u001b[1;32mC:\\ProgramData\\Miniconda3\\envs\\mlenv\\lib\\site-packages\\sklearn\\utils\\extmath.py\u001b[0m in \u001b[0;36msafe_sparse_dot\u001b[1;34m(a, b, dense_output)\u001b[0m\n\u001b[0;32m    150\u001b[0m             \u001b[0mret\u001b[0m \u001b[1;33m=\u001b[0m \u001b[0mnp\u001b[0m\u001b[1;33m.\u001b[0m\u001b[0mdot\u001b[0m\u001b[1;33m(\u001b[0m\u001b[0ma\u001b[0m\u001b[1;33m,\u001b[0m \u001b[0mb\u001b[0m\u001b[1;33m)\u001b[0m\u001b[1;33m\u001b[0m\u001b[1;33m\u001b[0m\u001b[0m\n\u001b[0;32m    151\u001b[0m     \u001b[1;32melse\u001b[0m\u001b[1;33m:\u001b[0m\u001b[1;33m\u001b[0m\u001b[1;33m\u001b[0m\u001b[0m\n\u001b[1;32m--> 152\u001b[1;33m         \u001b[0mret\u001b[0m \u001b[1;33m=\u001b[0m \u001b[0ma\u001b[0m \u001b[1;33m@\u001b[0m \u001b[0mb\u001b[0m\u001b[1;33m\u001b[0m\u001b[1;33m\u001b[0m\u001b[0m\n\u001b[0m\u001b[0;32m    153\u001b[0m \u001b[1;33m\u001b[0m\u001b[0m\n\u001b[0;32m    154\u001b[0m     if (sparse.issparse(a) and sparse.issparse(b)\n",
      "\u001b[1;31mKeyboardInterrupt\u001b[0m: "
     ]
    }
   ],
   "source": [
    "find_kmeans(df_scaled_graph, \"softdtw\", 10)"
   ]
  },
  {
   "cell_type": "code",
   "execution_count": 12,
   "metadata": {},
   "outputs": [
    {
     "output_type": "execute_result",
     "data": {
      "text/plain": [
       "           n\n",
       "time        \n",
       "G45.5  11231\n",
       "G90.5   1067"
      ],
      "text/html": "<div>\n<style scoped>\n    .dataframe tbody tr th:only-of-type {\n        vertical-align: middle;\n    }\n\n    .dataframe tbody tr th {\n        vertical-align: top;\n    }\n\n    .dataframe thead th {\n        text-align: right;\n    }\n</style>\n<table border=\"1\" class=\"dataframe\">\n  <thead>\n    <tr style=\"text-align: right;\">\n      <th></th>\n      <th>n</th>\n    </tr>\n    <tr>\n      <th>time</th>\n      <th></th>\n    </tr>\n  </thead>\n  <tbody>\n    <tr>\n      <th>G45.5</th>\n      <td>11231</td>\n    </tr>\n    <tr>\n      <th>G90.5</th>\n      <td>1067</td>\n    </tr>\n  </tbody>\n</table>\n</div>"
     },
     "metadata": {},
     "execution_count": 12
    }
   ],
   "source": [
    "nulls=pd.DataFrame(df_graph_pivoted.isna().sum(), columns=['n'])\n",
    "#nulls[nulls.n>10000].to_csv('data/nulls.csv')\n",
    "nulls[nulls.n>1000]"
   ]
  },
  {
   "cell_type": "code",
   "execution_count": 7,
   "metadata": {},
   "outputs": [
    {
     "output_type": "execute_result",
     "data": {
      "text/plain": [
       "             mid  time  graph\n",
       "0        5076016   1.0      6\n",
       "1        5076016   2.0      8\n",
       "2        5076016   3.0     10\n",
       "3        5076016   4.0      1\n",
       "4        5076016   5.0    -40\n",
       "...          ...   ...    ...\n",
       "6885171  9270007  87.0     68\n",
       "6885172  9270007  88.0     36\n",
       "6885173  9270007  89.0     15\n",
       "6885174  9270007  90.0      8\n",
       "6885175  9270007  90.5      0\n",
       "\n",
       "[6058978 rows x 3 columns]"
      ],
      "text/html": "<div>\n<style scoped>\n    .dataframe tbody tr th:only-of-type {\n        vertical-align: middle;\n    }\n\n    .dataframe tbody tr th {\n        vertical-align: top;\n    }\n\n    .dataframe thead th {\n        text-align: right;\n    }\n</style>\n<table border=\"1\" class=\"dataframe\">\n  <thead>\n    <tr style=\"text-align: right;\">\n      <th></th>\n      <th>mid</th>\n      <th>time</th>\n      <th>graph</th>\n    </tr>\n  </thead>\n  <tbody>\n    <tr>\n      <th>0</th>\n      <td>5076016</td>\n      <td>1.0</td>\n      <td>6</td>\n    </tr>\n    <tr>\n      <th>1</th>\n      <td>5076016</td>\n      <td>2.0</td>\n      <td>8</td>\n    </tr>\n    <tr>\n      <th>2</th>\n      <td>5076016</td>\n      <td>3.0</td>\n      <td>10</td>\n    </tr>\n    <tr>\n      <th>3</th>\n      <td>5076016</td>\n      <td>4.0</td>\n      <td>1</td>\n    </tr>\n    <tr>\n      <th>4</th>\n      <td>5076016</td>\n      <td>5.0</td>\n      <td>-40</td>\n    </tr>\n    <tr>\n      <th>...</th>\n      <td>...</td>\n      <td>...</td>\n      <td>...</td>\n    </tr>\n    <tr>\n      <th>6885171</th>\n      <td>9270007</td>\n      <td>87.0</td>\n      <td>68</td>\n    </tr>\n    <tr>\n      <th>6885172</th>\n      <td>9270007</td>\n      <td>88.0</td>\n      <td>36</td>\n    </tr>\n    <tr>\n      <th>6885173</th>\n      <td>9270007</td>\n      <td>89.0</td>\n      <td>15</td>\n    </tr>\n    <tr>\n      <th>6885174</th>\n      <td>9270007</td>\n      <td>90.0</td>\n      <td>8</td>\n    </tr>\n    <tr>\n      <th>6885175</th>\n      <td>9270007</td>\n      <td>90.5</td>\n      <td>0</td>\n    </tr>\n  </tbody>\n</table>\n<p>6058978 rows × 3 columns</p>\n</div>"
     },
     "metadata": {},
     "execution_count": 7
    }
   ],
   "source": [
    "\n",
    "df_graph"
   ]
  },
  {
   "cell_type": "code",
   "execution_count": 6,
   "metadata": {},
   "outputs": [
    {
     "output_type": "execute_result",
     "data": {
      "text/plain": [
       "Index(['awayScoreHT', 'country', 'country_id', 'ds', 'homeScoreHT', 'liga',\n",
       "       'mid', 'round', 'sc1', 'sc2', 't1', 't2', 'tid1', 'tid2', 'winner',\n",
       "       'formation_h', 'formation_a', 'home_formation', 'away_formation',\n",
       "       'vote_home', 'vote_draw', 'vote_away', 'pop_r'],\n",
       "      dtype='object')"
      ]
     },
     "metadata": {},
     "execution_count": 6
    }
   ],
   "source": [
    "df.columns"
   ]
  },
  {
   "cell_type": "code",
   "execution_count": 3,
   "metadata": {},
   "outputs": [
    {
     "output_type": "execute_result",
     "data": {
      "text/plain": [
       "array([0.49217639, 0.23613087, 0.27169275, 0.        , 0.        ,\n",
       "       0.        , 0.        , 0.        , 0.        , 0.        ,\n",
       "       0.        , 0.        , 0.        , 0.        , 0.        ,\n",
       "       0.        , 0.        , 0.        , 1.        , 0.        ,\n",
       "       0.        , 0.        , 0.        , 0.        , 0.        ,\n",
       "       0.        , 0.        , 0.        , 0.        , 0.        ,\n",
       "       0.        , 0.        , 0.        , 0.        , 0.        ,\n",
       "       0.        , 0.        , 0.        , 0.        , 0.        ,\n",
       "       0.        , 0.        , 0.        , 0.        , 0.        ,\n",
       "       0.        , 0.        , 0.        , 0.        , 0.        ,\n",
       "       0.        , 0.        , 0.        , 0.        , 0.        ,\n",
       "       0.        , 0.        , 0.        , 0.        , 0.        ,\n",
       "       0.        , 0.        , 0.        , 0.        , 0.        ,\n",
       "       0.        , 0.        , 0.        , 0.        , 0.        ,\n",
       "       0.        , 0.        , 0.        , 0.        , 0.        ,\n",
       "       0.        , 0.        , 1.        , 0.        , 0.        ,\n",
       "       0.        , 0.        , 0.        , 0.        , 0.        ,\n",
       "       0.        , 0.        , 0.        , 0.        , 0.        ,\n",
       "       0.        , 0.        , 0.        , 0.        , 0.        ,\n",
       "       0.        , 0.        , 0.        , 0.        , 0.        ,\n",
       "       0.        , 0.        , 0.        , 0.        , 0.        ,\n",
       "       0.        , 0.        , 0.        , 0.        , 0.        ,\n",
       "       0.        , 0.        , 0.        , 0.        , 0.        ,\n",
       "       0.        , 0.        , 0.        , 0.        , 0.        ,\n",
       "       0.        , 1.        , 0.        , 0.        , 0.        ,\n",
       "       0.        , 0.        , 0.        , 0.        , 0.        ,\n",
       "       0.        , 0.        , 0.        , 0.        , 0.        ,\n",
       "       0.        , 0.        , 0.        , 0.        , 0.        ,\n",
       "       0.        , 0.        , 0.        , 0.        , 1.        ,\n",
       "       0.        , 0.        , 0.        , 0.        , 0.        ,\n",
       "       0.        , 0.        , 0.        , 1.        , 0.        ,\n",
       "       0.        ])"
      ]
     },
     "metadata": {},
     "execution_count": 3
    }
   ],
   "source": [
    "data[0]"
   ]
  },
  {
   "cell_type": "code",
   "execution_count": 4,
   "metadata": {},
   "outputs": [
    {
     "output_type": "execute_result",
     "data": {
      "text/plain": [
       "array([1., 0., 0.])"
      ]
     },
     "metadata": {},
     "execution_count": 4
    }
   ],
   "source": [
    "labels[0]"
   ]
  },
  {
   "source": [
    "# Analysis"
   ],
   "cell_type": "markdown",
   "metadata": {}
  },
  {
   "source": [
    "data_train, data_test, labels_train, labels_test, info_train, info_test = train_test_split(data, labels, info, test_size=0.2, random_state=42)\n",
    "print(data_train.shape, data_test.shape)"
   ],
   "cell_type": "code",
   "metadata": {},
   "execution_count": 3,
   "outputs": [
    {
     "output_type": "stream",
     "name": "stdout",
     "text": [
      "(69716, 156) (17429, 156)\n"
     ]
    }
   ]
  },
  {
   "source": [
    "df.isnull().any()"
   ],
   "cell_type": "markdown",
   "metadata": {}
  },
  {
   "cell_type": "code",
   "execution_count": 4,
   "metadata": {},
   "outputs": [],
   "source": [
    "def get_model(n_inputs, n_outputs):\n",
    "    model = Sequential()\n",
    "    model.add(Dense(1024, input_dim=n_inputs, kernel_initializer='he_uniform', activation='relu'))\n",
    "    #model.add(Dropout(0.2))\n",
    "    model.add(Dense(512, input_dim=n_inputs, kernel_initializer='he_uniform', activation='relu'))\n",
    "    #model.add(Dropout(0.2))\n",
    "    model.add(Dense(64, input_dim=n_inputs, kernel_initializer='he_uniform', activation='relu'))\n",
    "    model.add(Dense(16, input_dim=n_inputs, kernel_initializer='he_uniform', activation='relu'))\n",
    "    model.add(Dense(n_outputs, activation='sigmoid'))\n",
    "    model.compile(loss='binary_crossentropy', optimizer='adam')\n",
    "    return model\n",
    "\n",
    "def evaluate_model(X, y):\n",
    "    results = list()\n",
    "    n_inputs, n_outputs = X.shape[1], y.shape[1]\n",
    "    # define evaluation procedure\n",
    "    cv = RepeatedKFold(n_splits=5, n_repeats=3, random_state=1)\n",
    "    # enumerate folds\n",
    "    for train_ix, test_ix in cv.split(X):\n",
    "        # prepare data\n",
    "        X_train, X_test = X[train_ix], X[test_ix]\n",
    "        y_train, y_test = y[train_ix], y[test_ix]\n",
    "        # define model\n",
    "        model = get_model(n_inputs, n_outputs)\n",
    "        # fit model\n",
    "        model.fit(X_train, y_train, epochs=10)\n",
    "        # make a prediction on the test set\n",
    "        yhat = model.predict(X_test)\n",
    "        # round probabilities to class labels\n",
    "        yhat = yhat.round()\n",
    "        # calculate accuracy\n",
    "        acc = accuracy_score(y_test, yhat)\n",
    "        # store result\n",
    "        print('>%.3f' % acc)\n",
    "        results.append(acc)\n",
    "        break\n",
    "    return results, model"
   ]
  },
  {
   "cell_type": "code",
   "execution_count": 5,
   "metadata": {},
   "outputs": [
    {
     "output_type": "stream",
     "name": "stdout",
     "text": [
      "Epoch 1/10\n",
      "1743/1743 [==============================] - 19s 10ms/step - loss: 0.6016\n",
      "Epoch 2/10\n",
      "1743/1743 [==============================] - 18s 10ms/step - loss: 0.5796\n",
      "Epoch 3/10\n",
      "1743/1743 [==============================] - 18s 10ms/step - loss: 0.5621\n",
      "Epoch 4/10\n",
      "1743/1743 [==============================] - 18s 10ms/step - loss: 0.5315\n",
      "Epoch 5/10\n",
      "1743/1743 [==============================] - 18s 10ms/step - loss: 0.4865\n",
      "Epoch 6/10\n",
      "1743/1743 [==============================] - 18s 10ms/step - loss: 0.4308\n",
      "Epoch 7/10\n",
      "1743/1743 [==============================] - 17s 10ms/step - loss: 0.3800\n",
      "Epoch 8/10\n",
      "1743/1743 [==============================] - 18s 10ms/step - loss: 0.3285\n",
      "Epoch 9/10\n",
      "1743/1743 [==============================] - 17s 10ms/step - loss: 0.2902\n",
      "Epoch 10/10\n",
      "1743/1743 [==============================] - 18s 10ms/step - loss: 0.2617\n",
      ">0.500\n",
      "Accuracy: 0.500 (0.000)\n"
     ]
    }
   ],
   "source": [
    "results, model = evaluate_model(data_train, labels_train)\n",
    "# summarize performance\n",
    "print('Accuracy: %.3f (%.3f)' % (np.mean(results), np.std(results)))"
   ]
  },
  {
   "cell_type": "code",
   "execution_count": 10,
   "metadata": {},
   "outputs": [],
   "source": [
    "yhat = model.predict(data_test)"
   ]
  },
  {
   "cell_type": "code",
   "execution_count": 14,
   "metadata": {},
   "outputs": [],
   "source": [
    "def odds2prob(df):\n",
    "    df['odds_away']=1/df['odds_away']\n",
    "    df['odds_draw']=1/df['odds_draw']\n",
    "    df['odds_home']=1/df['odds_home']\n",
    "    df['margin']=df[['odds_away','odds_draw','odds_home']].sum(axis=1)\n",
    "    df['odds_away']=df['odds_away']/df['margin']\n",
    "    df['odds_draw']=df['odds_draw']/df['margin']\n",
    "    df['odds_home']=df['odds_home']/df['margin']\n",
    "    return df[['odds_away','odds_draw','odds_home']]"
   ]
  },
  {
   "cell_type": "code",
   "execution_count": 18,
   "metadata": {},
   "outputs": [
    {
     "output_type": "execute_result",
     "data": {
      "text/plain": [
       "           mid                        ts        country  \\\n",
       "10600  6897580 2015-11-07 14:00:00+00:00          italy   \n",
       "47569  7895571 2018-11-10 15:15:00+00:00          spain   \n",
       "17246  6834033 2016-10-07 00:45:00+00:00  south-america   \n",
       "71236  8747958 2020-08-23 19:00:00+00:00         brazil   \n",
       "64437  8246175 2020-02-15 19:00:00+00:00         france   \n",
       "...        ...                       ...            ...   \n",
       "64995  8247260 2020-02-28 19:00:00+00:00         france   \n",
       "40229  7471896 2017-09-30 17:30:00+00:00        romania   \n",
       "80026  8747900 2020-09-05 22:00:00+00:00         brazil   \n",
       "80557  9030877 2020-09-27 23:30:00+00:00       paraguay   \n",
       "16955  7163394 2016-09-25 11:30:00+00:00         russia   \n",
       "\n",
       "                             tournament  home_tid  away_tid  \\\n",
       "10600                           serie-b      1212       419   \n",
       "47569                            laliga       925      2106   \n",
       "17246  world-cup-qualification-conmebol       324       302   \n",
       "71236                brasileiro-serie-a      2119       961   \n",
       "64437                           ligue-1      2017      1490   \n",
       "...                                 ...       ...       ...   \n",
       "64995                           ligue-2      1883      1694   \n",
       "40229                            liga-i       582       169   \n",
       "80026                brasileiro-serie-a       493       316   \n",
       "80557         primera-division-apertura       912       966   \n",
       "16955                    premier-league       158        70   \n",
       "\n",
       "            homeTeamShort  homeScoreHT  homeScoreFT awayTeamShort  \\\n",
       "10600  Latina Calcio 1932          0.0          1.0        Cesena   \n",
       "47569              Getafe          0.0          0.0      Valencia   \n",
       "17246              Brazil          4.0          5.0       Bolivia   \n",
       "71236               Vasco          0.0          0.0        Grêmio   \n",
       "64437            Toulouse          0.0          0.0          Nice   \n",
       "...                   ...          ...          ...           ...   \n",
       "64995             Sochaux          0.0          1.0         Rodez   \n",
       "40229           Dinamo B.          0.0          1.0         Astra   \n",
       "80026         Corinthians          1.0          2.0      Botafogo   \n",
       "80557        General Díaz          0.0          0.0       Guaraní   \n",
       "16955             Arsenal          0.0          0.0        Akhmat   \n",
       "\n",
       "       awayScoreHT  awayScoreFT winner  \n",
       "10600          0.0          0.0   home  \n",
       "47569          0.0          1.0   away  \n",
       "17246          0.0          0.0   home  \n",
       "71236          0.0          0.0   draw  \n",
       "64437          1.0          2.0   away  \n",
       "...            ...          ...    ...  \n",
       "64995          0.0          1.0   draw  \n",
       "40229          0.0          1.0   draw  \n",
       "80026          1.0          2.0   draw  \n",
       "80557          0.0          1.0   away  \n",
       "16955          0.0          0.0   draw  \n",
       "\n",
       "[17879 rows x 13 columns]"
      ],
      "text/html": "<div>\n<style scoped>\n    .dataframe tbody tr th:only-of-type {\n        vertical-align: middle;\n    }\n\n    .dataframe tbody tr th {\n        vertical-align: top;\n    }\n\n    .dataframe thead th {\n        text-align: right;\n    }\n</style>\n<table border=\"1\" class=\"dataframe\">\n  <thead>\n    <tr style=\"text-align: right;\">\n      <th></th>\n      <th>mid</th>\n      <th>ts</th>\n      <th>country</th>\n      <th>tournament</th>\n      <th>home_tid</th>\n      <th>away_tid</th>\n      <th>homeTeamShort</th>\n      <th>homeScoreHT</th>\n      <th>homeScoreFT</th>\n      <th>awayTeamShort</th>\n      <th>awayScoreHT</th>\n      <th>awayScoreFT</th>\n      <th>winner</th>\n    </tr>\n  </thead>\n  <tbody>\n    <tr>\n      <th>10600</th>\n      <td>6897580</td>\n      <td>2015-11-07 14:00:00+00:00</td>\n      <td>italy</td>\n      <td>serie-b</td>\n      <td>1212</td>\n      <td>419</td>\n      <td>Latina Calcio 1932</td>\n      <td>0.0</td>\n      <td>1.0</td>\n      <td>Cesena</td>\n      <td>0.0</td>\n      <td>0.0</td>\n      <td>home</td>\n    </tr>\n    <tr>\n      <th>47569</th>\n      <td>7895571</td>\n      <td>2018-11-10 15:15:00+00:00</td>\n      <td>spain</td>\n      <td>laliga</td>\n      <td>925</td>\n      <td>2106</td>\n      <td>Getafe</td>\n      <td>0.0</td>\n      <td>0.0</td>\n      <td>Valencia</td>\n      <td>0.0</td>\n      <td>1.0</td>\n      <td>away</td>\n    </tr>\n    <tr>\n      <th>17246</th>\n      <td>6834033</td>\n      <td>2016-10-07 00:45:00+00:00</td>\n      <td>south-america</td>\n      <td>world-cup-qualification-conmebol</td>\n      <td>324</td>\n      <td>302</td>\n      <td>Brazil</td>\n      <td>4.0</td>\n      <td>5.0</td>\n      <td>Bolivia</td>\n      <td>0.0</td>\n      <td>0.0</td>\n      <td>home</td>\n    </tr>\n    <tr>\n      <th>71236</th>\n      <td>8747958</td>\n      <td>2020-08-23 19:00:00+00:00</td>\n      <td>brazil</td>\n      <td>brasileiro-serie-a</td>\n      <td>2119</td>\n      <td>961</td>\n      <td>Vasco</td>\n      <td>0.0</td>\n      <td>0.0</td>\n      <td>Grêmio</td>\n      <td>0.0</td>\n      <td>0.0</td>\n      <td>draw</td>\n    </tr>\n    <tr>\n      <th>64437</th>\n      <td>8246175</td>\n      <td>2020-02-15 19:00:00+00:00</td>\n      <td>france</td>\n      <td>ligue-1</td>\n      <td>2017</td>\n      <td>1490</td>\n      <td>Toulouse</td>\n      <td>0.0</td>\n      <td>0.0</td>\n      <td>Nice</td>\n      <td>1.0</td>\n      <td>2.0</td>\n      <td>away</td>\n    </tr>\n    <tr>\n      <th>...</th>\n      <td>...</td>\n      <td>...</td>\n      <td>...</td>\n      <td>...</td>\n      <td>...</td>\n      <td>...</td>\n      <td>...</td>\n      <td>...</td>\n      <td>...</td>\n      <td>...</td>\n      <td>...</td>\n      <td>...</td>\n      <td>...</td>\n    </tr>\n    <tr>\n      <th>64995</th>\n      <td>8247260</td>\n      <td>2020-02-28 19:00:00+00:00</td>\n      <td>france</td>\n      <td>ligue-2</td>\n      <td>1883</td>\n      <td>1694</td>\n      <td>Sochaux</td>\n      <td>0.0</td>\n      <td>1.0</td>\n      <td>Rodez</td>\n      <td>0.0</td>\n      <td>1.0</td>\n      <td>draw</td>\n    </tr>\n    <tr>\n      <th>40229</th>\n      <td>7471896</td>\n      <td>2017-09-30 17:30:00+00:00</td>\n      <td>romania</td>\n      <td>liga-i</td>\n      <td>582</td>\n      <td>169</td>\n      <td>Dinamo B.</td>\n      <td>0.0</td>\n      <td>1.0</td>\n      <td>Astra</td>\n      <td>0.0</td>\n      <td>1.0</td>\n      <td>draw</td>\n    </tr>\n    <tr>\n      <th>80026</th>\n      <td>8747900</td>\n      <td>2020-09-05 22:00:00+00:00</td>\n      <td>brazil</td>\n      <td>brasileiro-serie-a</td>\n      <td>493</td>\n      <td>316</td>\n      <td>Corinthians</td>\n      <td>1.0</td>\n      <td>2.0</td>\n      <td>Botafogo</td>\n      <td>1.0</td>\n      <td>2.0</td>\n      <td>draw</td>\n    </tr>\n    <tr>\n      <th>80557</th>\n      <td>9030877</td>\n      <td>2020-09-27 23:30:00+00:00</td>\n      <td>paraguay</td>\n      <td>primera-division-apertura</td>\n      <td>912</td>\n      <td>966</td>\n      <td>General Díaz</td>\n      <td>0.0</td>\n      <td>0.0</td>\n      <td>Guaraní</td>\n      <td>0.0</td>\n      <td>1.0</td>\n      <td>away</td>\n    </tr>\n    <tr>\n      <th>16955</th>\n      <td>7163394</td>\n      <td>2016-09-25 11:30:00+00:00</td>\n      <td>russia</td>\n      <td>premier-league</td>\n      <td>158</td>\n      <td>70</td>\n      <td>Arsenal</td>\n      <td>0.0</td>\n      <td>0.0</td>\n      <td>Akhmat</td>\n      <td>0.0</td>\n      <td>0.0</td>\n      <td>draw</td>\n    </tr>\n  </tbody>\n</table>\n<p>17879 rows × 13 columns</p>\n</div>"
     },
     "metadata": {},
     "execution_count": 18
    }
   ],
   "source": [
    "info_test"
   ]
  },
  {
   "cell_type": "code",
   "execution_count": 30,
   "metadata": {},
   "outputs": [
    {
     "output_type": "display_data",
     "data": {
      "text/plain": "   Name    TP    TN    FP    FN  Accuracy  Prevalence  Sensitivity  \\\n0  HOME  4686  4837  2930  1898     0.664       0.459        0.712   \n1  DRAW  1446  8871  1944  2090     0.719       0.246        0.409   \n2  AWAY  1930  8674  1446  2301     0.739       0.295        0.456   \n\n   Specificity    PPV    NPV    AUC     F1  Threshold  \n0        0.623  0.615  0.718  0.667  0.660        0.5  \n1        0.820  0.427  0.809  0.615  0.418        0.5  \n2        0.857  0.572  0.790  0.657  0.507        0.5  ",
      "text/html": "<div>\n<style scoped>\n    .dataframe tbody tr th:only-of-type {\n        vertical-align: middle;\n    }\n\n    .dataframe tbody tr th {\n        vertical-align: top;\n    }\n\n    .dataframe thead th {\n        text-align: right;\n    }\n</style>\n<table border=\"1\" class=\"dataframe\">\n  <thead>\n    <tr style=\"text-align: right;\">\n      <th></th>\n      <th>Name</th>\n      <th>TP</th>\n      <th>TN</th>\n      <th>FP</th>\n      <th>FN</th>\n      <th>Accuracy</th>\n      <th>Prevalence</th>\n      <th>Sensitivity</th>\n      <th>Specificity</th>\n      <th>PPV</th>\n      <th>NPV</th>\n      <th>AUC</th>\n      <th>F1</th>\n      <th>Threshold</th>\n    </tr>\n  </thead>\n  <tbody>\n    <tr>\n      <th>0</th>\n      <td>HOME</td>\n      <td>4686</td>\n      <td>4837</td>\n      <td>2930</td>\n      <td>1898</td>\n      <td>0.664</td>\n      <td>0.459</td>\n      <td>0.712</td>\n      <td>0.623</td>\n      <td>0.615</td>\n      <td>0.718</td>\n      <td>0.667</td>\n      <td>0.660</td>\n      <td>0.5</td>\n    </tr>\n    <tr>\n      <th>1</th>\n      <td>DRAW</td>\n      <td>1446</td>\n      <td>8871</td>\n      <td>1944</td>\n      <td>2090</td>\n      <td>0.719</td>\n      <td>0.246</td>\n      <td>0.409</td>\n      <td>0.820</td>\n      <td>0.427</td>\n      <td>0.809</td>\n      <td>0.615</td>\n      <td>0.418</td>\n      <td>0.5</td>\n    </tr>\n    <tr>\n      <th>2</th>\n      <td>AWAY</td>\n      <td>1930</td>\n      <td>8674</td>\n      <td>1446</td>\n      <td>2301</td>\n      <td>0.739</td>\n      <td>0.295</td>\n      <td>0.456</td>\n      <td>0.857</td>\n      <td>0.572</td>\n      <td>0.790</td>\n      <td>0.657</td>\n      <td>0.507</td>\n      <td>0.5</td>\n    </tr>\n  </tbody>\n</table>\n</div>"
     },
     "metadata": {}
    }
   ],
   "source": [
    "from api.predictions_converter import PredictionsConverter\n",
    "#conv_bookies=PredictionsConverter('op', api.util.odds2prob(info_test.copy()).values, labels_test, info_test.copy(), odds=False)\n",
    "#conv_bookies.make_df()\n",
    "conv=PredictionsConverter('op', yhat, labels_test, info_test.copy(), odds=False)\n",
    "conv.make_df()\n",
    "\n",
    "#conv_bookies.profit()\n",
    "#conv.profit()\n",
    "#conv_bookies.performance_metrics()\n",
    "conv.performance_metrics()"
   ]
  },
  {
   "cell_type": "code",
   "execution_count": 31,
   "metadata": {},
   "outputs": [
    {
     "output_type": "display_data",
     "data": {
      "text/plain": "   Name    TP     TN    FP    FN  Accuracy  Prevalence  Sensitivity  \\\n0  HOME  5201   5544  3525  2373     0.646       0.455        0.687   \n1  DRAW  1620  10126  2353  2544     0.706       0.250        0.389   \n2  AWAY  2137   9931  1807  2768     0.725       0.295        0.436   \n\n   Specificity    PPV    NPV    AUC     F1  Threshold  \n0        0.611  0.596  0.700  0.649  0.638        0.5  \n1        0.811  0.408  0.799  0.600  0.398        0.5  \n2        0.846  0.542  0.782  0.641  0.483        0.5  ",
      "text/html": "<div>\n<style scoped>\n    .dataframe tbody tr th:only-of-type {\n        vertical-align: middle;\n    }\n\n    .dataframe tbody tr th {\n        vertical-align: top;\n    }\n\n    .dataframe thead th {\n        text-align: right;\n    }\n</style>\n<table border=\"1\" class=\"dataframe\">\n  <thead>\n    <tr style=\"text-align: right;\">\n      <th></th>\n      <th>Name</th>\n      <th>TP</th>\n      <th>TN</th>\n      <th>FP</th>\n      <th>FN</th>\n      <th>Accuracy</th>\n      <th>Prevalence</th>\n      <th>Sensitivity</th>\n      <th>Specificity</th>\n      <th>PPV</th>\n      <th>NPV</th>\n      <th>AUC</th>\n      <th>F1</th>\n      <th>Threshold</th>\n    </tr>\n  </thead>\n  <tbody>\n    <tr>\n      <th>0</th>\n      <td>HOME</td>\n      <td>5201</td>\n      <td>5544</td>\n      <td>3525</td>\n      <td>2373</td>\n      <td>0.646</td>\n      <td>0.455</td>\n      <td>0.687</td>\n      <td>0.611</td>\n      <td>0.596</td>\n      <td>0.700</td>\n      <td>0.649</td>\n      <td>0.638</td>\n      <td>0.5</td>\n    </tr>\n    <tr>\n      <th>1</th>\n      <td>DRAW</td>\n      <td>1620</td>\n      <td>10126</td>\n      <td>2353</td>\n      <td>2544</td>\n      <td>0.706</td>\n      <td>0.250</td>\n      <td>0.389</td>\n      <td>0.811</td>\n      <td>0.408</td>\n      <td>0.799</td>\n      <td>0.600</td>\n      <td>0.398</td>\n      <td>0.5</td>\n    </tr>\n    <tr>\n      <th>2</th>\n      <td>AWAY</td>\n      <td>2137</td>\n      <td>9931</td>\n      <td>1807</td>\n      <td>2768</td>\n      <td>0.725</td>\n      <td>0.295</td>\n      <td>0.436</td>\n      <td>0.846</td>\n      <td>0.542</td>\n      <td>0.782</td>\n      <td>0.641</td>\n      <td>0.483</td>\n      <td>0.5</td>\n    </tr>\n  </tbody>\n</table>\n</div>"
     },
     "metadata": {}
    }
   ],
   "source": [
    "#conv_bookies1=PredictionsConverter('op', odds2prob(info_test.copy()).values, labels_test, info_test.copy())\n",
    "#conv_bookies1.make_df(threshold='max')\n",
    "conv1=PredictionsConverter('op', yhat, labels_test, info_test.copy(), odds=False)\n",
    "conv1.make_df(threshold='max')\n",
    "\n",
    "#conv_bookies1.profit()\n",
    "#conv1.profit()\n",
    "#conv_bookies1.performance_metrics()\n",
    "conv1.performance_metrics()"
   ]
  },
  {
   "cell_type": "code",
   "execution_count": null,
   "metadata": {},
   "outputs": [],
   "source": []
  }
 ]
}