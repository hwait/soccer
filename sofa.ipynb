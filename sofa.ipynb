{
 "metadata": {
  "language_info": {
   "codemirror_mode": {
    "name": "ipython",
    "version": 3
   },
   "file_extension": ".py",
   "mimetype": "text/x-python",
   "name": "python",
   "nbconvert_exporter": "python",
   "pygments_lexer": "ipython3",
   "version": "3.8.5-final"
  },
  "orig_nbformat": 2,
  "kernelspec": {
   "name": "python3",
   "display_name": "Python 3.8.5 64-bit ('mlenv': conda)",
   "metadata": {
    "interpreter": {
     "hash": "12f2fd9a8da6c9ddda222d67ff20ee53b82617d5a9ac88eb47f60b586ce1b05e"
    }
   }
  }
 },
 "nbformat": 4,
 "nbformat_minor": 2,
 "cells": [
  {
   "cell_type": "code",
   "execution_count": 1,
   "metadata": {},
   "outputs": [],
   "source": [
    "import os\n",
    "import pandas as pd\n",
    "import numpy as np\n",
    "import seaborn as sns\n",
    "import pickle\n",
    "\n",
    "from sklearn.preprocessing import LabelEncoder,OneHotEncoder\n",
    "from sklearn.model_selection import RepeatedKFold,train_test_split\n",
    "import tensorflow as tf\n",
    "from tensorflow import keras\n",
    "from tensorflow.keras.layers import Dense, BatchNormalization,Dropout\n",
    "from tensorflow.keras.models import Sequential\n",
    "from sklearn.metrics import accuracy_score\n",
    "\n",
    "import api.util\n",
    "from api.predictions_converter import PredictionsConverter\n",
    "from api.sofa_dp import SofaDataProvider\n",
    "\n",
    "from IPython.display import display\n",
    "pd.options.display.max_columns = None\n",
    "%load_ext autoreload\n",
    "%autoreload 2"
   ]
  },
  {
   "cell_type": "code",
   "execution_count": 2,
   "metadata": {},
   "outputs": [],
   "source": [
    "dp=SofaDataProvider(load=False)\n",
    "data, labels, info, df=dp.provide_data()\n",
    "#df=dp._load_data()"
   ]
  },
  {
   "cell_type": "code",
   "execution_count": 6,
   "metadata": {},
   "outputs": [
    {
     "output_type": "execute_result",
     "data": {
      "text/plain": [
       "Index(['awayScoreHT', 'country', 'country_id', 'ds', 'homeScoreHT', 'liga',\n",
       "       'mid', 'round', 'sc1', 'sc2', 't1', 't2', 'tid1', 'tid2', 'winner',\n",
       "       'formation_h', 'formation_a', 'home_formation', 'away_formation',\n",
       "       'vote_home', 'vote_draw', 'vote_away', 'pop_r'],\n",
       "      dtype='object')"
      ]
     },
     "metadata": {},
     "execution_count": 6
    }
   ],
   "source": [
    "df.columns"
   ]
  },
  {
   "cell_type": "code",
   "execution_count": 3,
   "metadata": {},
   "outputs": [
    {
     "output_type": "execute_result",
     "data": {
      "text/plain": [
       "array([0.49217639, 0.23613087, 0.27169275, 0.        , 0.        ,\n",
       "       0.        , 0.        , 0.        , 0.        , 0.        ,\n",
       "       0.        , 0.        , 0.        , 0.        , 0.        ,\n",
       "       0.        , 0.        , 0.        , 1.        , 0.        ,\n",
       "       0.        , 0.        , 0.        , 0.        , 0.        ,\n",
       "       0.        , 0.        , 0.        , 0.        , 0.        ,\n",
       "       0.        , 0.        , 0.        , 0.        , 0.        ,\n",
       "       0.        , 0.        , 0.        , 0.        , 0.        ,\n",
       "       0.        , 0.        , 0.        , 0.        , 0.        ,\n",
       "       0.        , 0.        , 0.        , 0.        , 0.        ,\n",
       "       0.        , 0.        , 0.        , 0.        , 0.        ,\n",
       "       0.        , 0.        , 0.        , 0.        , 0.        ,\n",
       "       0.        , 0.        , 0.        , 0.        , 0.        ,\n",
       "       0.        , 0.        , 0.        , 0.        , 0.        ,\n",
       "       0.        , 0.        , 0.        , 0.        , 0.        ,\n",
       "       0.        , 0.        , 1.        , 0.        , 0.        ,\n",
       "       0.        , 0.        , 0.        , 0.        , 0.        ,\n",
       "       0.        , 0.        , 0.        , 0.        , 0.        ,\n",
       "       0.        , 0.        , 0.        , 0.        , 0.        ,\n",
       "       0.        , 0.        , 0.        , 0.        , 0.        ,\n",
       "       0.        , 0.        , 0.        , 0.        , 0.        ,\n",
       "       0.        , 0.        , 0.        , 0.        , 0.        ,\n",
       "       0.        , 0.        , 0.        , 0.        , 0.        ,\n",
       "       0.        , 0.        , 0.        , 0.        , 0.        ,\n",
       "       0.        , 1.        , 0.        , 0.        , 0.        ,\n",
       "       0.        , 0.        , 0.        , 0.        , 0.        ,\n",
       "       0.        , 0.        , 0.        , 0.        , 0.        ,\n",
       "       0.        , 0.        , 0.        , 0.        , 0.        ,\n",
       "       0.        , 0.        , 0.        , 0.        , 1.        ,\n",
       "       0.        , 0.        , 0.        , 0.        , 0.        ,\n",
       "       0.        , 0.        , 0.        , 1.        , 0.        ,\n",
       "       0.        ])"
      ]
     },
     "metadata": {},
     "execution_count": 3
    }
   ],
   "source": [
    "data[0]"
   ]
  },
  {
   "cell_type": "code",
   "execution_count": 4,
   "metadata": {},
   "outputs": [
    {
     "output_type": "execute_result",
     "data": {
      "text/plain": [
       "array([1., 0., 0.])"
      ]
     },
     "metadata": {},
     "execution_count": 4
    }
   ],
   "source": [
    "labels[0]"
   ]
  },
  {
   "source": [
    "# Analysis"
   ],
   "cell_type": "markdown",
   "metadata": {}
  },
  {
   "source": [
    "data_train, data_test, labels_train, labels_test, info_train, info_test = train_test_split(data, labels, info, test_size=0.2, random_state=42)\n",
    "print(data_train.shape, data_test.shape)"
   ],
   "cell_type": "code",
   "metadata": {},
   "execution_count": 3,
   "outputs": [
    {
     "output_type": "stream",
     "name": "stdout",
     "text": [
      "(69716, 156) (17429, 156)\n"
     ]
    }
   ]
  },
  {
   "source": [
    "df.isnull().any()"
   ],
   "cell_type": "markdown",
   "metadata": {}
  },
  {
   "cell_type": "code",
   "execution_count": 4,
   "metadata": {},
   "outputs": [],
   "source": [
    "def get_model(n_inputs, n_outputs):\n",
    "    model = Sequential()\n",
    "    model.add(Dense(1024, input_dim=n_inputs, kernel_initializer='he_uniform', activation='relu'))\n",
    "    #model.add(Dropout(0.2))\n",
    "    model.add(Dense(512, input_dim=n_inputs, kernel_initializer='he_uniform', activation='relu'))\n",
    "    #model.add(Dropout(0.2))\n",
    "    model.add(Dense(64, input_dim=n_inputs, kernel_initializer='he_uniform', activation='relu'))\n",
    "    model.add(Dense(16, input_dim=n_inputs, kernel_initializer='he_uniform', activation='relu'))\n",
    "    model.add(Dense(n_outputs, activation='sigmoid'))\n",
    "    model.compile(loss='binary_crossentropy', optimizer='adam')\n",
    "    return model\n",
    "\n",
    "def evaluate_model(X, y):\n",
    "    results = list()\n",
    "    n_inputs, n_outputs = X.shape[1], y.shape[1]\n",
    "    # define evaluation procedure\n",
    "    cv = RepeatedKFold(n_splits=5, n_repeats=3, random_state=1)\n",
    "    # enumerate folds\n",
    "    for train_ix, test_ix in cv.split(X):\n",
    "        # prepare data\n",
    "        X_train, X_test = X[train_ix], X[test_ix]\n",
    "        y_train, y_test = y[train_ix], y[test_ix]\n",
    "        # define model\n",
    "        model = get_model(n_inputs, n_outputs)\n",
    "        # fit model\n",
    "        model.fit(X_train, y_train, epochs=10)\n",
    "        # make a prediction on the test set\n",
    "        yhat = model.predict(X_test)\n",
    "        # round probabilities to class labels\n",
    "        yhat = yhat.round()\n",
    "        # calculate accuracy\n",
    "        acc = accuracy_score(y_test, yhat)\n",
    "        # store result\n",
    "        print('>%.3f' % acc)\n",
    "        results.append(acc)\n",
    "        break\n",
    "    return results, model"
   ]
  },
  {
   "cell_type": "code",
   "execution_count": 5,
   "metadata": {},
   "outputs": [
    {
     "output_type": "stream",
     "name": "stdout",
     "text": [
      "Epoch 1/10\n",
      "1743/1743 [==============================] - 19s 10ms/step - loss: 0.6016\n",
      "Epoch 2/10\n",
      "1743/1743 [==============================] - 18s 10ms/step - loss: 0.5796\n",
      "Epoch 3/10\n",
      "1743/1743 [==============================] - 18s 10ms/step - loss: 0.5621\n",
      "Epoch 4/10\n",
      "1743/1743 [==============================] - 18s 10ms/step - loss: 0.5315\n",
      "Epoch 5/10\n",
      "1743/1743 [==============================] - 18s 10ms/step - loss: 0.4865\n",
      "Epoch 6/10\n",
      "1743/1743 [==============================] - 18s 10ms/step - loss: 0.4308\n",
      "Epoch 7/10\n",
      "1743/1743 [==============================] - 17s 10ms/step - loss: 0.3800\n",
      "Epoch 8/10\n",
      "1743/1743 [==============================] - 18s 10ms/step - loss: 0.3285\n",
      "Epoch 9/10\n",
      "1743/1743 [==============================] - 17s 10ms/step - loss: 0.2902\n",
      "Epoch 10/10\n",
      "1743/1743 [==============================] - 18s 10ms/step - loss: 0.2617\n",
      ">0.500\n",
      "Accuracy: 0.500 (0.000)\n"
     ]
    }
   ],
   "source": [
    "results, model = evaluate_model(data_train, labels_train)\n",
    "# summarize performance\n",
    "print('Accuracy: %.3f (%.3f)' % (np.mean(results), np.std(results)))"
   ]
  },
  {
   "cell_type": "code",
   "execution_count": 10,
   "metadata": {},
   "outputs": [],
   "source": [
    "yhat = model.predict(data_test)"
   ]
  },
  {
   "cell_type": "code",
   "execution_count": 14,
   "metadata": {},
   "outputs": [],
   "source": [
    "def odds2prob(df):\n",
    "    df['odds_away']=1/df['odds_away']\n",
    "    df['odds_draw']=1/df['odds_draw']\n",
    "    df['odds_home']=1/df['odds_home']\n",
    "    df['margin']=df[['odds_away','odds_draw','odds_home']].sum(axis=1)\n",
    "    df['odds_away']=df['odds_away']/df['margin']\n",
    "    df['odds_draw']=df['odds_draw']/df['margin']\n",
    "    df['odds_home']=df['odds_home']/df['margin']\n",
    "    return df[['odds_away','odds_draw','odds_home']]"
   ]
  },
  {
   "cell_type": "code",
   "execution_count": 18,
   "metadata": {},
   "outputs": [
    {
     "output_type": "execute_result",
     "data": {
      "text/plain": [
       "           mid                        ts        country  \\\n",
       "10600  6897580 2015-11-07 14:00:00+00:00          italy   \n",
       "47569  7895571 2018-11-10 15:15:00+00:00          spain   \n",
       "17246  6834033 2016-10-07 00:45:00+00:00  south-america   \n",
       "71236  8747958 2020-08-23 19:00:00+00:00         brazil   \n",
       "64437  8246175 2020-02-15 19:00:00+00:00         france   \n",
       "...        ...                       ...            ...   \n",
       "64995  8247260 2020-02-28 19:00:00+00:00         france   \n",
       "40229  7471896 2017-09-30 17:30:00+00:00        romania   \n",
       "80026  8747900 2020-09-05 22:00:00+00:00         brazil   \n",
       "80557  9030877 2020-09-27 23:30:00+00:00       paraguay   \n",
       "16955  7163394 2016-09-25 11:30:00+00:00         russia   \n",
       "\n",
       "                             tournament  home_tid  away_tid  \\\n",
       "10600                           serie-b      1212       419   \n",
       "47569                            laliga       925      2106   \n",
       "17246  world-cup-qualification-conmebol       324       302   \n",
       "71236                brasileiro-serie-a      2119       961   \n",
       "64437                           ligue-1      2017      1490   \n",
       "...                                 ...       ...       ...   \n",
       "64995                           ligue-2      1883      1694   \n",
       "40229                            liga-i       582       169   \n",
       "80026                brasileiro-serie-a       493       316   \n",
       "80557         primera-division-apertura       912       966   \n",
       "16955                    premier-league       158        70   \n",
       "\n",
       "            homeTeamShort  homeScoreHT  homeScoreFT awayTeamShort  \\\n",
       "10600  Latina Calcio 1932          0.0          1.0        Cesena   \n",
       "47569              Getafe          0.0          0.0      Valencia   \n",
       "17246              Brazil          4.0          5.0       Bolivia   \n",
       "71236               Vasco          0.0          0.0        Grêmio   \n",
       "64437            Toulouse          0.0          0.0          Nice   \n",
       "...                   ...          ...          ...           ...   \n",
       "64995             Sochaux          0.0          1.0         Rodez   \n",
       "40229           Dinamo B.          0.0          1.0         Astra   \n",
       "80026         Corinthians          1.0          2.0      Botafogo   \n",
       "80557        General Díaz          0.0          0.0       Guaraní   \n",
       "16955             Arsenal          0.0          0.0        Akhmat   \n",
       "\n",
       "       awayScoreHT  awayScoreFT winner  \n",
       "10600          0.0          0.0   home  \n",
       "47569          0.0          1.0   away  \n",
       "17246          0.0          0.0   home  \n",
       "71236          0.0          0.0   draw  \n",
       "64437          1.0          2.0   away  \n",
       "...            ...          ...    ...  \n",
       "64995          0.0          1.0   draw  \n",
       "40229          0.0          1.0   draw  \n",
       "80026          1.0          2.0   draw  \n",
       "80557          0.0          1.0   away  \n",
       "16955          0.0          0.0   draw  \n",
       "\n",
       "[17879 rows x 13 columns]"
      ],
      "text/html": "<div>\n<style scoped>\n    .dataframe tbody tr th:only-of-type {\n        vertical-align: middle;\n    }\n\n    .dataframe tbody tr th {\n        vertical-align: top;\n    }\n\n    .dataframe thead th {\n        text-align: right;\n    }\n</style>\n<table border=\"1\" class=\"dataframe\">\n  <thead>\n    <tr style=\"text-align: right;\">\n      <th></th>\n      <th>mid</th>\n      <th>ts</th>\n      <th>country</th>\n      <th>tournament</th>\n      <th>home_tid</th>\n      <th>away_tid</th>\n      <th>homeTeamShort</th>\n      <th>homeScoreHT</th>\n      <th>homeScoreFT</th>\n      <th>awayTeamShort</th>\n      <th>awayScoreHT</th>\n      <th>awayScoreFT</th>\n      <th>winner</th>\n    </tr>\n  </thead>\n  <tbody>\n    <tr>\n      <th>10600</th>\n      <td>6897580</td>\n      <td>2015-11-07 14:00:00+00:00</td>\n      <td>italy</td>\n      <td>serie-b</td>\n      <td>1212</td>\n      <td>419</td>\n      <td>Latina Calcio 1932</td>\n      <td>0.0</td>\n      <td>1.0</td>\n      <td>Cesena</td>\n      <td>0.0</td>\n      <td>0.0</td>\n      <td>home</td>\n    </tr>\n    <tr>\n      <th>47569</th>\n      <td>7895571</td>\n      <td>2018-11-10 15:15:00+00:00</td>\n      <td>spain</td>\n      <td>laliga</td>\n      <td>925</td>\n      <td>2106</td>\n      <td>Getafe</td>\n      <td>0.0</td>\n      <td>0.0</td>\n      <td>Valencia</td>\n      <td>0.0</td>\n      <td>1.0</td>\n      <td>away</td>\n    </tr>\n    <tr>\n      <th>17246</th>\n      <td>6834033</td>\n      <td>2016-10-07 00:45:00+00:00</td>\n      <td>south-america</td>\n      <td>world-cup-qualification-conmebol</td>\n      <td>324</td>\n      <td>302</td>\n      <td>Brazil</td>\n      <td>4.0</td>\n      <td>5.0</td>\n      <td>Bolivia</td>\n      <td>0.0</td>\n      <td>0.0</td>\n      <td>home</td>\n    </tr>\n    <tr>\n      <th>71236</th>\n      <td>8747958</td>\n      <td>2020-08-23 19:00:00+00:00</td>\n      <td>brazil</td>\n      <td>brasileiro-serie-a</td>\n      <td>2119</td>\n      <td>961</td>\n      <td>Vasco</td>\n      <td>0.0</td>\n      <td>0.0</td>\n      <td>Grêmio</td>\n      <td>0.0</td>\n      <td>0.0</td>\n      <td>draw</td>\n    </tr>\n    <tr>\n      <th>64437</th>\n      <td>8246175</td>\n      <td>2020-02-15 19:00:00+00:00</td>\n      <td>france</td>\n      <td>ligue-1</td>\n      <td>2017</td>\n      <td>1490</td>\n      <td>Toulouse</td>\n      <td>0.0</td>\n      <td>0.0</td>\n      <td>Nice</td>\n      <td>1.0</td>\n      <td>2.0</td>\n      <td>away</td>\n    </tr>\n    <tr>\n      <th>...</th>\n      <td>...</td>\n      <td>...</td>\n      <td>...</td>\n      <td>...</td>\n      <td>...</td>\n      <td>...</td>\n      <td>...</td>\n      <td>...</td>\n      <td>...</td>\n      <td>...</td>\n      <td>...</td>\n      <td>...</td>\n      <td>...</td>\n    </tr>\n    <tr>\n      <th>64995</th>\n      <td>8247260</td>\n      <td>2020-02-28 19:00:00+00:00</td>\n      <td>france</td>\n      <td>ligue-2</td>\n      <td>1883</td>\n      <td>1694</td>\n      <td>Sochaux</td>\n      <td>0.0</td>\n      <td>1.0</td>\n      <td>Rodez</td>\n      <td>0.0</td>\n      <td>1.0</td>\n      <td>draw</td>\n    </tr>\n    <tr>\n      <th>40229</th>\n      <td>7471896</td>\n      <td>2017-09-30 17:30:00+00:00</td>\n      <td>romania</td>\n      <td>liga-i</td>\n      <td>582</td>\n      <td>169</td>\n      <td>Dinamo B.</td>\n      <td>0.0</td>\n      <td>1.0</td>\n      <td>Astra</td>\n      <td>0.0</td>\n      <td>1.0</td>\n      <td>draw</td>\n    </tr>\n    <tr>\n      <th>80026</th>\n      <td>8747900</td>\n      <td>2020-09-05 22:00:00+00:00</td>\n      <td>brazil</td>\n      <td>brasileiro-serie-a</td>\n      <td>493</td>\n      <td>316</td>\n      <td>Corinthians</td>\n      <td>1.0</td>\n      <td>2.0</td>\n      <td>Botafogo</td>\n      <td>1.0</td>\n      <td>2.0</td>\n      <td>draw</td>\n    </tr>\n    <tr>\n      <th>80557</th>\n      <td>9030877</td>\n      <td>2020-09-27 23:30:00+00:00</td>\n      <td>paraguay</td>\n      <td>primera-division-apertura</td>\n      <td>912</td>\n      <td>966</td>\n      <td>General Díaz</td>\n      <td>0.0</td>\n      <td>0.0</td>\n      <td>Guaraní</td>\n      <td>0.0</td>\n      <td>1.0</td>\n      <td>away</td>\n    </tr>\n    <tr>\n      <th>16955</th>\n      <td>7163394</td>\n      <td>2016-09-25 11:30:00+00:00</td>\n      <td>russia</td>\n      <td>premier-league</td>\n      <td>158</td>\n      <td>70</td>\n      <td>Arsenal</td>\n      <td>0.0</td>\n      <td>0.0</td>\n      <td>Akhmat</td>\n      <td>0.0</td>\n      <td>0.0</td>\n      <td>draw</td>\n    </tr>\n  </tbody>\n</table>\n<p>17879 rows × 13 columns</p>\n</div>"
     },
     "metadata": {},
     "execution_count": 18
    }
   ],
   "source": [
    "info_test"
   ]
  },
  {
   "cell_type": "code",
   "execution_count": 30,
   "metadata": {},
   "outputs": [
    {
     "output_type": "display_data",
     "data": {
      "text/plain": "   Name    TP    TN    FP    FN  Accuracy  Prevalence  Sensitivity  \\\n0  HOME  4686  4837  2930  1898     0.664       0.459        0.712   \n1  DRAW  1446  8871  1944  2090     0.719       0.246        0.409   \n2  AWAY  1930  8674  1446  2301     0.739       0.295        0.456   \n\n   Specificity    PPV    NPV    AUC     F1  Threshold  \n0        0.623  0.615  0.718  0.667  0.660        0.5  \n1        0.820  0.427  0.809  0.615  0.418        0.5  \n2        0.857  0.572  0.790  0.657  0.507        0.5  ",
      "text/html": "<div>\n<style scoped>\n    .dataframe tbody tr th:only-of-type {\n        vertical-align: middle;\n    }\n\n    .dataframe tbody tr th {\n        vertical-align: top;\n    }\n\n    .dataframe thead th {\n        text-align: right;\n    }\n</style>\n<table border=\"1\" class=\"dataframe\">\n  <thead>\n    <tr style=\"text-align: right;\">\n      <th></th>\n      <th>Name</th>\n      <th>TP</th>\n      <th>TN</th>\n      <th>FP</th>\n      <th>FN</th>\n      <th>Accuracy</th>\n      <th>Prevalence</th>\n      <th>Sensitivity</th>\n      <th>Specificity</th>\n      <th>PPV</th>\n      <th>NPV</th>\n      <th>AUC</th>\n      <th>F1</th>\n      <th>Threshold</th>\n    </tr>\n  </thead>\n  <tbody>\n    <tr>\n      <th>0</th>\n      <td>HOME</td>\n      <td>4686</td>\n      <td>4837</td>\n      <td>2930</td>\n      <td>1898</td>\n      <td>0.664</td>\n      <td>0.459</td>\n      <td>0.712</td>\n      <td>0.623</td>\n      <td>0.615</td>\n      <td>0.718</td>\n      <td>0.667</td>\n      <td>0.660</td>\n      <td>0.5</td>\n    </tr>\n    <tr>\n      <th>1</th>\n      <td>DRAW</td>\n      <td>1446</td>\n      <td>8871</td>\n      <td>1944</td>\n      <td>2090</td>\n      <td>0.719</td>\n      <td>0.246</td>\n      <td>0.409</td>\n      <td>0.820</td>\n      <td>0.427</td>\n      <td>0.809</td>\n      <td>0.615</td>\n      <td>0.418</td>\n      <td>0.5</td>\n    </tr>\n    <tr>\n      <th>2</th>\n      <td>AWAY</td>\n      <td>1930</td>\n      <td>8674</td>\n      <td>1446</td>\n      <td>2301</td>\n      <td>0.739</td>\n      <td>0.295</td>\n      <td>0.456</td>\n      <td>0.857</td>\n      <td>0.572</td>\n      <td>0.790</td>\n      <td>0.657</td>\n      <td>0.507</td>\n      <td>0.5</td>\n    </tr>\n  </tbody>\n</table>\n</div>"
     },
     "metadata": {}
    }
   ],
   "source": [
    "from api.predictions_converter import PredictionsConverter\n",
    "#conv_bookies=PredictionsConverter('op', api.util.odds2prob(info_test.copy()).values, labels_test, info_test.copy(), odds=False)\n",
    "#conv_bookies.make_df()\n",
    "conv=PredictionsConverter('op', yhat, labels_test, info_test.copy(), odds=False)\n",
    "conv.make_df()\n",
    "\n",
    "#conv_bookies.profit()\n",
    "#conv.profit()\n",
    "#conv_bookies.performance_metrics()\n",
    "conv.performance_metrics()"
   ]
  },
  {
   "cell_type": "code",
   "execution_count": 31,
   "metadata": {},
   "outputs": [
    {
     "output_type": "display_data",
     "data": {
      "text/plain": "   Name    TP     TN    FP    FN  Accuracy  Prevalence  Sensitivity  \\\n0  HOME  5201   5544  3525  2373     0.646       0.455        0.687   \n1  DRAW  1620  10126  2353  2544     0.706       0.250        0.389   \n2  AWAY  2137   9931  1807  2768     0.725       0.295        0.436   \n\n   Specificity    PPV    NPV    AUC     F1  Threshold  \n0        0.611  0.596  0.700  0.649  0.638        0.5  \n1        0.811  0.408  0.799  0.600  0.398        0.5  \n2        0.846  0.542  0.782  0.641  0.483        0.5  ",
      "text/html": "<div>\n<style scoped>\n    .dataframe tbody tr th:only-of-type {\n        vertical-align: middle;\n    }\n\n    .dataframe tbody tr th {\n        vertical-align: top;\n    }\n\n    .dataframe thead th {\n        text-align: right;\n    }\n</style>\n<table border=\"1\" class=\"dataframe\">\n  <thead>\n    <tr style=\"text-align: right;\">\n      <th></th>\n      <th>Name</th>\n      <th>TP</th>\n      <th>TN</th>\n      <th>FP</th>\n      <th>FN</th>\n      <th>Accuracy</th>\n      <th>Prevalence</th>\n      <th>Sensitivity</th>\n      <th>Specificity</th>\n      <th>PPV</th>\n      <th>NPV</th>\n      <th>AUC</th>\n      <th>F1</th>\n      <th>Threshold</th>\n    </tr>\n  </thead>\n  <tbody>\n    <tr>\n      <th>0</th>\n      <td>HOME</td>\n      <td>5201</td>\n      <td>5544</td>\n      <td>3525</td>\n      <td>2373</td>\n      <td>0.646</td>\n      <td>0.455</td>\n      <td>0.687</td>\n      <td>0.611</td>\n      <td>0.596</td>\n      <td>0.700</td>\n      <td>0.649</td>\n      <td>0.638</td>\n      <td>0.5</td>\n    </tr>\n    <tr>\n      <th>1</th>\n      <td>DRAW</td>\n      <td>1620</td>\n      <td>10126</td>\n      <td>2353</td>\n      <td>2544</td>\n      <td>0.706</td>\n      <td>0.250</td>\n      <td>0.389</td>\n      <td>0.811</td>\n      <td>0.408</td>\n      <td>0.799</td>\n      <td>0.600</td>\n      <td>0.398</td>\n      <td>0.5</td>\n    </tr>\n    <tr>\n      <th>2</th>\n      <td>AWAY</td>\n      <td>2137</td>\n      <td>9931</td>\n      <td>1807</td>\n      <td>2768</td>\n      <td>0.725</td>\n      <td>0.295</td>\n      <td>0.436</td>\n      <td>0.846</td>\n      <td>0.542</td>\n      <td>0.782</td>\n      <td>0.641</td>\n      <td>0.483</td>\n      <td>0.5</td>\n    </tr>\n  </tbody>\n</table>\n</div>"
     },
     "metadata": {}
    }
   ],
   "source": [
    "#conv_bookies1=PredictionsConverter('op', odds2prob(info_test.copy()).values, labels_test, info_test.copy())\n",
    "#conv_bookies1.make_df(threshold='max')\n",
    "conv1=PredictionsConverter('op', yhat, labels_test, info_test.copy(), odds=False)\n",
    "conv1.make_df(threshold='max')\n",
    "\n",
    "#conv_bookies1.profit()\n",
    "#conv1.profit()\n",
    "#conv_bookies1.performance_metrics()\n",
    "conv1.performance_metrics()"
   ]
  },
  {
   "cell_type": "code",
   "execution_count": null,
   "metadata": {},
   "outputs": [],
   "source": []
  }
 ]
}