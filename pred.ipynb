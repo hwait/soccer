{
 "metadata": {
  "language_info": {
   "codemirror_mode": {
    "name": "ipython",
    "version": 3
   },
   "file_extension": ".py",
   "mimetype": "text/x-python",
   "name": "python",
   "nbconvert_exporter": "python",
   "pygments_lexer": "ipython3",
   "version": "3.8.5-final"
  },
  "orig_nbformat": 2,
  "kernelspec": {
   "name": "python3",
   "display_name": "Python 3.8.5 64-bit ('mlenv': conda)",
   "metadata": {
    "interpreter": {
     "hash": "12f2fd9a8da6c9ddda222d67ff20ee53b82617d5a9ac88eb47f60b586ce1b05e"
    }
   }
  }
 },
 "nbformat": 4,
 "nbformat_minor": 2,
 "cells": [
  {
   "cell_type": "code",
   "execution_count": 1,
   "metadata": {},
   "outputs": [],
   "source": [
    "import os\n",
    "import pandas as pd\n",
    "import numpy as np\n",
    "import seaborn as sns\n",
    "import pickle\n",
    "\n",
    "from sklearn.preprocessing import LabelEncoder,OneHotEncoder,MinMaxScaler\n",
    "from sklearn.model_selection import RepeatedKFold,train_test_split\n",
    "import shap\n",
    "import tensorflow as tf\n",
    "from tensorflow import keras\n",
    "import tensorflow.keras.backend \n",
    "from tensorflow.keras.layers import Dense, BatchNormalization,Dropout\n",
    "from tensorflow.keras.models import Sequential\n",
    "from tensorflow.keras.callbacks import ModelCheckpoint\n",
    "from sklearn.metrics import accuracy_score\n",
    "\n",
    "\n",
    "import api.util\n",
    "from api.predictions_converter import PredictionsConverter\n",
    "from api.sofa_dp import SofaDataProvider\n",
    "\n",
    "from IPython.display import display\n",
    "pd.options.display.max_columns = None\n",
    "%load_ext autoreload\n",
    "%autoreload 2"
   ]
  },
  {
   "cell_type": "code",
   "execution_count": 50,
   "metadata": {},
   "outputs": [],
   "source": [
    "def checkpoint(name):\n",
    "    return ModelCheckpoint(f'checkpoints/model_{name}.hdf5', monitor='val_acc', verbose=0, save_best_only=True, mode='max')"
   ]
  },
  {
   "cell_type": "code",
   "execution_count": 2,
   "metadata": {},
   "outputs": [],
   "source": [
    "df_all=pd.read_csv('data/stats_generated.csv', index_col=None)\n",
    "df_all['vop1']=df_all['vote1']-df_all['oddsprob_home']\n",
    "df_all['vopx']=df_all['votex']-df_all['oddsprob_draw']\n",
    "df_all['vop2']=df_all['vote2']-df_all['oddsprob_away']\n"
   ]
  },
  {
   "source": [
    "list(df_all.columns)"
   ],
   "cell_type": "markdown",
   "metadata": {}
  },
  {
   "cell_type": "code",
   "execution_count": 3,
   "metadata": {},
   "outputs": [],
   "source": [
    "includes=['vote1', 'votex', 'vote2','elo1','elo2','drift_home', 'drift_away', 'drift_draw','oddsprob_home', 'oddsprob_draw', 'oddsprob_away']\n",
    "cols=[x for x in df_all.columns if x!='round.1' and x!='ds.1']\n",
    "cols=[x for x in cols if not any(i in x for i in includes)]\n",
    "cols=[x for x in cols if  not 'ht1' in x and not 'ht2' in x and not 'ps_ht' in x]\n",
    "cols=[x for x in cols if not 'tar_' in x and not 'opp_' in x]\n",
    "#cols1=[x for x in df_all.columns if '_form' in x]\n",
    "cols=cols+includes\n"
   ]
  },
  {
   "source": [
    "list(cols)"
   ],
   "cell_type": "markdown",
   "metadata": {}
  },
  {
   "cell_type": "code",
   "execution_count": 95,
   "metadata": {},
   "outputs": [
    {
     "output_type": "execute_result",
     "data": {
      "text/plain": [
       "Index(['tar_w2_tt_avg', 'tar_ft1_tt_avg', 'tar_ft2_tt_avg', 'tar_ps_ft_tt_avg',\n",
       "       'tar_oddsprob_home_tt_avg', 'tar_oddsprob_draw_tt_avg',\n",
       "       'tar_oddsprob_away_tt_avg', 'tar_w1_tt_form', 'tar_wx_tt_form',\n",
       "       'tar_w2_tt_form',\n",
       "       ...\n",
       "       'vote1', 'votex', 'vote2', 'elo1', 'elo2', 'drift_home', 'drift_away',\n",
       "       'drift_draw', 'sch', 'sca'],\n",
       "      dtype='object', length=121)"
      ]
     },
     "metadata": {},
     "execution_count": 95
    }
   ],
   "source": [
    "df.columns[start:]"
   ]
  },
  {
   "source": [
    "nulls=pd.DataFrame(df.isna().sum(), columns=['n'])\n",
    "#nulls[nulls.n>10000].to_csv('data/nulls.csv')\n",
    "nulls[nulls.n>10000].index"
   ],
   "cell_type": "code",
   "metadata": {},
   "execution_count": 96,
   "outputs": [
    {
     "output_type": "execute_result",
     "data": {
      "text/plain": [
       "Index([], dtype='object')"
      ]
     },
     "metadata": {},
     "execution_count": 96
    }
   ]
  },
  {
   "source": [
    "cols"
   ],
   "cell_type": "markdown",
   "metadata": {}
  },
  {
   "source": [
    "df[df.tid1==594].to_csv('data/ttt1.csv', index=False)\n",
    "df[df.tid1==1499].to_csv('data/ttt2.csv', index=False)\n",
    "df[df.mid==9270007].to_csv('data/ttt.csv', index=False)"
   ],
   "cell_type": "markdown",
   "metadata": {}
  },
  {
   "cell_type": "code",
   "execution_count": 47,
   "metadata": {},
   "outputs": [
    {
     "output_type": "execute_result",
     "data": {
      "text/plain": [
       "((135580, 182), (135580, 30))"
      ]
     },
     "metadata": {},
     "execution_count": 47
    }
   ],
   "source": [
    "COL_CUR=['side', 'country_id', 'round', 'ds', 'de', 'form1', 'form2', 'vote1', 'votex', 'vote2', 'pop_r', 'elo1', 'elo2']\n",
    "COL_PREV=['w1', 'wx', 'w2',  'ht1', 'ht2', 'ft1', 'ft2', 'ps_ht', 'ps_ft']\n",
    "COL_CAT=['country_id','form1', 'form2']\n",
    "COL_BIN=['side']\n",
    "COL_INF=['country', 'liga', 'mid', 'round', 'ds', 't1', 't2','tid1', 'tid2', 'w1', 'wx', 'w2',  'ft1', 'ft2','winner','odds_away','odds_draw','odds_home']\n",
    "\n",
    "\n",
    "#df=pd.read_csv('data/stats_generated.csv', index_col=None)\n",
    "start=29\n",
    "df=df_all[cols]\n",
    "df['elo1'].fillna((df['elo1'].mean()), inplace=True)\n",
    "df['elo2'].fillna((df['elo2'].mean()), inplace=True)\n",
    "nulls=pd.DataFrame(df.isna().sum(), columns=['n'])\n",
    "cols_null=[x for x in nulls[nulls.n>60000].index if x not in COL_INF]\n",
    "cols=[x for x in cols if x not in cols_null]\n",
    "\n",
    "\n",
    "for col in COL_INF:\n",
    "    df.loc[df[col].isnull(),col]=0\n",
    "\n",
    "#df=df.dropna()\n",
    "df=df.fillna(0)\n",
    "#[df[col].fillna(df[col].mean(), inplace=True) for col in df.columns[start:]]\n",
    "\n",
    "scaler=MinMaxScaler()\n",
    "nums=scaler.fit_transform(df[df.columns[start:]].values)\n",
    "nums_df=pd.DataFrame(nums, columns=df.columns[start:])\n",
    "df.reset_index(drop=True, inplace=True)\n",
    "df=pd.concat([df[df.columns[:start]],nums_df], axis=1)\n",
    "\n",
    "nums1=df[['vote1', 'votex', 'vote2',]].values\n",
    "\n",
    "df_info=df[COL_INF]\n",
    "\n",
    "encoder = OneHotEncoder()\n",
    "pop_r=encoder.fit_transform(df[['pop_r']]).toarray()\n",
    "#side=df[['side']].values\n",
    "rounds=encoder.fit_transform(df[['round']]).toarray()\n",
    "countries=encoder.fit_transform(df[['country_id']]).toarray()\n",
    "encoder = OneHotEncoder()\n",
    "form1=encoder.fit_transform(df[['form1']]).toarray()\n",
    "encoder = OneHotEncoder()\n",
    "form2=encoder.fit_transform(df[['form2']]).toarray()\n",
    "side=df[['side']].values\n",
    "\n",
    "#data=np.hstack([nums,nums1,pop_r,rounds,countries,form1,form2])\n",
    "data=np.hstack([nums,nums1,side,pop_r,rounds,countries,form1,form2])\n",
    "\n",
    "df['gd']=df['ft1']-df['ft2']\n",
    "df['gd']=np.where(df['gd']>5,6,df['gd'])\n",
    "df['gd']=np.where(df['gd']<-5,-6,df['gd'])\n",
    "scgd=pd.get_dummies(df['gd'], prefix='gd')\n",
    "\n",
    "df['sch']=np.where(df['ft1']>5,6,df['ft1'])\n",
    "df['sca']=np.where(df['ft2']>5,6,df['ft2'])\n",
    "sch=pd.get_dummies(df['sch'], prefix='sch')\n",
    "sca=pd.get_dummies(df['sca'], prefix='sca')\n",
    "labels=np.hstack([df[['w1', 'wx', 'w2']].values,sch.values,sca.values,scgd.values])\n",
    "#labels=np.hstack([scgd.values])\n",
    "#labels=df[['w1', 'wx', 'w2']].values\n",
    "\n",
    "data.shape,labels.shape"
   ]
  },
  {
   "source": [
    "# Analysis"
   ],
   "cell_type": "markdown",
   "metadata": {}
  },
  {
   "source": [
    "data_train, data_test, labels_train, labels_test, info_train, info_test = train_test_split(data, labels, df_info, test_size=0.2, random_state=42)\n",
    "print(data_train.shape, data_test.shape)"
   ],
   "cell_type": "code",
   "metadata": {},
   "execution_count": 48,
   "outputs": [
    {
     "output_type": "stream",
     "name": "stdout",
     "text": [
      "(108464, 182) (27116, 182)\n"
     ]
    }
   ]
  },
  {
   "cell_type": "code",
   "execution_count": 168,
   "metadata": {},
   "outputs": [
    {
     "output_type": "execute_result",
     "data": {
      "text/plain": [
       "array([[1, 0, 0, ..., 0, 0, 0],\n",
       "       [0, 1, 0, ..., 0, 0, 0],\n",
       "       [0, 0, 1, ..., 0, 0, 0],\n",
       "       ...,\n",
       "       [0, 0, 1, ..., 0, 0, 0],\n",
       "       [1, 0, 0, ..., 0, 0, 0],\n",
       "       [0, 0, 1, ..., 0, 0, 0]], dtype=int64)"
      ]
     },
     "metadata": {},
     "execution_count": 168
    }
   ],
   "source": [
    "labels_train"
   ]
  },
  {
   "source": [
    "df.isnull().any()"
   ],
   "cell_type": "markdown",
   "metadata": {}
  },
  {
   "cell_type": "code",
   "execution_count": 116,
   "metadata": {},
   "outputs": [],
   "source": [
    "def get_model(n_inputs, n_outputs):\n",
    "    model = Sequential()\n",
    "    #model.add(Dense(1024, input_dim=n_inputs, kernel_initializer='he_uniform', activation='relu'))\n",
    "    #model.add(Dense(1024, input_dim=n_inputs, kernel_initializer='he_uniform', activation='relu'))\n",
    "    model.add(Dense(512, input_dim=n_inputs, kernel_initializer='he_uniform', activation='relu'))\n",
    "    model.add(Dense(1024, input_dim=n_inputs, kernel_initializer='he_uniform', activation='relu'))\n",
    "    #model.add(Dense(1024, input_dim=n_inputs, kernel_initializer='he_uniform', activation='relu'))\n",
    "    #model.add(BatchNormalization())\n",
    "    #model.add(Dropout(0.4))\n",
    "    model.add(Dense(512, input_dim=n_inputs, kernel_initializer='he_uniform', activation='relu'))\n",
    "    #model.add(Dropout(0.4))\n",
    "    #model.add(Dense(64, input_dim=n_inputs, kernel_initializer='he_uniform', activation='relu'))\n",
    "    #model.add(Dense(n_outputs, activation='softmax'))\n",
    "    model.add(Dense(n_outputs, activation='sigmoid'))\n",
    "    #model.compile(loss='mean_squared_error', optimizer='adam', metrics = ['accuracy'])\n",
    "    model.compile(loss='binary_crossentropy', optimizer='adam', metrics = ['accuracy'])\n",
    "    #model.compile(loss='categorical_crossentropy', optimizer='adam', metrics = ['accuracy'])\n",
    "    return model\n",
    "\n",
    "def evaluate_model(X, y, bs=64):\n",
    "    results = list()\n",
    "    n_inputs, n_outputs = X.shape[1], y.shape[1]\n",
    "    # define evaluation procedure\n",
    "    cv = RepeatedKFold(n_splits=3, n_repeats=2, random_state=1)\n",
    "    # enumerate folds\n",
    "    for train_ix, val_ix in cv.split(X):\n",
    "        # prepare data\n",
    "        X_train, X_val = X[train_ix], X[val_ix]\n",
    "        y_train, y_val = y[train_ix], y[val_ix]\n",
    "        # define model\n",
    "        model = get_model(n_inputs, n_outputs)\n",
    "        # fit model\n",
    "        model.fit(X_train, y_train, batch_size = bs, epochs=30)\n",
    "        # make a prediction on the test set\n",
    "        yhat = model.predict(X_val)\n",
    "        # round probabilities to class labels\n",
    "        yhat = yhat.round()\n",
    "        # calculate accuracy\n",
    "        acc = accuracy_score(y_val, yhat)\n",
    "        # store result\n",
    "        print('>%.3f' % acc)\n",
    "        results.append(acc)\n",
    "        #break\n",
    "    return results, model"
   ]
  },
  {
   "source": [
    "model.save('models/512-1024-1024-512.keras')"
   ],
   "cell_type": "markdown",
   "metadata": {}
  },
  {
   "cell_type": "code",
   "execution_count": 118,
   "metadata": {},
   "outputs": [
    {
     "output_type": "stream",
     "name": "stdout",
     "text": [
      "Epoch 1/30\n",
      "1130/1130 [==============================] - 12s 10ms/step - loss: 0.3145 - accuracy: 0.4463\n",
      "Epoch 2/30\n",
      "1130/1130 [==============================] - 11s 10ms/step - loss: 0.3040 - accuracy: 0.4754\n",
      "Epoch 3/30\n",
      "1130/1130 [==============================] - 12s 10ms/step - loss: 0.3032 - accuracy: 0.4768\n",
      "Epoch 4/30\n",
      "1130/1130 [==============================] - 12s 10ms/step - loss: 0.3013 - accuracy: 0.4731\n",
      "Epoch 5/30\n",
      "1130/1130 [==============================] - 12s 10ms/step - loss: 0.2991 - accuracy: 0.4699\n",
      "Epoch 6/30\n",
      "1130/1130 [==============================] - 12s 10ms/step - loss: 0.2946 - accuracy: 0.4662\n",
      "Epoch 7/30\n",
      "1130/1130 [==============================] - 12s 10ms/step - loss: 0.2883 - accuracy: 0.4752\n",
      "Epoch 8/30\n",
      "1130/1130 [==============================] - 11s 10ms/step - loss: 0.2796 - accuracy: 0.4758\n",
      "Epoch 9/30\n",
      "1130/1130 [==============================] - 12s 10ms/step - loss: 0.2667 - accuracy: 0.5029\n",
      "Epoch 10/30\n",
      "1130/1130 [==============================] - 12s 10ms/step - loss: 0.2504 - accuracy: 0.5232\n",
      "Epoch 11/30\n",
      "1130/1130 [==============================] - 12s 10ms/step - loss: 0.2326 - accuracy: 0.5462\n",
      "Epoch 12/30\n",
      "1130/1130 [==============================] - 12s 10ms/step - loss: 0.2129 - accuracy: 0.5699\n",
      "Epoch 13/30\n",
      "1130/1130 [==============================] - 11s 10ms/step - loss: 0.1929 - accuracy: 0.5965\n",
      "Epoch 14/30\n",
      "1130/1130 [==============================] - 12s 10ms/step - loss: 0.1759 - accuracy: 0.6054\n",
      "Epoch 15/30\n",
      "1130/1130 [==============================] - 12s 10ms/step - loss: 0.1574 - accuracy: 0.6187\n",
      "Epoch 16/30\n",
      "1130/1130 [==============================] - 12s 10ms/step - loss: 0.1428 - accuracy: 0.6254\n",
      "Epoch 17/30\n",
      "1130/1130 [==============================] - 12s 11ms/step - loss: 0.1300 - accuracy: 0.6332\n",
      "Epoch 18/30\n",
      "1130/1130 [==============================] - 12s 10ms/step - loss: 0.1169 - accuracy: 0.6386\n",
      "Epoch 19/30\n",
      "1130/1130 [==============================] - 11s 10ms/step - loss: 0.1048 - accuracy: 0.6455\n",
      "Epoch 20/30\n",
      "1130/1130 [==============================] - 11s 10ms/step - loss: 0.0944 - accuracy: 0.6296\n",
      "Epoch 21/30\n",
      "1130/1130 [==============================] - 12s 10ms/step - loss: 0.0875 - accuracy: 0.6278\n",
      "Epoch 22/30\n",
      "1130/1130 [==============================] - 12s 10ms/step - loss: 0.0791 - accuracy: 0.6250\n",
      "Epoch 23/30\n",
      "1130/1130 [==============================] - 12s 10ms/step - loss: 0.0731 - accuracy: 0.6308\n",
      "Epoch 24/30\n",
      "1130/1130 [==============================] - 12s 10ms/step - loss: 0.0661 - accuracy: 0.6212\n",
      "Epoch 25/30\n",
      "1130/1130 [==============================] - 11s 10ms/step - loss: 0.0620 - accuracy: 0.6167\n",
      "Epoch 26/30\n",
      "1130/1130 [==============================] - 12s 10ms/step - loss: 0.0558 - accuracy: 0.6056\n",
      "Epoch 27/30\n",
      "1130/1130 [==============================] - 12s 10ms/step - loss: 0.0535 - accuracy: 0.6057\n",
      "Epoch 28/30\n",
      "1130/1130 [==============================] - 12s 10ms/step - loss: 0.0494 - accuracy: 0.6007\n",
      "Epoch 29/30\n",
      "1130/1130 [==============================] - 11s 10ms/step - loss: 0.0443 - accuracy: 0.6046\n",
      "Epoch 30/30\n",
      "1130/1130 [==============================] - 11s 10ms/step - loss: 0.0430 - accuracy: 0.5938\n",
      ">0.024\n",
      "Epoch 1/30\n",
      " 363/1130 [========>.....................] - ETA: 7s - loss: 0.3267 - accuracy: 0.4009"
     ]
    },
    {
     "output_type": "error",
     "ename": "KeyboardInterrupt",
     "evalue": "",
     "traceback": [
      "\u001b[1;31m---------------------------------------------------------------------------\u001b[0m",
      "\u001b[1;31mKeyboardInterrupt\u001b[0m                         Traceback (most recent call last)",
      "\u001b[1;32m<ipython-input-118-c0ad06a79f5a>\u001b[0m in \u001b[0;36m<module>\u001b[1;34m\u001b[0m\n\u001b[1;32m----> 1\u001b[1;33m \u001b[0mresults\u001b[0m\u001b[1;33m,\u001b[0m \u001b[0mmodel\u001b[0m \u001b[1;33m=\u001b[0m \u001b[0mevaluate_model\u001b[0m\u001b[1;33m(\u001b[0m\u001b[0mdata_train\u001b[0m\u001b[1;33m,\u001b[0m \u001b[0mlabels_train\u001b[0m\u001b[1;33m,\u001b[0m \u001b[0mbs\u001b[0m\u001b[1;33m=\u001b[0m\u001b[1;36m64\u001b[0m\u001b[1;33m)\u001b[0m\u001b[1;33m\u001b[0m\u001b[1;33m\u001b[0m\u001b[0m\n\u001b[0m\u001b[0;32m      2\u001b[0m \u001b[1;31m# summarize performance\u001b[0m\u001b[1;33m\u001b[0m\u001b[1;33m\u001b[0m\u001b[1;33m\u001b[0m\u001b[0m\n\u001b[0;32m      3\u001b[0m \u001b[0mprint\u001b[0m\u001b[1;33m(\u001b[0m\u001b[1;34m'Accuracy: %.3f (%.3f)'\u001b[0m \u001b[1;33m%\u001b[0m \u001b[1;33m(\u001b[0m\u001b[0mnp\u001b[0m\u001b[1;33m.\u001b[0m\u001b[0mmean\u001b[0m\u001b[1;33m(\u001b[0m\u001b[0mresults\u001b[0m\u001b[1;33m)\u001b[0m\u001b[1;33m,\u001b[0m \u001b[0mnp\u001b[0m\u001b[1;33m.\u001b[0m\u001b[0mstd\u001b[0m\u001b[1;33m(\u001b[0m\u001b[0mresults\u001b[0m\u001b[1;33m)\u001b[0m\u001b[1;33m)\u001b[0m\u001b[1;33m)\u001b[0m\u001b[1;33m\u001b[0m\u001b[1;33m\u001b[0m\u001b[0m\n",
      "\u001b[1;32m<ipython-input-116-036b60ce3dcf>\u001b[0m in \u001b[0;36mevaluate_model\u001b[1;34m(X, y, bs)\u001b[0m\n\u001b[0;32m     31\u001b[0m         \u001b[0mmodel\u001b[0m \u001b[1;33m=\u001b[0m \u001b[0mget_model\u001b[0m\u001b[1;33m(\u001b[0m\u001b[0mn_inputs\u001b[0m\u001b[1;33m,\u001b[0m \u001b[0mn_outputs\u001b[0m\u001b[1;33m)\u001b[0m\u001b[1;33m\u001b[0m\u001b[1;33m\u001b[0m\u001b[0m\n\u001b[0;32m     32\u001b[0m         \u001b[1;31m# fit model\u001b[0m\u001b[1;33m\u001b[0m\u001b[1;33m\u001b[0m\u001b[1;33m\u001b[0m\u001b[0m\n\u001b[1;32m---> 33\u001b[1;33m         \u001b[0mmodel\u001b[0m\u001b[1;33m.\u001b[0m\u001b[0mfit\u001b[0m\u001b[1;33m(\u001b[0m\u001b[0mX_train\u001b[0m\u001b[1;33m,\u001b[0m \u001b[0my_train\u001b[0m\u001b[1;33m,\u001b[0m \u001b[0mbatch_size\u001b[0m \u001b[1;33m=\u001b[0m \u001b[0mbs\u001b[0m\u001b[1;33m,\u001b[0m \u001b[0mepochs\u001b[0m\u001b[1;33m=\u001b[0m\u001b[1;36m30\u001b[0m\u001b[1;33m)\u001b[0m\u001b[1;33m\u001b[0m\u001b[1;33m\u001b[0m\u001b[0m\n\u001b[0m\u001b[0;32m     34\u001b[0m         \u001b[1;31m# make a prediction on the test set\u001b[0m\u001b[1;33m\u001b[0m\u001b[1;33m\u001b[0m\u001b[1;33m\u001b[0m\u001b[0m\n\u001b[0;32m     35\u001b[0m         \u001b[0myhat\u001b[0m \u001b[1;33m=\u001b[0m \u001b[0mmodel\u001b[0m\u001b[1;33m.\u001b[0m\u001b[0mpredict\u001b[0m\u001b[1;33m(\u001b[0m\u001b[0mX_val\u001b[0m\u001b[1;33m)\u001b[0m\u001b[1;33m\u001b[0m\u001b[1;33m\u001b[0m\u001b[0m\n",
      "\u001b[1;32mC:\\ProgramData\\Miniconda3\\envs\\mlenv\\lib\\site-packages\\tensorflow\\python\\keras\\engine\\training.py\u001b[0m in \u001b[0;36mfit\u001b[1;34m(self, x, y, batch_size, epochs, verbose, callbacks, validation_split, validation_data, shuffle, class_weight, sample_weight, initial_epoch, steps_per_epoch, validation_steps, validation_batch_size, validation_freq, max_queue_size, workers, use_multiprocessing)\u001b[0m\n\u001b[0;32m   1098\u001b[0m                 _r=1):\n\u001b[0;32m   1099\u001b[0m               \u001b[0mcallbacks\u001b[0m\u001b[1;33m.\u001b[0m\u001b[0mon_train_batch_begin\u001b[0m\u001b[1;33m(\u001b[0m\u001b[0mstep\u001b[0m\u001b[1;33m)\u001b[0m\u001b[1;33m\u001b[0m\u001b[1;33m\u001b[0m\u001b[0m\n\u001b[1;32m-> 1100\u001b[1;33m               \u001b[0mtmp_logs\u001b[0m \u001b[1;33m=\u001b[0m \u001b[0mself\u001b[0m\u001b[1;33m.\u001b[0m\u001b[0mtrain_function\u001b[0m\u001b[1;33m(\u001b[0m\u001b[0miterator\u001b[0m\u001b[1;33m)\u001b[0m\u001b[1;33m\u001b[0m\u001b[1;33m\u001b[0m\u001b[0m\n\u001b[0m\u001b[0;32m   1101\u001b[0m               \u001b[1;32mif\u001b[0m \u001b[0mdata_handler\u001b[0m\u001b[1;33m.\u001b[0m\u001b[0mshould_sync\u001b[0m\u001b[1;33m:\u001b[0m\u001b[1;33m\u001b[0m\u001b[1;33m\u001b[0m\u001b[0m\n\u001b[0;32m   1102\u001b[0m                 \u001b[0mcontext\u001b[0m\u001b[1;33m.\u001b[0m\u001b[0masync_wait\u001b[0m\u001b[1;33m(\u001b[0m\u001b[1;33m)\u001b[0m\u001b[1;33m\u001b[0m\u001b[1;33m\u001b[0m\u001b[0m\n",
      "\u001b[1;32mC:\\ProgramData\\Miniconda3\\envs\\mlenv\\lib\\site-packages\\tensorflow\\python\\eager\\def_function.py\u001b[0m in \u001b[0;36m__call__\u001b[1;34m(self, *args, **kwds)\u001b[0m\n\u001b[0;32m    826\u001b[0m     \u001b[0mtracing_count\u001b[0m \u001b[1;33m=\u001b[0m \u001b[0mself\u001b[0m\u001b[1;33m.\u001b[0m\u001b[0mexperimental_get_tracing_count\u001b[0m\u001b[1;33m(\u001b[0m\u001b[1;33m)\u001b[0m\u001b[1;33m\u001b[0m\u001b[1;33m\u001b[0m\u001b[0m\n\u001b[0;32m    827\u001b[0m     \u001b[1;32mwith\u001b[0m \u001b[0mtrace\u001b[0m\u001b[1;33m.\u001b[0m\u001b[0mTrace\u001b[0m\u001b[1;33m(\u001b[0m\u001b[0mself\u001b[0m\u001b[1;33m.\u001b[0m\u001b[0m_name\u001b[0m\u001b[1;33m)\u001b[0m \u001b[1;32mas\u001b[0m \u001b[0mtm\u001b[0m\u001b[1;33m:\u001b[0m\u001b[1;33m\u001b[0m\u001b[1;33m\u001b[0m\u001b[0m\n\u001b[1;32m--> 828\u001b[1;33m       \u001b[0mresult\u001b[0m \u001b[1;33m=\u001b[0m \u001b[0mself\u001b[0m\u001b[1;33m.\u001b[0m\u001b[0m_call\u001b[0m\u001b[1;33m(\u001b[0m\u001b[1;33m*\u001b[0m\u001b[0margs\u001b[0m\u001b[1;33m,\u001b[0m \u001b[1;33m**\u001b[0m\u001b[0mkwds\u001b[0m\u001b[1;33m)\u001b[0m\u001b[1;33m\u001b[0m\u001b[1;33m\u001b[0m\u001b[0m\n\u001b[0m\u001b[0;32m    829\u001b[0m       \u001b[0mcompiler\u001b[0m \u001b[1;33m=\u001b[0m \u001b[1;34m\"xla\"\u001b[0m \u001b[1;32mif\u001b[0m \u001b[0mself\u001b[0m\u001b[1;33m.\u001b[0m\u001b[0m_experimental_compile\u001b[0m \u001b[1;32melse\u001b[0m \u001b[1;34m\"nonXla\"\u001b[0m\u001b[1;33m\u001b[0m\u001b[1;33m\u001b[0m\u001b[0m\n\u001b[0;32m    830\u001b[0m       \u001b[0mnew_tracing_count\u001b[0m \u001b[1;33m=\u001b[0m \u001b[0mself\u001b[0m\u001b[1;33m.\u001b[0m\u001b[0mexperimental_get_tracing_count\u001b[0m\u001b[1;33m(\u001b[0m\u001b[1;33m)\u001b[0m\u001b[1;33m\u001b[0m\u001b[1;33m\u001b[0m\u001b[0m\n",
      "\u001b[1;32mC:\\ProgramData\\Miniconda3\\envs\\mlenv\\lib\\site-packages\\tensorflow\\python\\eager\\def_function.py\u001b[0m in \u001b[0;36m_call\u001b[1;34m(self, *args, **kwds)\u001b[0m\n\u001b[0;32m    853\u001b[0m       \u001b[1;31m# In this case we have created variables on the first call, so we run the\u001b[0m\u001b[1;33m\u001b[0m\u001b[1;33m\u001b[0m\u001b[1;33m\u001b[0m\u001b[0m\n\u001b[0;32m    854\u001b[0m       \u001b[1;31m# defunned version which is guaranteed to never create variables.\u001b[0m\u001b[1;33m\u001b[0m\u001b[1;33m\u001b[0m\u001b[1;33m\u001b[0m\u001b[0m\n\u001b[1;32m--> 855\u001b[1;33m       \u001b[1;32mreturn\u001b[0m \u001b[0mself\u001b[0m\u001b[1;33m.\u001b[0m\u001b[0m_stateless_fn\u001b[0m\u001b[1;33m(\u001b[0m\u001b[1;33m*\u001b[0m\u001b[0margs\u001b[0m\u001b[1;33m,\u001b[0m \u001b[1;33m**\u001b[0m\u001b[0mkwds\u001b[0m\u001b[1;33m)\u001b[0m  \u001b[1;31m# pylint: disable=not-callable\u001b[0m\u001b[1;33m\u001b[0m\u001b[1;33m\u001b[0m\u001b[0m\n\u001b[0m\u001b[0;32m    856\u001b[0m     \u001b[1;32melif\u001b[0m \u001b[0mself\u001b[0m\u001b[1;33m.\u001b[0m\u001b[0m_stateful_fn\u001b[0m \u001b[1;32mis\u001b[0m \u001b[1;32mnot\u001b[0m \u001b[1;32mNone\u001b[0m\u001b[1;33m:\u001b[0m\u001b[1;33m\u001b[0m\u001b[1;33m\u001b[0m\u001b[0m\n\u001b[0;32m    857\u001b[0m       \u001b[1;31m# Release the lock early so that multiple threads can perform the call\u001b[0m\u001b[1;33m\u001b[0m\u001b[1;33m\u001b[0m\u001b[1;33m\u001b[0m\u001b[0m\n",
      "\u001b[1;32mC:\\ProgramData\\Miniconda3\\envs\\mlenv\\lib\\site-packages\\tensorflow\\python\\eager\\function.py\u001b[0m in \u001b[0;36m__call__\u001b[1;34m(self, *args, **kwargs)\u001b[0m\n\u001b[0;32m   2940\u001b[0m       (graph_function,\n\u001b[0;32m   2941\u001b[0m        filtered_flat_args) = self._maybe_define_function(args, kwargs)\n\u001b[1;32m-> 2942\u001b[1;33m     return graph_function._call_flat(\n\u001b[0m\u001b[0;32m   2943\u001b[0m         filtered_flat_args, captured_inputs=graph_function.captured_inputs)  # pylint: disable=protected-access\n\u001b[0;32m   2944\u001b[0m \u001b[1;33m\u001b[0m\u001b[0m\n",
      "\u001b[1;32mC:\\ProgramData\\Miniconda3\\envs\\mlenv\\lib\\site-packages\\tensorflow\\python\\eager\\function.py\u001b[0m in \u001b[0;36m_call_flat\u001b[1;34m(self, args, captured_inputs, cancellation_manager)\u001b[0m\n\u001b[0;32m   1916\u001b[0m         and executing_eagerly):\n\u001b[0;32m   1917\u001b[0m       \u001b[1;31m# No tape is watching; skip to running the function.\u001b[0m\u001b[1;33m\u001b[0m\u001b[1;33m\u001b[0m\u001b[1;33m\u001b[0m\u001b[0m\n\u001b[1;32m-> 1918\u001b[1;33m       return self._build_call_outputs(self._inference_function.call(\n\u001b[0m\u001b[0;32m   1919\u001b[0m           ctx, args, cancellation_manager=cancellation_manager))\n\u001b[0;32m   1920\u001b[0m     forward_backward = self._select_forward_and_backward_functions(\n",
      "\u001b[1;32mC:\\ProgramData\\Miniconda3\\envs\\mlenv\\lib\\site-packages\\tensorflow\\python\\eager\\function.py\u001b[0m in \u001b[0;36mcall\u001b[1;34m(self, ctx, args, cancellation_manager)\u001b[0m\n\u001b[0;32m    553\u001b[0m       \u001b[1;32mwith\u001b[0m \u001b[0m_InterpolateFunctionError\u001b[0m\u001b[1;33m(\u001b[0m\u001b[0mself\u001b[0m\u001b[1;33m)\u001b[0m\u001b[1;33m:\u001b[0m\u001b[1;33m\u001b[0m\u001b[1;33m\u001b[0m\u001b[0m\n\u001b[0;32m    554\u001b[0m         \u001b[1;32mif\u001b[0m \u001b[0mcancellation_manager\u001b[0m \u001b[1;32mis\u001b[0m \u001b[1;32mNone\u001b[0m\u001b[1;33m:\u001b[0m\u001b[1;33m\u001b[0m\u001b[1;33m\u001b[0m\u001b[0m\n\u001b[1;32m--> 555\u001b[1;33m           outputs = execute.execute(\n\u001b[0m\u001b[0;32m    556\u001b[0m               \u001b[0mstr\u001b[0m\u001b[1;33m(\u001b[0m\u001b[0mself\u001b[0m\u001b[1;33m.\u001b[0m\u001b[0msignature\u001b[0m\u001b[1;33m.\u001b[0m\u001b[0mname\u001b[0m\u001b[1;33m)\u001b[0m\u001b[1;33m,\u001b[0m\u001b[1;33m\u001b[0m\u001b[1;33m\u001b[0m\u001b[0m\n\u001b[0;32m    557\u001b[0m               \u001b[0mnum_outputs\u001b[0m\u001b[1;33m=\u001b[0m\u001b[0mself\u001b[0m\u001b[1;33m.\u001b[0m\u001b[0m_num_outputs\u001b[0m\u001b[1;33m,\u001b[0m\u001b[1;33m\u001b[0m\u001b[1;33m\u001b[0m\u001b[0m\n",
      "\u001b[1;32mC:\\ProgramData\\Miniconda3\\envs\\mlenv\\lib\\site-packages\\tensorflow\\python\\eager\\execute.py\u001b[0m in \u001b[0;36mquick_execute\u001b[1;34m(op_name, num_outputs, inputs, attrs, ctx, name)\u001b[0m\n\u001b[0;32m     57\u001b[0m   \u001b[1;32mtry\u001b[0m\u001b[1;33m:\u001b[0m\u001b[1;33m\u001b[0m\u001b[1;33m\u001b[0m\u001b[0m\n\u001b[0;32m     58\u001b[0m     \u001b[0mctx\u001b[0m\u001b[1;33m.\u001b[0m\u001b[0mensure_initialized\u001b[0m\u001b[1;33m(\u001b[0m\u001b[1;33m)\u001b[0m\u001b[1;33m\u001b[0m\u001b[1;33m\u001b[0m\u001b[0m\n\u001b[1;32m---> 59\u001b[1;33m     tensors = pywrap_tfe.TFE_Py_Execute(ctx._handle, device_name, op_name,\n\u001b[0m\u001b[0;32m     60\u001b[0m                                         inputs, attrs, num_outputs)\n\u001b[0;32m     61\u001b[0m   \u001b[1;32mexcept\u001b[0m \u001b[0mcore\u001b[0m\u001b[1;33m.\u001b[0m\u001b[0m_NotOkStatusException\u001b[0m \u001b[1;32mas\u001b[0m \u001b[0me\u001b[0m\u001b[1;33m:\u001b[0m\u001b[1;33m\u001b[0m\u001b[1;33m\u001b[0m\u001b[0m\n",
      "\u001b[1;31mKeyboardInterrupt\u001b[0m: "
     ]
    }
   ],
   "source": [
    "results, model = evaluate_model(data_train, labels_train, bs=64)\n",
    "# summarize performance\n",
    "print('Accuracy: %.3f (%.3f)' % (np.mean(results), np.std(results)))"
   ]
  },
  {
   "source": [
    "background = data_train[np.random.choice(data_train.shape[0], 100, replace=False)]\n",
    "explainer = shap.DeepExplainer(model,  background)"
   ],
   "cell_type": "markdown",
   "metadata": {}
  },
  {
   "cell_type": "code",
   "execution_count": null,
   "metadata": {},
   "outputs": [],
   "source": [
    "yhat = model.predict(data_test)"
   ]
  },
  {
   "cell_type": "code",
   "execution_count": 11,
   "metadata": {},
   "outputs": [],
   "source": [
    "def odds2prob(df):\n",
    "    df['odds_away']=1/df['odds_away']\n",
    "    df['odds_draw']=1/df['odds_draw']\n",
    "    df['odds_home']=1/df['odds_home']\n",
    "    df['margin']=df[['odds_away','odds_draw','odds_home']].sum(axis=1)\n",
    "    df['odds_away']=df['odds_away']/df['margin']\n",
    "    df['odds_draw']=df['odds_draw']/df['margin']\n",
    "    df['odds_home']=df['odds_home']/df['margin']\n",
    "    return df[['odds_away','odds_draw','odds_home']]\n",
    "\n",
    "\n",
    "def softmax(df, columns):\n",
    "    df['margin']=df[columns].sum(axis=1)\n",
    "    for x in columns:\n",
    "        df[x]=df[x]/df['margin']\n",
    "    df=df.drop(columns=['margin'])\n",
    "    return df"
   ]
  },
  {
   "cell_type": "code",
   "execution_count": 132,
   "metadata": {},
   "outputs": [
    {
     "output_type": "execute_result",
     "data": {
      "text/plain": [
       "array([4.8954438e-02, 1.9956774e-01, 7.9421538e-01, 4.9211684e-01,\n",
       "       3.7973702e-01, 1.0061966e-01, 1.4319265e-02, 9.1202662e-04,\n",
       "       1.7471502e-04, 4.5027200e-06, 7.3556311e-02, 2.7749127e-01,\n",
       "       3.0257180e-01, 1.8635319e-01, 8.8486604e-02, 3.7683818e-02,\n",
       "       1.7281987e-02], dtype=float32)"
      ]
     },
     "metadata": {},
     "execution_count": 132
    }
   ],
   "source": [
    "yhat[2]"
   ]
  },
  {
   "source": [
    "coly=np.hstack([['w1','wx','w2'],sch.columns,sca.columns,scgd.columns])\n",
    "#coly=scgd.columns\n",
    "colyp=[x+'_p' for x in coly]\n",
    "df_y=pd.DataFrame(data=labels_test[:,3:], columns=coly[3:])\n",
    "#df_y=pd.DataFrame(data=labels_test, columns=coly)\n",
    "df_yhat=pd.DataFrame(data=yhat, columns=colyp)\n",
    "info_test=info_test.rename(columns={'ft1':'sc1','ft2':'sc2'})\n",
    "info_test=info_test.reset_index(drop=True)\n",
    "df_preds=pd.concat([info_test,df_y,df_yhat], axis=1)\n",
    "#df_preds=softmax(df_preds,['w1_p','wx_p','w2_p'])\n",
    "#df_preds=softmax(df_preds,[x+'_p' for x in sch.columns])\n",
    "#df_preds=softmax(df_preds,[x+'_p' for x in sca.columns])\n",
    "#df_preds=softmax(df_preds,[x+'_p' for x in scgd.columns])\n",
    "df_preds['w1_gd']=df_preds[['gd_6.0_p','gd_5.0_p','gd_4.0_p','gd_3.0_p','gd_2.0_p','gd_1.0_p']].sum(axis=1)\n",
    "df_preds['wx_gd']=df_preds['gd_0.0_p']\n",
    "df_preds['w2_gd']=df_preds[['gd_-6.0_p','gd_-5.0_p','gd_-4.0_p','gd_-3.0_p','gd_-2.0_p','gd_-1.0_p']].sum(axis=1)\n",
    "\n",
    "#df_preds"
   ],
   "cell_type": "code",
   "metadata": {},
   "execution_count": 108,
   "outputs": []
  },
  {
   "source": [
    "\n",
    "conv=PredictionsConverter('op', df_preds[['w1_p','wx_p','w2_p']].values, df_preds[['w1','wx','w2']].values, info_test.copy(), odds=True)\n",
    "conv.make_df()\n",
    "conv.profit()\n"
   ],
   "cell_type": "code",
   "metadata": {},
   "execution_count": 109,
   "outputs": [
    {
     "output_type": "stream",
     "name": "stdout",
     "text": [
      "WAG:12027; ACC: 0.4330256921925667; PRF: -246.04000000000002; ROI: -0.020457304398436852\n"
     ]
    }
   ]
  },
  {
   "cell_type": "code",
   "execution_count": 110,
   "metadata": {},
   "outputs": [
    {
     "output_type": "stream",
     "name": "stdout",
     "text": [
      "WAG:12706; ACC: 0.42184794585235325; PRF: -509.78; ROI: -0.04012120258145758\n"
     ]
    }
   ],
   "source": [
    "#info_test=info_test.rename(columns={'ft1':'sc1','ft2':'sc2'})\n",
    "conv1=PredictionsConverter('op', df_preds[['w1_gd','wx_gd','w2_gd']].values, df_preds[['w1','wx','w2']].values, info_test.copy(), odds=True)\n",
    "conv1.make_df(threshold='max')\n",
    "conv1.profit()"
   ]
  },
  {
   "cell_type": "code",
   "execution_count": 111,
   "metadata": {},
   "outputs": [
    {
     "output_type": "display_data",
     "data": {
      "text/plain": "   Name    TP     TN    FP    FN  Accuracy  Prevalence  Sensitivity  \\\n0  HOME  4619  10751  5302  4982     0.599       0.374        0.481   \n1  DRAW  1721  14498  4609  4826     0.632       0.255        0.263   \n2  AWAY  4604  10881  5267  4902     0.604       0.371        0.484   \n\n   Specificity    PPV    NPV    AUC     F1  Threshold  \n0        0.670  0.466  0.683  0.575  0.473        0.5  \n1        0.759  0.272  0.750  0.511  0.267        0.5  \n2        0.674  0.466  0.689  0.579  0.475        0.5  ",
      "text/html": "<div>\n<style scoped>\n    .dataframe tbody tr th:only-of-type {\n        vertical-align: middle;\n    }\n\n    .dataframe tbody tr th {\n        vertical-align: top;\n    }\n\n    .dataframe thead th {\n        text-align: right;\n    }\n</style>\n<table border=\"1\" class=\"dataframe\">\n  <thead>\n    <tr style=\"text-align: right;\">\n      <th></th>\n      <th>Name</th>\n      <th>TP</th>\n      <th>TN</th>\n      <th>FP</th>\n      <th>FN</th>\n      <th>Accuracy</th>\n      <th>Prevalence</th>\n      <th>Sensitivity</th>\n      <th>Specificity</th>\n      <th>PPV</th>\n      <th>NPV</th>\n      <th>AUC</th>\n      <th>F1</th>\n      <th>Threshold</th>\n    </tr>\n  </thead>\n  <tbody>\n    <tr>\n      <th>0</th>\n      <td>HOME</td>\n      <td>4619</td>\n      <td>10751</td>\n      <td>5302</td>\n      <td>4982</td>\n      <td>0.599</td>\n      <td>0.374</td>\n      <td>0.481</td>\n      <td>0.670</td>\n      <td>0.466</td>\n      <td>0.683</td>\n      <td>0.575</td>\n      <td>0.473</td>\n      <td>0.5</td>\n    </tr>\n    <tr>\n      <th>1</th>\n      <td>DRAW</td>\n      <td>1721</td>\n      <td>14498</td>\n      <td>4609</td>\n      <td>4826</td>\n      <td>0.632</td>\n      <td>0.255</td>\n      <td>0.263</td>\n      <td>0.759</td>\n      <td>0.272</td>\n      <td>0.750</td>\n      <td>0.511</td>\n      <td>0.267</td>\n      <td>0.5</td>\n    </tr>\n    <tr>\n      <th>2</th>\n      <td>AWAY</td>\n      <td>4604</td>\n      <td>10881</td>\n      <td>5267</td>\n      <td>4902</td>\n      <td>0.604</td>\n      <td>0.371</td>\n      <td>0.484</td>\n      <td>0.674</td>\n      <td>0.466</td>\n      <td>0.689</td>\n      <td>0.579</td>\n      <td>0.475</td>\n      <td>0.5</td>\n    </tr>\n  </tbody>\n</table>\n</div>"
     },
     "metadata": {}
    }
   ],
   "source": [
    "conv.performance_metrics()"
   ]
  },
  {
   "cell_type": "code",
   "execution_count": 160,
   "metadata": {},
   "outputs": [
    {
     "output_type": "execute_result",
     "data": {
      "text/plain": [
       "       w1  wx  w2      w1_p      wx_p      w2_p     w1_gd     wx_gd     w2_gd\n",
       "0       0   0   1  0.153697  0.409941  0.436362  0.193199  0.416397  0.390404\n",
       "1       0   0   1  0.389200  0.324374  0.286426  0.375709  0.338702  0.285590\n",
       "2       1   0   0  0.255113  0.255719  0.489168  0.257906  0.263558  0.478536\n",
       "3       1   0   0  0.367066  0.345683  0.287250  0.380905  0.317920  0.301175\n",
       "4       1   0   0  0.551421  0.274133  0.174446  0.545328  0.263596  0.191075\n",
       "...    ..  ..  ..       ...       ...       ...       ...       ...       ...\n",
       "27111   0   0   1  0.218319  0.248316  0.533365  0.226258  0.287219  0.486522\n",
       "27112   1   0   0  0.292947  0.343484  0.363569  0.297586  0.360643  0.341771\n",
       "27113   1   0   0  0.894143  0.081727  0.024130  0.913940  0.067083  0.018978\n",
       "27114   0   0   1  0.158910  0.196134  0.644956  0.163151  0.217454  0.619394\n",
       "27115   0   1   0  0.650707  0.267750  0.081543  0.660329  0.237130  0.102541\n",
       "\n",
       "[27116 rows x 9 columns]"
      ],
      "text/html": "<div>\n<style scoped>\n    .dataframe tbody tr th:only-of-type {\n        vertical-align: middle;\n    }\n\n    .dataframe tbody tr th {\n        vertical-align: top;\n    }\n\n    .dataframe thead th {\n        text-align: right;\n    }\n</style>\n<table border=\"1\" class=\"dataframe\">\n  <thead>\n    <tr style=\"text-align: right;\">\n      <th></th>\n      <th>w1</th>\n      <th>wx</th>\n      <th>w2</th>\n      <th>w1_p</th>\n      <th>wx_p</th>\n      <th>w2_p</th>\n      <th>w1_gd</th>\n      <th>wx_gd</th>\n      <th>w2_gd</th>\n    </tr>\n  </thead>\n  <tbody>\n    <tr>\n      <th>0</th>\n      <td>0</td>\n      <td>0</td>\n      <td>1</td>\n      <td>0.153697</td>\n      <td>0.409941</td>\n      <td>0.436362</td>\n      <td>0.193199</td>\n      <td>0.416397</td>\n      <td>0.390404</td>\n    </tr>\n    <tr>\n      <th>1</th>\n      <td>0</td>\n      <td>0</td>\n      <td>1</td>\n      <td>0.389200</td>\n      <td>0.324374</td>\n      <td>0.286426</td>\n      <td>0.375709</td>\n      <td>0.338702</td>\n      <td>0.285590</td>\n    </tr>\n    <tr>\n      <th>2</th>\n      <td>1</td>\n      <td>0</td>\n      <td>0</td>\n      <td>0.255113</td>\n      <td>0.255719</td>\n      <td>0.489168</td>\n      <td>0.257906</td>\n      <td>0.263558</td>\n      <td>0.478536</td>\n    </tr>\n    <tr>\n      <th>3</th>\n      <td>1</td>\n      <td>0</td>\n      <td>0</td>\n      <td>0.367066</td>\n      <td>0.345683</td>\n      <td>0.287250</td>\n      <td>0.380905</td>\n      <td>0.317920</td>\n      <td>0.301175</td>\n    </tr>\n    <tr>\n      <th>4</th>\n      <td>1</td>\n      <td>0</td>\n      <td>0</td>\n      <td>0.551421</td>\n      <td>0.274133</td>\n      <td>0.174446</td>\n      <td>0.545328</td>\n      <td>0.263596</td>\n      <td>0.191075</td>\n    </tr>\n    <tr>\n      <th>...</th>\n      <td>...</td>\n      <td>...</td>\n      <td>...</td>\n      <td>...</td>\n      <td>...</td>\n      <td>...</td>\n      <td>...</td>\n      <td>...</td>\n      <td>...</td>\n    </tr>\n    <tr>\n      <th>27111</th>\n      <td>0</td>\n      <td>0</td>\n      <td>1</td>\n      <td>0.218319</td>\n      <td>0.248316</td>\n      <td>0.533365</td>\n      <td>0.226258</td>\n      <td>0.287219</td>\n      <td>0.486522</td>\n    </tr>\n    <tr>\n      <th>27112</th>\n      <td>1</td>\n      <td>0</td>\n      <td>0</td>\n      <td>0.292947</td>\n      <td>0.343484</td>\n      <td>0.363569</td>\n      <td>0.297586</td>\n      <td>0.360643</td>\n      <td>0.341771</td>\n    </tr>\n    <tr>\n      <th>27113</th>\n      <td>1</td>\n      <td>0</td>\n      <td>0</td>\n      <td>0.894143</td>\n      <td>0.081727</td>\n      <td>0.024130</td>\n      <td>0.913940</td>\n      <td>0.067083</td>\n      <td>0.018978</td>\n    </tr>\n    <tr>\n      <th>27114</th>\n      <td>0</td>\n      <td>0</td>\n      <td>1</td>\n      <td>0.158910</td>\n      <td>0.196134</td>\n      <td>0.644956</td>\n      <td>0.163151</td>\n      <td>0.217454</td>\n      <td>0.619394</td>\n    </tr>\n    <tr>\n      <th>27115</th>\n      <td>0</td>\n      <td>1</td>\n      <td>0</td>\n      <td>0.650707</td>\n      <td>0.267750</td>\n      <td>0.081543</td>\n      <td>0.660329</td>\n      <td>0.237130</td>\n      <td>0.102541</td>\n    </tr>\n  </tbody>\n</table>\n<p>27116 rows × 9 columns</p>\n</div>"
     },
     "metadata": {},
     "execution_count": 160
    }
   ],
   "source": [
    "df_preds[['w1','wx','w2','w1_p','wx_p','w2_p','w1_gd','wx_gd','w2_gd']]"
   ]
  },
  {
   "cell_type": "code",
   "execution_count": 122,
   "metadata": {},
   "outputs": [
    {
     "output_type": "stream",
     "name": "stdout",
     "text": [
      "WAG:5734; ACC: 0.14318102546215555; PRF: -721.0699999999999; ROI: -0.1257534007673526\nWAG:8301; ACC: 0.5372846644982532; PRF: -215.48000000000002; ROI: -0.02595831827490664\n"
     ]
    },
    {
     "output_type": "display_data",
     "data": {
      "text/plain": "   Name   TP    TN    FP    FN  Accuracy  Prevalence  Sensitivity  \\\n0  HOME  385  1042  2445  1862     0.249       0.392        0.171   \n1  DRAW    1  4511     1  1221     0.787       0.213        0.001   \n2  AWAY  435  1002  2467  1830     0.251       0.395        0.192   \n\n   Specificity    PPV    NPV    AUC     F1  Threshold  \n0        0.299  0.136  0.359  0.235  0.152        0.5  \n1        1.000  0.500  0.787  0.500  0.002        0.5  \n2        0.289  0.150  0.354  0.240  0.168        0.5  ",
      "text/html": "<div>\n<style scoped>\n    .dataframe tbody tr th:only-of-type {\n        vertical-align: middle;\n    }\n\n    .dataframe tbody tr th {\n        vertical-align: top;\n    }\n\n    .dataframe thead th {\n        text-align: right;\n    }\n</style>\n<table border=\"1\" class=\"dataframe\">\n  <thead>\n    <tr style=\"text-align: right;\">\n      <th></th>\n      <th>Name</th>\n      <th>TP</th>\n      <th>TN</th>\n      <th>FP</th>\n      <th>FN</th>\n      <th>Accuracy</th>\n      <th>Prevalence</th>\n      <th>Sensitivity</th>\n      <th>Specificity</th>\n      <th>PPV</th>\n      <th>NPV</th>\n      <th>AUC</th>\n      <th>F1</th>\n      <th>Threshold</th>\n    </tr>\n  </thead>\n  <tbody>\n    <tr>\n      <th>0</th>\n      <td>HOME</td>\n      <td>385</td>\n      <td>1042</td>\n      <td>2445</td>\n      <td>1862</td>\n      <td>0.249</td>\n      <td>0.392</td>\n      <td>0.171</td>\n      <td>0.299</td>\n      <td>0.136</td>\n      <td>0.359</td>\n      <td>0.235</td>\n      <td>0.152</td>\n      <td>0.5</td>\n    </tr>\n    <tr>\n      <th>1</th>\n      <td>DRAW</td>\n      <td>1</td>\n      <td>4511</td>\n      <td>1</td>\n      <td>1221</td>\n      <td>0.787</td>\n      <td>0.213</td>\n      <td>0.001</td>\n      <td>1.000</td>\n      <td>0.500</td>\n      <td>0.787</td>\n      <td>0.500</td>\n      <td>0.002</td>\n      <td>0.5</td>\n    </tr>\n    <tr>\n      <th>2</th>\n      <td>AWAY</td>\n      <td>435</td>\n      <td>1002</td>\n      <td>2467</td>\n      <td>1830</td>\n      <td>0.251</td>\n      <td>0.395</td>\n      <td>0.192</td>\n      <td>0.289</td>\n      <td>0.150</td>\n      <td>0.354</td>\n      <td>0.240</td>\n      <td>0.168</td>\n      <td>0.5</td>\n    </tr>\n  </tbody>\n</table>\n</div>"
     },
     "metadata": {}
    },
    {
     "output_type": "display_data",
     "data": {
      "text/plain": "   Name    TP     TN    FP    FN  Accuracy  Prevalence  Sensitivity  \\\n0  HOME  3874   7598  2999  2466     0.677       0.374        0.611   \n1  DRAW   374  12079   818  3666     0.735       0.239        0.093   \n2  AWAY  4656   6143  4237  1901     0.638       0.387        0.710   \n\n   Specificity    PPV    NPV    AUC     F1  Threshold  \n0        0.717  0.564  0.755  0.664  0.586        0.5  \n1        0.937  0.314  0.767  0.515  0.143        0.5  \n2        0.592  0.524  0.764  0.651  0.603        0.5  ",
      "text/html": "<div>\n<style scoped>\n    .dataframe tbody tr th:only-of-type {\n        vertical-align: middle;\n    }\n\n    .dataframe tbody tr th {\n        vertical-align: top;\n    }\n\n    .dataframe thead th {\n        text-align: right;\n    }\n</style>\n<table border=\"1\" class=\"dataframe\">\n  <thead>\n    <tr style=\"text-align: right;\">\n      <th></th>\n      <th>Name</th>\n      <th>TP</th>\n      <th>TN</th>\n      <th>FP</th>\n      <th>FN</th>\n      <th>Accuracy</th>\n      <th>Prevalence</th>\n      <th>Sensitivity</th>\n      <th>Specificity</th>\n      <th>PPV</th>\n      <th>NPV</th>\n      <th>AUC</th>\n      <th>F1</th>\n      <th>Threshold</th>\n    </tr>\n  </thead>\n  <tbody>\n    <tr>\n      <th>0</th>\n      <td>HOME</td>\n      <td>3874</td>\n      <td>7598</td>\n      <td>2999</td>\n      <td>2466</td>\n      <td>0.677</td>\n      <td>0.374</td>\n      <td>0.611</td>\n      <td>0.717</td>\n      <td>0.564</td>\n      <td>0.755</td>\n      <td>0.664</td>\n      <td>0.586</td>\n      <td>0.5</td>\n    </tr>\n    <tr>\n      <th>1</th>\n      <td>DRAW</td>\n      <td>374</td>\n      <td>12079</td>\n      <td>818</td>\n      <td>3666</td>\n      <td>0.735</td>\n      <td>0.239</td>\n      <td>0.093</td>\n      <td>0.937</td>\n      <td>0.314</td>\n      <td>0.767</td>\n      <td>0.515</td>\n      <td>0.143</td>\n      <td>0.5</td>\n    </tr>\n    <tr>\n      <th>2</th>\n      <td>AWAY</td>\n      <td>4656</td>\n      <td>6143</td>\n      <td>4237</td>\n      <td>1901</td>\n      <td>0.638</td>\n      <td>0.387</td>\n      <td>0.710</td>\n      <td>0.592</td>\n      <td>0.524</td>\n      <td>0.764</td>\n      <td>0.651</td>\n      <td>0.603</td>\n      <td>0.5</td>\n    </tr>\n  </tbody>\n</table>\n</div>"
     },
     "metadata": {}
    }
   ],
   "source": [
    "from api.predictions_converter import PredictionsConverter\n",
    "info_test=info_test.rename(columns={'ft1':'sc1','ft2':'sc2'})\n",
    "conv_bookies=PredictionsConverter('op', api.util.odds2prob(info_test.copy()).values, labels_test, info_test.copy(), odds=True)\n",
    "conv_bookies.make_df()\n",
    "conv=PredictionsConverter('op', yhat, labels_test, info_test.copy(), odds=True)\n",
    "conv.make_df()\n",
    "\n",
    "conv_bookies.profit()\n",
    "conv.profit()\n",
    "conv_bookies.performance_metrics()\n",
    "conv.performance_metrics()"
   ]
  },
  {
   "cell_type": "code",
   "execution_count": 123,
   "metadata": {},
   "outputs": [
    {
     "output_type": "stream",
     "name": "stdout",
     "text": [
      "WAG:12706; ACC: 0.21611836927435857; PRF: -1422.03; ROI: -0.1119179915000787\nWAG:12706; ACC: 0.48504643475523374; PRF: -314.58; ROI: -0.024758381866834565\n"
     ]
    },
    {
     "output_type": "display_data",
     "data": {
      "text/plain": "   Name    TP    TN    FP    FN  Accuracy  Prevalence  Sensitivity  \\\n0  HOME  1340  3023  4935  3408     0.343       0.374        0.282   \n1  DRAW     9  9467    25  3205     0.746       0.253        0.003   \n2  AWAY  1397  2945  5017  3347     0.342       0.373        0.294   \n\n   Specificity    PPV    NPV    AUC     F1  Threshold  \n0        0.380  0.214  0.470  0.331  0.243        0.5  \n1        0.997  0.265  0.747  0.500  0.006        0.5  \n2        0.370  0.218  0.468  0.332  0.250        0.5  ",
      "text/html": "<div>\n<style scoped>\n    .dataframe tbody tr th:only-of-type {\n        vertical-align: middle;\n    }\n\n    .dataframe tbody tr th {\n        vertical-align: top;\n    }\n\n    .dataframe thead th {\n        text-align: right;\n    }\n</style>\n<table border=\"1\" class=\"dataframe\">\n  <thead>\n    <tr style=\"text-align: right;\">\n      <th></th>\n      <th>Name</th>\n      <th>TP</th>\n      <th>TN</th>\n      <th>FP</th>\n      <th>FN</th>\n      <th>Accuracy</th>\n      <th>Prevalence</th>\n      <th>Sensitivity</th>\n      <th>Specificity</th>\n      <th>PPV</th>\n      <th>NPV</th>\n      <th>AUC</th>\n      <th>F1</th>\n      <th>Threshold</th>\n    </tr>\n  </thead>\n  <tbody>\n    <tr>\n      <th>0</th>\n      <td>HOME</td>\n      <td>1340</td>\n      <td>3023</td>\n      <td>4935</td>\n      <td>3408</td>\n      <td>0.343</td>\n      <td>0.374</td>\n      <td>0.282</td>\n      <td>0.380</td>\n      <td>0.214</td>\n      <td>0.470</td>\n      <td>0.331</td>\n      <td>0.243</td>\n      <td>0.5</td>\n    </tr>\n    <tr>\n      <th>1</th>\n      <td>DRAW</td>\n      <td>9</td>\n      <td>9467</td>\n      <td>25</td>\n      <td>3205</td>\n      <td>0.746</td>\n      <td>0.253</td>\n      <td>0.003</td>\n      <td>0.997</td>\n      <td>0.265</td>\n      <td>0.747</td>\n      <td>0.500</td>\n      <td>0.006</td>\n      <td>0.5</td>\n    </tr>\n    <tr>\n      <th>2</th>\n      <td>AWAY</td>\n      <td>1397</td>\n      <td>2945</td>\n      <td>5017</td>\n      <td>3347</td>\n      <td>0.342</td>\n      <td>0.373</td>\n      <td>0.294</td>\n      <td>0.370</td>\n      <td>0.218</td>\n      <td>0.468</td>\n      <td>0.332</td>\n      <td>0.250</td>\n      <td>0.5</td>\n    </tr>\n  </tbody>\n</table>\n</div>"
     },
     "metadata": {}
    },
    {
     "output_type": "display_data",
     "data": {
      "text/plain": "   Name    TP     TN    FP    FN  Accuracy  Prevalence  Sensitivity  \\\n0  HOME  5525  11713  5265  4613     0.636       0.374        0.545   \n1  DRAW   873  18171  2029  6043     0.702       0.255        0.126   \n2  AWAY  6314   9944  7110  3748     0.600       0.371        0.628   \n\n   Specificity    PPV    NPV    AUC     F1  Threshold  \n0        0.690  0.512  0.717  0.617  0.528        0.5  \n1        0.900  0.301  0.750  0.513  0.178        0.5  \n2        0.583  0.470  0.726  0.605  0.538        0.5  ",
      "text/html": "<div>\n<style scoped>\n    .dataframe tbody tr th:only-of-type {\n        vertical-align: middle;\n    }\n\n    .dataframe tbody tr th {\n        vertical-align: top;\n    }\n\n    .dataframe thead th {\n        text-align: right;\n    }\n</style>\n<table border=\"1\" class=\"dataframe\">\n  <thead>\n    <tr style=\"text-align: right;\">\n      <th></th>\n      <th>Name</th>\n      <th>TP</th>\n      <th>TN</th>\n      <th>FP</th>\n      <th>FN</th>\n      <th>Accuracy</th>\n      <th>Prevalence</th>\n      <th>Sensitivity</th>\n      <th>Specificity</th>\n      <th>PPV</th>\n      <th>NPV</th>\n      <th>AUC</th>\n      <th>F1</th>\n      <th>Threshold</th>\n    </tr>\n  </thead>\n  <tbody>\n    <tr>\n      <th>0</th>\n      <td>HOME</td>\n      <td>5525</td>\n      <td>11713</td>\n      <td>5265</td>\n      <td>4613</td>\n      <td>0.636</td>\n      <td>0.374</td>\n      <td>0.545</td>\n      <td>0.690</td>\n      <td>0.512</td>\n      <td>0.717</td>\n      <td>0.617</td>\n      <td>0.528</td>\n      <td>0.5</td>\n    </tr>\n    <tr>\n      <th>1</th>\n      <td>DRAW</td>\n      <td>873</td>\n      <td>18171</td>\n      <td>2029</td>\n      <td>6043</td>\n      <td>0.702</td>\n      <td>0.255</td>\n      <td>0.126</td>\n      <td>0.900</td>\n      <td>0.301</td>\n      <td>0.750</td>\n      <td>0.513</td>\n      <td>0.178</td>\n      <td>0.5</td>\n    </tr>\n    <tr>\n      <th>2</th>\n      <td>AWAY</td>\n      <td>6314</td>\n      <td>9944</td>\n      <td>7110</td>\n      <td>3748</td>\n      <td>0.600</td>\n      <td>0.371</td>\n      <td>0.628</td>\n      <td>0.583</td>\n      <td>0.470</td>\n      <td>0.726</td>\n      <td>0.605</td>\n      <td>0.538</td>\n      <td>0.5</td>\n    </tr>\n  </tbody>\n</table>\n</div>"
     },
     "metadata": {}
    }
   ],
   "source": [
    "conv_bookies1=PredictionsConverter('op', odds2prob(info_test.copy()).values, labels_test, info_test.copy(), odds=True)\n",
    "conv_bookies1.make_df(threshold='max')\n",
    "conv1=PredictionsConverter('op', yhat, labels_test, info_test.copy(), odds=True)\n",
    "conv1.make_df(threshold='max')\n",
    "\n",
    "conv_bookies1.profit()\n",
    "conv1.profit()\n",
    "conv_bookies1.performance_metrics()\n",
    "conv1.performance_metrics()"
   ]
  },
  {
   "cell_type": "code",
   "execution_count": 87,
   "metadata": {},
   "outputs": [
    {
     "output_type": "execute_result",
     "data": {
      "text/plain": [
       "                              ds      country  \\\n",
       "0      2017-10-28 17:00:00+00:00    argentina   \n",
       "1      2018-08-11 14:00:00+00:00      england   \n",
       "2      2018-12-01 19:30:00+00:00        italy   \n",
       "3      2018-08-26 12:30:00+00:00  netherlands   \n",
       "4      2017-05-14 18:00:00+00:00        spain   \n",
       "...                          ...          ...   \n",
       "13553  2018-08-14 18:45:00+00:00      england   \n",
       "13554  2018-04-07 14:00:00+00:00      ukraine   \n",
       "13555  2015-12-12 17:30:00+00:00      austria   \n",
       "13556  2016-09-21 15:30:00+00:00      finland   \n",
       "13557  2020-02-07 22:00:00+00:00    argentina   \n",
       "\n",
       "                                  liga               t1                t2  \\\n",
       "0           liga-profesional-de-futbol       ca huracan             lanus   \n",
       "1                         championship      aston villa    wigan athletic   \n",
       "2                              serie-a        sampdoria           bologna   \n",
       "3                           eredivisie       fc utrecht          vvvvenlo   \n",
       "4                               laliga  athletic bilbao           leganes   \n",
       "...                                ...              ...               ...   \n",
       "13553                          efl-cup      yeovil town       aston villa   \n",
       "13554  premier-league-relegation-round      oleksandria  pfc feniks bucha   \n",
       "13555                       bundesliga          sv ried    wolfsberger ac   \n",
       "13556                    veikkausliiga    ifk mariehamn       inter turku   \n",
       "13557       liga-profesional-de-futbol         aldosivi   central cordoba   \n",
       "\n",
       "       sc1  sc2  odds_home  odds_draw  odds_away  winner_home  winner_draw  \\\n",
       "0      4.0  0.0       1.84       3.21       4.84            1            0   \n",
       "1      3.0  2.0       0.00       0.00       0.00            1            0   \n",
       "2      4.0  1.0       2.02       3.26       4.17            1            0   \n",
       "3      1.0  1.0       0.00       0.00       0.00            0            1   \n",
       "4      1.0  1.0       1.47       4.43       7.41            0            1   \n",
       "...    ...  ...        ...        ...        ...          ...          ...   \n",
       "13553  0.0  1.0       0.00       0.00       0.00            0            0   \n",
       "13554  2.0  0.0       1.82       3.25       4.58            1            0   \n",
       "13555  1.0  0.0       0.00       0.00       0.00            1            0   \n",
       "13556  1.0  1.0       1.90       3.37       4.13            0            1   \n",
       "13557  0.0  2.0       2.49       2.85       3.25            0            0   \n",
       "\n",
       "       winner_away  pred_home  pred_draw  pred_away  prob_home  prob_draw  \\\n",
       "0                0          0          1          0   0.419015   0.785230   \n",
       "1                0          1          0          0   0.916121   0.320084   \n",
       "2                0          0          1          0   0.416682   0.878468   \n",
       "3                0          1          0          0   0.908112   0.472075   \n",
       "4                0          1          1          0   0.645087   0.798480   \n",
       "...            ...        ...        ...        ...        ...        ...   \n",
       "13553            1          1          1          0   0.738303   0.974766   \n",
       "13554            0          1          1          0   0.570895   0.614656   \n",
       "13555            0          0          0          1   0.429426   0.001383   \n",
       "13556            0          1          0          0   0.567031   0.176261   \n",
       "13557            1          1          1          0   0.623006   0.602990   \n",
       "\n",
       "       prob_away  win   prf  \n",
       "0       0.177421    0 -1.00  \n",
       "1       0.033951    1 -1.00  \n",
       "2       0.090711    0 -1.00  \n",
       "3       0.014991    0  0.00  \n",
       "4       0.056598    1  3.43  \n",
       "...          ...  ...   ...  \n",
       "13553   0.002282    0  0.00  \n",
       "13554   0.238248    1  2.25  \n",
       "13555   0.962793    0  0.00  \n",
       "13556   0.496240    0 -1.00  \n",
       "13557   0.117039    0 -1.00  \n",
       "\n",
       "[13300 rows x 21 columns]"
      ],
      "text/html": "<div>\n<style scoped>\n    .dataframe tbody tr th:only-of-type {\n        vertical-align: middle;\n    }\n\n    .dataframe tbody tr th {\n        vertical-align: top;\n    }\n\n    .dataframe thead th {\n        text-align: right;\n    }\n</style>\n<table border=\"1\" class=\"dataframe\">\n  <thead>\n    <tr style=\"text-align: right;\">\n      <th></th>\n      <th>ds</th>\n      <th>country</th>\n      <th>liga</th>\n      <th>t1</th>\n      <th>t2</th>\n      <th>sc1</th>\n      <th>sc2</th>\n      <th>odds_home</th>\n      <th>odds_draw</th>\n      <th>odds_away</th>\n      <th>winner_home</th>\n      <th>winner_draw</th>\n      <th>winner_away</th>\n      <th>pred_home</th>\n      <th>pred_draw</th>\n      <th>pred_away</th>\n      <th>prob_home</th>\n      <th>prob_draw</th>\n      <th>prob_away</th>\n      <th>win</th>\n      <th>prf</th>\n    </tr>\n  </thead>\n  <tbody>\n    <tr>\n      <th>0</th>\n      <td>2017-10-28 17:00:00+00:00</td>\n      <td>argentina</td>\n      <td>liga-profesional-de-futbol</td>\n      <td>ca huracan</td>\n      <td>lanus</td>\n      <td>4.0</td>\n      <td>0.0</td>\n      <td>1.84</td>\n      <td>3.21</td>\n      <td>4.84</td>\n      <td>1</td>\n      <td>0</td>\n      <td>0</td>\n      <td>0</td>\n      <td>1</td>\n      <td>0</td>\n      <td>0.419015</td>\n      <td>0.785230</td>\n      <td>0.177421</td>\n      <td>0</td>\n      <td>-1.00</td>\n    </tr>\n    <tr>\n      <th>1</th>\n      <td>2018-08-11 14:00:00+00:00</td>\n      <td>england</td>\n      <td>championship</td>\n      <td>aston villa</td>\n      <td>wigan athletic</td>\n      <td>3.0</td>\n      <td>2.0</td>\n      <td>0.00</td>\n      <td>0.00</td>\n      <td>0.00</td>\n      <td>1</td>\n      <td>0</td>\n      <td>0</td>\n      <td>1</td>\n      <td>0</td>\n      <td>0</td>\n      <td>0.916121</td>\n      <td>0.320084</td>\n      <td>0.033951</td>\n      <td>1</td>\n      <td>-1.00</td>\n    </tr>\n    <tr>\n      <th>2</th>\n      <td>2018-12-01 19:30:00+00:00</td>\n      <td>italy</td>\n      <td>serie-a</td>\n      <td>sampdoria</td>\n      <td>bologna</td>\n      <td>4.0</td>\n      <td>1.0</td>\n      <td>2.02</td>\n      <td>3.26</td>\n      <td>4.17</td>\n      <td>1</td>\n      <td>0</td>\n      <td>0</td>\n      <td>0</td>\n      <td>1</td>\n      <td>0</td>\n      <td>0.416682</td>\n      <td>0.878468</td>\n      <td>0.090711</td>\n      <td>0</td>\n      <td>-1.00</td>\n    </tr>\n    <tr>\n      <th>3</th>\n      <td>2018-08-26 12:30:00+00:00</td>\n      <td>netherlands</td>\n      <td>eredivisie</td>\n      <td>fc utrecht</td>\n      <td>vvvvenlo</td>\n      <td>1.0</td>\n      <td>1.0</td>\n      <td>0.00</td>\n      <td>0.00</td>\n      <td>0.00</td>\n      <td>0</td>\n      <td>1</td>\n      <td>0</td>\n      <td>1</td>\n      <td>0</td>\n      <td>0</td>\n      <td>0.908112</td>\n      <td>0.472075</td>\n      <td>0.014991</td>\n      <td>0</td>\n      <td>0.00</td>\n    </tr>\n    <tr>\n      <th>4</th>\n      <td>2017-05-14 18:00:00+00:00</td>\n      <td>spain</td>\n      <td>laliga</td>\n      <td>athletic bilbao</td>\n      <td>leganes</td>\n      <td>1.0</td>\n      <td>1.0</td>\n      <td>1.47</td>\n      <td>4.43</td>\n      <td>7.41</td>\n      <td>0</td>\n      <td>1</td>\n      <td>0</td>\n      <td>1</td>\n      <td>1</td>\n      <td>0</td>\n      <td>0.645087</td>\n      <td>0.798480</td>\n      <td>0.056598</td>\n      <td>1</td>\n      <td>3.43</td>\n    </tr>\n    <tr>\n      <th>...</th>\n      <td>...</td>\n      <td>...</td>\n      <td>...</td>\n      <td>...</td>\n      <td>...</td>\n      <td>...</td>\n      <td>...</td>\n      <td>...</td>\n      <td>...</td>\n      <td>...</td>\n      <td>...</td>\n      <td>...</td>\n      <td>...</td>\n      <td>...</td>\n      <td>...</td>\n      <td>...</td>\n      <td>...</td>\n      <td>...</td>\n      <td>...</td>\n      <td>...</td>\n      <td>...</td>\n    </tr>\n    <tr>\n      <th>13553</th>\n      <td>2018-08-14 18:45:00+00:00</td>\n      <td>england</td>\n      <td>efl-cup</td>\n      <td>yeovil town</td>\n      <td>aston villa</td>\n      <td>0.0</td>\n      <td>1.0</td>\n      <td>0.00</td>\n      <td>0.00</td>\n      <td>0.00</td>\n      <td>0</td>\n      <td>0</td>\n      <td>1</td>\n      <td>1</td>\n      <td>1</td>\n      <td>0</td>\n      <td>0.738303</td>\n      <td>0.974766</td>\n      <td>0.002282</td>\n      <td>0</td>\n      <td>0.00</td>\n    </tr>\n    <tr>\n      <th>13554</th>\n      <td>2018-04-07 14:00:00+00:00</td>\n      <td>ukraine</td>\n      <td>premier-league-relegation-round</td>\n      <td>oleksandria</td>\n      <td>pfc feniks bucha</td>\n      <td>2.0</td>\n      <td>0.0</td>\n      <td>1.82</td>\n      <td>3.25</td>\n      <td>4.58</td>\n      <td>1</td>\n      <td>0</td>\n      <td>0</td>\n      <td>1</td>\n      <td>1</td>\n      <td>0</td>\n      <td>0.570895</td>\n      <td>0.614656</td>\n      <td>0.238248</td>\n      <td>1</td>\n      <td>2.25</td>\n    </tr>\n    <tr>\n      <th>13555</th>\n      <td>2015-12-12 17:30:00+00:00</td>\n      <td>austria</td>\n      <td>bundesliga</td>\n      <td>sv ried</td>\n      <td>wolfsberger ac</td>\n      <td>1.0</td>\n      <td>0.0</td>\n      <td>0.00</td>\n      <td>0.00</td>\n      <td>0.00</td>\n      <td>1</td>\n      <td>0</td>\n      <td>0</td>\n      <td>0</td>\n      <td>0</td>\n      <td>1</td>\n      <td>0.429426</td>\n      <td>0.001383</td>\n      <td>0.962793</td>\n      <td>0</td>\n      <td>0.00</td>\n    </tr>\n    <tr>\n      <th>13556</th>\n      <td>2016-09-21 15:30:00+00:00</td>\n      <td>finland</td>\n      <td>veikkausliiga</td>\n      <td>ifk mariehamn</td>\n      <td>inter turku</td>\n      <td>1.0</td>\n      <td>1.0</td>\n      <td>1.90</td>\n      <td>3.37</td>\n      <td>4.13</td>\n      <td>0</td>\n      <td>1</td>\n      <td>0</td>\n      <td>1</td>\n      <td>0</td>\n      <td>0</td>\n      <td>0.567031</td>\n      <td>0.176261</td>\n      <td>0.496240</td>\n      <td>0</td>\n      <td>-1.00</td>\n    </tr>\n    <tr>\n      <th>13557</th>\n      <td>2020-02-07 22:00:00+00:00</td>\n      <td>argentina</td>\n      <td>liga-profesional-de-futbol</td>\n      <td>aldosivi</td>\n      <td>central cordoba</td>\n      <td>0.0</td>\n      <td>2.0</td>\n      <td>2.49</td>\n      <td>2.85</td>\n      <td>3.25</td>\n      <td>0</td>\n      <td>0</td>\n      <td>1</td>\n      <td>1</td>\n      <td>1</td>\n      <td>0</td>\n      <td>0.623006</td>\n      <td>0.602990</td>\n      <td>0.117039</td>\n      <td>0</td>\n      <td>-1.00</td>\n    </tr>\n  </tbody>\n</table>\n<p>13300 rows × 21 columns</p>\n</div>"
     },
     "metadata": {},
     "execution_count": 87
    }
   ],
   "source": [
    "conv.DF"
   ]
  },
  {
   "cell_type": "code",
   "execution_count": 126,
   "metadata": {},
   "outputs": [
    {
     "output_type": "execute_result",
     "data": {
      "text/plain": [
       "0.5372846644982532"
      ]
     },
     "metadata": {},
     "execution_count": 126
    }
   ],
   "source": [
    "conv.DF.loc[conv.DF['odds_home']>0].win.mean()"
   ]
  },
  {
   "cell_type": "code",
   "execution_count": 124,
   "metadata": {},
   "outputs": [],
   "source": [
    "res=conv.DF.loc[conv.DF['odds_home']>0]"
   ]
  },
  {
   "cell_type": "code",
   "execution_count": 125,
   "metadata": {},
   "outputs": [
    {
     "output_type": "execute_result",
     "data": {
      "text/plain": [
       "(-110.32000000000002, 26.24999999999999, -121.71000000000002)"
      ]
     },
     "metadata": {},
     "execution_count": 125
    }
   ],
   "source": [
    "res[res['pred_home']==1].prf.sum(),res[res['pred_draw']==1].prf.sum(),res[res['pred_away']==1].prf.sum()"
   ]
  },
  {
   "cell_type": "code",
   "execution_count": 91,
   "metadata": {},
   "outputs": [],
   "source": [
    "res.to_csv('data/pred.csv', index=False)"
   ]
  },
  {
   "source": [
    "# sdef\n",
    "$ \\frac{1}{2} $"
   ],
   "cell_type": "markdown",
   "metadata": {}
  },
  {
   "cell_type": "code",
   "execution_count": null,
   "metadata": {},
   "outputs": [],
   "source": []
  }
 ]
}