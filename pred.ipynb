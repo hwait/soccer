{
 "metadata": {
  "language_info": {
   "codemirror_mode": {
    "name": "ipython",
    "version": 3
   },
   "file_extension": ".py",
   "mimetype": "text/x-python",
   "name": "python",
   "nbconvert_exporter": "python",
   "pygments_lexer": "ipython3",
   "version": "3.8.5-final"
  },
  "orig_nbformat": 2,
  "kernelspec": {
   "name": "python3",
   "display_name": "Python 3.8.5 64-bit ('mlenv': conda)",
   "metadata": {
    "interpreter": {
     "hash": "12f2fd9a8da6c9ddda222d67ff20ee53b82617d5a9ac88eb47f60b586ce1b05e"
    }
   }
  }
 },
 "nbformat": 4,
 "nbformat_minor": 2,
 "cells": [
  {
   "cell_type": "code",
   "execution_count": 1,
   "metadata": {},
   "outputs": [],
   "source": [
    "import os\n",
    "import pandas as pd\n",
    "import numpy as np\n",
    "import seaborn as sns\n",
    "import pickle\n",
    "\n",
    "from sklearn.preprocessing import LabelEncoder,OneHotEncoder,MinMaxScaler,MultiLabelBinarizer\n",
    "from sklearn.model_selection import RepeatedKFold,train_test_split\n",
    "import shap\n",
    "import tensorflow as tf\n",
    "from tensorflow import keras\n",
    "import tensorflow.keras.backend \n",
    "from tensorflow.keras.layers import Dense, BatchNormalization,Dropout\n",
    "from tensorflow.keras.models import Sequential\n",
    "from tensorflow.keras.callbacks import ModelCheckpoint\n",
    "from sklearn.metrics import accuracy_score\n",
    "\n",
    "\n",
    "import api.util\n",
    "from api.predictions_converter import PredictionsConverter\n",
    "from api.sofa_dp import SofaDataProvider\n",
    "\n",
    "from IPython.display import display\n",
    "pd.options.display.max_columns = None\n",
    "%load_ext autoreload\n",
    "%autoreload 2"
   ]
  },
  {
   "cell_type": "code",
   "execution_count": 3,
   "metadata": {},
   "outputs": [],
   "source": [
    "def checkpoint(name):\n",
    "    return ModelCheckpoint(f'checkpoints/model_{name}.hdf5', monitor='val_acc', verbose=0, save_best_only=True, mode='max')"
   ]
  },
  {
   "cell_type": "code",
   "execution_count": 2,
   "metadata": {},
   "outputs": [],
   "source": [
    "INF=['country', 'liga', 'mid', 'round', 'ds', 't1', 't2','tid1', 'tid2', 'w1', 'wx', 'w2',  'ft1', 'ft2','winner','gd','sch','sca','odds_away','odds_draw','odds_home']\n",
    "\n",
    "df_all=pd.read_csv('data/stats_generated.csv', index_col=None)\n",
    "df_all=df_all.dropna(subset=['ft1','ft2'])\n",
    "df_all['vop1']=df_all['vote1']-df_all['oddsprob1']\n",
    "df_all['vopx']=df_all['votex']-df_all['oddsprobx']\n",
    "df_all['vop2']=df_all['vote2']-df_all['oddsprob2']\n",
    "df_all['elo1'].fillna((df_all['elo1'].mean()), inplace=True)\n",
    "df_all['elo2'].fillna((df_all['elo2'].mean()), inplace=True)\n",
    "df_all['gd']=df_all['ft1']-df_all['ft2']\n",
    "df_all['gd']=df_all['gd'].astype(int)\n",
    "df_all['gd']=np.where(df_all['gd']>5,6,df_all['gd'])\n",
    "df_all['gd']=np.where(df_all['gd']<-5,-6,df_all['gd'])\n",
    "df_all['gd']=df_all['gd'].astype(int)\n",
    "df_all['sch']=np.where(df_all['ft1']>5,6,df_all['ft1'])\n",
    "df_all['sch']=df_all['sch'].astype(int)\n",
    "df_all['sca']=np.where(df_all['ft2']>5,6,df_all['ft2'])\n",
    "df_all['sca']=df_all['sca'].astype(int)\n",
    "for col in INF:\n",
    "    df_all.loc[df_all[col].isnull(),col]=0\n"
   ]
  },
  {
   "source": [
    "list(df_all.columns)"
   ],
   "cell_type": "markdown",
   "metadata": {}
  },
  {
   "source": [
    "def slice_1x2(pattern,base):\n",
    "    res=[]\n",
    "    for side in ['1','x','2']:\n",
    "        col=pattern.replace(f'{base}_', f'{base}{side}_')\n",
    "        #print(col)\n",
    "        if col in ALL:\n",
    "            subcolumns=[x for x in ALL if col == x]\n",
    "            subcolumns=[x for x in subcolumns if not x in DIRT]\n",
    "            res=np.hstack([res,subcolumns])\n",
    "        #break\n",
    "    #if res==[]:\n",
    "    #    print('EMPRY: '+pattern)\n",
    "    return res\n",
    "\n",
    "def slice_diff(pattern,base):\n",
    "    res=[]\n",
    "    if pattern in ALL:\n",
    "        res=[x for x in ALL if pattern in x]\n",
    "        res=[x for x in res if not x in DIRT]\n",
    "    return res\n",
    "\n",
    "def generate_cols(base):\n",
    "    subcolumns=[]\n",
    "    for scope in ['tt','ts']:\n",
    "        for typ in ['avg','form']:\n",
    "            # tar and opp columns\n",
    "            tar=slice_1x2(f'tar_{base}_{scope}_{typ}',base)\n",
    "            opp=slice_1x2(f'opp_{base}_{scope}_{typ}',base)\n",
    "            if tar!=[] and opp!=[]:\n",
    "                subcolumns.append(np.hstack([tar,opp]))\n",
    "            # resulted columns like ft1_tt_form\n",
    "            tar=slice_1x2(f'{base}_{scope}_{typ}',base)\n",
    "            if tar!=[]:\n",
    "                subcolumns.append(tar)\n",
    "            # resulted diffs columns like diff_ft_tt_avg\n",
    "            tar=slice_diff(f'diff_{base}_{scope}_{typ}',base)\n",
    "            if tar!=[]:\n",
    "                subcolumns.append(tar)\n",
    "            #break\n",
    "        #break\n",
    "\n",
    "    return subcolumns\n",
    "\n",
    "\n",
    "#COL_NUM=['vote1', 'votex', 'vote2', 'elo1', 'elo2']\n",
    "DIRT=['w1', 'wx', 'w2',  'ht1', 'ht2', 'ft1', 'ft2', 'ps_ht', 'ps_ft','winner']\n",
    "CATEGORICAL=['side', 'country_id','form1', 'form2', 'pop_r']\n",
    "SINGLES=['vop','diff_vote', 'diff_elo', 'diff_op','oddsprob']\n",
    "BASES = ['w',  'ht', 'ft', 'vop', 'vote', 'elo', 'drift', 'oddsprob', 'graph', 'possession', 'shont', 'shofft', 'corners', 'offsides', 'fouls','cards', 'gksaves','precision']\n",
    "MINIMUM=['vote1', 'votex', 'vote2','elo1','elo2']\n",
    "ALL=df_all.columns\n",
    "COLUMNS=[[]]\n",
    "for base in BASES:\n",
    "    #cols=INF+MINIMUM\n",
    "    COLUMNS+=generate_cols(base)\n",
    "    #break\n",
    "#COLUMNS\n"
   ],
   "cell_type": "code",
   "metadata": {},
   "execution_count": 3,
   "outputs": []
  },
  {
   "cell_type": "code",
   "execution_count": 7,
   "metadata": {
    "tags": [
     "outputPrepend"
    ]
   },
   "outputs": [
    {
     "output_type": "stream",
     "name": "stdout",
     "text": [
      "5308130907; PRF: -326.76; ROI: -0.025522143247676325\n",
      "122 ['tar_offsides1_ts_form' 'tar_offsides2_ts_form' 'opp_offsides1_ts_form'\n",
      " 'opp_offsides2_ts_form']\n",
      ">0.025\n",
      "WAG:9105; ACC: 0.5060955518945635; PRF: 123.81999999999996; ROI: 0.013599121361889068\n",
      "WAG:8154; ACC: 0.5068677949472652; PRF: 99.40999999999998; ROI: 0.0121915624233505\n",
      "WAG:12803; ACC: 0.4650472545497149; PRF: -332.62; ROI: -0.025979848473014138\n",
      "WAG:12803; ACC: 0.46262594704366167; PRF: -365.27; ROI: -0.028530032023744434\n",
      "123 ['offsides1_ts_form' 'offsides2_ts_form']\n",
      ">0.025\n",
      "WAG:9213; ACC: 0.5068924346032779; PRF: 80.51999999999995; ROI: 0.008739824161510904\n",
      "WAG:8100; ACC: 0.4982716049382716; PRF: -74.68; ROI: -0.009219753086419754\n",
      "WAG:12803; ACC: 0.46465672108099665; PRF: -395.52; ROI: -0.030892759509489963\n",
      "WAG:12803; ACC: 0.46567210809966414; PRF: -323.53000000000003; ROI: -0.025269858626884325\n",
      "124 ['diff_offsides_ts_form']\n",
      ">0.026\n",
      "WAG:9119; ACC: 0.4969843184559711; PRF: 62.52999999999999; ROI: 0.0068571115253865545\n",
      "WAG:8648; ACC: 0.4921369102682701; PRF: -5.25; ROI: -0.0006070767807585569\n",
      "WAG:12803; ACC: 0.4536436772631415; PRF: -591.0600000000001; ROI: -0.046165742404124036\n",
      "WAG:12803; ACC: 0.45333125048816686; PRF: -652.0699999999999; ROI: -0.05093103178942435\n",
      "125 ['tar_fouls1_tt_avg' 'tar_fouls2_tt_avg' 'opp_fouls1_tt_avg'\n",
      " 'opp_fouls2_tt_avg']\n",
      ">0.027\n",
      "WAG:8786; ACC: 0.489414978374687; PRF: 113.94999999999999; ROI: 0.012969496926929204\n",
      "WAG:7904; ACC: 0.4855769230769231; PRF: 105.53999999999999; ROI: 0.013352732793522266\n",
      "WAG:12803; ACC: 0.44536436772631416; PRF: -442.22; ROI: -0.0345403421073186\n",
      "WAG:12803; ACC: 0.44536436772631416; PRF: -449.1700000000001; ROI: -0.035083183628837\n",
      "126 ['fouls1_tt_avg' 'fouls2_tt_avg']\n",
      ">0.026\n",
      "WAG:9178; ACC: 0.5074090215733276; PRF: 72.41; ROI: 0.007889518413597734\n",
      "WAG:8191; ACC: 0.5033573434257111; PRF: -45.95000000000002; ROI: -0.005609815651324627\n",
      "WAG:12803; ACC: 0.460517066312583; PRF: -581.38; ROI: -0.04540966960868546\n",
      "WAG:12803; ACC: 0.4627040537374053; PRF: -488.82000000000005; ROI: -0.03818011403577287\n",
      "127 ['diff_fouls_tt_avg']\n",
      ">0.028\n",
      "WAG:8767; ACC: 0.48648340367286413; PRF: -63.40000000000001; ROI: -0.007231664195277748\n",
      "WAG:8316; ACC: 0.49001924001924; PRF: 126.14999999999999; ROI: 0.015169552669552668\n",
      "WAG:12803; ACC: 0.44606732797000703; PRF: -568.37; ROI: -0.044393501523080525\n",
      "WAG:12803; ACC: 0.4456767945012888; PRF: -555.6400000000001; ROI: -0.043399203311723825\n",
      "128 ['tar_fouls1_tt_form' 'tar_fouls2_tt_form' 'opp_fouls1_tt_form'\n",
      " 'opp_fouls2_tt_form']\n",
      ">0.025\n",
      "WAG:8895; ACC: 0.48791455874086564; PRF: -103.37; ROI: -0.011621135469364812\n",
      "WAG:8200; ACC: 0.4871951219512195; PRF: -88.79000000000002; ROI: -0.010828048780487808\n",
      "WAG:12803; ACC: 0.44536436772631416; PRF: -683.67; ROI: -0.05339920331172381\n",
      "WAG:12803; ACC: 0.4451300476450832; PRF: -780.2700000000001; ROI: -0.06094430992736078\n",
      "129 ['fouls1_tt_form' 'fouls2_tt_form']\n",
      ">0.027\n",
      "WAG:8949; ACC: 0.49569784333445077; PRF: 18.569999999999972; ROI: 0.0020750921890714015\n",
      "WAG:8028; ACC: 0.49028400597907323; PRF: -99.15; ROI: -0.01235052316890882\n",
      "WAG:12803; ACC: 0.4491915957197532; PRF: -730.87; ROI: -0.05708583925642428\n",
      "WAG:12803; ACC: 0.4516910099195501; PRF: -680.58; ROI: -0.053157853628055925\n",
      "130 ['diff_fouls_tt_form']\n",
      ">0.027\n",
      "WAG:9110; ACC: 0.5015367727771679; PRF: 238.44; ROI: 0.02617343578485181\n",
      "WAG:8436; ACC: 0.48885727833096254; PRF: 27.450000000000003; ROI: 0.003253911806543386\n",
      "WAG:12803; ACC: 0.4539561040381161; PRF: -384.86000000000007; ROI: -0.03006014215418262\n",
      "WAG:12803; ACC: 0.44848863547606027; PRF: -487.1; ROI: -0.03804577052253378\n",
      "131 ['tar_fouls1_ts_avg' 'tar_fouls2_ts_avg' 'opp_fouls1_ts_avg'\n",
      " 'opp_fouls2_ts_avg']\n",
      ">0.027\n",
      "WAG:9176; ACC: 0.49455100261551876; PRF: -143.17999999999998; ROI: -0.015603748910200521\n",
      "WAG:8309; ACC: 0.4873029245396558; PRF: -121.78999999999998; ROI: -0.014657600192562278\n",
      "WAG:12803; ACC: 0.45458095758806527; PRF: -543.84; ROI: -0.042477544325548705\n",
      "WAG:12803; ACC: 0.4530969304069359; PRF: -476.01; ROI: -0.03717956728891666\n",
      "132 ['fouls1_ts_avg' 'fouls2_ts_avg']\n",
      ">0.026\n",
      "WAG:8794; ACC: 0.4960200136456675; PRF: 182.22999999999996; ROI: 0.020722083238571748\n",
      "WAG:7912; ACC: 0.49077350859453994; PRF: 77.31999999999998; ROI: 0.009772497472194133\n",
      "WAG:12803; ACC: 0.45536202452550184; PRF: -292.52; ROI: -0.02284777005389362\n",
      "WAG:12803; ACC: 0.4517691166132938; PRF: -443.99; ROI: -0.034678590955244865\n",
      "133 ['diff_fouls_ts_avg']\n",
      ">0.026\n",
      "WAG:9394; ACC: 0.5065999574196296; PRF: 141.47; ROI: 0.015059612518628912\n",
      "WAG:8511; ACC: 0.5025261426389378; PRF: 52.150000000000006; ROI: 0.006127364587005053\n",
      "WAG:12803; ACC: 0.45911114582519724; PRF: -552.4300000000001; ROI: -0.04314848082480669\n",
      "WAG:12803; ACC: 0.45614309146293835; PRF: -613.65; ROI: -0.04793017261579317\n",
      "134 ['tar_fouls1_ts_form' 'tar_fouls2_ts_form' 'opp_fouls1_ts_form'\n",
      " 'opp_fouls2_ts_form']\n",
      ">0.028\n",
      "WAG:8884; ACC: 0.5004502476361999; PRF: 308.01; ROI: 0.03467019360648357\n",
      "WAG:8114; ACC: 0.4955632240571851; PRF: 201.45; ROI: 0.024827458713334975\n",
      "WAG:12803; ACC: 0.4513004764508318; PRF: -458.83000000000004; ROI: -0.03583769429040069\n",
      "WAG:12803; ACC: 0.4493478091072405; PRF: -464.81; ROI: -0.03630477231898774\n",
      "135 ['fouls1_ts_form' 'fouls2_ts_form']\n",
      ">0.027\n",
      "WAG:8995; ACC: 0.49416342412451364; PRF: 161.51999999999998; ROI: 0.01795664257921067\n",
      "WAG:8302; ACC: 0.4924114671163575; PRF: 56.36999999999999; ROI: 0.006789930137316308\n",
      "WAG:12803; ACC: 0.4509880496758572; PRF: -415.9700000000001; ROI: -0.03249004139654769\n",
      "WAG:12803; ACC: 0.45137858314457546; PRF: -445.58; ROI: -0.03480278059829727\n",
      "136 ['diff_fouls_ts_form']\n",
      ">0.028\n",
      "WAG:9290; ACC: 0.4984930032292788; PRF: 270.99; ROI: 0.029170075349838537\n",
      "WAG:8646; ACC: 0.4945639602128152; PRF: 234.71; ROI: 0.027146657413832986\n",
      "WAG:12803; ACC: 0.4559868780754511; PRF: -365.3700000000001; ROI: -0.02853784269311881\n",
      "WAG:12803; ACC: 0.45622119815668205; PRF: -351.08000000000004; ROI: -0.02742169803952199\n",
      "137 ['tar_cards1_tt_avg' 'tar_cards2_tt_avg' 'opp_cards1_tt_avg'\n",
      " 'opp_cards2_tt_avg']\n",
      ">0.027\n",
      "WAG:8575; ACC: 0.49201166180758016; PRF: 105.38999999999999; ROI: 0.012290379008746355\n",
      "WAG:8010; ACC: 0.49288389513108616; PRF: 142.37; ROI: 0.01777403245942572\n",
      "WAG:12803; ACC: 0.44903538233226586; PRF: -452.43000000000006; ROI: -0.035337811450441306\n",
      "WAG:12803; ACC: 0.4536436772631415; PRF: -363.05; ROI: -0.028356635163633525\n",
      "138 ['cards1_tt_avg' 'cards2_tt_avg']\n",
      ">0.026\n",
      "WAG:9100; ACC: 0.5010989010989011; PRF: 67.70999999999998; ROI: 0.007440659340659338\n",
      "WAG:8217; ACC: 0.4930023122794207; PRF: -31.569999999999997; ROI: -0.003842034805890227\n",
      "WAG:12803; ACC: 0.45872061235647893; PRF: -448.38; ROI: -0.0350214793407795\n",
      "WAG:12803; ACC: 0.46036085292509565; PRF: -344.66; ROI: -0.02692025306568773\n",
      "139 ['diff_cards_tt_avg']\n",
      ">0.026\n",
      "WAG:8828; ACC: 0.4912777526053466; PRF: 67.25000000000003; ROI: 0.0076178069777979186\n",
      "WAG:8198; ACC: 0.4928031227128568; PRF: 104.63000000000001; ROI: 0.012762868992437181\n",
      "WAG:12803; ACC: 0.44794188861985473; PRF: -540.23; ROI: -0.04219557916113411\n",
      "WAG:12803; ACC: 0.4516910099195501; PRF: -524.5600000000001; ROI: -0.04097164727017106\n",
      "140 ['tar_cards1_tt_form' 'tar_cards2_tt_form' 'opp_cards1_tt_form'\n",
      " 'opp_cards2_tt_form']\n",
      ">0.024\n",
      "WAG:8703; ACC: 0.5035045386648282; PRF: 147.35999999999999; ROI: 0.016932092381937262\n",
      "WAG:8172; ACC: 0.5040381791483113; PRF: 159.03; ROI: 0.01946035242290749\n",
      "WAG:12803; ACC: 0.45723658517534954; PRF: -329.15; ROI: -0.025708818245723658\n",
      "WAG:12803; ACC: 0.4584081855815043; PRF: -391.36; ROI: -0.030567835663516365\n",
      "141 ['cards1_tt_form' 'cards2_tt_form']\n",
      ">0.026\n",
      "WAG:8691; ACC: 0.48981705212288573; PRF: -34.96999999999999; ROI: -0.004023702680934299\n",
      "WAG:7939; ACC: 0.48343620103287566; PRF: -84.74999999999997; ROI: -0.01067514800352689\n",
      "WAG:12803; ACC: 0.4414590330391315; PRF: -754.46; ROI: -0.05892837616183707\n",
      "WAG:12803; ACC: 0.4451300476450832; PRF: -715.25; ROI: -0.055865812700148405\n",
      "142 ['diff_cards_tt_form']\n",
      ">0.027\n",
      "WAG:9113; ACC: 0.5019203335893778; PRF: 147.14999999999998; ROI: 0.016147262152968283\n",
      "WAG:8514; ACC: 0.4996476391825229; PRF: 126.99999999999997; ROI: 0.014916607939863751\n",
      "WAG:12803; ACC: 0.4530969304069359; PRF: -570.31; ROI: -0.044545028508943214\n",
      "WAG:12803; ACC: 0.4541123174256034; PRF: -602.83; ROI: -0.04708505818948684\n",
      "143 ['tar_cards1_ts_avg' 'tar_cards2_ts_avg' 'opp_cards1_ts_avg'\n",
      " 'opp_cards2_ts_avg']\n",
      ">0.026\n",
      "WAG:8965; ACC: 0.505521472392638; PRF: 140.54999999999998; ROI: 0.015677635248187393\n",
      "WAG:8539; ACC: 0.5026349689659211; PRF: 155.08999999999997; ROI: 0.018162548307764374\n",
      "WAG:12803; ACC: 0.45825197219401703; PRF: -498.6400000000001; ROI: -0.038947121768335556\n",
      "WAG:12803; ACC: 0.4628602671248926; PRF: -370.59000000000003; ROI: -0.028945559634460674\n",
      "144 ['cards1_ts_avg' 'cards2_ts_avg']\n",
      ">0.026\n",
      "WAG:8990; ACC: 0.5072302558398221; PRF: -38.97999999999998; ROI: -0.004335928809788652\n",
      "WAG:8364; ACC: 0.5070540411286466; PRF: -47.180000000000035; ROI: -0.005640841702534677\n",
      "WAG:12803; ACC: 0.466375068343357; PRF: -399.75999999999993; ROI: -0.03122393189096305\n",
      "WAG:12803; ACC: 0.46731234866828086; PRF: -417.8200000000001; ROI: -0.03263453877997345\n",
      "145 ['diff_cards_ts_avg']\n",
      ">0.026\n",
      "WAG:8692; ACC: 0.5; PRF: 183.27999999999997; ROI: 0.0210860561435803\n",
      "WAG:7849; ACC: 0.4887246783029685; PRF: 1.2399999999999807; ROI: 0.0001579819085233763\n",
      "WAG:12803; ACC: 0.44856674216980397; PRF: -514.99; ROI: -0.040224166211044285\n",
      "WAG:12803; ACC: 0.45325314379442316; PRF: -453.21000000000004; ROI: -0.035398734671561356\n",
      "146 ['tar_cards1_ts_form' 'tar_cards2_ts_form' 'opp_cards1_ts_form'\n",
      " 'opp_cards2_ts_form']\n",
      ">0.026\n",
      "WAG:9517; ACC: 0.5090889986340233; PRF: 105.71000000000001; ROI: 0.011107491856677525\n",
      "WAG:8574; ACC: 0.5040821087007231; PRF: -92.95000000000003; ROI: -0.010840914392348966\n",
      "WAG:12803; ACC: 0.46832773568694835; PRF: -432.63000000000005; ROI: -0.03379129891431696\n",
      "WAG:12803; ACC: 0.4673904553620245; PRF: -470.96; ROI: -0.03678512848551121\n",
      "147 ['cards1_ts_form' 'cards2_ts_form']\n",
      ">0.027\n",
      "WAG:9152; ACC: 0.506993006993007; PRF: 214.90000000000003; ROI: 0.023481206293706296\n",
      "WAG:8610; ACC: 0.50267131242741; PRF: 228.43; ROI: 0.026530778164924506\n",
      "WAG:12803; ACC: 0.4618448801062251; PRF: -360.05000000000007; ROI: -0.028122315082402566\n",
      "WAG:12803; ACC: 0.4591892525189409; PRF: -397.46; ROI: -0.03104428649535265\n",
      "148 ['diff_cards_ts_form']\n",
      ">0.025\n",
      "WAG:9092; ACC: 0.4991201055873295; PRF: -11.980000000000018; ROI: -0.001317641882974045\n",
      "WAG:8058; ACC: 0.49441548771407295; PRF: -172.14; ROI: -0.021362620997766195\n",
      "WAG:12803; ACC: 0.452393970163243; PRF: -620.93; ROI: -0.04849878934624697\n",
      "WAG:12803; ACC: 0.4537217839568851; PRF: -648.22; ROI: -0.05063032101851129\n",
      "149 ['tar_gksaves1_tt_avg' 'tar_gksaves2_tt_avg' 'opp_gksaves1_tt_avg'\n",
      " 'opp_gksaves2_tt_avg']\n",
      ">0.026\n",
      "WAG:9065; ACC: 0.5056811913954771; PRF: 190.93; ROI: 0.021062327633756206\n",
      "WAG:8123; ACC: 0.5020312692355041; PRF: 133.29; ROI: 0.016408962206081495\n",
      "WAG:12803; ACC: 0.4658283214871515; PRF: -260.23; ROI: -0.02032570491291104\n",
      "WAG:12803; ACC: 0.4648910411622276; PRF: -242.0; ROI: -0.018901819885964226\n",
      "150 ['gksaves1_tt_avg' 'gksaves2_tt_avg']\n",
      ">0.026\n",
      "WAG:9226; ACC: 0.49642315196184694; PRF: 48.77; ROI: 0.005286147843052244\n",
      "WAG:8667; ACC: 0.49428868120456904; PRF: 118.13; ROI: 0.013629860389985\n",
      "WAG:12803; ACC: 0.45614309146293835; PRF: -463.63; ROI: -0.036212606420370226\n",
      "WAG:12803; ACC: 0.45801765211278606; PRF: -434.62; ROI: -0.03394673123486683\n",
      "151 ['diff_gksaves_tt_avg']\n",
      ">0.026\n",
      "WAG:8625; ACC: 0.4943768115942029; PRF: 195.89999999999998; ROI: 0.022713043478260867\n",
      "WAG:7974; ACC: 0.49009280160521695; PRF: 44.69; ROI: 0.005604464509656383\n",
      "WAG:12803; ACC: 0.4448957275638522; PRF: -439.83000000000004; ROI: -0.03435366710927127\n",
      "WAG:12803; ACC: 0.44692650160118724; PRF: -475.07; ROI: -0.03710614699679762\n",
      "152 ['tar_gksaves1_tt_form' 'tar_gksaves2_tt_form' 'opp_gksaves1_tt_form'\n",
      " 'opp_gksaves2_tt_form']\n",
      ">0.027\n",
      "WAG:9099; ACC: 0.5056599626332564; PRF: 104.22999999999996; ROI: 0.011455104956588632\n",
      "WAG:8430; ACC: 0.5033214709371293; PRF: 140.73; ROI: 0.016693950177935943\n",
      "WAG:12803; ACC: 0.46075138639381397; PRF: -387.92; ROI: -0.030299148637038194\n",
      "WAG:12803; ACC: 0.464578614387253; PRF: -329.24; ROI: -0.025715847848160587\n",
      "153 ['gksaves1_tt_form' 'gksaves2_tt_form']\n",
      ">0.026\n",
      "WAG:9395; ACC: 0.5046301224055348; PRF: 25.95999999999998; ROI: 0.002763171899946778\n",
      "WAG:8719; ACC: 0.5033834155293038; PRF: 125.60999999999999; ROI: 0.01440646863172382\n",
      "WAG:12803; ACC: 0.46090759978130125; PRF: -563.6800000000001; ROI: -0.0440271811294228\n",
      "WAG:12803; ACC: 0.46325080059361085; PRF: -439.87000000000006; ROI: -0.034356791377021016\n",
      "154 ['diff_gksaves_tt_form']\n",
      ">0.026\n",
      "WAG:8746; ACC: 0.4923393551337754; PRF: 143.35000000000002; ROI: 0.01639034987422822\n",
      "WAG:8033; ACC: 0.4899788372961534; PRF: 173.82999999999998; ROI: 0.021639487115647952\n",
      "WAG:12803; ACC: 0.4513004764508318; PRF: -323.55; ROI: -0.025271420760759198\n",
      "WAG:12803; ACC: 0.4517691166132938; PRF: -346.27; ROI: -0.02704600484261501\n",
      "155 ['tar_gksaves1_ts_avg' 'tar_gksaves2_ts_avg' 'opp_gksaves1_ts_avg'\n",
      " 'opp_gksaves2_ts_avg']\n",
      ">0.025\n",
      "WAG:9205; ACC: 0.49527430744160783; PRF: 15.669999999999987; ROI: 0.0017023356871265602\n",
      "WAG:8262; ACC: 0.49661099007504234; PRF: -8.559999999999988; ROI: -0.0010360687484870477\n",
      "WAG:12803; ACC: 0.45754901195032416; PRF: -348.73; ROI: -0.0272381473092244\n",
      "WAG:12803; ACC: 0.4566117316254003; PRF: -440.9100000000001; ROI: -0.03443802233851442\n",
      "156 ['gksaves1_ts_avg' 'gksaves2_ts_avg']\n",
      ">0.028\n",
      "WAG:8595; ACC: 0.49331006399069227; PRF: -30.450000000000024; ROI: -0.0035427574171029695\n",
      "WAG:7750; ACC: 0.4905806451612903; PRF: 22.600000000000016; ROI: 0.0029161290322580664\n",
      "WAG:12803; ACC: 0.4455986878075451; PRF: -605.4099999999999; ROI: -0.047286573459345456\n",
      "WAG:12803; ACC: 0.4451300476450832; PRF: -631.09; ROI: -0.049292353354682496\n",
      "157 ['diff_gksaves_ts_avg']\n",
      ">0.026\n",
      "WAG:9224; ACC: 0.5004336513443192; PRF: 158.91; ROI: 0.01722788378143972\n",
      "WAG:8328; ACC: 0.494716618635927; PRF: 10.729999999999988; ROI: 0.0012884245917387112\n",
      "WAG:12803; ACC: 0.4537217839568851; PRF: -488.15000000000003; ROI: -0.03812778255096462\n",
      "WAG:12803; ACC: 0.452393970163243; PRF: -537.95; ROI: -0.042017495899398585\n",
      "158 ['tar_gksaves1_ts_form' 'tar_gksaves2_ts_form' 'opp_gksaves1_ts_form'\n",
      " 'opp_gksaves2_ts_form']\n",
      ">0.026\n",
      "WAG:9087; ACC: 0.5094090458897326; PRF: 92.71999999999997; ROI: 0.010203587542643333\n",
      "WAG:8121; ACC: 0.5095431597093953; PRF: 85.26999999999998; ROI: 0.010499938431227679\n",
      "WAG:12803; ACC: 0.46567210809966414; PRF: -410.18000000000006; ROI: -0.03203780363977193\n",
      "WAG:12803; ACC: 0.4612981332500195; PRF: -517.45; ROI: -0.04041630867765368\n",
      "159 ['gksaves1_ts_form' 'gksaves2_ts_form']\n",
      ">0.026\n",
      "WAG:8901; ACC: 0.49578699022581735; PRF: 122.09999999999997; ROI: 0.01371755982473879\n",
      "WAG:8335; ACC: 0.4886622675464907; PRF: 13.99999999999999; ROI: 0.0016796640671865614\n",
      "WAG:12803; ACC: 0.4517691166132938; PRF: -373.94; ROI: -0.029207217058501912\n",
      "WAG:12803; ACC: 0.4508318362883699; PRF: -430.80000000000007; ROI: -0.033648363664766076\n",
      "160 ['diff_gksaves_ts_form']\n",
      ">0.027\n",
      "WAG:9102; ACC: 0.505053834322127; PRF: 94.45; ROI: 0.010376840254889035\n",
      "WAG:8194; ACC: 0.5065901879423969; PRF: 60.37; ROI: 0.007367586038564803\n",
      "WAG:12803; ACC: 0.46254784034991797; PRF: -370.32; ROI: -0.028924470827149888\n",
      "WAG:12803; ACC: 0.4613762399437632; PRF: -434.53; ROI: -0.033939701632429896\n",
      "161 ['tar_precision1_tt_avg' 'tar_precision2_tt_avg' 'opp_precision1_tt_avg'\n",
      " 'opp_precision2_tt_avg']\n",
      ">0.028\n",
      "WAG:9212; ACC: 0.4970690403821103; PRF: 9.159999999999972; ROI: 0.000994355188884061\n",
      "WAG:8334; ACC: 0.4919606431485481; PRF: -7.030000000000002; ROI: -0.0008435325173986084\n",
      "WAG:12803; ACC: 0.4515347965320628; PRF: -581.01; ROI: -0.045380770132000314\n",
      "WAG:12803; ACC: 0.4489572756385222; PRF: -634.86; ROI: -0.049586815590096076\n",
      "162 ['precision1_tt_avg' 'precision2_tt_avg']\n",
      ">0.026\n",
      "WAG:8817; ACC: 0.4979017806510151; PRF: 172.07999999999998; ROI: 0.01951684246342293\n",
      "WAG:8047; ACC: 0.4945942587299615; PRF: 167.94; ROI: 0.020869889399776315\n",
      "WAG:12803; ACC: 0.4528626103257049; PRF: -343.88000000000005; ROI: -0.026859329844567684\n",
      "WAG:12803; ACC: 0.45325314379442316; PRF: -424.44000000000005; ROI: -0.033151605092556435\n",
      "163 ['diff_precision_tt_avg']\n",
      ">0.026\n",
      "WAG:9088; ACC: 0.49691901408450706; PRF: 197.10000000000002; ROI: 0.021687940140845074\n",
      "WAG:8451; ACC: 0.49769258075967343; PRF: 148.20000000000002; ROI: 0.017536386226482074\n",
      "WAG:12803; ACC: 0.4538779973443724; PRF: -482.32000000000005; ROI: -0.03767242052643912\n",
      "WAG:12803; ACC: 0.4591892525189409; PRF: -357.63000000000005; ROI: -0.027933296883542923\n",
      "164 ['tar_precision1_tt_form' 'tar_precision2_tt_form'\n",
      " 'opp_precision1_tt_form' 'opp_precision2_tt_form']\n",
      ">0.026\n",
      "WAG:9158; ACC: 0.5065516488316226; PRF: 161.43; ROI: 0.017627211181480675\n",
      "WAG:8591; ACC: 0.5028518216738447; PRF: 35.65999999999998; ROI: 0.004150855546502151\n",
      "WAG:12803; ACC: 0.45934546590642816; PRF: -438.8500000000001; ROI: -0.03427712254940249\n",
      "WAG:12803; ACC: 0.46379754744981644; PRF: -363.83000000000004; ROI: -0.028417558384753575\n",
      "165 ['precision1_tt_form' 'precision2_tt_form']\n",
      ">0.027\n",
      "WAG:9293; ACC: 0.49768643064672335; PRF: 128.51999999999998; ROI: 0.013829764338749594\n",
      "WAG:8256; ACC: 0.4899467054263566; PRF: 10.719999999999997; ROI: 0.0012984496124031004\n",
      "WAG:12803; ACC: 0.45465906428180897; PRF: -521.6800000000001; ROI: -0.040746699992189335\n",
      "WAG:12803; ACC: 0.4542685308130907; PRF: -467.61; ROI: -0.03652347106146997\n",
      "166 ['diff_precision_tt_form']\n",
      ">0.028\n",
      "WAG:8564; ACC: 0.4865716954694068; PRF: -8.480000000000025; ROI: -0.0009901914992993957\n",
      "WAG:8302; ACC: 0.4790411948927969; PRF: 69.69999999999996; ROI: 0.008395567333172725\n",
      "WAG:12803; ACC: 0.44395844723892836; PRF: -439.45000000000005; ROI: -0.03432398656564868\n",
      "WAG:12803; ACC: 0.4438022338514411; PRF: -514.2; ROI: -0.0401624619229868\n",
      "167 ['tar_precision1_ts_avg' 'tar_precision2_ts_avg' 'opp_precision1_ts_avg'\n",
      " 'opp_precision2_ts_avg']\n",
      ">0.026\n",
      "WAG:8973; ACC: 0.49983283182881977; PRF: 195.93999999999997; ROI: 0.021836620974033206\n",
      "WAG:8118; ACC: 0.49827543729982754; PRF: 161.3; ROI: 0.019869425966986945\n",
      "WAG:12803; ACC: 0.4562993048504257; PRF: -296.03; ROI: -0.02312192454893384\n",
      "WAG:12803; ACC: 0.4584081855815043; PRF: -260.69; ROI: -0.020361633992033116\n",
      "168 ['precision1_ts_avg' 'precision2_ts_avg']\n",
      ">0.028\n",
      "WAG:9217; ACC: 0.5062384723879787; PRF: 253.54999999999995; ROI: 0.027508950851687097\n",
      "WAG:8665; ACC: 0.5052510098095787; PRF: 265.06; ROI: 0.030589728793998846\n",
      "WAG:12803; ACC: 0.45825197219401703; PRF: -407.57000000000005; ROI: -0.03183394516910099\n",
      "WAG:12803; ACC: 0.4627040537374053; PRF: -275.49; ROI: -0.021517613059439195\n",
      "169 ['diff_precision_ts_avg']\n",
      ">0.026\n",
      "WAG:8744; ACC: 0.49359560841720035; PRF: 142.63; ROI: 0.016311756633119852\n",
      "WAG:7970; ACC: 0.48720200752823084; PRF: 66.24999999999999; ROI: 0.00831242158092848\n",
      "WAG:12803; ACC: 0.44848863547606027; PRF: -497.84000000000003; ROI: -0.038884636413340626\n",
      "WAG:12803; ACC: 0.44692650160118724; PRF: -562.04; ROI: -0.0438990861516832\n",
      "170 ['tar_precision1_ts_form' 'tar_precision2_ts_form'\n",
      " 'opp_precision1_ts_form' 'opp_precision2_ts_form']\n",
      ">0.026\n",
      "WAG:9166; ACC: 0.5017455814968361; PRF: -21.26000000000001; ROI: -0.0023194414139210136\n",
      "WAG:8217; ACC: 0.5024948277960326; PRF: -94.47000000000003; ROI: -0.011496896677619573\n",
      "WAG:12803; ACC: 0.46309458720612356; PRF: -382.1400000000001; ROI: -0.029847691947199884\n",
      "WAG:12803; ACC: 0.4615324533312505; PRF: -434.37000000000006; ROI: -0.03392720456143092\n",
      "171 ['precision1_ts_form' 'precision2_ts_form']\n",
      ">0.027\n",
      "WAG:9177; ACC: 0.4968944099378882; PRF: 36.17999999999994; ROI: 0.00394246485779666\n",
      "WAG:8401; ACC: 0.4977978812046185; PRF: -22.130000000000017; ROI: -0.002634210213069875\n",
      "WAG:12803; ACC: 0.45036319612590797; PRF: -675.96; ROI: -0.05279700070296025\n",
      "WAG:12803; ACC: 0.45434663750683435; PRF: -589.01; ROI: -0.04600562368194954\n",
      "172 ['diff_precision_ts_form']\n",
      ">0.027\n",
      "WAG:9054; ACC: 0.49801192842942343; PRF: 179.28999999999994; ROI: 0.019802297327148215\n",
      "WAG:8263; ACC: 0.4940094396708217; PRF: 121.21000000000004; ROI: 0.014669006414135306\n",
      "WAG:12803; ACC: 0.44926970241349684; PRF: -506.65000000000003; ROI: -0.039572756385222216\n",
      "WAG:12803; ACC: 0.44872295555729125; PRF: -513.6800000000001; ROI: -0.04012184644224011\n"
     ]
    }
   ],
   "source": [
    "classes=['w1', 'wx', 'w2','sch0','sch1','sch2','sch3','sch4','sch5','sch6', 'sca0','sca1','sca2','sca3','sca4','sca5','sca6','gd-6','gd-5','gd-4','gd-3','gd-2','gd-1','gd0','gd1','gd2','gd3','gd4','gd5','gd6']\n",
    "runs=[]\n",
    "start=23\n",
    "c=0\n",
    "for cols in COLUMNS:\n",
    "    current_run={'n':c, 'cols':cols}\n",
    "    #if c<=20: # or c>53:\n",
    "    #    c+=1\n",
    "    #    continue\n",
    "    print(c, cols)\n",
    "    df=df_all[np.hstack([INF,CATEGORICAL,MINIMUM,cols])]\n",
    "    #print(len(df.index))\n",
    "    df_info, data, labels = prepare_df(df, na_way='MEAN')\n",
    "    current_run=evaluate_feature(data, labels, df_info, current_run)\n",
    "    runs.append(current_run)\n",
    "    pd.DataFrame(runs).to_csv('data/features_evaluated.csv', index=False)\n",
    "    c+=1\n",
    "    #break\n",
    "#runs\n",
    "#df=df_all[cols]"
   ]
  },
  {
   "cell_type": "code",
   "execution_count": 198,
   "metadata": {},
   "outputs": [
    {
     "output_type": "execute_result",
     "data": {
      "text/plain": [
       "array([[0., 1., 0., ..., 0., 0., 0.],\n",
       "       [1., 0., 0., ..., 0., 0., 0.],\n",
       "       [1., 0., 0., ..., 0., 0., 0.],\n",
       "       ...,\n",
       "       [0., 0., 1., ..., 0., 0., 0.],\n",
       "       [0., 0., 1., ..., 0., 0., 0.],\n",
       "       [1., 0., 0., ..., 0., 0., 0.]])"
      ]
     },
     "metadata": {},
     "execution_count": 198
    }
   ],
   "source": [
    "labels"
   ]
  },
  {
   "cell_type": "code",
   "execution_count": 4,
   "metadata": {},
   "outputs": [],
   "source": [
    "def prepare_df(df_in, na_way='drop'):\n",
    "    if na_way=='drop':\n",
    "        df=df_in.dropna()\n",
    "    elif na_way=='zero':\n",
    "        df=df_in.fillna(0)\n",
    "    else:\n",
    "        df=df_in.copy()\n",
    "        [df[col].fillna(df[col].mean(), inplace=True) for col in df.columns[start:]]\n",
    "    \n",
    "    # Categorical values\n",
    "    encoder = OneHotEncoder()\n",
    "    pop_r=encoder.fit_transform(df[['pop_r']]).toarray()\n",
    "    rounds=encoder.fit_transform(df[['round']]).toarray()\n",
    "    countries=encoder.fit_transform(df[['country_id']]).toarray()\n",
    "    encoder = OneHotEncoder()\n",
    "    form1=encoder.fit_transform(df[['form1']]).toarray()\n",
    "    encoder = OneHotEncoder()\n",
    "    form2=encoder.fit_transform(df[['form2']]).toarray()\n",
    "    side=df[['side']].values\n",
    "\n",
    "    # Numerical values\n",
    "    scaler=MinMaxScaler()\n",
    "    nums=scaler.fit_transform(df[df.columns[start:]].values)\n",
    "    nums1=df[['vote1', 'votex', 'vote2',]].values\n",
    "\n",
    "    # Union data\n",
    "    data=np.hstack([side,pop_r,rounds,countries,form1,form2,nums,nums1])\n",
    "\n",
    "    # Labels\n",
    "    ohe=OneHotEncoder()\n",
    "    folder='prerequisites/'\n",
    "    with open(os.path.join(folder, 'ohe_gd'), mode='rb') as f:\n",
    "        ohe=pickle.load(f)\n",
    "    scgd=ohe.transform(df[['gd']]).toarray()\n",
    "    with open(os.path.join(folder, 'ohe_sch'), mode='rb') as f:\n",
    "        ohe=pickle.load(f)\n",
    "    sch=ohe.transform(df[['sch']]).toarray()\n",
    "    with open(os.path.join(folder, 'ohe_sca'), mode='rb') as f:\n",
    "        ohe=pickle.load(f)\n",
    "    sca=ohe.transform(df[['sca']]).toarray()\n",
    "    labels=np.hstack([df[['w1', 'wx', 'w2']].values,sch,sca,scgd])\n",
    "    \n",
    "    return df[INF], data, labels\n"
   ]
  },
  {
   "cell_type": "code",
   "execution_count": 43,
   "metadata": {},
   "outputs": [
    {
     "output_type": "execute_result",
     "data": {
      "text/plain": [
       "Index(['vote1', 'votex', 'vote2', 'elo1', 'elo2'], dtype='object')"
      ]
     },
     "metadata": {},
     "execution_count": 43
    }
   ],
   "source": [
    "df.columns[18:]"
   ]
  },
  {
   "source": [
    "# Analysis"
   ],
   "cell_type": "markdown",
   "metadata": {}
  },
  {
   "cell_type": "code",
   "execution_count": 5,
   "metadata": {},
   "outputs": [],
   "source": [
    "def calc_prf(res, yhat, y, info, prefix, threshold=0.5):\n",
    "    conv=PredictionsConverter('op', yhat, y, info, odds=True)\n",
    "    conv.make_df(threshold=threshold)\n",
    "    wag, acc, prf, roi=conv.profit()\n",
    "    res[prefix+'_WAG']=wag\n",
    "    res[prefix+'_ACC']=acc\n",
    "    res[prefix+'_PRF']=prf\n",
    "    res[prefix+'_ROI']=roi\n",
    "    dfr=conv.performance_metrics()\n",
    "    res[prefix+'_TP1'],res[prefix+'_TPX'],res[prefix+'_TP2']=dfr['TP'].values\n",
    "    res[prefix+'_FP1'],res[prefix+'_FPX'],res[prefix+'_FP2']=dfr['FP'].values\n",
    "    res[prefix+'_PPV1'],res[prefix+'_PPVX'],res[prefix+'_PPV2']=dfr['PPV'].values\n",
    "    res[prefix+'_AUC1'],res[prefix+'_AUCX'],res[prefix+'_AUC2']=dfr['AUC'].values\n",
    "    res[prefix+'_F11'],res[prefix+'_F1X'],res[prefix+'_F12']=dfr['F1'].values\n",
    "    return res\n",
    "\n",
    "def evaluate_feature(data, labels, df_info, res):\n",
    "    data_train, data_test, labels_train, labels_test, info_train, info_test = train_test_split(data, labels, df_info, test_size=0.2, random_state=24)\n",
    "    results, model = evaluate_model(data_train, labels_train, bs=64)\n",
    "    yhat = model.predict(data_test)\n",
    "    res['ACC']=np.mean(results)\n",
    "    res['STD']=np.std(results)\n",
    "    colyp=[x+'_p' for x in classes]\n",
    "    df_y=pd.DataFrame(data=labels_test[:,3:], columns=classes[3:])\n",
    "    df_yhat=pd.DataFrame(data=yhat, columns=colyp)\n",
    "    info_test=info_test.rename(columns={'ft1':'sc1','ft2':'sc2'})\n",
    "    info_test=info_test.reset_index(drop=True)\n",
    "    df_preds=pd.concat([info_test,df_y,df_yhat], axis=1)\n",
    "    df_preds['w1_gd']=df_preds[['gd6_p','gd5_p','gd4_p','gd3_p','gd2_p','gd1_p']].sum(axis=1)\n",
    "    df_preds['wx_gd']=df_preds['gd0_p']\n",
    "    df_preds['w2_gd']=df_preds[['gd-6_p','gd-5_p','gd-4_p','gd-3_p','gd-2_p','gd-1_p']].sum(axis=1)\n",
    "    \n",
    "    res=calc_prf(res, df_preds[['w1_p','wx_p','w2_p']].values, df_preds[['w1','wx','w2']].values, info_test.copy(), 'ML', threshold=0.5)\n",
    "    res=calc_prf(res, df_preds[['w1_gd','wx_gd','w2_gd']].values, df_preds[['w1','wx','w2']].values, info_test.copy(), 'GD', threshold=0.5)\n",
    "    res=calc_prf(res, df_preds[['w1_p','wx_p','w2_p']].values, df_preds[['w1','wx','w2']].values, info_test.copy(), 'MLMAX', threshold='max')\n",
    "    res=calc_prf(res, df_preds[['w1_gd','wx_gd','w2_gd']].values, df_preds[['w1','wx','w2']].values, info_test.copy(), 'GDMAX', threshold='max')\n",
    "    return res\n"
   ]
  },
  {
   "source": [
    "data_train, data_test, labels_train, labels_test, info_train, info_test = train_test_split(data, labels, df_info, test_size=0.2, random_state=24)\n",
    "print(data_train.shape, data_test.shape)"
   ],
   "cell_type": "code",
   "metadata": {},
   "execution_count": 209,
   "outputs": [
    {
     "output_type": "stream",
     "name": "stdout",
     "text": [
      "(108796, 171) (27200, 171)\n"
     ]
    }
   ]
  },
  {
   "source": [
    "df.isnull().any()"
   ],
   "cell_type": "markdown",
   "metadata": {}
  },
  {
   "cell_type": "code",
   "execution_count": 6,
   "metadata": {},
   "outputs": [],
   "source": [
    "def get_model(n_inputs, n_outputs):\n",
    "    model = Sequential()\n",
    "    #model.add(Dense(1024, input_dim=n_inputs, kernel_initializer='he_uniform', activation='relu'))\n",
    "    model.add(Dense(2048, input_dim=n_inputs, kernel_initializer='he_uniform', activation='relu'))\n",
    "    model.add(Dense(4096, input_dim=n_inputs, kernel_initializer='he_uniform', activation='relu'))\n",
    "    #model.add(Dense(4096, input_dim=n_inputs, kernel_initializer='he_uniform', activation='relu'))\n",
    "    #model.add(BatchNormalization())\n",
    "    #model.add(Dropout(0.4))\n",
    "    #model.add(Dense(512, input_dim=n_inputs, kernel_initializer='he_uniform', activation='relu'))\n",
    "    #model.add(Dropout(0.4))\n",
    "    #model.add(Dense(64, input_dim=n_inputs, kernel_initializer='he_uniform', activation='relu'))\n",
    "    #model.add(Dense(n_outputs, activation='softmax'))\n",
    "    model.add(Dense(n_outputs, activation='sigmoid'))\n",
    "    #model.compile(loss='mean_squared_error', optimizer='adam', metrics = ['accuracy'])\n",
    "    model.compile(loss='binary_crossentropy', optimizer='adam', metrics = ['accuracy'])\n",
    "    #model.compile(loss='categorical_crossentropy', optimizer='adam', metrics = ['accuracy'])\n",
    "    return model\n",
    "\n",
    "def evaluate_model(X, y, bs=64):\n",
    "    results = list()\n",
    "    n_inputs, n_outputs = X.shape[1], y.shape[1]\n",
    "    # define evaluation procedure\n",
    "    cv = RepeatedKFold(n_splits=3, n_repeats=2, random_state=1)\n",
    "    # enumerate folds\n",
    "    for train_ix, val_ix in cv.split(X):\n",
    "        # prepare data\n",
    "        X_train, X_val = X[train_ix], X[val_ix]\n",
    "        y_train, y_val = y[train_ix], y[val_ix]\n",
    "        # define model\n",
    "        model = get_model(n_inputs, n_outputs)\n",
    "        # fit model\n",
    "        model.fit(X_train, y_train, batch_size = bs, epochs=7, verbose=0)\n",
    "        # make a prediction on the test set\n",
    "        yhat = model.predict(X_val)\n",
    "        # round probabilities to class labels\n",
    "        yhat = yhat.round()\n",
    "        # calculate accuracy\n",
    "        acc = accuracy_score(y_val, yhat)\n",
    "        # store result\n",
    "        print('>%.3f' % acc)\n",
    "        results.append(acc)\n",
    "        break\n",
    "    return results, model"
   ]
  },
  {
   "source": [
    "model.save('models/512-1024-8roi-welltrained.keras')"
   ],
   "cell_type": "markdown",
   "metadata": {}
  },
  {
   "cell_type": "code",
   "execution_count": 211,
   "metadata": {},
   "outputs": [
    {
     "output_type": "stream",
     "name": "stdout",
     "text": [
      "Epoch 1/5\n",
      "1134/1134 [==============================] - 12s 10ms/step - loss: 0.3111 - accuracy: 0.4258\n",
      "Epoch 2/5\n",
      "1134/1134 [==============================] - 11s 10ms/step - loss: 0.2984 - accuracy: 0.4514\n",
      "Epoch 3/5\n",
      "1134/1134 [==============================] - 12s 10ms/step - loss: 0.2939 - accuracy: 0.4444\n",
      "Epoch 4/5\n",
      "1134/1134 [==============================] - 11s 10ms/step - loss: 0.2861 - accuracy: 0.4352\n",
      "Epoch 5/5\n",
      "1134/1134 [==============================] - 12s 10ms/step - loss: 0.2715 - accuracy: 0.4285\n",
      ">0.021\n",
      "Accuracy: 0.021 (0.000)\n"
     ]
    }
   ],
   "source": [
    "results, model = evaluate_model(data_train, labels_train, bs=64)\n",
    "# summarize performance\n",
    "print('Accuracy: %.3f (%.3f)' % (np.mean(results), np.std(results)))"
   ]
  },
  {
   "cell_type": "code",
   "execution_count": 212,
   "metadata": {},
   "outputs": [],
   "source": [
    "yhat = model.predict(data_test)"
   ]
  },
  {
   "cell_type": "code",
   "execution_count": 156,
   "metadata": {},
   "outputs": [],
   "source": [
    "def odds2prob(df):\n",
    "    df['odds_away']=1/df['odds_away']\n",
    "    df['odds_draw']=1/df['odds_draw']\n",
    "    df['odds_home']=1/df['odds_home']\n",
    "    df['margin']=df[['odds_away','odds_draw','odds_home']].sum(axis=1)\n",
    "    df['odds_away']=df['odds_away']/df['margin']\n",
    "    df['odds_draw']=df['odds_draw']/df['margin']\n",
    "    df['odds_home']=df['odds_home']/df['margin']\n",
    "    return df[['odds_away','odds_draw','odds_home']]\n",
    "\n",
    "\n",
    "def softmax(df, columns):\n",
    "    df['margin']=df[columns].sum(axis=1)\n",
    "    for x in columns:\n",
    "        df[x]=df[x]/df['margin']\n",
    "    df=df.drop(columns=['margin'])\n",
    "    return df"
   ]
  },
  {
   "source": [
    "#coly=np.hstack([['w1','wx','w2'],sch.columns,sca.columns,scgd.columns])\n",
    "#coly=scgd.columns\n",
    "colyp=[x+'_p' for x in classes]\n",
    "df_y=pd.DataFrame(data=labels_test[:,3:], columns=classes[3:])\n",
    "#df_y=pd.DataFrame(data=labels_test, columns=classes)\n",
    "df_yhat=pd.DataFrame(data=yhat, columns=colyp)\n",
    "info_test=info_test.rename(columns={'ft1':'sc1','ft2':'sc2'})\n",
    "info_test=info_test.reset_index(drop=True)\n",
    "df_preds=pd.concat([info_test,df_y,df_yhat], axis=1)\n",
    "#df_preds=softmax(df_preds,['w1_p','wx_p','w2_p'])\n",
    "#df_preds=softmax(df_preds,[x+'_p' for x in sch.columns])\n",
    "#df_preds=softmax(df_preds,[x+'_p' for x in sca.columns])\n",
    "#df_preds=softmax(df_preds,[x+'_p' for x in scgd.columns])\n",
    "df_preds['w1_gd']=df_preds[['gd6_p','gd5_p','gd4_p','gd3_p','gd2_p','gd1_p']].sum(axis=1)\n",
    "df_preds['wx_gd']=df_preds['gd0_p']\n",
    "df_preds['w2_gd']=df_preds[['gd-6_p','gd-5_p','gd-4_p','gd-3_p','gd-2_p','gd-1_p']].sum(axis=1)\n",
    "\n",
    "#df_preds"
   ],
   "cell_type": "code",
   "metadata": {},
   "execution_count": 213,
   "outputs": []
  },
  {
   "cell_type": "code",
   "execution_count": 214,
   "metadata": {},
   "outputs": [
    {
     "output_type": "stream",
     "name": "stdout",
     "text": [
      "WAG:7109; ACC: 0.5490223660149107; PRF: -139.97000000000003; ROI: -0.019689126459417644\n"
     ]
    },
    {
     "output_type": "execute_result",
     "data": {
      "text/plain": [
       "{'ML_WAG': 7109,\n",
       " 'ML_ACC': 0.5490223660149107,\n",
       " 'ML_PRF': -139.97000000000003,\n",
       " 'ML_ROI': -0.019689126459417644,\n",
       " 'ML_TP1': 4330,\n",
       " 'ML_TPX': 365,\n",
       " 'ML_TP2': 3609,\n",
       " 'ML_FP1': 3684,\n",
       " 'ML_FPX': 692,\n",
       " 'ML_FP2': 2574,\n",
       " 'ML_PPV1': 0.54,\n",
       " 'ML_PPVX': 0.345,\n",
       " 'ML_PPV2': 0.584,\n",
       " 'ML_AUC1': 0.671,\n",
       " 'ML_AUCX': 0.521,\n",
       " 'ML_AUC2': 0.679,\n",
       " 'ML_F11': 0.624,\n",
       " 'ML_F1X': 0.157,\n",
       " 'ML_F12': 0.606}"
      ]
     },
     "metadata": {},
     "execution_count": 214
    }
   ],
   "source": [
    "calc_prf({}, df_preds[['w1_p','wx_p','w2_p']].values, df_preds[['w1','wx','w2']].values, info_test.copy(), 'ML', threshold=0.5)"
   ]
  },
  {
   "source": [
    "conv=PredictionsConverter('op', df_preds[['w1_p','wx_p','w2_p']].values, df_preds[['w1','wx','w2']].values, info_test.copy(), odds=True)\n",
    "conv.make_df()\n",
    "conv.profit()\n"
   ],
   "cell_type": "code",
   "metadata": {},
   "execution_count": 215,
   "outputs": [
    {
     "output_type": "stream",
     "name": "stdout",
     "text": [
      "WAG:7109; ACC: 0.5490223660149107; PRF: -139.97000000000003; ROI: -0.019689126459417644\n"
     ]
    },
    {
     "output_type": "execute_result",
     "data": {
      "text/plain": [
       "(7109, 0.5490223660149107, -139.97000000000003, -0.019689126459417644)"
      ]
     },
     "metadata": {},
     "execution_count": 215
    }
   ]
  },
  {
   "cell_type": "code",
   "execution_count": 159,
   "metadata": {},
   "outputs": [
    {
     "output_type": "stream",
     "name": "stdout",
     "text": [
      "WAG:8573; ACC: 0.465531319258136; PRF: 105.81999999999996; ROI: 0.012343403709319955\n"
     ]
    },
    {
     "output_type": "execute_result",
     "data": {
      "text/plain": [
       "(8573, 0.465531319258136, 105.81999999999996, 0.012343403709319955)"
      ]
     },
     "metadata": {},
     "execution_count": 159
    }
   ],
   "source": [
    "#info_test=info_test.rename(columns={'ft1':'sc1','ft2':'sc2'})\n",
    "conv1=PredictionsConverter('op', df_preds[['w1_gd','wx_gd','w2_gd']].values, df_preds[['w1','wx','w2']].values, info_test.copy(), odds=True)\n",
    "conv1.make_df()\n",
    "conv1.profit()"
   ]
  },
  {
   "cell_type": "code",
   "execution_count": 111,
   "metadata": {},
   "outputs": [
    {
     "output_type": "display_data",
     "data": {
      "text/plain": "   Name    TP     TN    FP    FN  Accuracy  Prevalence  Sensitivity  \\\n0  HOME  4472   8034  4474  2994     0.626       0.374        0.599   \n1  DRAW  1101  12509  2524  3840     0.681       0.247        0.223   \n2  AWAY  4406   8342  4065  3161     0.638       0.379        0.582   \n\n   Specificity    PPV    NPV    AUC     F1  Threshold  \n0        0.642  0.500  0.729  0.621  0.545        0.5  \n1        0.832  0.304  0.765  0.527  0.257        0.5  \n2        0.672  0.520  0.725  0.627  0.549        0.5  ",
      "text/html": "<div>\n<style scoped>\n    .dataframe tbody tr th:only-of-type {\n        vertical-align: middle;\n    }\n\n    .dataframe tbody tr th {\n        vertical-align: top;\n    }\n\n    .dataframe thead th {\n        text-align: right;\n    }\n</style>\n<table border=\"1\" class=\"dataframe\">\n  <thead>\n    <tr style=\"text-align: right;\">\n      <th></th>\n      <th>Name</th>\n      <th>TP</th>\n      <th>TN</th>\n      <th>FP</th>\n      <th>FN</th>\n      <th>Accuracy</th>\n      <th>Prevalence</th>\n      <th>Sensitivity</th>\n      <th>Specificity</th>\n      <th>PPV</th>\n      <th>NPV</th>\n      <th>AUC</th>\n      <th>F1</th>\n      <th>Threshold</th>\n    </tr>\n  </thead>\n  <tbody>\n    <tr>\n      <th>0</th>\n      <td>HOME</td>\n      <td>4472</td>\n      <td>8034</td>\n      <td>4474</td>\n      <td>2994</td>\n      <td>0.626</td>\n      <td>0.374</td>\n      <td>0.599</td>\n      <td>0.642</td>\n      <td>0.500</td>\n      <td>0.729</td>\n      <td>0.621</td>\n      <td>0.545</td>\n      <td>0.5</td>\n    </tr>\n    <tr>\n      <th>1</th>\n      <td>DRAW</td>\n      <td>1101</td>\n      <td>12509</td>\n      <td>2524</td>\n      <td>3840</td>\n      <td>0.681</td>\n      <td>0.247</td>\n      <td>0.223</td>\n      <td>0.832</td>\n      <td>0.304</td>\n      <td>0.765</td>\n      <td>0.527</td>\n      <td>0.257</td>\n      <td>0.5</td>\n    </tr>\n    <tr>\n      <th>2</th>\n      <td>AWAY</td>\n      <td>4406</td>\n      <td>8342</td>\n      <td>4065</td>\n      <td>3161</td>\n      <td>0.638</td>\n      <td>0.379</td>\n      <td>0.582</td>\n      <td>0.672</td>\n      <td>0.520</td>\n      <td>0.725</td>\n      <td>0.627</td>\n      <td>0.549</td>\n      <td>0.5</td>\n    </tr>\n  </tbody>\n</table>\n</div>"
     },
     "metadata": {}
    }
   ],
   "source": [
    "conv.performance_metrics()"
   ]
  },
  {
   "cell_type": "code",
   "execution_count": 160,
   "metadata": {},
   "outputs": [
    {
     "output_type": "execute_result",
     "data": {
      "text/plain": [
       "       w1  wx  w2      w1_p      wx_p      w2_p     w1_gd     wx_gd     w2_gd\n",
       "0       0   0   1  0.153697  0.409941  0.436362  0.193199  0.416397  0.390404\n",
       "1       0   0   1  0.389200  0.324374  0.286426  0.375709  0.338702  0.285590\n",
       "2       1   0   0  0.255113  0.255719  0.489168  0.257906  0.263558  0.478536\n",
       "3       1   0   0  0.367066  0.345683  0.287250  0.380905  0.317920  0.301175\n",
       "4       1   0   0  0.551421  0.274133  0.174446  0.545328  0.263596  0.191075\n",
       "...    ..  ..  ..       ...       ...       ...       ...       ...       ...\n",
       "27111   0   0   1  0.218319  0.248316  0.533365  0.226258  0.287219  0.486522\n",
       "27112   1   0   0  0.292947  0.343484  0.363569  0.297586  0.360643  0.341771\n",
       "27113   1   0   0  0.894143  0.081727  0.024130  0.913940  0.067083  0.018978\n",
       "27114   0   0   1  0.158910  0.196134  0.644956  0.163151  0.217454  0.619394\n",
       "27115   0   1   0  0.650707  0.267750  0.081543  0.660329  0.237130  0.102541\n",
       "\n",
       "[27116 rows x 9 columns]"
      ],
      "text/html": "<div>\n<style scoped>\n    .dataframe tbody tr th:only-of-type {\n        vertical-align: middle;\n    }\n\n    .dataframe tbody tr th {\n        vertical-align: top;\n    }\n\n    .dataframe thead th {\n        text-align: right;\n    }\n</style>\n<table border=\"1\" class=\"dataframe\">\n  <thead>\n    <tr style=\"text-align: right;\">\n      <th></th>\n      <th>w1</th>\n      <th>wx</th>\n      <th>w2</th>\n      <th>w1_p</th>\n      <th>wx_p</th>\n      <th>w2_p</th>\n      <th>w1_gd</th>\n      <th>wx_gd</th>\n      <th>w2_gd</th>\n    </tr>\n  </thead>\n  <tbody>\n    <tr>\n      <th>0</th>\n      <td>0</td>\n      <td>0</td>\n      <td>1</td>\n      <td>0.153697</td>\n      <td>0.409941</td>\n      <td>0.436362</td>\n      <td>0.193199</td>\n      <td>0.416397</td>\n      <td>0.390404</td>\n    </tr>\n    <tr>\n      <th>1</th>\n      <td>0</td>\n      <td>0</td>\n      <td>1</td>\n      <td>0.389200</td>\n      <td>0.324374</td>\n      <td>0.286426</td>\n      <td>0.375709</td>\n      <td>0.338702</td>\n      <td>0.285590</td>\n    </tr>\n    <tr>\n      <th>2</th>\n      <td>1</td>\n      <td>0</td>\n      <td>0</td>\n      <td>0.255113</td>\n      <td>0.255719</td>\n      <td>0.489168</td>\n      <td>0.257906</td>\n      <td>0.263558</td>\n      <td>0.478536</td>\n    </tr>\n    <tr>\n      <th>3</th>\n      <td>1</td>\n      <td>0</td>\n      <td>0</td>\n      <td>0.367066</td>\n      <td>0.345683</td>\n      <td>0.287250</td>\n      <td>0.380905</td>\n      <td>0.317920</td>\n      <td>0.301175</td>\n    </tr>\n    <tr>\n      <th>4</th>\n      <td>1</td>\n      <td>0</td>\n      <td>0</td>\n      <td>0.551421</td>\n      <td>0.274133</td>\n      <td>0.174446</td>\n      <td>0.545328</td>\n      <td>0.263596</td>\n      <td>0.191075</td>\n    </tr>\n    <tr>\n      <th>...</th>\n      <td>...</td>\n      <td>...</td>\n      <td>...</td>\n      <td>...</td>\n      <td>...</td>\n      <td>...</td>\n      <td>...</td>\n      <td>...</td>\n      <td>...</td>\n    </tr>\n    <tr>\n      <th>27111</th>\n      <td>0</td>\n      <td>0</td>\n      <td>1</td>\n      <td>0.218319</td>\n      <td>0.248316</td>\n      <td>0.533365</td>\n      <td>0.226258</td>\n      <td>0.287219</td>\n      <td>0.486522</td>\n    </tr>\n    <tr>\n      <th>27112</th>\n      <td>1</td>\n      <td>0</td>\n      <td>0</td>\n      <td>0.292947</td>\n      <td>0.343484</td>\n      <td>0.363569</td>\n      <td>0.297586</td>\n      <td>0.360643</td>\n      <td>0.341771</td>\n    </tr>\n    <tr>\n      <th>27113</th>\n      <td>1</td>\n      <td>0</td>\n      <td>0</td>\n      <td>0.894143</td>\n      <td>0.081727</td>\n      <td>0.024130</td>\n      <td>0.913940</td>\n      <td>0.067083</td>\n      <td>0.018978</td>\n    </tr>\n    <tr>\n      <th>27114</th>\n      <td>0</td>\n      <td>0</td>\n      <td>1</td>\n      <td>0.158910</td>\n      <td>0.196134</td>\n      <td>0.644956</td>\n      <td>0.163151</td>\n      <td>0.217454</td>\n      <td>0.619394</td>\n    </tr>\n    <tr>\n      <th>27115</th>\n      <td>0</td>\n      <td>1</td>\n      <td>0</td>\n      <td>0.650707</td>\n      <td>0.267750</td>\n      <td>0.081543</td>\n      <td>0.660329</td>\n      <td>0.237130</td>\n      <td>0.102541</td>\n    </tr>\n  </tbody>\n</table>\n<p>27116 rows × 9 columns</p>\n</div>"
     },
     "metadata": {},
     "execution_count": 160
    }
   ],
   "source": [
    "df_preds[['w1','wx','w2','w1_p','wx_p','w2_p','w1_gd','wx_gd','w2_gd']]"
   ]
  },
  {
   "cell_type": "code",
   "execution_count": 122,
   "metadata": {},
   "outputs": [
    {
     "output_type": "stream",
     "name": "stdout",
     "text": [
      "WAG:5734; ACC: 0.14318102546215555; PRF: -721.0699999999999; ROI: -0.1257534007673526\nWAG:8301; ACC: 0.5372846644982532; PRF: -215.48000000000002; ROI: -0.02595831827490664\n"
     ]
    },
    {
     "output_type": "display_data",
     "data": {
      "text/plain": "   Name   TP    TN    FP    FN  Accuracy  Prevalence  Sensitivity  \\\n0  HOME  385  1042  2445  1862     0.249       0.392        0.171   \n1  DRAW    1  4511     1  1221     0.787       0.213        0.001   \n2  AWAY  435  1002  2467  1830     0.251       0.395        0.192   \n\n   Specificity    PPV    NPV    AUC     F1  Threshold  \n0        0.299  0.136  0.359  0.235  0.152        0.5  \n1        1.000  0.500  0.787  0.500  0.002        0.5  \n2        0.289  0.150  0.354  0.240  0.168        0.5  ",
      "text/html": "<div>\n<style scoped>\n    .dataframe tbody tr th:only-of-type {\n        vertical-align: middle;\n    }\n\n    .dataframe tbody tr th {\n        vertical-align: top;\n    }\n\n    .dataframe thead th {\n        text-align: right;\n    }\n</style>\n<table border=\"1\" class=\"dataframe\">\n  <thead>\n    <tr style=\"text-align: right;\">\n      <th></th>\n      <th>Name</th>\n      <th>TP</th>\n      <th>TN</th>\n      <th>FP</th>\n      <th>FN</th>\n      <th>Accuracy</th>\n      <th>Prevalence</th>\n      <th>Sensitivity</th>\n      <th>Specificity</th>\n      <th>PPV</th>\n      <th>NPV</th>\n      <th>AUC</th>\n      <th>F1</th>\n      <th>Threshold</th>\n    </tr>\n  </thead>\n  <tbody>\n    <tr>\n      <th>0</th>\n      <td>HOME</td>\n      <td>385</td>\n      <td>1042</td>\n      <td>2445</td>\n      <td>1862</td>\n      <td>0.249</td>\n      <td>0.392</td>\n      <td>0.171</td>\n      <td>0.299</td>\n      <td>0.136</td>\n      <td>0.359</td>\n      <td>0.235</td>\n      <td>0.152</td>\n      <td>0.5</td>\n    </tr>\n    <tr>\n      <th>1</th>\n      <td>DRAW</td>\n      <td>1</td>\n      <td>4511</td>\n      <td>1</td>\n      <td>1221</td>\n      <td>0.787</td>\n      <td>0.213</td>\n      <td>0.001</td>\n      <td>1.000</td>\n      <td>0.500</td>\n      <td>0.787</td>\n      <td>0.500</td>\n      <td>0.002</td>\n      <td>0.5</td>\n    </tr>\n    <tr>\n      <th>2</th>\n      <td>AWAY</td>\n      <td>435</td>\n      <td>1002</td>\n      <td>2467</td>\n      <td>1830</td>\n      <td>0.251</td>\n      <td>0.395</td>\n      <td>0.192</td>\n      <td>0.289</td>\n      <td>0.150</td>\n      <td>0.354</td>\n      <td>0.240</td>\n      <td>0.168</td>\n      <td>0.5</td>\n    </tr>\n  </tbody>\n</table>\n</div>"
     },
     "metadata": {}
    },
    {
     "output_type": "display_data",
     "data": {
      "text/plain": "   Name    TP     TN    FP    FN  Accuracy  Prevalence  Sensitivity  \\\n0  HOME  3874   7598  2999  2466     0.677       0.374        0.611   \n1  DRAW   374  12079   818  3666     0.735       0.239        0.093   \n2  AWAY  4656   6143  4237  1901     0.638       0.387        0.710   \n\n   Specificity    PPV    NPV    AUC     F1  Threshold  \n0        0.717  0.564  0.755  0.664  0.586        0.5  \n1        0.937  0.314  0.767  0.515  0.143        0.5  \n2        0.592  0.524  0.764  0.651  0.603        0.5  ",
      "text/html": "<div>\n<style scoped>\n    .dataframe tbody tr th:only-of-type {\n        vertical-align: middle;\n    }\n\n    .dataframe tbody tr th {\n        vertical-align: top;\n    }\n\n    .dataframe thead th {\n        text-align: right;\n    }\n</style>\n<table border=\"1\" class=\"dataframe\">\n  <thead>\n    <tr style=\"text-align: right;\">\n      <th></th>\n      <th>Name</th>\n      <th>TP</th>\n      <th>TN</th>\n      <th>FP</th>\n      <th>FN</th>\n      <th>Accuracy</th>\n      <th>Prevalence</th>\n      <th>Sensitivity</th>\n      <th>Specificity</th>\n      <th>PPV</th>\n      <th>NPV</th>\n      <th>AUC</th>\n      <th>F1</th>\n      <th>Threshold</th>\n    </tr>\n  </thead>\n  <tbody>\n    <tr>\n      <th>0</th>\n      <td>HOME</td>\n      <td>3874</td>\n      <td>7598</td>\n      <td>2999</td>\n      <td>2466</td>\n      <td>0.677</td>\n      <td>0.374</td>\n      <td>0.611</td>\n      <td>0.717</td>\n      <td>0.564</td>\n      <td>0.755</td>\n      <td>0.664</td>\n      <td>0.586</td>\n      <td>0.5</td>\n    </tr>\n    <tr>\n      <th>1</th>\n      <td>DRAW</td>\n      <td>374</td>\n      <td>12079</td>\n      <td>818</td>\n      <td>3666</td>\n      <td>0.735</td>\n      <td>0.239</td>\n      <td>0.093</td>\n      <td>0.937</td>\n      <td>0.314</td>\n      <td>0.767</td>\n      <td>0.515</td>\n      <td>0.143</td>\n      <td>0.5</td>\n    </tr>\n    <tr>\n      <th>2</th>\n      <td>AWAY</td>\n      <td>4656</td>\n      <td>6143</td>\n      <td>4237</td>\n      <td>1901</td>\n      <td>0.638</td>\n      <td>0.387</td>\n      <td>0.710</td>\n      <td>0.592</td>\n      <td>0.524</td>\n      <td>0.764</td>\n      <td>0.651</td>\n      <td>0.603</td>\n      <td>0.5</td>\n    </tr>\n  </tbody>\n</table>\n</div>"
     },
     "metadata": {}
    }
   ],
   "source": [
    "from api.predictions_converter import PredictionsConverter\n",
    "info_test=info_test.rename(columns={'ft1':'sc1','ft2':'sc2'})\n",
    "conv_bookies=PredictionsConverter('op', api.util.odds2prob(info_test.copy()).values, labels_test, info_test.copy(), odds=True)\n",
    "conv_bookies.make_df()\n",
    "conv=PredictionsConverter('op', yhat, labels_test, info_test.copy(), odds=True)\n",
    "conv.make_df()\n",
    "\n",
    "conv_bookies.profit()\n",
    "conv.profit()\n",
    "conv_bookies.performance_metrics()\n",
    "conv.performance_metrics()"
   ]
  },
  {
   "cell_type": "code",
   "execution_count": 123,
   "metadata": {},
   "outputs": [
    {
     "output_type": "stream",
     "name": "stdout",
     "text": [
      "WAG:12706; ACC: 0.21611836927435857; PRF: -1422.03; ROI: -0.1119179915000787\nWAG:12706; ACC: 0.48504643475523374; PRF: -314.58; ROI: -0.024758381866834565\n"
     ]
    },
    {
     "output_type": "display_data",
     "data": {
      "text/plain": "   Name    TP    TN    FP    FN  Accuracy  Prevalence  Sensitivity  \\\n0  HOME  1340  3023  4935  3408     0.343       0.374        0.282   \n1  DRAW     9  9467    25  3205     0.746       0.253        0.003   \n2  AWAY  1397  2945  5017  3347     0.342       0.373        0.294   \n\n   Specificity    PPV    NPV    AUC     F1  Threshold  \n0        0.380  0.214  0.470  0.331  0.243        0.5  \n1        0.997  0.265  0.747  0.500  0.006        0.5  \n2        0.370  0.218  0.468  0.332  0.250        0.5  ",
      "text/html": "<div>\n<style scoped>\n    .dataframe tbody tr th:only-of-type {\n        vertical-align: middle;\n    }\n\n    .dataframe tbody tr th {\n        vertical-align: top;\n    }\n\n    .dataframe thead th {\n        text-align: right;\n    }\n</style>\n<table border=\"1\" class=\"dataframe\">\n  <thead>\n    <tr style=\"text-align: right;\">\n      <th></th>\n      <th>Name</th>\n      <th>TP</th>\n      <th>TN</th>\n      <th>FP</th>\n      <th>FN</th>\n      <th>Accuracy</th>\n      <th>Prevalence</th>\n      <th>Sensitivity</th>\n      <th>Specificity</th>\n      <th>PPV</th>\n      <th>NPV</th>\n      <th>AUC</th>\n      <th>F1</th>\n      <th>Threshold</th>\n    </tr>\n  </thead>\n  <tbody>\n    <tr>\n      <th>0</th>\n      <td>HOME</td>\n      <td>1340</td>\n      <td>3023</td>\n      <td>4935</td>\n      <td>3408</td>\n      <td>0.343</td>\n      <td>0.374</td>\n      <td>0.282</td>\n      <td>0.380</td>\n      <td>0.214</td>\n      <td>0.470</td>\n      <td>0.331</td>\n      <td>0.243</td>\n      <td>0.5</td>\n    </tr>\n    <tr>\n      <th>1</th>\n      <td>DRAW</td>\n      <td>9</td>\n      <td>9467</td>\n      <td>25</td>\n      <td>3205</td>\n      <td>0.746</td>\n      <td>0.253</td>\n      <td>0.003</td>\n      <td>0.997</td>\n      <td>0.265</td>\n      <td>0.747</td>\n      <td>0.500</td>\n      <td>0.006</td>\n      <td>0.5</td>\n    </tr>\n    <tr>\n      <th>2</th>\n      <td>AWAY</td>\n      <td>1397</td>\n      <td>2945</td>\n      <td>5017</td>\n      <td>3347</td>\n      <td>0.342</td>\n      <td>0.373</td>\n      <td>0.294</td>\n      <td>0.370</td>\n      <td>0.218</td>\n      <td>0.468</td>\n      <td>0.332</td>\n      <td>0.250</td>\n      <td>0.5</td>\n    </tr>\n  </tbody>\n</table>\n</div>"
     },
     "metadata": {}
    },
    {
     "output_type": "display_data",
     "data": {
      "text/plain": "   Name    TP     TN    FP    FN  Accuracy  Prevalence  Sensitivity  \\\n0  HOME  5525  11713  5265  4613     0.636       0.374        0.545   \n1  DRAW   873  18171  2029  6043     0.702       0.255        0.126   \n2  AWAY  6314   9944  7110  3748     0.600       0.371        0.628   \n\n   Specificity    PPV    NPV    AUC     F1  Threshold  \n0        0.690  0.512  0.717  0.617  0.528        0.5  \n1        0.900  0.301  0.750  0.513  0.178        0.5  \n2        0.583  0.470  0.726  0.605  0.538        0.5  ",
      "text/html": "<div>\n<style scoped>\n    .dataframe tbody tr th:only-of-type {\n        vertical-align: middle;\n    }\n\n    .dataframe tbody tr th {\n        vertical-align: top;\n    }\n\n    .dataframe thead th {\n        text-align: right;\n    }\n</style>\n<table border=\"1\" class=\"dataframe\">\n  <thead>\n    <tr style=\"text-align: right;\">\n      <th></th>\n      <th>Name</th>\n      <th>TP</th>\n      <th>TN</th>\n      <th>FP</th>\n      <th>FN</th>\n      <th>Accuracy</th>\n      <th>Prevalence</th>\n      <th>Sensitivity</th>\n      <th>Specificity</th>\n      <th>PPV</th>\n      <th>NPV</th>\n      <th>AUC</th>\n      <th>F1</th>\n      <th>Threshold</th>\n    </tr>\n  </thead>\n  <tbody>\n    <tr>\n      <th>0</th>\n      <td>HOME</td>\n      <td>5525</td>\n      <td>11713</td>\n      <td>5265</td>\n      <td>4613</td>\n      <td>0.636</td>\n      <td>0.374</td>\n      <td>0.545</td>\n      <td>0.690</td>\n      <td>0.512</td>\n      <td>0.717</td>\n      <td>0.617</td>\n      <td>0.528</td>\n      <td>0.5</td>\n    </tr>\n    <tr>\n      <th>1</th>\n      <td>DRAW</td>\n      <td>873</td>\n      <td>18171</td>\n      <td>2029</td>\n      <td>6043</td>\n      <td>0.702</td>\n      <td>0.255</td>\n      <td>0.126</td>\n      <td>0.900</td>\n      <td>0.301</td>\n      <td>0.750</td>\n      <td>0.513</td>\n      <td>0.178</td>\n      <td>0.5</td>\n    </tr>\n    <tr>\n      <th>2</th>\n      <td>AWAY</td>\n      <td>6314</td>\n      <td>9944</td>\n      <td>7110</td>\n      <td>3748</td>\n      <td>0.600</td>\n      <td>0.371</td>\n      <td>0.628</td>\n      <td>0.583</td>\n      <td>0.470</td>\n      <td>0.726</td>\n      <td>0.605</td>\n      <td>0.538</td>\n      <td>0.5</td>\n    </tr>\n  </tbody>\n</table>\n</div>"
     },
     "metadata": {}
    }
   ],
   "source": [
    "conv_bookies1=PredictionsConverter('op', odds2prob(info_test.copy()).values, labels_test, info_test.copy(), odds=True)\n",
    "conv_bookies1.make_df(threshold='max')\n",
    "conv1=PredictionsConverter('op', yhat, labels_test, info_test.copy(), odds=True)\n",
    "conv1.make_df(threshold='max')\n",
    "\n",
    "conv_bookies1.profit()\n",
    "conv1.profit()\n",
    "conv_bookies1.performance_metrics()\n",
    "conv1.performance_metrics()"
   ]
  },
  {
   "source": [
    "#df=pd.read_csv('data/stats_generated.csv', index_col=None)\n",
    "start=29\n",
    "df=df_all[cols]\n",
    "df['elo1'].fillna((df['elo1'].mean()), inplace=True)\n",
    "df['elo2'].fillna((df['elo2'].mean()), inplace=True)\n",
    "nulls=pd.DataFrame(df.isna().sum(), columns=['n'])\n",
    "cols_null=[x for x in nulls[nulls.n>60000].index if x not in COL_INF]\n",
    "cols=[x for x in cols if x not in cols_null]\n",
    "\n",
    "\n",
    "for col in COL_INF:\n",
    "    df.loc[df[col].isnull(),col]=0\n",
    "\n",
    "#df=df.dropna()\n",
    "df=df.fillna(0)\n",
    "#[df[col].fillna(df[col].mean(), inplace=True) for col in df.columns[start:]]\n",
    "\n",
    "scaler=MinMaxScaler()\n",
    "nums=scaler.fit_transform(df[df.columns[start:]].values)\n",
    "nums_df=pd.DataFrame(nums, columns=df.columns[start:])\n",
    "df.reset_index(drop=True, inplace=True)\n",
    "df=pd.concat([df[df.columns[:start]],nums_df], axis=1)\n",
    "\n",
    "nums1=df[['vote1', 'votex', 'vote2',]].values\n",
    "\n",
    "df_info=df[COL_INF]\n",
    "\n",
    "encoder = OneHotEncoder()\n",
    "pop_r=encoder.fit_transform(df[['pop_r']]).toarray()\n",
    "rounds=encoder.fit_transform(df[['round']]).toarray()\n",
    "countries=encoder.fit_transform(df[['country_id']]).toarray()\n",
    "encoder = OneHotEncoder()\n",
    "form1=encoder.fit_transform(df[['form1']]).toarray()\n",
    "encoder = OneHotEncoder()\n",
    "form2=encoder.fit_transform(df[['form2']]).toarray()\n",
    "side=df[['side']].values\n",
    "\n",
    "#data=np.hstack([nums,nums1,side,rounds,countries,form1,form2])\n",
    "data=np.hstack([nums,nums1,side,pop_r,rounds,countries,form1,form2])\n",
    "\n",
    "df['gd']=df['ft1']-df['ft2']\n",
    "df['gd']=np.where(df['gd']>5,6,df['gd'])\n",
    "df['gd']=np.where(df['gd']<-5,-6,df['gd'])\n",
    "scgd=pd.get_dummies(df['gd'], prefix='gd')\n",
    "\n",
    "df['sch']=np.where(df['ft1']>5,6,df['ft1'])\n",
    "df['sca']=np.where(df['ft2']>5,6,df['ft2'])\n",
    "sch=pd.get_dummies(df['sch'], prefix='sch')\n",
    "sca=pd.get_dummies(df['sca'], prefix='sca')\n",
    "labels=np.hstack([df[['w1', 'wx', 'w2']].values,sch.values,sca.values,scgd.values])\n",
    "#labels=np.hstack([scgd.values])\n",
    "#labels=df[['w1', 'wx', 'w2']].values\n",
    "\n",
    "data.shape,labels.shape"
   ],
   "cell_type": "markdown",
   "metadata": {}
  },
  {
   "cell_type": "code",
   "execution_count": 87,
   "metadata": {},
   "outputs": [
    {
     "output_type": "execute_result",
     "data": {
      "text/plain": [
       "                              ds      country  \\\n",
       "0      2017-10-28 17:00:00+00:00    argentina   \n",
       "1      2018-08-11 14:00:00+00:00      england   \n",
       "2      2018-12-01 19:30:00+00:00        italy   \n",
       "3      2018-08-26 12:30:00+00:00  netherlands   \n",
       "4      2017-05-14 18:00:00+00:00        spain   \n",
       "...                          ...          ...   \n",
       "13553  2018-08-14 18:45:00+00:00      england   \n",
       "13554  2018-04-07 14:00:00+00:00      ukraine   \n",
       "13555  2015-12-12 17:30:00+00:00      austria   \n",
       "13556  2016-09-21 15:30:00+00:00      finland   \n",
       "13557  2020-02-07 22:00:00+00:00    argentina   \n",
       "\n",
       "                                  liga               t1                t2  \\\n",
       "0           liga-profesional-de-futbol       ca huracan             lanus   \n",
       "1                         championship      aston villa    wigan athletic   \n",
       "2                              serie-a        sampdoria           bologna   \n",
       "3                           eredivisie       fc utrecht          vvvvenlo   \n",
       "4                               laliga  athletic bilbao           leganes   \n",
       "...                                ...              ...               ...   \n",
       "13553                          efl-cup      yeovil town       aston villa   \n",
       "13554  premier-league-relegation-round      oleksandria  pfc feniks bucha   \n",
       "13555                       bundesliga          sv ried    wolfsberger ac   \n",
       "13556                    veikkausliiga    ifk mariehamn       inter turku   \n",
       "13557       liga-profesional-de-futbol         aldosivi   central cordoba   \n",
       "\n",
       "       sc1  sc2  odds_home  odds_draw  odds_away  winner_home  winner_draw  \\\n",
       "0      4.0  0.0       1.84       3.21       4.84            1            0   \n",
       "1      3.0  2.0       0.00       0.00       0.00            1            0   \n",
       "2      4.0  1.0       2.02       3.26       4.17            1            0   \n",
       "3      1.0  1.0       0.00       0.00       0.00            0            1   \n",
       "4      1.0  1.0       1.47       4.43       7.41            0            1   \n",
       "...    ...  ...        ...        ...        ...          ...          ...   \n",
       "13553  0.0  1.0       0.00       0.00       0.00            0            0   \n",
       "13554  2.0  0.0       1.82       3.25       4.58            1            0   \n",
       "13555  1.0  0.0       0.00       0.00       0.00            1            0   \n",
       "13556  1.0  1.0       1.90       3.37       4.13            0            1   \n",
       "13557  0.0  2.0       2.49       2.85       3.25            0            0   \n",
       "\n",
       "       winner_away  pred_home  pred_draw  pred_away  prob_home  prob_draw  \\\n",
       "0                0          0          1          0   0.419015   0.785230   \n",
       "1                0          1          0          0   0.916121   0.320084   \n",
       "2                0          0          1          0   0.416682   0.878468   \n",
       "3                0          1          0          0   0.908112   0.472075   \n",
       "4                0          1          1          0   0.645087   0.798480   \n",
       "...            ...        ...        ...        ...        ...        ...   \n",
       "13553            1          1          1          0   0.738303   0.974766   \n",
       "13554            0          1          1          0   0.570895   0.614656   \n",
       "13555            0          0          0          1   0.429426   0.001383   \n",
       "13556            0          1          0          0   0.567031   0.176261   \n",
       "13557            1          1          1          0   0.623006   0.602990   \n",
       "\n",
       "       prob_away  win   prf  \n",
       "0       0.177421    0 -1.00  \n",
       "1       0.033951    1 -1.00  \n",
       "2       0.090711    0 -1.00  \n",
       "3       0.014991    0  0.00  \n",
       "4       0.056598    1  3.43  \n",
       "...          ...  ...   ...  \n",
       "13553   0.002282    0  0.00  \n",
       "13554   0.238248    1  2.25  \n",
       "13555   0.962793    0  0.00  \n",
       "13556   0.496240    0 -1.00  \n",
       "13557   0.117039    0 -1.00  \n",
       "\n",
       "[13300 rows x 21 columns]"
      ],
      "text/html": "<div>\n<style scoped>\n    .dataframe tbody tr th:only-of-type {\n        vertical-align: middle;\n    }\n\n    .dataframe tbody tr th {\n        vertical-align: top;\n    }\n\n    .dataframe thead th {\n        text-align: right;\n    }\n</style>\n<table border=\"1\" class=\"dataframe\">\n  <thead>\n    <tr style=\"text-align: right;\">\n      <th></th>\n      <th>ds</th>\n      <th>country</th>\n      <th>liga</th>\n      <th>t1</th>\n      <th>t2</th>\n      <th>sc1</th>\n      <th>sc2</th>\n      <th>odds_home</th>\n      <th>odds_draw</th>\n      <th>odds_away</th>\n      <th>winner_home</th>\n      <th>winner_draw</th>\n      <th>winner_away</th>\n      <th>pred_home</th>\n      <th>pred_draw</th>\n      <th>pred_away</th>\n      <th>prob_home</th>\n      <th>prob_draw</th>\n      <th>prob_away</th>\n      <th>win</th>\n      <th>prf</th>\n    </tr>\n  </thead>\n  <tbody>\n    <tr>\n      <th>0</th>\n      <td>2017-10-28 17:00:00+00:00</td>\n      <td>argentina</td>\n      <td>liga-profesional-de-futbol</td>\n      <td>ca huracan</td>\n      <td>lanus</td>\n      <td>4.0</td>\n      <td>0.0</td>\n      <td>1.84</td>\n      <td>3.21</td>\n      <td>4.84</td>\n      <td>1</td>\n      <td>0</td>\n      <td>0</td>\n      <td>0</td>\n      <td>1</td>\n      <td>0</td>\n      <td>0.419015</td>\n      <td>0.785230</td>\n      <td>0.177421</td>\n      <td>0</td>\n      <td>-1.00</td>\n    </tr>\n    <tr>\n      <th>1</th>\n      <td>2018-08-11 14:00:00+00:00</td>\n      <td>england</td>\n      <td>championship</td>\n      <td>aston villa</td>\n      <td>wigan athletic</td>\n      <td>3.0</td>\n      <td>2.0</td>\n      <td>0.00</td>\n      <td>0.00</td>\n      <td>0.00</td>\n      <td>1</td>\n      <td>0</td>\n      <td>0</td>\n      <td>1</td>\n      <td>0</td>\n      <td>0</td>\n      <td>0.916121</td>\n      <td>0.320084</td>\n      <td>0.033951</td>\n      <td>1</td>\n      <td>-1.00</td>\n    </tr>\n    <tr>\n      <th>2</th>\n      <td>2018-12-01 19:30:00+00:00</td>\n      <td>italy</td>\n      <td>serie-a</td>\n      <td>sampdoria</td>\n      <td>bologna</td>\n      <td>4.0</td>\n      <td>1.0</td>\n      <td>2.02</td>\n      <td>3.26</td>\n      <td>4.17</td>\n      <td>1</td>\n      <td>0</td>\n      <td>0</td>\n      <td>0</td>\n      <td>1</td>\n      <td>0</td>\n      <td>0.416682</td>\n      <td>0.878468</td>\n      <td>0.090711</td>\n      <td>0</td>\n      <td>-1.00</td>\n    </tr>\n    <tr>\n      <th>3</th>\n      <td>2018-08-26 12:30:00+00:00</td>\n      <td>netherlands</td>\n      <td>eredivisie</td>\n      <td>fc utrecht</td>\n      <td>vvvvenlo</td>\n      <td>1.0</td>\n      <td>1.0</td>\n      <td>0.00</td>\n      <td>0.00</td>\n      <td>0.00</td>\n      <td>0</td>\n      <td>1</td>\n      <td>0</td>\n      <td>1</td>\n      <td>0</td>\n      <td>0</td>\n      <td>0.908112</td>\n      <td>0.472075</td>\n      <td>0.014991</td>\n      <td>0</td>\n      <td>0.00</td>\n    </tr>\n    <tr>\n      <th>4</th>\n      <td>2017-05-14 18:00:00+00:00</td>\n      <td>spain</td>\n      <td>laliga</td>\n      <td>athletic bilbao</td>\n      <td>leganes</td>\n      <td>1.0</td>\n      <td>1.0</td>\n      <td>1.47</td>\n      <td>4.43</td>\n      <td>7.41</td>\n      <td>0</td>\n      <td>1</td>\n      <td>0</td>\n      <td>1</td>\n      <td>1</td>\n      <td>0</td>\n      <td>0.645087</td>\n      <td>0.798480</td>\n      <td>0.056598</td>\n      <td>1</td>\n      <td>3.43</td>\n    </tr>\n    <tr>\n      <th>...</th>\n      <td>...</td>\n      <td>...</td>\n      <td>...</td>\n      <td>...</td>\n      <td>...</td>\n      <td>...</td>\n      <td>...</td>\n      <td>...</td>\n      <td>...</td>\n      <td>...</td>\n      <td>...</td>\n      <td>...</td>\n      <td>...</td>\n      <td>...</td>\n      <td>...</td>\n      <td>...</td>\n      <td>...</td>\n      <td>...</td>\n      <td>...</td>\n      <td>...</td>\n      <td>...</td>\n    </tr>\n    <tr>\n      <th>13553</th>\n      <td>2018-08-14 18:45:00+00:00</td>\n      <td>england</td>\n      <td>efl-cup</td>\n      <td>yeovil town</td>\n      <td>aston villa</td>\n      <td>0.0</td>\n      <td>1.0</td>\n      <td>0.00</td>\n      <td>0.00</td>\n      <td>0.00</td>\n      <td>0</td>\n      <td>0</td>\n      <td>1</td>\n      <td>1</td>\n      <td>1</td>\n      <td>0</td>\n      <td>0.738303</td>\n      <td>0.974766</td>\n      <td>0.002282</td>\n      <td>0</td>\n      <td>0.00</td>\n    </tr>\n    <tr>\n      <th>13554</th>\n      <td>2018-04-07 14:00:00+00:00</td>\n      <td>ukraine</td>\n      <td>premier-league-relegation-round</td>\n      <td>oleksandria</td>\n      <td>pfc feniks bucha</td>\n      <td>2.0</td>\n      <td>0.0</td>\n      <td>1.82</td>\n      <td>3.25</td>\n      <td>4.58</td>\n      <td>1</td>\n      <td>0</td>\n      <td>0</td>\n      <td>1</td>\n      <td>1</td>\n      <td>0</td>\n      <td>0.570895</td>\n      <td>0.614656</td>\n      <td>0.238248</td>\n      <td>1</td>\n      <td>2.25</td>\n    </tr>\n    <tr>\n      <th>13555</th>\n      <td>2015-12-12 17:30:00+00:00</td>\n      <td>austria</td>\n      <td>bundesliga</td>\n      <td>sv ried</td>\n      <td>wolfsberger ac</td>\n      <td>1.0</td>\n      <td>0.0</td>\n      <td>0.00</td>\n      <td>0.00</td>\n      <td>0.00</td>\n      <td>1</td>\n      <td>0</td>\n      <td>0</td>\n      <td>0</td>\n      <td>0</td>\n      <td>1</td>\n      <td>0.429426</td>\n      <td>0.001383</td>\n      <td>0.962793</td>\n      <td>0</td>\n      <td>0.00</td>\n    </tr>\n    <tr>\n      <th>13556</th>\n      <td>2016-09-21 15:30:00+00:00</td>\n      <td>finland</td>\n      <td>veikkausliiga</td>\n      <td>ifk mariehamn</td>\n      <td>inter turku</td>\n      <td>1.0</td>\n      <td>1.0</td>\n      <td>1.90</td>\n      <td>3.37</td>\n      <td>4.13</td>\n      <td>0</td>\n      <td>1</td>\n      <td>0</td>\n      <td>1</td>\n      <td>0</td>\n      <td>0</td>\n      <td>0.567031</td>\n      <td>0.176261</td>\n      <td>0.496240</td>\n      <td>0</td>\n      <td>-1.00</td>\n    </tr>\n    <tr>\n      <th>13557</th>\n      <td>2020-02-07 22:00:00+00:00</td>\n      <td>argentina</td>\n      <td>liga-profesional-de-futbol</td>\n      <td>aldosivi</td>\n      <td>central cordoba</td>\n      <td>0.0</td>\n      <td>2.0</td>\n      <td>2.49</td>\n      <td>2.85</td>\n      <td>3.25</td>\n      <td>0</td>\n      <td>0</td>\n      <td>1</td>\n      <td>1</td>\n      <td>1</td>\n      <td>0</td>\n      <td>0.623006</td>\n      <td>0.602990</td>\n      <td>0.117039</td>\n      <td>0</td>\n      <td>-1.00</td>\n    </tr>\n  </tbody>\n</table>\n<p>13300 rows × 21 columns</p>\n</div>"
     },
     "metadata": {},
     "execution_count": 87
    }
   ],
   "source": [
    "conv.DF"
   ]
  },
  {
   "cell_type": "code",
   "execution_count": 126,
   "metadata": {},
   "outputs": [
    {
     "output_type": "execute_result",
     "data": {
      "text/plain": [
       "0.5372846644982532"
      ]
     },
     "metadata": {},
     "execution_count": 126
    }
   ],
   "source": [
    "conv.DF.loc[conv.DF['odds_home']>0].win.mean()"
   ]
  },
  {
   "cell_type": "code",
   "execution_count": 124,
   "metadata": {},
   "outputs": [],
   "source": [
    "res=conv.DF.loc[conv.DF['odds_home']>0]"
   ]
  },
  {
   "source": [
    "includes=['vote1', 'votex', 'vote2','elo1','elo2','drift_home', 'drift_away', 'drift_draw','oddsprob_home', 'oddsprob_draw', 'oddsprob_away']\n",
    "cols=[x for x in df_all.columns if x!='round.1' and x!='ds.1']\n",
    "cols=[x for x in cols if not any(i in x for i in includes)]\n",
    "cols=[x for x in cols if  not 'ht1' in x and not 'ht2' in x and not 'psht' in x]\n",
    "cols=[x for x in cols if not 'tar_' in x and not 'opp_' in x]\n",
    "#cols1=[x for x in df_all.columns if '_form' in x]\n",
    "cols=cols+includes\n"
   ],
   "cell_type": "markdown",
   "metadata": {}
  },
  {
   "cell_type": "code",
   "execution_count": 125,
   "metadata": {},
   "outputs": [
    {
     "output_type": "execute_result",
     "data": {
      "text/plain": [
       "(-110.32000000000002, 26.24999999999999, -121.71000000000002)"
      ]
     },
     "metadata": {},
     "execution_count": 125
    }
   ],
   "source": [
    "res[res['pred_home']==1].prf.sum(),res[res['pred_draw']==1].prf.sum(),res[res['pred_away']==1].prf.sum()"
   ]
  },
  {
   "cell_type": "code",
   "execution_count": 91,
   "metadata": {},
   "outputs": [],
   "source": [
    "res.to_csv('data/pred.csv', index=False)"
   ]
  },
  {
   "source": [
    "# sdef\n",
    "$ \\frac{1}{2} $"
   ],
   "cell_type": "markdown",
   "metadata": {}
  },
  {
   "cell_type": "code",
   "execution_count": null,
   "metadata": {},
   "outputs": [],
   "source": []
  }
 ]
}