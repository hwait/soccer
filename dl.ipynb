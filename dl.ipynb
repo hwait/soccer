{
 "metadata": {
  "language_info": {
   "codemirror_mode": {
    "name": "ipython",
    "version": 3
   },
   "file_extension": ".py",
   "mimetype": "text/x-python",
   "name": "python",
   "nbconvert_exporter": "python",
   "pygments_lexer": "ipython3",
   "version": "3.8.5-final"
  },
  "orig_nbformat": 2,
  "kernelspec": {
   "name": "python3",
   "display_name": "Python 3.8.5 64-bit ('dmenv': conda)",
   "metadata": {
    "interpreter": {
     "hash": "7443be6333979a5671edb97a6208c12f43c7c42bc49d43d9a0706d3198065d4b"
    }
   }
  }
 },
 "nbformat": 4,
 "nbformat_minor": 2,
 "cells": [
  {
   "cell_type": "code",
   "execution_count": 1,
   "metadata": {},
   "outputs": [],
   "source": [
    "from os import path,listdir\n",
    "from datetime import datetime,timedelta\n",
    "import time\n",
    "import requests\n",
    "from stem import Signal\n",
    "from stem.control import Controller\n",
    "import re\n",
    "import pandas as pd\n",
    "import numpy as np\n",
    "import random\n",
    "import pytz\n",
    "from tqdm import tqdm\n",
    "local_tz = 'Asia/Almaty'"
   ]
  },
  {
   "cell_type": "code",
   "execution_count": null,
   "metadata": {},
   "outputs": [],
   "source": [
    "curtime=pytz.timezone(local_tz).localize(datetime.strptime('2000-01-01 '+'23:55', '%Y-%m-%d %H:%M'))\n",
    "curtime"
   ]
  },
  {
   "cell_type": "code",
   "execution_count": null,
   "metadata": {},
   "outputs": [],
   "source": [
    "datetime(2020, 10, 17, 1, 0).timestamp()"
   ]
  },
  {
   "cell_type": "code",
   "execution_count": null,
   "metadata": {},
   "outputs": [],
   "source": [
    "datetime.fromtimestamp(1604170800)"
   ]
  },
  {
   "cell_type": "code",
   "execution_count": null,
   "metadata": {},
   "outputs": [],
   "source": [
    "def getone(pattern, string):\n",
    "    m = pattern.search(string)\n",
    "    res = m.group(1) if m else ''\n",
    "    return res.strip()\n",
    "\n",
    "def clean(txt):\n",
    "    return txt.replace('&','').replace('\\'','').strip()\n",
    "\n",
    "def get_cookie_value(name):\n",
    "    return [x['value'] for x in cookies if x['name']==name][0]"
   ]
  },
  {
   "cell_type": "code",
   "execution_count": null,
   "metadata": {},
   "outputs": [],
   "source": [
    "base_url='https://sofascore.com/'\n",
    "api_url='https://api.sofascore.com/api/v1/'\n",
    "\n",
    "def generate_headers():\n",
    "    return {\n",
    "            \"Accept\": \"*/*\",\n",
    "            \"Accept-Encoding\": \"gzip, deflate, br\",\n",
    "            \"Accept-Language\": \"en-US,en;q=0.5\",\n",
    "            \"Connection\": \"keep-alive\",\n",
    "            \"Host\": \"api.sofascore.com\",\n",
    "            \"Origin\": \"https://www.sofascore.com\",\n",
    "            \"Referer\": referer,\n",
    "            \"TE\": \"Trailers\",\n",
    "            \"User-Agent\": \"Mozilla/5.0 (Windows NT 10.0; Win64; x64; rv:82.0) Gecko/20100101 Firefox/82.0\"\n",
    "        }\n",
    "\n",
    "def load_match_info(did, isft):\n",
    "    load_json('lineups',did, headers)\n",
    "    load_json('votes',did, headers, isft=isft)\n",
    "    if isft==1:\n",
    "        load_json('incidents',did, headers)\n",
    "        load_json('graph',did, headers)\n",
    "    #load_json('best-players',did, headers)\n",
    "    #load_json('event',did, headers)\n",
    "    #load_json('statistics',did, headers)\n",
    "    #load_json('h2h',did, headers)\n",
    "    #load_json('pregame-form',did, headers)\n",
    "    #load_json('winning-odds',did, headers)\n",
    "\n",
    "#\n",
    "\n",
    "def load_json(fn, did, headers, isft=0):\n",
    "    file_name='raw/{}_{}_{:%Y-%m-%d-%H%M}.json'.format(fn, did, datetime.now()) if fn=='votes' else f'raw/{fn}_{did}.json'\n",
    "    if not path.exists(file_name) or (fn=='votes' and isft==0):\n",
    "        script='' if fn=='event' else '/provider/1/'+fn if fn=='winning-odds' else '/'+fn\n",
    "        link=f'{api_url}event/{did}{script}'\n",
    "        r = requests.get(link, headers=headers)\n",
    "        if r.status_code==200:\n",
    "            with open(file_name, 'w+', encoding='utf8') as f:\n",
    "                f.write(r.text)\n",
    "\n"
   ]
  },
  {
   "cell_type": "code",
   "execution_count": 9,
   "metadata": {},
   "outputs": [],
   "source": [
    "file_name='data/matches.csv'\n",
    "df_matches=pd.read_csv(file_name, index_col=None)\n",
    "#SERVER_TZ = 'UTC'\n",
    "#df_matches['ts']=pd.DatetimeIndex(pd.to_datetime(df_matches['startTimestamp'], unit='s')).tz_localize(SERVER_TZ)\n",
    "df_matches=df_matches.drop_duplicates(keep='first')"
   ]
  },
  {
   "cell_type": "code",
   "execution_count": 10,
   "metadata": {},
   "outputs": [],
   "source": [
    "df_matches_done=df_matches.loc[df_matches['done']==1]\n",
    "df_matches=df_matches.loc[df_matches['done']<1]\n",
    "df_matches_done.to_csv('data/matches_done.csv', index=False)\n",
    "df_matches.to_csv('data/matches1.csv', index=False)\n"
   ]
  },
  {
   "cell_type": "code",
   "execution_count": 8,
   "metadata": {},
   "outputs": [
    {
     "output_type": "execute_result",
     "data": {
      "text/plain": [
       "      homeTeamShort             awayTeam        tournament    awayTeamShort  \\\n",
       "108         Ipswich         Derby County      championship            Derby   \n",
       "110          Troyes    Stade Brestois 29           ligue-2            Brest   \n",
       "111           Veria          AEL Kalloni      super-league          Kalloni   \n",
       "112         Burnley  Queens Park Rangers    premier-league              QPR   \n",
       "113         Chelsea     Newcastle United    premier-league        Newcastle   \n",
       "...             ...                  ...               ...              ...   \n",
       "39988        Chaves         Portimonense     primeira-liga     Portimonense   \n",
       "39990     O'Higgins         Curicó Unido  primera-division     Curicó Unido   \n",
       "39993   Santa Clara         FC Famalicão      segunda-liga        Famalicão   \n",
       "39994       Leixões               Arouca      segunda-liga           Arouca   \n",
       "39995       Braga B      Académico Viseu      segunda-liga  Académico Viseu   \n",
       "\n",
       "             homeTeam  startTimestamp       id  awayScoreFT  awayScoreET  \\\n",
       "108      Ipswich Town      1420892100  5583876          1.0          1.0   \n",
       "110            Troyes      1420894800  5510536          0.0          0.0   \n",
       "111         Veria NFC      1420894800  6570345          1.0          1.0   \n",
       "112           Burnley      1420902000  5582834          1.0          1.0   \n",
       "113           Chelsea      1420902000  5582836          0.0          0.0   \n",
       "...               ...             ...      ...          ...          ...   \n",
       "39988       GD Chaves      1524409200  7473301          1.0          1.0   \n",
       "39990       O'Higgins      1524409200  7712202          2.0          2.0   \n",
       "39993  CD Santa Clara      1524409200  7516778          0.0          0.0   \n",
       "39994      Leixões SC      1524409200  7516783          2.0          2.0   \n",
       "39995      SC Braga B      1524409200  7516763          2.0          2.0   \n",
       "\n",
       "       done  coverage  homeScoreFT  winnerCode  homeScoreHT  round   country  \\\n",
       "108       0         1          0.0           2          0.0   25.0   england   \n",
       "110       0         1          1.0           1          1.0   19.0    france   \n",
       "111       0         1          1.0           3          1.0   11.0    greece   \n",
       "112       0         1          2.0           1          2.0   21.0   england   \n",
       "113       0         1          2.0           1          1.0   21.0   england   \n",
       "...     ...       ...          ...         ...          ...    ...       ...   \n",
       "39988     0         1          2.0           1          0.0   31.0  portugal   \n",
       "39990     0         1          2.0           3          0.0   10.0     chile   \n",
       "39993     0         3          2.0           1          2.0   35.0  portugal   \n",
       "39994     0         3          2.0           3          1.0   35.0  portugal   \n",
       "39995     0         3          2.0           3          1.0   35.0  portugal   \n",
       "\n",
       "       status                         ts  homeScoreET  awayScoreHT  \n",
       "108       100  2015-01-10 12:15:00+00:00          0.0          0.0  \n",
       "110       100  2015-01-10 13:00:00+00:00          1.0          0.0  \n",
       "111       100  2015-01-10 13:00:00+00:00          1.0          1.0  \n",
       "112       100  2015-01-10 15:00:00+00:00          2.0          1.0  \n",
       "113       100  2015-01-10 15:00:00+00:00          2.0          0.0  \n",
       "...       ...                        ...          ...          ...  \n",
       "39988     100  2018-04-22 15:00:00+00:00          2.0          0.0  \n",
       "39990     100  2018-04-22 15:00:00+00:00          2.0          0.0  \n",
       "39993     100  2018-04-22 15:00:00+00:00          2.0          0.0  \n",
       "39994     100  2018-04-22 15:00:00+00:00          2.0          2.0  \n",
       "39995     100  2018-04-22 15:00:00+00:00          2.0          0.0  \n",
       "\n",
       "[32404 rows x 20 columns]"
      ],
      "text/html": "<div>\n<style scoped>\n    .dataframe tbody tr th:only-of-type {\n        vertical-align: middle;\n    }\n\n    .dataframe tbody tr th {\n        vertical-align: top;\n    }\n\n    .dataframe thead th {\n        text-align: right;\n    }\n</style>\n<table border=\"1\" class=\"dataframe\">\n  <thead>\n    <tr style=\"text-align: right;\">\n      <th></th>\n      <th>homeTeamShort</th>\n      <th>awayTeam</th>\n      <th>tournament</th>\n      <th>awayTeamShort</th>\n      <th>homeTeam</th>\n      <th>startTimestamp</th>\n      <th>id</th>\n      <th>awayScoreFT</th>\n      <th>awayScoreET</th>\n      <th>done</th>\n      <th>coverage</th>\n      <th>homeScoreFT</th>\n      <th>winnerCode</th>\n      <th>homeScoreHT</th>\n      <th>round</th>\n      <th>country</th>\n      <th>status</th>\n      <th>ts</th>\n      <th>homeScoreET</th>\n      <th>awayScoreHT</th>\n    </tr>\n  </thead>\n  <tbody>\n    <tr>\n      <th>108</th>\n      <td>Ipswich</td>\n      <td>Derby County</td>\n      <td>championship</td>\n      <td>Derby</td>\n      <td>Ipswich Town</td>\n      <td>1420892100</td>\n      <td>5583876</td>\n      <td>1.0</td>\n      <td>1.0</td>\n      <td>0</td>\n      <td>1</td>\n      <td>0.0</td>\n      <td>2</td>\n      <td>0.0</td>\n      <td>25.0</td>\n      <td>england</td>\n      <td>100</td>\n      <td>2015-01-10 12:15:00+00:00</td>\n      <td>0.0</td>\n      <td>0.0</td>\n    </tr>\n    <tr>\n      <th>110</th>\n      <td>Troyes</td>\n      <td>Stade Brestois 29</td>\n      <td>ligue-2</td>\n      <td>Brest</td>\n      <td>Troyes</td>\n      <td>1420894800</td>\n      <td>5510536</td>\n      <td>0.0</td>\n      <td>0.0</td>\n      <td>0</td>\n      <td>1</td>\n      <td>1.0</td>\n      <td>1</td>\n      <td>1.0</td>\n      <td>19.0</td>\n      <td>france</td>\n      <td>100</td>\n      <td>2015-01-10 13:00:00+00:00</td>\n      <td>1.0</td>\n      <td>0.0</td>\n    </tr>\n    <tr>\n      <th>111</th>\n      <td>Veria</td>\n      <td>AEL Kalloni</td>\n      <td>super-league</td>\n      <td>Kalloni</td>\n      <td>Veria NFC</td>\n      <td>1420894800</td>\n      <td>6570345</td>\n      <td>1.0</td>\n      <td>1.0</td>\n      <td>0</td>\n      <td>1</td>\n      <td>1.0</td>\n      <td>3</td>\n      <td>1.0</td>\n      <td>11.0</td>\n      <td>greece</td>\n      <td>100</td>\n      <td>2015-01-10 13:00:00+00:00</td>\n      <td>1.0</td>\n      <td>1.0</td>\n    </tr>\n    <tr>\n      <th>112</th>\n      <td>Burnley</td>\n      <td>Queens Park Rangers</td>\n      <td>premier-league</td>\n      <td>QPR</td>\n      <td>Burnley</td>\n      <td>1420902000</td>\n      <td>5582834</td>\n      <td>1.0</td>\n      <td>1.0</td>\n      <td>0</td>\n      <td>1</td>\n      <td>2.0</td>\n      <td>1</td>\n      <td>2.0</td>\n      <td>21.0</td>\n      <td>england</td>\n      <td>100</td>\n      <td>2015-01-10 15:00:00+00:00</td>\n      <td>2.0</td>\n      <td>1.0</td>\n    </tr>\n    <tr>\n      <th>113</th>\n      <td>Chelsea</td>\n      <td>Newcastle United</td>\n      <td>premier-league</td>\n      <td>Newcastle</td>\n      <td>Chelsea</td>\n      <td>1420902000</td>\n      <td>5582836</td>\n      <td>0.0</td>\n      <td>0.0</td>\n      <td>0</td>\n      <td>1</td>\n      <td>2.0</td>\n      <td>1</td>\n      <td>1.0</td>\n      <td>21.0</td>\n      <td>england</td>\n      <td>100</td>\n      <td>2015-01-10 15:00:00+00:00</td>\n      <td>2.0</td>\n      <td>0.0</td>\n    </tr>\n    <tr>\n      <th>...</th>\n      <td>...</td>\n      <td>...</td>\n      <td>...</td>\n      <td>...</td>\n      <td>...</td>\n      <td>...</td>\n      <td>...</td>\n      <td>...</td>\n      <td>...</td>\n      <td>...</td>\n      <td>...</td>\n      <td>...</td>\n      <td>...</td>\n      <td>...</td>\n      <td>...</td>\n      <td>...</td>\n      <td>...</td>\n      <td>...</td>\n      <td>...</td>\n      <td>...</td>\n    </tr>\n    <tr>\n      <th>39988</th>\n      <td>Chaves</td>\n      <td>Portimonense</td>\n      <td>primeira-liga</td>\n      <td>Portimonense</td>\n      <td>GD Chaves</td>\n      <td>1524409200</td>\n      <td>7473301</td>\n      <td>1.0</td>\n      <td>1.0</td>\n      <td>0</td>\n      <td>1</td>\n      <td>2.0</td>\n      <td>1</td>\n      <td>0.0</td>\n      <td>31.0</td>\n      <td>portugal</td>\n      <td>100</td>\n      <td>2018-04-22 15:00:00+00:00</td>\n      <td>2.0</td>\n      <td>0.0</td>\n    </tr>\n    <tr>\n      <th>39990</th>\n      <td>O'Higgins</td>\n      <td>Curicó Unido</td>\n      <td>primera-division</td>\n      <td>Curicó Unido</td>\n      <td>O'Higgins</td>\n      <td>1524409200</td>\n      <td>7712202</td>\n      <td>2.0</td>\n      <td>2.0</td>\n      <td>0</td>\n      <td>1</td>\n      <td>2.0</td>\n      <td>3</td>\n      <td>0.0</td>\n      <td>10.0</td>\n      <td>chile</td>\n      <td>100</td>\n      <td>2018-04-22 15:00:00+00:00</td>\n      <td>2.0</td>\n      <td>0.0</td>\n    </tr>\n    <tr>\n      <th>39993</th>\n      <td>Santa Clara</td>\n      <td>FC Famalicão</td>\n      <td>segunda-liga</td>\n      <td>Famalicão</td>\n      <td>CD Santa Clara</td>\n      <td>1524409200</td>\n      <td>7516778</td>\n      <td>0.0</td>\n      <td>0.0</td>\n      <td>0</td>\n      <td>3</td>\n      <td>2.0</td>\n      <td>1</td>\n      <td>2.0</td>\n      <td>35.0</td>\n      <td>portugal</td>\n      <td>100</td>\n      <td>2018-04-22 15:00:00+00:00</td>\n      <td>2.0</td>\n      <td>0.0</td>\n    </tr>\n    <tr>\n      <th>39994</th>\n      <td>Leixões</td>\n      <td>Arouca</td>\n      <td>segunda-liga</td>\n      <td>Arouca</td>\n      <td>Leixões SC</td>\n      <td>1524409200</td>\n      <td>7516783</td>\n      <td>2.0</td>\n      <td>2.0</td>\n      <td>0</td>\n      <td>3</td>\n      <td>2.0</td>\n      <td>3</td>\n      <td>1.0</td>\n      <td>35.0</td>\n      <td>portugal</td>\n      <td>100</td>\n      <td>2018-04-22 15:00:00+00:00</td>\n      <td>2.0</td>\n      <td>2.0</td>\n    </tr>\n    <tr>\n      <th>39995</th>\n      <td>Braga B</td>\n      <td>Académico Viseu</td>\n      <td>segunda-liga</td>\n      <td>Académico Viseu</td>\n      <td>SC Braga B</td>\n      <td>1524409200</td>\n      <td>7516763</td>\n      <td>2.0</td>\n      <td>2.0</td>\n      <td>0</td>\n      <td>3</td>\n      <td>2.0</td>\n      <td>3</td>\n      <td>1.0</td>\n      <td>35.0</td>\n      <td>portugal</td>\n      <td>100</td>\n      <td>2018-04-22 15:00:00+00:00</td>\n      <td>2.0</td>\n      <td>0.0</td>\n    </tr>\n  </tbody>\n</table>\n<p>32404 rows × 20 columns</p>\n</div>"
     },
     "metadata": {},
     "execution_count": 8
    }
   ],
   "source": [
    "df_matches"
   ]
  },
  {
   "cell_type": "code",
   "execution_count": null,
   "metadata": {},
   "outputs": [],
   "source": [
    "exclude=['india', 'peru', 'south-africa', 'germany-amateur', 'saudi-arabia', 'united-arab-emirates']\n",
    "df_matches=df_matches.loc[~df_matches['country'].isin(exclude)]"
   ]
  },
  {
   "cell_type": "code",
   "execution_count": null,
   "metadata": {},
   "outputs": [],
   "source": [
    "df_matches.to_csv('data/matches1.csv', index=False)"
   ]
  },
  {
   "cell_type": "code",
   "execution_count": null,
   "metadata": {},
   "outputs": [],
   "source": [
    "df_matches_new=pd.read_csv('data/matches1.csv', index_col=None).set_index('id')\n",
    "df_matches=pd.read_csv('data/matches.csv', index_comatches\n"
   ]
  },
  {
   "cell_type": "code",
   "execution_count": null,
   "metadata": {},
   "outputs": [],
   "source": [
    "df_matches.update(df_matches_new[['awayScoreHT','awayScoreET','homeScoreET','awayScoreFT','homeScoreFT','status','winnerCode','homeScoreHT']])\n",
    "df_matches['id'] = df_matches.index\n",
    "df_matches_new['id'] = df_matches_new.index\n",
    "matchespd.concat([df_matches,df_matches_new]).drop_duplicates(subset='id', keep='first').reset_index(drop=True)"
   ]
  },
  {
   "cell_type": "code",
   "execution_count": null,
   "metadata": {},
   "outputs": [],
   "source": [
    "LOCAL_TZ = 'Asia/Almaty'\n",
    "df_matches['ts'].apply(lambda d: d.astimezone(pytz.timezone(LOCAL_TZ)))"
   ]
  },
  {
   "cell_type": "code",
   "execution_count": null,
   "metadata": {},
   "outputs": [],
   "source": [
    "avoid_countries=['saudi-arabia', 'chile']\n",
    "PROXY = \"127.0.0.1:9051\""
   ]
  },
  {
   "cell_type": "code",
   "execution_count": null,
   "metadata": {},
   "outputs": [],
   "source": [
    "from selenium import webdriver\n",
    "from selenium.webdriver.chrome.options import Options\n",
    "\n",
    "\n",
    "\n",
    "webdriver.DesiredCapabilities.FIREFOX['proxy'] = {\n",
    "    \"socksProxy\": PROXY,\n",
    "    \"socksVersion\": 5,\n",
    "    \"proxyType\": \"MANUAL\",\n",
    "}\n",
    "\n",
    "options = webdriver.ChromeOptions()\n",
    "options.add_argument('--proxy-server=socks5://' + PROXY)\n",
    "#chrome = webdriver.Chrome(executable_path=r'../lib/chromedriver.exe', options=options)\n",
    "firefox = webdriver.Firefox(executable_path=r'../lib/geckodriver.exe')\n",
    "\n",
    "firefox.get(\"https://www.sofascore.com/\")\n",
    "#chrome.get(\"https://www.sofascore.com/\")\n",
    "\n",
    "referer=firefox.current_url\n",
    "cookies=firefox.get_cookies()\n",
    "html = firefox.page_source\n"
   ]
  },
  {
   "cell_type": "code",
   "execution_count": null,
   "metadata": {},
   "outputs": [],
   "source": [
    "html = firefox.page_source\n",
    "\n",
    "dids=[]\n",
    "\n",
    "keys=['svg','path','rect','span']\n",
    "for key in keys:\n",
    "    html=re.sub(f'<{key}[^>]+>','',html)\n",
    "    html=html.replace(f'</{key}>','')\n",
    "html=re.sub(r'<div data-change-key=\"status\"[^>]+>-</div>','',html)\n",
    "html=html.replace(f'</div>','')\n",
    "\n",
    "pChamp = re.compile(r'<a href=\"/tournament/football/([^/]+)/([^/]+)/(\\d+)\">([^<]+)</a>')\n",
    "pMatch = re.compile(r'<a data-id=\"(\\d+)\" class=\"[^\"]+\" href=\"([^\"]+)\"><div><div[^>]+><div[^>]+><div[^>]+>([^<]+)<div[^>]+>([^<]+)<div[^>]+><div[^>]+><div[^>]+>([^<]+)<div[^>]+>([^<]+)<div[^>]+><div[^>]+><div[^>]+><div[^>]+>([^<]*)<div[^>]+>([^<]*)')\n",
    "pMatch1 = re.compile(r'<a data-id=\"(\\d+)\" class=\"[^\"]+\" href=\"([^\"]+)\"><div><div[^>]+><div title=\"([^\"]+)\"[^>]+><div[^>]+>(<div[^>]+>)?([^<]+)')\n",
    "pMatch2 = re.compile(r'[^>]+><div[^>]+>([^<]+)<div[^>]+>([^<]+)<div[^>]+><div[^>]+><div[^>]+><div[^>]+>([^<]*)<div[^>]+>([^<]*)')\n",
    "parts = html.split('<div class=\"Section-sc-1a7xrsb-0 styles__CategoryImageSection-sc-7mecl8-8 hTnyYh\">')[1:-1]\n",
    "for part in parts:\n",
    "    if 'SofaScore ratings' in part:\n",
    "        m = pChamp.search(part)\n",
    "        if m:\n",
    "            country, champ_sname, champ_id, champ_name=m.groups()\n",
    "        else:\n",
    "            raise Exception('CHAMPS NOT FOUND IN\\n\\n'+part)\n",
    "        if country in avoid_countries:\n",
    "            continue\n",
    "        mm=part.split('</button></a>')[:-1]\n",
    "        print(country, champ_sname, champ_id, champ_name,'FOUND %s matches'%(len(mm)))\n",
    "        for match in mm:\n",
    "            if 'Canceled' in match or 'Postponed' in match:\n",
    "                print('Canceled or Postponed!!!')\n",
    "                continue\n",
    "\n",
    "            m = pMatch1.search(match)\n",
    "            if m:\n",
    "                match_did,match_link,match_status,_,match_time=m.groups()\n",
    "                print(match_did,match_link,match_status,match_time)\n",
    "                if match_time=='HT':\n",
    "                    continue\n",
    "            else:\n",
    "                raise Exception('MATCH NOT FOUND IN\\n\\n'+match)\n",
    "            pps=match.split('<div title=')[-1]\n",
    "            m = pMatch2.search(pps)\n",
    "            if m:\n",
    "                match_team1,match_team2,match_score1,match_score2=m.groups()\n",
    "                print(match_team1,match_team2,match_score1,match_score2)\n",
    "            else:\n",
    "                raise Exception('MATCH NOT FOUND IN PPS\\n\\n'+pps)\n",
    "            dids.append([country, champ_sname, champ_id, champ_name,match_did,match_link,match_time,match_status,match_team1,match_team2,match_score1,match_score2])\n",
    "matches=pd.DataFrame(data=dids, columns=['country', 'champ_sname', 'champ_id', 'champ_name','match_did','match_link','match_time','match_status','match_team1','match_team2','match_score1','match_score2'])\n",
    "matches.loc[matches['match_score1']=='','match_score1']=np.nan\n",
    "matches.loc[matches['match_score2']=='','match_score2']=np.nan\n",
    "matches['FT']=np.where(matches['match_score1'].isna(),0,1)\n",
    "dids=matches[['match_did','FT']].values\n",
    "np.random.shuffle(dids)"
   ]
  },
  {
   "cell_type": "code",
   "execution_count": null,
   "metadata": {},
   "outputs": [],
   "source": []
  },
  {
   "cell_type": "code",
   "execution_count": null,
   "metadata": {},
   "outputs": [],
   "source": [
    "d=datetime.strptime('2020-10-31', '%Y-%m-%d')\n",
    "dstr='{:%Y-%m-%d}'.format(d)\n",
    "matches['ts']=matches['match_time'].apply(lambda x: pytz.timezone(local_tz).localize(datetime.strptime(f'{dstr} {x}', '%Y-%m-%d %H:%M')))\n",
    "matches.to_csv(f'raw/matches_{dstr}.csv')"
   ]
  },
  {
   "cell_type": "code",
   "execution_count": null,
   "metadata": {},
   "outputs": [],
   "source": [
    "def load_matches(arr):\n",
    "    l=len(arr)\n",
    "    if l>0:\n",
    "        did,isft=arr[0]\n",
    "        print(f'Loading {did},{isft} from {l}...', end='')\n",
    "        load_match_info(did, isft)\n",
    "        print(' done!')\n",
    "        time.sleep(random.uniform(1, 5))\n",
    "        load_matches(np.delete(arr, 0, 0))"
   ]
  },
  {
   "cell_type": "code",
   "execution_count": null,
   "metadata": {},
   "outputs": [],
   "source": [
    "load_match_info(1399303, 1)"
   ]
  },
  {
   "cell_type": "code",
   "execution_count": null,
   "metadata": {},
   "outputs": [],
   "source": [
    "headers=generate_headers()\n",
    "load_matches(dids)"
   ]
  },
  {
   "cell_type": "code",
   "execution_count": null,
   "metadata": {},
   "outputs": [],
   "source": [
    "dids"
   ]
  },
  {
   "cell_type": "code",
   "execution_count": null,
   "metadata": {},
   "outputs": [],
   "source": [
    "fn='statistics'\n",
    "did=9091949\n",
    "script='' if fn=='event' else '/'+fn\n",
    "link=f'{api_url}event/{did}{script}'\n",
    "headers=generate_headers()\n",
    "r = requests.get(link, headers=headers)\n",
    "if r.status_code==200:\n",
    "    with open(f'raw/{fn}_{did}.json', 'w+', encoding='utf8') as f:\n",
    "        f.write(r.text)"
   ]
  },
  {
   "cell_type": "code",
   "execution_count": null,
   "metadata": {},
   "outputs": [],
   "source": [
    "proxies = {'https': f'socks5://{PROXY}'}\n",
    "\n",
    "dates=[]\n",
    "d= datetime(2013, 1, 1)\n",
    "end_date= datetime(2020, 10, 28)\n",
    "\n",
    "while d<=end_date:\n",
    "    dates.append(d)\n",
    "    d+=timedelta(days=1)\n",
    "dates=np.array(dates) \n",
    "np.random.shuffle(dates)"
   ]
  },
  {
   "cell_type": "code",
   "execution_count": null,
   "metadata": {},
   "outputs": [],
   "source": [
    "def tor_new_identity():\n",
    "    with Controller.from_port(port=9052) as controller:\n",
    "        controller.authenticate()\n",
    "        #controller.authenticate(password=\"1234\")\n",
    "        controller.signal(Signal.NEWNYM)\n",
    "        controller.close()\n",
    "\n",
    "def load_days(test=False,c=0,n=0,max_load=random.randint(50, 100)):\n",
    "    global dates,r,dstr,proxies\n",
    "    l=len(dates)\n",
    "    if l>0:\n",
    "        dstr='{:%Y-%m-%d}'.format(dates[0])\n",
    "        link=f'https://api.sofascore.com/api/v1/sport/football/scheduled-events/{dstr}'\n",
    "        referer=f'https://www.sofascore.com/football/{dstr}'\n",
    "        print(f'Loading {dstr} from {l}...', end='')\n",
    "        headers=generate_headers()\n",
    "        r = requests.get(link, headers=headers, proxies=proxies)\n",
    "        if test:\n",
    "            print(r.status_code)\n",
    "        if r.status_code==200:\n",
    "            c=0\n",
    "            with open(f'raw/{dstr}.json', 'w+', encoding='utf8') as f:\n",
    "                f.write(r.text)\n",
    "            n+=1\n",
    "            if n>max_load:\n",
    "                tor_new_identity()\n",
    "                time.sleep(random.uniform(10, 20))\n",
    "                load_days()\n",
    "        else:\n",
    "            print(f'ERROR {r.status_code}!!! Obtaining new identity. Try # {c}.')\n",
    "            tor_new_identity()\n",
    "            time.sleep(random.uniform(10, 20))\n",
    "            c+=1\n",
    "            if c>10:\n",
    "                return \n",
    "            load_days(c=c)\n",
    "        c=0\n",
    "        print(f' done #{n} from the batch of {max_load}!')\n",
    "        time.sleep(random.uniform(1, 5))\n",
    "        dates=np.delete(dates, 0, 0)\n",
    "        if not test:\n",
    "            load_days(c=c,n=n,max_load=max_load)"
   ]
  },
  {
   "cell_type": "code",
   "execution_count": null,
   "metadata": {
    "tags": [
     "outputPrepend"
    ]
   },
   "outputs": [],
   "source": [
    "load_days(test=False)\n",
    "#len(dates)"
   ]
  },
  {
   "cell_type": "code",
   "execution_count": null,
   "metadata": {},
   "outputs": [],
   "source": [
    "fn='winning-odds'\n",
    "did=9091949\n",
    "script='' if fn=='event' else '/provider/1/'+fn if fn=='winning-odds' else '/'+fn\n",
    "link=f'{api_url}event/{did}{script}'\n",
    "link"
   ]
  },
  {
   "cell_type": "code",
   "execution_count": null,
   "metadata": {
    "tags": []
   },
   "outputs": [],
   "source": [
    "from data_provider import DataProvider\n",
    "ds='2014-01-01'\n",
    "de='2020-10-31'\n",
    "\n",
    "#ds='2020-04-05'\n",
    "#de='2020-04-05'\n",
    "\n",
    "dp=DataProvider()\n",
    "#dp.load_days(ds, de)\n",
    "#dp.load_days() # Process al files\n",
    "dp.load_matches()"
   ]
  },
  {
   "cell_type": "code",
   "execution_count": null,
   "metadata": {},
   "outputs": [],
   "source": [
    "#matches=[x for x in dp.DATA['events'] if 'coverage' in x.keys()]\n",
    "dp.DATA"
   ]
  },
  {
   "cell_type": "code",
   "execution_count": null,
   "metadata": {},
   "outputs": [],
   "source": [
    "[datetime.strptime(f.replace('.json', ''), '%Y-%m-%d') for f in listdir('raw/')] "
   ]
  },
  {
   "cell_type": "code",
   "execution_count": null,
   "metadata": {},
   "outputs": [],
   "source": [
    "file_name='data/matches1.csv'\n",
    "dp.df_matches.to_csv(file_name, index=False)"
   ]
  },
  {
   "cell_type": "code",
   "execution_count": null,
   "metadata": {},
   "outputs": [],
   "source": [
    "dp.COUNTER"
   ]
  },
  {
   "cell_type": "code",
   "execution_count": null,
   "metadata": {},
   "outputs": [],
   "source": [
    "import json\n",
    "file_name='raw/2016-08-28.json'\n",
    "with open(file_name, 'r', encoding='utf8') as f:\n",
    "    data=json.load(f)\n",
    "matches=[x for x in data['events'] if 'coverage' in x.keys()]\n",
    "matches=[x for x in matches if x['coverage']>-1]\n",
    "matches=[x for x in matches if not x['status']['code'] in [60,70]]\n",
    "len(matches)"
   ]
  },
  {
   "cell_type": "code",
   "execution_count": null,
   "metadata": {},
   "outputs": [],
   "source": [
    "[x for x in matches if not x['status']['code']==100 and not x['status']['code']==110 and not x['status']['code']==0]"
   ]
  },
  {
   "cell_type": "code",
   "execution_count": null,
   "metadata": {},
   "outputs": [],
   "source": [
    "matches=[x for x in dp.data['events'] if 'coverage' in x.keys()]\n",
    "matches=[x for x in matches if x['coverage']>-1]\n",
    "matches=[x for x in matches if x['status']['code']==100 or x['status']['code']==110]\n",
    "len(matches)"
   ]
  },
  {
   "cell_type": "code",
   "execution_count": null,
   "metadata": {},
   "outputs": [],
   "source": [
    "a=[  {'tournament' : x['tournament']['slug'],\n",
    "    'country' : x['tournament']['category']['slug'],\n",
    "    'round' : x['roundInfo']['round'] if 'roundInfo' in x.keys() else np.NaN,\n",
    "    'status' : x['status']['code'],\n",
    "    'homeTeam' : x['homeTeam']['name'],\n",
    "    'homeTeamShort' : x['homeTeam']['shortName'],\n",
    "    'awayTeam' : x['awayTeam']['name'],\n",
    "    'awayTeamShort' : x['awayTeam']['shortName'],\n",
    "    'homeScoreFT' : x['homeScore']['normaltime'] if 'normaltime' in x.keys() else np.NaN,\n",
    "    'homeScoreET' : x['homeScore']['current'] if 'current' in x.keys() else np.NaN,\n",
    "    'homeScoreHT' : x['homeScore']['period1'] if 'period1' in x.keys() else np.NaN,\n",
    "    'awayScoreFT' : x['awayScore']['normaltime'] if 'normaltime' in x.keys() else np.NaN,\n",
    "    'awayScoreET' : x['awayScore']['current'] if 'current' in x.keys() else np.NaN,\n",
    "    'awayScoreHT' : x['awayScore']['period1'] if 'period1' in x.keys() else np.NaN,\n",
    "    'id' : x['id'],\n",
    "    'startTimestamp' : x['startTimestamp'],\n",
    "    'coverage' : x['coverage'],\n",
    "    'winnerCode' : x['winnerCode']} for x in matches]"
   ]
  },
  {
   "cell_type": "code",
   "execution_count": null,
   "metadata": {},
   "outputs": [],
   "source": [
    "pd.DataFrame(data=a)\n"
   ]
  },
  {
   "cell_type": "code",
   "execution_count": null,
   "metadata": {},
   "outputs": [],
   "source": [
    "load_json('best-players',did, headers)"
   ]
  },
  {
   "cell_type": "code",
   "execution_count": null,
   "metadata": {},
   "outputs": [],
   "source": [
    "did=9091942\n",
    "load_match_info(did)"
   ]
  },
  {
   "cell_type": "code",
   "execution_count": null,
   "metadata": {},
   "outputs": [],
   "source": []
  }
 ]
}