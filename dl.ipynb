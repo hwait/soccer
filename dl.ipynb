{
 "metadata": {
  "language_info": {
   "codemirror_mode": {
    "name": "ipython",
    "version": 3
   },
   "file_extension": ".py",
   "mimetype": "text/x-python",
   "name": "python",
   "nbconvert_exporter": "python",
   "pygments_lexer": "ipython3",
   "version": "3.8.5-final"
  },
  "orig_nbformat": 2,
  "kernelspec": {
   "name": "python3",
   "display_name": "Python 3.8.5 64-bit ('dmenv': conda)",
   "metadata": {
    "interpreter": {
     "hash": "7443be6333979a5671edb97a6208c12f43c7c42bc49d43d9a0706d3198065d4b"
    }
   }
  }
 },
 "nbformat": 4,
 "nbformat_minor": 2,
 "cells": [
  {
   "cell_type": "code",
   "execution_count": null,
   "metadata": {},
   "outputs": [],
   "source": [
    "from os import path,listdir\n",
    "from datetime import datetime,timedelta\n",
    "import time\n",
    "import json\n",
    "import requests\n",
    "from stem import Signal\n",
    "from stem.control import Controller\n",
    "import re\n",
    "import pandas as pd\n",
    "import numpy as np\n",
    "import random\n",
    "import pytz\n",
    "from tqdm import tqdm\n",
    "local_tz = 'Asia/Almaty'\n",
    "\n",
    "%load_ext autoreload\n",
    "%autoreload 2"
   ]
  },
  {
   "cell_type": "code",
   "execution_count": null,
   "metadata": {},
   "outputs": [],
   "source": [
    "def getone(pattern, string):\n",
    "    m = pattern.search(string)\n",
    "    res = m.group(1) if m else ''\n",
    "    return res.strip()\n",
    "\n",
    "def clean(txt):\n",
    "    return txt.replace('&','').replace('\\'','').strip()\n",
    "\n",
    "def get_cookie_value(name):\n",
    "    return [x['value'] for x in cookies if x['name']==name][0]"
   ]
  },
  {
   "cell_type": "code",
   "execution_count": null,
   "metadata": {},
   "outputs": [],
   "source": [
    "base_url='https://sofascore.com/'\n",
    "api_url='https://api.sofascore.com/api/v1/'\n",
    "\n",
    "def generate_headers(referer):\n",
    "    return {\n",
    "            \"Accept\": \"*/*\",\n",
    "            \"Accept-Encoding\": \"gzip, deflate, br\",\n",
    "            \"Accept-Language\": \"en-US,en;q=0.5\",\n",
    "            \"Connection\": \"keep-alive\",\n",
    "            \"Host\": \"api.sofascore.com\",\n",
    "            \"Origin\": \"https://www.sofascore.com\",\n",
    "            \"Referer\": referer,\n",
    "            \"TE\": \"Trailers\",\n",
    "            \"User-Agent\": \"Mozilla/5.0 (Windows NT 10.0; Win64; x64; rv:82.0) Gecko/20100101 Firefox/82.0\"\n",
    "        }\n",
    "\n",
    "def load_match_info(did, isft):\n",
    "    load_json('lineups',did, headers)\n",
    "    load_json('votes',did, headers, isft=isft)\n",
    "    if isft==1:\n",
    "        load_json('incidents',did, headers)\n",
    "        load_json('graph',did, headers)\n",
    "    #load_json('best-players',did, headers)\n",
    "    #load_json('event',did, headers)\n",
    "    #load_json('statistics',did, headers)\n",
    "    #load_json('h2h',did, headers)\n",
    "    #load_json('pregame-form',did, headers)\n",
    "    #load_json('winning-odds',did, headers)\n",
    "\n",
    "#\n",
    "\n",
    "def load_json(fn, did, headers, isft=0):\n",
    "    file_name='raw/{}_{}_{:%Y-%m-%d-%H%M}.json'.format(fn, did, datetime.now()) if fn=='votes' else f'raw/{fn}_{did}.json'\n",
    "    if not path.exists(file_name) or (fn=='votes' and isft==0):\n",
    "        script='' if fn=='event' else '/provider/1/'+fn if fn=='winning-odds' else '/'+fn\n",
    "        link=f'{api_url}event/{did}{script}'\n",
    "        r = requests.get(link, headers=headers)\n",
    "        if r.status_code==200:\n",
    "            with open(file_name, 'w+', encoding='utf8') as f:\n",
    "                f.write(r.text)\n",
    "\n"
   ]
  },
  {
   "cell_type": "code",
   "execution_count": null,
   "metadata": {},
   "outputs": [],
   "source": [
    "file_name='data/matches.csv'\n",
    "df_matches=pd.read_csv(file_name, index_col=None)\n",
    "#SERVER_TZ = 'UTC'\n",
    "#df_matches['ts']=pd.DatetimeIndex(pd.to_datetime(df_matches['startTimestamp'], unit='s')).tz_localize(SERVER_TZ)\n",
    "df_matches=df_matches.drop_duplicates(keep='first')"
   ]
  },
  {
   "cell_type": "code",
   "execution_count": null,
   "metadata": {},
   "outputs": [],
   "source": [
    "df_matches_done=df_matches.loc[df_matches['done']==1]\n",
    "df_matches=df_matches.loc[df_matches['done']<1]\n",
    "df_matches_done.to_csv('data/matches_done.csv', index=False)\n",
    "df_matches.to_csv('data/matches1.csv', index=False)\n"
   ]
  },
  {
   "cell_type": "code",
   "execution_count": null,
   "metadata": {},
   "outputs": [],
   "source": [
    "exclude=['india', 'peru', 'south-africa', 'germany-amateur', 'saudi-arabia', 'united-arab-emirates']\n",
    "df_matches=df_matches.loc[~df_matches['country'].isin(exclude)]"
   ]
  },
  {
   "cell_type": "code",
   "execution_count": null,
   "metadata": {},
   "outputs": [],
   "source": [
    "df_matches.to_csv('data/matches1.csv', index=False)"
   ]
  },
  {
   "cell_type": "code",
   "execution_count": null,
   "metadata": {},
   "outputs": [],
   "source": [
    "df_matches_new=pd.read_csv('data/matches1.csv', index_col=None).set_index('id')\n",
    "df_matches=pd.read_csv('data/matches.csv', index_comatches\n"
   ]
  },
  {
   "cell_type": "code",
   "execution_count": null,
   "metadata": {},
   "outputs": [],
   "source": [
    "df_matches.update(df_matches_new[['awayScoreHT','awayScoreET','homeScoreET','awayScoreFT','homeScoreFT','status','winnerCode','homeScoreHT']])\n",
    "df_matches['id'] = df_matches.index\n",
    "df_matches_new['id'] = df_matches_new.index\n",
    "matchespd.concat([df_matches,df_matches_new]).drop_duplicates(subset='id', keep='first').reset_index(drop=True)"
   ]
  },
  {
   "cell_type": "code",
   "execution_count": null,
   "metadata": {},
   "outputs": [],
   "source": [
    "LOCAL_TZ = 'Asia/Almaty'\n",
    "df_matches['ts'].apply(lambda d: d.astimezone(pytz.timezone(LOCAL_TZ)))"
   ]
  },
  {
   "cell_type": "code",
   "execution_count": null,
   "metadata": {},
   "outputs": [],
   "source": [
    "avoid_countries=['saudi-arabia', 'chile']\n",
    "PROXY = \"127.0.0.1:9051\""
   ]
  },
  {
   "cell_type": "code",
   "execution_count": null,
   "metadata": {},
   "outputs": [],
   "source": [
    "from seleniumwire import webdriver\n",
    "#from selenium.webdriver.chrome.options import Options\n",
    "\n",
    "#webdriver.DesiredCapabilities.FIREFOX['proxy'] = {\n",
    "#    \"socksProxy\": PROXY,\n",
    "#    \"socksVersion\": 5,\n",
    "#    \"proxyType\": \"MANUAL\",\n",
    "#}\n",
    "\n",
    "#options = webdriver.ChromeOptions()\n",
    "#options.add_argument('--proxy-server=socks5://' + PROXY)\n",
    "#chrome = webdriver.Chrome(executable_path=r'../lib/chromedriver.exe', options=options)\n",
    "firefox = webdriver.Firefox(executable_path=r'../lib/geckodriver.exe')\n",
    "firefox.scopes = [\n",
    "    'fb.oddsportal.com/feed/match/*'\n",
    "]\n",
    "firefox.get(\"https://www.oddsportal.com/soccer/argentina/superliga/estudiantes-l-p-racing-club-C2xXOviA/\")\n",
    "#chrome.get(\"https://www.sofascore.com/\")\n",
    "\n",
    "#referer=firefox.current_url\n",
    "#cookies=firefox.get_cookies()\n",
    "#html = firefox.page_source\n"
   ]
  },
  {
   "cell_type": "code",
   "execution_count": null,
   "metadata": {},
   "outputs": [],
   "source": [
    "request = firefox.requests[0]\n",
    "parts=request.url.split('/')\n",
    "id=parts[5].split('-')[2]\n",
    "fn=f'raw/op/matches/{parts[4]}_{id}.json'\n",
    "print(\n",
    "    request.url,\n",
    "    fn\n",
    ")"
   ]
  },
  {
   "cell_type": "code",
   "execution_count": null,
   "metadata": {},
   "outputs": [],
   "source": [
    "with open(fn, 'w+', encoding='utf8') as f:\n",
    "    f.write(str(request.response.body))\n"
   ]
  },
  {
   "cell_type": "code",
   "execution_count": null,
   "metadata": {},
   "outputs": [],
   "source": [
    "with open(file_name, 'w+', encoding='utf8') as f:\n",
    "    f.write(firefox.page_source)"
   ]
  },
  {
   "cell_type": "code",
   "execution_count": null,
   "metadata": {},
   "outputs": [],
   "source": [
    "def load_link(file_name, link):\n",
    "    if path.exists(file_name):\n",
    "        print(file_name, ' exists!')\n",
    "        with open(file_name, 'r', encoding='utf8') as f:\n",
    "            html=f.read()\n",
    "    else:\n",
    "        print(f'loading {link}...', end='')\n",
    "        firefox.get('https://www.oddsportal.com/'+link)\n",
    "        html = firefox.page_source\n",
    "        time.sleep(random.uniform(0, 1))\n",
    "        with open(file_name, 'w+', encoding='utf8') as f:\n",
    "            f.write(html)\n",
    "        print(f'done {len(html)} bytes')\n",
    "    return html\n",
    "\n",
    "def clear_html(file_name):\n",
    "    html=''\n",
    "    if path.exists(file_name):\n",
    "        with open(file_name, 'r', encoding='utf8') as f:\n",
    "            html=f.read()\n",
    "        if '<!-- PAGE BODY -->' in html:\n",
    "            html=html.split('<!-- PAGE BODY -->')[1]\n",
    "            html=html.split('<!--  END PAGE BODY -->')[0]\n",
    "            with open(file_name, 'w', encoding='utf8') as f:\n",
    "                f.write(html)\n",
    "    return html"
   ]
  },
  {
   "cell_type": "code",
   "execution_count": null,
   "metadata": {
    "tags": [
     "outputPrepend"
    ]
   },
   "outputs": [],
   "source": [
    "BASE_PATH='raw/op/days/'\n",
    "pYears=r'<strong><a href=\"/soccer/([^/]+)/([^/]+)/results/\">([^<]+)</a></strong>'\n",
    "pNumbers=r'#/page/(\\d+)/'\n",
    "df_champs=pd.read_csv('data/op/champs.csv', index_col=None)\n",
    "for row in df_champs[df_champs['active']==1].itertuples():\n",
    "    link=row.link\n",
    "    country=link.split('/')[2]\n",
    "    champ=link.split('/')[3]\n",
    "    file_name='{}{}_{}_{}.htm'.format(BASE_PATH,country,champ,1)\n",
    "    html=load_link(file_name,link)\n",
    "    \n",
    "    mm=re.findall(pNumbers, html)\n",
    "    if len(mm)>0:\n",
    "        for x in mm:\n",
    "            n=x[0]\n",
    "            file_name='{}{}_{}_{}.htm'.format(BASE_PATH,country,champ,n)\n",
    "            load_link(file_name,link+f'#/page/{n}/')\n",
    "    mmy=re.findall(pYears, html)\n",
    "    if len(mmy)>0:\n",
    "        for y in mmy:\n",
    "            country,champ,season=y\n",
    "            if '2010' in season:\n",
    "                break\n",
    "            link=f'/soccer/{country}/{champ}/results/'\n",
    "            file_name='{}{}_{}_{}.htm'.format(BASE_PATH,country,champ,1)\n",
    "            html=load_link(file_name,link)\n",
    "            mm=re.findall(pNumbers, html)\n",
    "            if len(mm)>0:\n",
    "                for x in mm:\n",
    "                    n=x[0]\n",
    "                    file_name='{}{}_{}_{}.htm'.format(BASE_PATH,country,champ,n)\n",
    "                    load_link(file_name,link+f'#/page/{n}/')\n",
    "\n",
    "    print(f' done {file_name}')\n",
    "    #break"
   ]
  },
  {
   "cell_type": "code",
   "execution_count": null,
   "metadata": {
    "tags": [
     "outputPrepend"
    ]
   },
   "outputs": [],
   "source": [
    "DAYS_RAW_PATH='raw/op/days/'\n",
    "for f in tqdm(listdir(DAYS_RAW_PATH)):\n",
    "    print(f)\n",
    "    fn=DAYS_RAW_PATH+f\n",
    "    html=clear_html(fn)\n",
    "    #break\n"
   ]
  },
  {
   "cell_type": "code",
   "execution_count": null,
   "metadata": {},
   "outputs": [],
   "source": [
    "html"
   ]
  },
  {
   "cell_type": "code",
   "execution_count": null,
   "metadata": {},
   "outputs": [],
   "source": [
    "d=datetime.strptime('2020-10-31', '%Y-%m-%d')\n",
    "dstr='{:%Y-%m-%d}'.format(d)\n",
    "matches['ts']=matches['match_time'].apply(lambda x: pytz.timezone(local_tz).localize(datetime.strptime(f'{dstr} {x}', '%Y-%m-%d %H:%M')))\n",
    "matches.to_csv(f'raw/matches_{dstr}.csv')"
   ]
  },
  {
   "cell_type": "code",
   "execution_count": null,
   "metadata": {},
   "outputs": [],
   "source": [
    "def load_matches(arr):\n",
    "    l=len(arr)\n",
    "    if l>0:\n",
    "        did,isft=arr[0]\n",
    "        print(f'Loading {did},{isft} from {l}...', end='')\n",
    "        load_match_info(did, isft)\n",
    "        print(' done!')\n",
    "        time.sleep(random.uniform(1, 5))\n",
    "        load_matches(np.delete(arr, 0, 0))"
   ]
  },
  {
   "cell_type": "code",
   "execution_count": null,
   "metadata": {},
   "outputs": [],
   "source": [
    "load_match_info(1399303, 1)"
   ]
  },
  {
   "cell_type": "code",
   "execution_count": null,
   "metadata": {},
   "outputs": [],
   "source": [
    "headers=generate_headers(referer)\n",
    "load_matches(dids)"
   ]
  },
  {
   "cell_type": "code",
   "execution_count": null,
   "metadata": {},
   "outputs": [],
   "source": [
    "datetime.utcfromtimestamp(1583791200)"
   ]
  },
  {
   "source": [
    "# Days"
   ],
   "cell_type": "markdown",
   "metadata": {}
  },
  {
   "cell_type": "code",
   "execution_count": null,
   "metadata": {},
   "outputs": [],
   "source": [
    "def tor_new_identity():\n",
    "    with Controller.from_port(port=9052) as controller:\n",
    "        controller.authenticate()\n",
    "        #controller.authenticate(password=\"1234\")\n",
    "        controller.signal(Signal.NEWNYM)\n",
    "        controller.close()\n",
    "\n",
    "def load_days(test=False,c=0,n=0,max_load=random.randint(50, 100)):\n",
    "    global dates,r,dstr,proxies\n",
    "    l=len(dates)\n",
    "    if l>0:\n",
    "        dstr='{:%Y-%m-%d}'.format(dates[0])\n",
    "        link=f'https://api.sofascore.com/api/v1/sport/football/scheduled-events/{dstr}'\n",
    "        referer=f'https://www.sofascore.com/football/{dstr}'\n",
    "        print(f'Loading {dstr} from {l}...', end='')\n",
    "        headers=generate_headers(referer)\n",
    "        r = requests.get(link, headers=headers, proxies=proxies)\n",
    "        if test:\n",
    "            print(r.status_code)\n",
    "        if r.status_code==200:\n",
    "            c=0\n",
    "            with open(f'raw/{dstr}.json', 'w+', encoding='utf8') as f:\n",
    "                f.write(r.text)\n",
    "            n+=1\n",
    "            if n>max_load:\n",
    "                tor_new_identity()\n",
    "                time.sleep(random.uniform(10, 20))\n",
    "                load_days()\n",
    "        else:\n",
    "            print(f'ERROR {r.status_code}!!! Obtaining new identity. Try # {c}.')\n",
    "            tor_new_identity()\n",
    "            time.sleep(random.uniform(10, 20))\n",
    "            c+=1\n",
    "            if c>10:\n",
    "                return \n",
    "            load_days(c=c)\n",
    "        c=0\n",
    "        print(f' done #{n} from the batch of {max_load}!')\n",
    "        time.sleep(random.uniform(1, 5))\n",
    "        dates=np.delete(dates, 0, 0)\n",
    "        if not test:\n",
    "            load_days(c=c,n=n,max_load=max_load)"
   ]
  },
  {
   "cell_type": "code",
   "execution_count": null,
   "metadata": {
    "tags": []
   },
   "outputs": [],
   "source": [
    "proxies = {'https': f'socks5://{PROXY}'}\n",
    "\n",
    "dates=[]\n",
    "d= datetime(2020, 10, 29)\n",
    "end_date= datetime(2020, 11, 30)\n",
    "\n",
    "while d<=end_date:\n",
    "    dates.append(d)\n",
    "    d+=timedelta(days=1)\n",
    "dates=np.array(dates) \n",
    "np.random.shuffle(dates)\n",
    "\n",
    "load_days(test=False)\n",
    "#len(dates)"
   ]
  },
  {
   "cell_type": "code",
   "execution_count": null,
   "metadata": {
    "tags": []
   },
   "outputs": [],
   "source": [
    "from data_provider import DataProvider\n",
    "ds='2014-01-01'\n",
    "de='2020-10-31'\n",
    "\n",
    "#ds='2020-04-05'\n",
    "#de='2020-04-05'\n",
    "\n",
    "dp=DataProvider()\n",
    "#dp.load_days(ds, de)\n",
    "#dp.load_days() # Process al files\n",
    "dp.load_matches()"
   ]
  },
  {
   "cell_type": "code",
   "execution_count": null,
   "metadata": {},
   "outputs": [],
   "source": [
    "#matches=[x for x in dp.DATA['events'] if 'coverage' in x.keys()]\n",
    "dp.DATA"
   ]
  },
  {
   "cell_type": "code",
   "execution_count": null,
   "metadata": {},
   "outputs": [],
   "source": [
    "[datetime.strptime(f.replace('.json', ''), '%Y-%m-%d') for f in listdir('raw/')] "
   ]
  },
  {
   "cell_type": "code",
   "execution_count": null,
   "metadata": {},
   "outputs": [],
   "source": [
    "file_name='data/matches1.csv'\n",
    "dp.df_matches.to_csv(file_name, index=False)"
   ]
  },
  {
   "cell_type": "code",
   "execution_count": null,
   "metadata": {},
   "outputs": [],
   "source": [
    "dp.COUNTER"
   ]
  },
  {
   "cell_type": "code",
   "execution_count": null,
   "metadata": {},
   "outputs": [],
   "source": [
    "import json\n",
    "file_name='raw/2016-08-28.json'\n",
    "with open(file_name, 'r', encoding='utf8') as f:\n",
    "    data=json.load(f)\n",
    "matches=[x for x in data['events'] if 'coverage' in x.keys()]\n",
    "matches=[x for x in matches if x['coverage']>-1]\n",
    "matches=[x for x in matches if not x['status']['code'] in [60,70]]\n",
    "len(matches)"
   ]
  },
  {
   "cell_type": "code",
   "execution_count": null,
   "metadata": {},
   "outputs": [],
   "source": [
    "[x for x in matches if not x['status']['code']==100 and not x['status']['code']==110 and not x['status']['code']==0]"
   ]
  },
  {
   "cell_type": "code",
   "execution_count": null,
   "metadata": {},
   "outputs": [],
   "source": [
    "matches=[x for x in dp.data['events'] if 'coverage' in x.keys()]\n",
    "matches=[x for x in matches if x['coverage']>-1]\n",
    "matches=[x for x in matches if x['status']['code']==100 or x['status']['code']==110]\n",
    "len(matches)"
   ]
  },
  {
   "cell_type": "code",
   "execution_count": null,
   "metadata": {},
   "outputs": [],
   "source": [
    "a=[  {'tournament' : x['tournament']['slug'],\n",
    "    'country' : x['tournament']['category']['slug'],\n",
    "    'round' : x['roundInfo']['round'] if 'roundInfo' in x.keys() else np.NaN,\n",
    "    'status' : x['status']['code'],\n",
    "    'homeTeam' : x['homeTeam']['name'],\n",
    "    'homeTeamShort' : x['homeTeam']['shortName'],\n",
    "    'awayTeam' : x['awayTeam']['name'],\n",
    "    'awayTeamShort' : x['awayTeam']['shortName'],\n",
    "    'homeScoreFT' : x['homeScore']['normaltime'] if 'normaltime' in x.keys() else np.NaN,\n",
    "    'homeScoreET' : x['homeScore']['current'] if 'current' in x.keys() else np.NaN,\n",
    "    'homeScoreHT' : x['homeScore']['period1'] if 'period1' in x.keys() else np.NaN,\n",
    "    'awayScoreFT' : x['awayScore']['normaltime'] if 'normaltime' in x.keys() else np.NaN,\n",
    "    'awayScoreET' : x['awayScore']['current'] if 'current' in x.keys() else np.NaN,\n",
    "    'awayScoreHT' : x['awayScore']['period1'] if 'period1' in x.keys() else np.NaN,\n",
    "    'id' : x['id'],\n",
    "    'startTimestamp' : x['startTimestamp'],\n",
    "    'coverage' : x['coverage'],\n",
    "    'winnerCode' : x['winnerCode']} for x in matches]"
   ]
  },
  {
   "cell_type": "code",
   "execution_count": null,
   "metadata": {},
   "outputs": [],
   "source": [
    "for i in range(10):\n",
    "    print(i)"
   ]
  },
  {
   "cell_type": "code",
   "execution_count": null,
   "metadata": {},
   "outputs": [],
   "source": [
    "load_json('best-players',did, headers)"
   ]
  },
  {
   "source": [
    "# Fbref"
   ],
   "cell_type": "markdown",
   "metadata": {}
  },
  {
   "cell_type": "code",
   "execution_count": null,
   "metadata": {
    "tags": []
   },
   "outputs": [],
   "source": [
    "%load_ext autoreload\n",
    "%autoreload 2\n",
    "\n",
    "from fbref_parser import FbrefParser\n",
    "\n",
    "fp=FbrefParser()\n",
    "fp.parse_days()\n"
   ]
  },
  {
   "cell_type": "code",
   "execution_count": null,
   "metadata": {},
   "outputs": [],
   "source": [
    "fp.DATA"
   ]
  },
  {
   "cell_type": "code",
   "execution_count": null,
   "metadata": {},
   "outputs": [],
   "source": [
    "from data_provider import DataProvider\n",
    "\n",
    "dp=DataProvider()\n",
    "dp.load_fbref_matches()"
   ]
  },
  {
   "source": [
    "## Match"
   ],
   "cell_type": "markdown",
   "metadata": {}
  },
  {
   "cell_type": "code",
   "execution_count": 78,
   "metadata": {},
   "outputs": [],
   "source": [
    "def getone(pattern, string):\n",
    "    m=re.search(pattern, string)\n",
    "    return '' if not m else m.groups()[0].replace('&nbsp;&nbsp;',' ').replace('&nbsp;',' ').strip()\n",
    "\n",
    "def inbetween(txt,st,end):\n",
    "    print(st,end)\n",
    "    return txt.split(st)[1].split(end)[0]\n",
    "\n",
    "def gk(matches, tid):\n",
    "    pid, pname, nationality,age,minutes,shots_on_target_against,goals_against_gk,saves= m.groups()\n",
    "    return {\n",
    "        'tid':tid2, \n",
    "        'pid':pid,\n",
    "        'pname':pname,\n",
    "        'nationality':nationality,\n",
    "        'age':age,\n",
    "        'minutes':minutes,\n",
    "        'shots_on_target_against':shots_on_target_against,\n",
    "        'goals_against_gk':goals_against_gk,\n",
    "        'saves':saves\n",
    "    }\n",
    "def pl(matches, tid):\n",
    "    players=[]\n",
    "    for x in matches:\n",
    "        players.append({\n",
    "            'tid':tid, \n",
    "            'pid':x[0],\n",
    "            'nameen':x[1],\n",
    "            'name':x[2],\n",
    "            'position':x[3],\n",
    "            'nationality':x[4],\n",
    "            'age':x[5],\n",
    "            'goals':x[6],\n",
    "            'assists':x[7],\n",
    "            'pens_made':x[8],\n",
    "            'pens_att':x[9],\n",
    "            'shots_total':x[10],\n",
    "            'shots_on_target':x[11],\n",
    "            'cards_yellow':x[12],\n",
    "            'cards_red':x[13],\n",
    "            'fouls':x[14],\n",
    "            'fouled':x[15],\n",
    "            'offsides':x[16],\n",
    "            'crosses':x[17],\n",
    "            'tackles_won':x[18],\n",
    "            'interceptions':x[19],\n",
    "            'own_goals':x[20],\n",
    "            'pens_won':x[21],\n",
    "            'pens_conceded':x[22]\n",
    "        })\n",
    "    return players\n",
    "\n",
    "pKeeper='<a href=\"/en/players/([^/]+)/\">([^<]+)</a></th><td class=\"left poptip\" data-stat=\"nationality\" data-tip=\"birth\" ><a[^>]+><span style=\"white-space: nowrap\"><span[^>]+>[^<]+</span>([^<]+)</span></a></td><td class=\"center \" data-stat=\"age\" >([^<]+)</td><td class=\"right \" data-stat=\"minutes\"[^>]+>(\\d*)</td><td class=\"right iz group_start\" data-stat=\"shots_on_target_against\" >(\\d*)</td><td class=\"right iz\" data-stat=\"goals_against_gk\" >(\\d*)</td><td class=\"right iz\" data-stat=\"saves\" >(\\d*)</td>'\n",
    "\n",
    "pPlayer='<a href=\"/en/players/([^/]+)/([^\"]+)\">([^<]+)</a></th><td class=\"right[^\"]*\" data-stat=\"shirtnumber\" >[^<]+</td><td class=\"left poptip\" data-stat=\"nationality\"[^>]+><a[^>]+><span style=\"white-space: nowrap\"><span[^>]+>[^<]+</span>([^<]+)</span></a></td><td class=\"center \" data-stat=\"position\" >([^<]+)</td><td class=\"center[^\"]+\" data-stat=\"age\" >([^<]+)</td><td class=\"right[^\"]*\" data-stat=\"minutes\" >([^<]+)</td><td class=\"right[^\"]*\" data-stat=\"goals\" >([^<]+)</td><td class=\"right[^\"]*\" data-stat=\"assists\" >([^<]+)</td><td class=\"right[^\"]*\" data-stat=\"pens_made\" >([^<]*)</td><td class=\"right[^\"]*\" data-stat=\"pens_att\" >([^<]*)</td><td class=\"right[^\"]*\" data-stat=\"shots_total\" >([^<]*)</td><td class=\"right[^\"]*\" data-stat=\"shots_on_target\" >([^<]*)</td><td class=\"right[^\"]*\" data-stat=\"cards_yellow\" >([^<]*)</td><td class=\"right[^\"]*\" data-stat=\"cards_red\" >([^<]*)</td><td class=\"right[^\"]*\" data-stat=\"fouls\" >([^<]*)</td><td class=\"right[^\"]*\" data-stat=\"fouled\" >([^<]*)</td><td class=\"right[^\"]*\" data-stat=\"offsides\" >([^<]*)</td><td class=\"right[^\"]*\" data-stat=\"crosses\" >([^<]*)</td><td class=\"right[^\"]*\" data-stat=\"tackles_won\" >([^<]*)</td><td class=\"right[^\"]*\" data-stat=\"interceptions\" >([^<]*)</td><td class=\"right[^\"]*\" data-stat=\"own_goals\" >([^<]*)</td><td class=\"right[^\"]*\" data-stat=\"pens_won\" >([^<]*)</td><td class=\"right[^\"]*\" data-stat=\"pens_conceded\" >([^<]*)</td></tr>'"
   ]
  },
  {
   "source": [
    "matches=[]\n",
    "players=[]\n",
    "goalkeepers=[]\n",
    "match={}\n",
    "file_name='html/0000ec37.htm'\n",
    "match['mid']=file_name.split('/')[1].replace('.htm','')\n",
    "with open(file_name, 'r', encoding='utf8') as f:\n",
    "    html=f.read()\n",
    "html=html.replace('&nbsp;&nbsp;&nbsp;','')\n",
    "html=inbetween(html,'<div id=\"content\" role=\"main\" class=\"box\">','<h4>About FBref.com</h4>')\n",
    "scoreboards=inbetween(html,'<div class=\"scorebox\">','<div class=\"scorebox_meta\">')\n",
    "parts=scoreboards.split('<div itemscope=\"\" itemprop=\"performer\"')[1:]\n",
    "match['manager1']=getone(r'<strong>Manager</strong>: ([^<]+)</div>', parts[0])\n",
    "match['manager2']=getone(r'<strong>Manager</strong>: ([^<]+)</div>', parts[1])\n",
    "match['squad_link1']=getone(r'<a href=\"([^\"]+)\" itemprop=\"name\">', parts[0])\n",
    "match['tid1']=match['squad_link1'].split('/')[3]\n",
    "match['squad_link2']=getone(r'<a href=\"([^\"]+)\" itemprop=\"name\">', parts[1])\n",
    "match['tid2']=match['squad_link2'].split('/')[3]\n",
    "match['team1']=getone(r' itemprop=\"name\">([^<]+)</a>', parts[0])\n",
    "match['team2']=getone(r' itemprop=\"name\">([^<]+)</a>', parts[1])\n",
    "\n",
    "match['sc1']=getone(r'<div class=\"score\">([^<]+)</div>', parts[0])\n",
    "match['sc2']=getone(r'<div class=\"score\">([^<]+)</div>', parts[1])\n",
    "\n",
    "match['form1']=getone(r'</div><div>([^<]+)</div>', parts[0])\n",
    "match['form2']=getone(r'</div><div>([^<]+)</div>', parts[1])\n",
    "\n",
    "scorebox=inbetween(html,'<div class=\"scorebox_meta\">','<div class=\"event\" id=\"a\">')\n",
    "match['ds_venue']=getone(r'data-venue-epoch=\"(\\d+)\">', scorebox)\n",
    "match['competition']=getone(r'<a href=\"/en/comps/\\d+/\\d+/([^\"]+)\">', scorebox)\n",
    "match['attendance']=getone(r'<small>Attendance</small></strong>: <small>(\\d+)</small>', scorebox)\n",
    "match['venue']=getone(r'<small>Venue</small></strong>: <small>([^<]+)', scorebox)\n",
    "match['referee']=getone(r'<span style=\"display:inline-block\">([^\\()]+) \\(Referee\\)</span>', scorebox)\n",
    "match['ar1']=getone(r'<span style=\"display:inline-block\">([^\\()]+) \\(AR1\\)</span>', scorebox)\n",
    "match['ar2']=getone(r'<span style=\"display:inline-block\">([^\\()]+) \\(AR2\\)</span>', scorebox)\n",
    "match['ar3']=getone(r'<span style=\"display:inline-block\">([^\\()]+) \\(4th\\)</span>', scorebox)\n",
    "\n",
    "matches.append(match)\n",
    "\n",
    "tstats=inbetween(html,'all_stats_'+match['tid1'],'all_stats_'+match['tid2'])\n",
    "tstats,keeper=tstats.split('<div id=\"all_keeper_stats')\n",
    "\n",
    "mm=re.findall(pPlayer, tstats)\n",
    "if len(mm)>0:\n",
    "    players+=pl(mm,tid1)\n",
    "m=re.search(pKeeper, keeper)\n",
    "if m:\n",
    "    goalkeepers.append(gk(m,tid1))\n",
    "tstats=inbetween(html,'all_stats_'+match['tid2'],'</tbody></table>')\n",
    "tstats,keeper=tstats.split('<div id=\"all_keeper_stats')\n",
    "mm=re.findall(pPlayer, tstats)\n",
    "if len(mm)>0:\n",
    "    players+=pl(mm,tid2)\n",
    "m=re.search(pKeeper, keeper)\n",
    "if m:\n",
    "    goalkeepers.append(gk(m,tid2))"
   ],
   "cell_type": "code",
   "metadata": {},
   "execution_count": 82,
   "outputs": [
    {
     "output_type": "stream",
     "name": "stdout",
     "text": [
      "<div id=\"content\" role=\"main\" class=\"box\"> <h4>About FBref.com</h4>\n<div class=\"scorebox\"> <div class=\"scorebox_meta\">\n<div class=\"scorebox_meta\"> <div class=\"event\" id=\"a\">\nall_stats_4792ab67 all_stats_38154f92\nall_stats_38154f92 </tbody></table>\n"
     ]
    }
   ]
  },
  {
   "cell_type": "code",
   "execution_count": 83,
   "metadata": {},
   "outputs": [
    {
     "output_type": "execute_result",
     "data": {
      "text/plain": [
       "        mid    manager1     manager2  \\\n",
       "0  0000ec37  John Askey  Billy Heath   \n",
       "\n",
       "                                         squad_link1      tid1  \\\n",
       "0  /en/squads/4792ab67/2017-2018/Macclesfield-Tow...  4792ab67   \n",
       "\n",
       "                                         squad_link2      tid2  \\\n",
       "0  /en/squads/38154f92/2017-2018/FC-Halifax-Town-...  38154f92   \n",
       "\n",
       "               team1            team2 sc1  ...   form1   form2    ds_venue  \\\n",
       "0  Macclesfield Town  FC Halifax Town   2  ...  14-6-6  8-8-10  1514300400   \n",
       "\n",
       "                       competition attendance                           venue  \\\n",
       "0  2017-2018-National-League-Stats             Moss Rose Ground, Macclesfield   \n",
       "\n",
       "         referee ar1 ar2 ar3  \n",
       "0  Peter Gibbons              \n",
       "\n",
       "[1 rows x 21 columns]"
      ],
      "text/html": "<div>\n<style scoped>\n    .dataframe tbody tr th:only-of-type {\n        vertical-align: middle;\n    }\n\n    .dataframe tbody tr th {\n        vertical-align: top;\n    }\n\n    .dataframe thead th {\n        text-align: right;\n    }\n</style>\n<table border=\"1\" class=\"dataframe\">\n  <thead>\n    <tr style=\"text-align: right;\">\n      <th></th>\n      <th>mid</th>\n      <th>manager1</th>\n      <th>manager2</th>\n      <th>squad_link1</th>\n      <th>tid1</th>\n      <th>squad_link2</th>\n      <th>tid2</th>\n      <th>team1</th>\n      <th>team2</th>\n      <th>sc1</th>\n      <th>...</th>\n      <th>form1</th>\n      <th>form2</th>\n      <th>ds_venue</th>\n      <th>competition</th>\n      <th>attendance</th>\n      <th>venue</th>\n      <th>referee</th>\n      <th>ar1</th>\n      <th>ar2</th>\n      <th>ar3</th>\n    </tr>\n  </thead>\n  <tbody>\n    <tr>\n      <th>0</th>\n      <td>0000ec37</td>\n      <td>John Askey</td>\n      <td>Billy Heath</td>\n      <td>/en/squads/4792ab67/2017-2018/Macclesfield-Tow...</td>\n      <td>4792ab67</td>\n      <td>/en/squads/38154f92/2017-2018/FC-Halifax-Town-...</td>\n      <td>38154f92</td>\n      <td>Macclesfield Town</td>\n      <td>FC Halifax Town</td>\n      <td>2</td>\n      <td>...</td>\n      <td>14-6-6</td>\n      <td>8-8-10</td>\n      <td>1514300400</td>\n      <td>2017-2018-National-League-Stats</td>\n      <td></td>\n      <td>Moss Rose Ground, Macclesfield</td>\n      <td>Peter Gibbons</td>\n      <td></td>\n      <td></td>\n      <td></td>\n    </tr>\n  </tbody>\n</table>\n<p>1 rows × 21 columns</p>\n</div>"
     },
     "metadata": {},
     "execution_count": 83
    }
   ],
   "source": [
    "pd.DataFrame(matches)"
   ]
  },
  {
   "cell_type": "code",
   "execution_count": 88,
   "metadata": {},
   "outputs": [
    {
     "output_type": "stream",
     "name": "stderr",
     "text": [
      "  0%|          | 1/89914 [00:00<53:56, 27.78it/s]00012c13.htm\n",
      "\n"
     ]
    }
   ],
   "source": [
    "from fbref_parser import FbrefParser\n",
    "\n",
    "fp=FbrefParser()\n",
    "fp.parse_matches()"
   ]
  },
  {
   "source": [
    "# OP"
   ],
   "cell_type": "markdown",
   "metadata": {}
  },
  {
   "cell_type": "code",
   "execution_count": null,
   "metadata": {
    "tags": [
     "outputPrepend"
    ]
   },
   "outputs": [],
   "source": [
    "from op_parser import OpParser\n",
    "\n",
    "op=OpParser()\n",
    "op.parse_days()"
   ]
  },
  {
   "cell_type": "code",
   "execution_count": null,
   "metadata": {},
   "outputs": [],
   "source": [
    "op.DATA"
   ]
  },
  {
   "cell_type": "code",
   "execution_count": null,
   "metadata": {},
   "outputs": [],
   "source": [
    "pd.DataFrame(op.DATA)"
   ]
  },
  {
   "cell_type": "code",
   "execution_count": null,
   "metadata": {},
   "outputs": [],
   "source": [
    "df_fbref=pd.read_csv('data/fbref/matches.csv', index_col=None)"
   ]
  },
  {
   "cell_type": "code",
   "execution_count": null,
   "metadata": {},
   "outputs": [],
   "source": [
    "from data_provider import DataProvider\n",
    "dp=DataProvider()\n",
    "dp.load_op_matches()"
   ]
  },
  {
   "cell_type": "code",
   "execution_count": null,
   "metadata": {},
   "outputs": [],
   "source": [
    "df_fbref.country.unique()"
   ]
  },
  {
   "cell_type": "code",
   "execution_count": null,
   "metadata": {},
   "outputs": [],
   "source": [
    "df_fbref[df_fbref.champ=='Premier League 2 — Division 1']"
   ]
  },
  {
   "cell_type": "code",
   "execution_count": null,
   "metadata": {},
   "outputs": [],
   "source": [
    "countries={'Netherlands' : 'nl','France' : 'fr','Bolivia' : 'bo','England' : 'eng','Ukraine' : 'ua','Russia' : 'ru','USA' : 'us','Spain' : 'es','Belgium' : 'be','Germany' : 'de','Sweden' : 'se','Portugal' : 'pt','Argentina' : 'ar','Finland' : 'fi','India' : 'in','Denmark' : 'dk','Uruguay' : 'uy','Venezuela' : 've','Scotland' : 'sco','Italy' : 'it','Mexico' : 'mx','Peru' : 'pe','Japan' : 'jp','Brazil' : 'br','Saudi Arabia' : 'sa','Serbia' : 'rs','Poland' : 'pl','South Korea' : 'kr','Czech Republic' : 'cz','Ecuador' : 'ec','Croatia' : 'hr','Turkey' : 'tr','Paraguay' : 'py','Romania' : 'ro','Chile' : 'cl','Colombia' : 'co','Australia' : 'au','Austria' : 'at','China' : 'cn','Greece' : 'gr','Norway' : 'no','Bulgaria' : 'bg','Switzerland' : 'ch','Ireland' : 'ir','Hungary' : 'hu','Zambia' : 'za','Canada' : 'ca'}\n",
    "\n",
    "avoid_countries=['Albania', 'Algeria', 'Andorra', 'Angola','Armenia', 'Aruba', 'Azerbaijan', 'Bahrain', 'Bangladesh', 'Belarus','Benin', 'Bosnia and Herzegovina','Botswana', 'Burkina Faso', 'Burundi','Cambodia', 'Cameroon','Costa Rica', 'Curaçao', 'Cyprus','DR Congo', 'Dominican Republic', 'Egypt','El Salvador', 'Estonia', 'Ethiopia','Faroe Islands', 'Fiji', 'Gabon', 'Gambia','Georgia', 'Ghana', 'Gibraltar', 'Guatemala','Haiti', 'Honduras', 'Hong Kong', 'Iceland','Indonesia', 'Iraq', 'Israel','Ivory Coast', 'Jamaica', 'Jordan', 'Kazakhstan', 'Kenya','Kosovo', 'Kuwait', 'Kyrgyzstan', 'Laos', 'Latvia', 'Lebanon','Lesotho', 'Liberia', 'Liechtenstein', 'Lithuania', 'Luxembourg','Macao', 'Malawi', 'Malaysia', 'Maldives', 'Mali', 'Malta','Mauritania', 'Moldova', 'Mongolia', 'Montenegro','Morocco', 'Mozambique', 'Myanmar', 'Namibia','New Zealand', 'Nicaragua', 'Nigeria','North Macedonia', 'Northern Ireland', 'Oman','Pakistan', 'Palestine', 'Panama','Philippines', 'Qatar','Republic of the Congo', 'Rwanda','San Marino', 'Senegal','Serbia and Montenegro', 'Singapore', 'Slovakia', 'Slovenia','South Africa', 'Sri Lanka', 'Sudan', 'Syria', 'Taiwan','Tajikistan', 'Tanzania', 'Thailand', 'Togo','Trinidad and Tobago', 'Tunisia', 'Turkmenistan','Uganda', 'United Arab Emirates','Uzbekistan', 'Vietnam', 'Wales', 'Yemen','Zimbabwe']"
   ]
  },
  {
   "cell_type": "code",
   "execution_count": null,
   "metadata": {},
   "outputs": [],
   "source": [
    "champs=[]\n",
    "pCountry=r'</span>([^<]+)</a></th>'\n",
    "pChamp=r'<a foo=\"f\" href=\"([^\"]+)\">([^<]+)</a>'\n",
    "with open('html/op.html', 'r', encoding='utf8') as f:\n",
    "    html=f.read()\n",
    "parts=html.split('<th class=\"first2 tl\" colspan=\"2\">')[1:]\n",
    "for part in parts:\n",
    "    m=re.search(pCountry, part)\n",
    "    if m:\n",
    "        country=m[1]\n",
    "    mm=re.findall(pChamp, part)\n",
    "    if len(mm)>0:\n",
    "        for x in mm:\n",
    "            champs.append({\n",
    "                'country':country,\n",
    "                'champ':x[1],\n",
    "                'link':x[0]\n",
    "            })\n",
    "df_champs=pd.DataFrame(champs)"
   ]
  },
  {
   "cell_type": "code",
   "execution_count": null,
   "metadata": {},
   "outputs": [],
   "source": [
    "df_champs=df_champs.loc[~df_champs.country.isin(avoid_countries)]"
   ]
  },
  {
   "cell_type": "code",
   "execution_count": null,
   "metadata": {},
   "outputs": [],
   "source": [
    "df_champs.to_csv('data/op/champs1.csv', index=False)"
   ]
  },
  {
   "cell_type": "code",
   "execution_count": null,
   "metadata": {},
   "outputs": [],
   "source": [
    "df_champs=pd.read_csv('data/op/champs.csv', index_col=None)"
   ]
  },
  {
   "cell_type": "code",
   "execution_count": null,
   "metadata": {},
   "outputs": [],
   "source": [
    "df_champs[df_champs['active']==1].to_csv('data/op/champs1.csv', index=False)"
   ]
  },
  {
   "cell_type": "code",
   "execution_count": null,
   "metadata": {},
   "outputs": [],
   "source": [
    "df_champs['active']=df_champs['country'].apply(lambda x: 1 if '#' in x else 0)"
   ]
  },
  {
   "cell_type": "code",
   "execution_count": null,
   "metadata": {},
   "outputs": [],
   "source": [
    "df_champs['country']=df_champs['country'].apply(lambda x: x.replace('#',''))"
   ]
  },
  {
   "cell_type": "code",
   "execution_count": null,
   "metadata": {},
   "outputs": [],
   "source": [
    "with open('html/bookies.json', 'r', encoding='utf8') as f:\n",
    "    txt=f.read()\n",
    "jb=json.loads(txt)"
   ]
  },
  {
   "cell_type": "code",
   "execution_count": 18,
   "metadata": {},
   "outputs": [],
   "source": [
    "bookies=[{\n",
    "    'bid':int(jb[b]['idProvider']),\n",
    "    'name':jb[b]['WebName'],\n",
    "    'url':jb[b]['WebUrl'],\n",
    "    'link':jb[b]['Url'],\n",
    "    'isbookie':jb[b]['IsBookmaker']=='y'\n",
    "    } for b in jb]"
   ]
  },
  {
   "cell_type": "code",
   "execution_count": 19,
   "metadata": {},
   "outputs": [],
   "source": [
    "df_bookies=pd.DataFrame(bookies)\n",
    "df_bookies.to_csv('data/op/bookies.csv', index=False)"
   ]
  },
  {
   "source": [
    "## Match"
   ],
   "cell_type": "markdown",
   "metadata": {}
  },
  {
   "cell_type": "code",
   "execution_count": 119,
   "metadata": {},
   "outputs": [],
   "source": [
    "file_name='html/EFEkIb54.json'\n",
    "with open(file_name, 'r', encoding='utf8') as f:\n",
    "    html=f.read()\n",
    "js=json.loads(html)\n",
    "mid=file_name.split('/')[1].replace('.json','')\n",
    "# 0 - w1\n",
    "# 1 - x\n",
    "# 2 - w2\n"
   ]
  },
  {
   "cell_type": "code",
   "execution_count": 120,
   "metadata": {},
   "outputs": [],
   "source": [
    "odds=js['d']['oddsdata']['back']['E-1-2-0-0-0']['odds']\n",
    "movement=js['d']['oddsdata']['back']['E-1-2-0-0-0']['movement']\n",
    "opening_odds=js['d']['oddsdata']['back']['E-1-2-0-0-0']['opening_odds']\n",
    "opening_change_time=js['d']['oddsdata']['back']['E-1-2-0-0-0']['opening_change_time']\n",
    "opening_volume=js['d']['oddsdata']['back']['E-1-2-0-0-0']['opening_volume']\n",
    "volume=js['d']['oddsdata']['back']['E-1-2-0-0-0']['volume']\n",
    "change_time=js['d']['oddsdata']['back']['E-1-2-0-0-0']['change_time']"
   ]
  },
  {
   "cell_type": "code",
   "execution_count": 121,
   "metadata": {},
   "outputs": [],
   "source": [
    "bookies={}\n",
    "for x in odds:\n",
    "    bookies[x]={\n",
    "        'mid':mid,\n",
    "        'bid':x,\n",
    "        'w1':odds[x]['0'],\n",
    "        'wx':odds[x]['1'],\n",
    "        'w2':odds[x]['2']\n",
    "    }\n",
    "\n",
    "for x in movement:\n",
    "    bookies[x]['move_1']=str(movement[x]['0'])[0].upper()\n",
    "    bookies[x]['move_x']=str(movement[x]['1'])[0].upper()\n",
    "    bookies[x]['move_2']=str(movement[x]['2'])[0].upper()\n",
    "\n",
    "for x in opening_odds:\n",
    "    bookies[x]['open_1']=opening_odds[x]['0']\n",
    "    bookies[x]['open_x']=opening_odds[x]['1']\n",
    "    bookies[x]['open_2']=opening_odds[x]['2']\n",
    "\n",
    "for x in opening_change_time:\n",
    "    bookies[x]['time_open']=max([opening_change_time[x]['0'],opening_change_time[x]['1'],opening_change_time[x]['2']])\n",
    "\n",
    "for x in change_time:\n",
    "    bookies[x]['time_close']=max([change_time[x]['0'],change_time[x]['1'],change_time[x]['2']])\n"
   ]
  },
  {
   "cell_type": "code",
   "execution_count": 122,
   "metadata": {},
   "outputs": [
    {
     "output_type": "execute_result",
     "data": {
      "text/plain": [
       "         mid  bid    w1    wx    w2 move_1 move_x move_2  open_1  open_x  \\\n",
       "0   EFEkIb54  417  2.36  3.14  3.34      D      D      U    3.18    3.20   \n",
       "1   EFEkIb54  453  2.36  3.14  3.34      D      D      U    3.18    3.20   \n",
       "2   EFEkIb54    9  2.44  3.20  3.37      D      D      U    3.27    3.30   \n",
       "3   EFEkIb54   32  2.49  3.17  3.30      D      D      U    3.27    3.30   \n",
       "4   EFEkIb54  141  2.52  3.05  3.00      D      U      U    3.00    3.00   \n",
       "5   EFEkIb54  160  2.52  3.05  2.95      D      D      U    3.10    3.15   \n",
       "6   EFEkIb54   73  2.46  3.20  3.32      D      D      U    3.29    3.34   \n",
       "7   EFEkIb54  455  2.46  3.20  3.32      D      D      U    3.29    3.34   \n",
       "8   EFEkIb54  454  2.49  3.07  3.10      D      D      U    3.17    3.20   \n",
       "9   EFEkIb54  429  2.55  3.10  3.00      D      U      U    3.00    3.00   \n",
       "10  EFEkIb54  149  2.40  3.05  3.20      D      D      U    3.15    3.15   \n",
       "11  EFEkIb54  443  2.55  3.05  3.00      D      D      U    3.15    3.15   \n",
       "12  EFEkIb54    1  2.55  3.05  3.00      D      D      U    3.15    3.15   \n",
       "13  EFEkIb54   21  2.40  3.20  3.25      D      U      U    3.10    3.10   \n",
       "14  EFEkIb54  446  2.44  3.11  3.23      D      D      U    3.20    3.22   \n",
       "15  EFEkIb54   76  2.38  3.10  3.13      D      D      U    3.13    3.20   \n",
       "16  EFEkIb54  468  2.47  3.24  3.48      D      U      U    3.25    3.20   \n",
       "17  EFEkIb54   46  2.58  3.13  3.05      D      D      U    3.05    3.15   \n",
       "18  EFEkIb54  163  2.58  3.13  3.05      D      D      U    3.05    3.15   \n",
       "19  EFEkIb54   44  2.52  3.20  3.35      U      U      U    2.10    2.20   \n",
       "20  EFEkIb54  139  2.55  3.00  2.92      D      U      U    2.60    2.90   \n",
       "21  EFEkIb54  419  2.40  3.20  3.40      D      N      U    2.75    3.20   \n",
       "22  EFEkIb54   16  2.40  3.20  3.40      D      N      U    2.75    3.20   \n",
       "23  EFEkIb54  383  2.40  3.05  3.15      D      D      U    2.70    3.10   \n",
       "24  EFEkIb54  464  2.40  3.05  3.15      D      D      U    2.70    3.10   \n",
       "25  EFEkIb54  414  2.45  3.15  3.25      D      U      U    2.70    3.10   \n",
       "26  EFEkIb54   14  2.35  3.00  3.05      D      D      U    2.65    3.05   \n",
       "27  EFEkIb54   43  2.40  3.15  3.30      D      D      U    2.95    3.20   \n",
       "28  EFEkIb54  472  2.40  3.10  3.20      D      D      U    2.90    3.20   \n",
       "29  EFEkIb54    3  2.36  2.99  3.10      D      D      U    2.81    3.11   \n",
       "30  EFEkIb54   30  2.40  3.00  3.20      D      D      U    2.80    3.10   \n",
       "31  EFEkIb54   57  2.40  3.10  3.20      D      U      U    2.50    2.80   \n",
       "32  EFEkIb54  381  2.40  3.20  3.38      D      D      U    2.96    3.25   \n",
       "33  EFEkIb54  531  2.40  3.20  3.38      D      D      U    2.96    3.25   \n",
       "34  EFEkIb54  157  2.40  3.20  3.40      D      U      U    2.80    3.10   \n",
       "35  EFEkIb54   27  2.40  3.20  3.40      D      U      U    2.80    3.10   \n",
       "36  EFEkIb54    5  2.55  3.20  3.15      D      U      U    2.80    3.10   \n",
       "37  EFEkIb54   26  2.38  3.10  3.00      D      N      U    2.88    3.10   \n",
       "38  EFEkIb54   33  2.38  3.10  3.25      D      N      U    2.80    3.10   \n",
       "39  EFEkIb54   24  2.35  3.10  3.25      D      N      U    2.80    3.10   \n",
       "40  EFEkIb54   56  2.38  3.15  3.25      D      D      U    2.83    3.25   \n",
       "41  EFEkIb54  476  2.38  3.14  3.30      D      D      U    2.83    3.25   \n",
       "42  EFEkIb54  372  2.35  3.10  3.20      D      N      U    2.88    3.10   \n",
       "43  EFEkIb54   15  2.35  3.10  3.20      D      N      U    2.88    3.10   \n",
       "44  EFEkIb54   31  2.35  2.95  3.10      D      D      U    2.70    3.05   \n",
       "45  EFEkIb54   45  2.46  3.22  3.25      D      U      U    2.80    2.90   \n",
       "46  EFEkIb54   49  2.46  3.22  3.25      D      U      U    2.80    2.90   \n",
       "47  EFEkIb54  411  2.46  3.22  3.25      D      U      U    2.80    2.90   \n",
       "48  EFEkIb54  392  2.40  3.10  3.20      D      D      U    2.60    3.20   \n",
       "49  EFEkIb54  128  2.22  2.85  2.95      D      D      U    2.55    3.10   \n",
       "50  EFEkIb54  129  2.30  2.95  3.10      D      D      U    2.50    3.00   \n",
       "51  EFEkIb54    2  2.55  3.10  3.00      D      D      U    2.60    3.20   \n",
       "52  EFEkIb54   75  2.40  3.10  2.94      D      U      U    2.59    3.00   \n",
       "53  EFEkIb54  147  2.42  3.00  3.00      D      N      U    2.53    3.00   \n",
       "54  EFEkIb54   18  2.41  3.19  3.37      D      D      U    2.67    3.35   \n",
       "55  EFEkIb54  390  2.44  3.22  3.50      D      D      U    2.62    3.26   \n",
       "56  EFEkIb54  164  2.58  3.05  3.05      U      D      U    2.52    3.20   \n",
       "\n",
       "    open_2   time_open  time_close  \n",
       "0     2.36  1552887983  1553629298  \n",
       "1     2.36  1552888069  1553629352  \n",
       "2     2.43  1552983711  1553629497  \n",
       "3     2.43  1552983720  1553629038  \n",
       "4     2.25  1552983754  1553596748  \n",
       "5     2.33  1552984330  1553585881  \n",
       "6     2.40  1552984587  1553629318  \n",
       "7     2.40  1552984594  1553629322  \n",
       "8     2.37  1552984740  1553629065  \n",
       "9     2.20  1552985819  1553622736  \n",
       "10    2.35  1552986787  1553629429  \n",
       "11    2.35  1552986870  1553626610  \n",
       "12    2.35  1552986870  1553626610  \n",
       "13    2.30  1552987677  1553629310  \n",
       "14    2.39  1552988529  1553629171  \n",
       "15    2.38  1552989803  1553629497  \n",
       "16    2.35  1552990344  1553629182  \n",
       "17    2.30  1553012411  1553628437  \n",
       "18    2.30  1553012526  1553628529  \n",
       "19    1.75  1553014703  1553629155  \n",
       "20    2.30  1553071250  1553624495  \n",
       "21    2.60  1553082138  1553629164  \n",
       "22    2.60  1553082185  1553629240  \n",
       "23    2.50  1553092129  1553629081  \n",
       "24    2.50  1553092223  1553629249  \n",
       "25    2.50  1553092226  1553629092  \n",
       "26    2.45  1553092231  1553628926  \n",
       "27    2.60  1553095157  1553629051  \n",
       "28    2.55  1553100539  1553629352  \n",
       "29    2.48  1553104632  1553628932  \n",
       "30    2.63  1553114899  1553628977  \n",
       "31    2.60  1553115166  1553629187  \n",
       "32    2.63  1553152122  1553629188  \n",
       "33    2.63  1553152215  1553629200  \n",
       "34    2.70  1553164682  1553629458  \n",
       "35    2.70  1553164736  1553629334  \n",
       "36    2.70  1553164969  1553628749  \n",
       "37    2.50  1553170241  1553628771  \n",
       "38    2.65  1553197618  1553629426  \n",
       "39    2.65  1553197633  1553629444  \n",
       "40    2.57  1553270849  1553628819  \n",
       "41    2.57  1553271084  1553629502  \n",
       "42    2.55  1553274548  1553629443  \n",
       "43    2.55  1553274694  1553629262  \n",
       "44    2.50  1553276758  1553629022  \n",
       "45    2.60  1553381633  1553629401  \n",
       "46    2.60  1553381735  1553629413  \n",
       "47    2.60  1553381850  1553629428  \n",
       "48    2.80  1553414694  1553629342  \n",
       "49    2.75  1553414761  1553629158  \n",
       "50    2.70  1553414890  1553629349  \n",
       "51    2.80  1553414933  1553549223  \n",
       "52    2.76  1553419600  1553629445  \n",
       "53    2.84  1553419703  1553629333  \n",
       "54    2.80  1553427181  1553629466  \n",
       "55    3.00  1553467860  1553629485  \n",
       "56    3.00  1553555049  1553628534  "
      ],
      "text/html": "<div>\n<style scoped>\n    .dataframe tbody tr th:only-of-type {\n        vertical-align: middle;\n    }\n\n    .dataframe tbody tr th {\n        vertical-align: top;\n    }\n\n    .dataframe thead th {\n        text-align: right;\n    }\n</style>\n<table border=\"1\" class=\"dataframe\">\n  <thead>\n    <tr style=\"text-align: right;\">\n      <th></th>\n      <th>mid</th>\n      <th>bid</th>\n      <th>w1</th>\n      <th>wx</th>\n      <th>w2</th>\n      <th>move_1</th>\n      <th>move_x</th>\n      <th>move_2</th>\n      <th>open_1</th>\n      <th>open_x</th>\n      <th>open_2</th>\n      <th>time_open</th>\n      <th>time_close</th>\n    </tr>\n  </thead>\n  <tbody>\n    <tr>\n      <th>0</th>\n      <td>EFEkIb54</td>\n      <td>417</td>\n      <td>2.36</td>\n      <td>3.14</td>\n      <td>3.34</td>\n      <td>D</td>\n      <td>D</td>\n      <td>U</td>\n      <td>3.18</td>\n      <td>3.20</td>\n      <td>2.36</td>\n      <td>1552887983</td>\n      <td>1553629298</td>\n    </tr>\n    <tr>\n      <th>1</th>\n      <td>EFEkIb54</td>\n      <td>453</td>\n      <td>2.36</td>\n      <td>3.14</td>\n      <td>3.34</td>\n      <td>D</td>\n      <td>D</td>\n      <td>U</td>\n      <td>3.18</td>\n      <td>3.20</td>\n      <td>2.36</td>\n      <td>1552888069</td>\n      <td>1553629352</td>\n    </tr>\n    <tr>\n      <th>2</th>\n      <td>EFEkIb54</td>\n      <td>9</td>\n      <td>2.44</td>\n      <td>3.20</td>\n      <td>3.37</td>\n      <td>D</td>\n      <td>D</td>\n      <td>U</td>\n      <td>3.27</td>\n      <td>3.30</td>\n      <td>2.43</td>\n      <td>1552983711</td>\n      <td>1553629497</td>\n    </tr>\n    <tr>\n      <th>3</th>\n      <td>EFEkIb54</td>\n      <td>32</td>\n      <td>2.49</td>\n      <td>3.17</td>\n      <td>3.30</td>\n      <td>D</td>\n      <td>D</td>\n      <td>U</td>\n      <td>3.27</td>\n      <td>3.30</td>\n      <td>2.43</td>\n      <td>1552983720</td>\n      <td>1553629038</td>\n    </tr>\n    <tr>\n      <th>4</th>\n      <td>EFEkIb54</td>\n      <td>141</td>\n      <td>2.52</td>\n      <td>3.05</td>\n      <td>3.00</td>\n      <td>D</td>\n      <td>U</td>\n      <td>U</td>\n      <td>3.00</td>\n      <td>3.00</td>\n      <td>2.25</td>\n      <td>1552983754</td>\n      <td>1553596748</td>\n    </tr>\n    <tr>\n      <th>5</th>\n      <td>EFEkIb54</td>\n      <td>160</td>\n      <td>2.52</td>\n      <td>3.05</td>\n      <td>2.95</td>\n      <td>D</td>\n      <td>D</td>\n      <td>U</td>\n      <td>3.10</td>\n      <td>3.15</td>\n      <td>2.33</td>\n      <td>1552984330</td>\n      <td>1553585881</td>\n    </tr>\n    <tr>\n      <th>6</th>\n      <td>EFEkIb54</td>\n      <td>73</td>\n      <td>2.46</td>\n      <td>3.20</td>\n      <td>3.32</td>\n      <td>D</td>\n      <td>D</td>\n      <td>U</td>\n      <td>3.29</td>\n      <td>3.34</td>\n      <td>2.40</td>\n      <td>1552984587</td>\n      <td>1553629318</td>\n    </tr>\n    <tr>\n      <th>7</th>\n      <td>EFEkIb54</td>\n      <td>455</td>\n      <td>2.46</td>\n      <td>3.20</td>\n      <td>3.32</td>\n      <td>D</td>\n      <td>D</td>\n      <td>U</td>\n      <td>3.29</td>\n      <td>3.34</td>\n      <td>2.40</td>\n      <td>1552984594</td>\n      <td>1553629322</td>\n    </tr>\n    <tr>\n      <th>8</th>\n      <td>EFEkIb54</td>\n      <td>454</td>\n      <td>2.49</td>\n      <td>3.07</td>\n      <td>3.10</td>\n      <td>D</td>\n      <td>D</td>\n      <td>U</td>\n      <td>3.17</td>\n      <td>3.20</td>\n      <td>2.37</td>\n      <td>1552984740</td>\n      <td>1553629065</td>\n    </tr>\n    <tr>\n      <th>9</th>\n      <td>EFEkIb54</td>\n      <td>429</td>\n      <td>2.55</td>\n      <td>3.10</td>\n      <td>3.00</td>\n      <td>D</td>\n      <td>U</td>\n      <td>U</td>\n      <td>3.00</td>\n      <td>3.00</td>\n      <td>2.20</td>\n      <td>1552985819</td>\n      <td>1553622736</td>\n    </tr>\n    <tr>\n      <th>10</th>\n      <td>EFEkIb54</td>\n      <td>149</td>\n      <td>2.40</td>\n      <td>3.05</td>\n      <td>3.20</td>\n      <td>D</td>\n      <td>D</td>\n      <td>U</td>\n      <td>3.15</td>\n      <td>3.15</td>\n      <td>2.35</td>\n      <td>1552986787</td>\n      <td>1553629429</td>\n    </tr>\n    <tr>\n      <th>11</th>\n      <td>EFEkIb54</td>\n      <td>443</td>\n      <td>2.55</td>\n      <td>3.05</td>\n      <td>3.00</td>\n      <td>D</td>\n      <td>D</td>\n      <td>U</td>\n      <td>3.15</td>\n      <td>3.15</td>\n      <td>2.35</td>\n      <td>1552986870</td>\n      <td>1553626610</td>\n    </tr>\n    <tr>\n      <th>12</th>\n      <td>EFEkIb54</td>\n      <td>1</td>\n      <td>2.55</td>\n      <td>3.05</td>\n      <td>3.00</td>\n      <td>D</td>\n      <td>D</td>\n      <td>U</td>\n      <td>3.15</td>\n      <td>3.15</td>\n      <td>2.35</td>\n      <td>1552986870</td>\n      <td>1553626610</td>\n    </tr>\n    <tr>\n      <th>13</th>\n      <td>EFEkIb54</td>\n      <td>21</td>\n      <td>2.40</td>\n      <td>3.20</td>\n      <td>3.25</td>\n      <td>D</td>\n      <td>U</td>\n      <td>U</td>\n      <td>3.10</td>\n      <td>3.10</td>\n      <td>2.30</td>\n      <td>1552987677</td>\n      <td>1553629310</td>\n    </tr>\n    <tr>\n      <th>14</th>\n      <td>EFEkIb54</td>\n      <td>446</td>\n      <td>2.44</td>\n      <td>3.11</td>\n      <td>3.23</td>\n      <td>D</td>\n      <td>D</td>\n      <td>U</td>\n      <td>3.20</td>\n      <td>3.22</td>\n      <td>2.39</td>\n      <td>1552988529</td>\n      <td>1553629171</td>\n    </tr>\n    <tr>\n      <th>15</th>\n      <td>EFEkIb54</td>\n      <td>76</td>\n      <td>2.38</td>\n      <td>3.10</td>\n      <td>3.13</td>\n      <td>D</td>\n      <td>D</td>\n      <td>U</td>\n      <td>3.13</td>\n      <td>3.20</td>\n      <td>2.38</td>\n      <td>1552989803</td>\n      <td>1553629497</td>\n    </tr>\n    <tr>\n      <th>16</th>\n      <td>EFEkIb54</td>\n      <td>468</td>\n      <td>2.47</td>\n      <td>3.24</td>\n      <td>3.48</td>\n      <td>D</td>\n      <td>U</td>\n      <td>U</td>\n      <td>3.25</td>\n      <td>3.20</td>\n      <td>2.35</td>\n      <td>1552990344</td>\n      <td>1553629182</td>\n    </tr>\n    <tr>\n      <th>17</th>\n      <td>EFEkIb54</td>\n      <td>46</td>\n      <td>2.58</td>\n      <td>3.13</td>\n      <td>3.05</td>\n      <td>D</td>\n      <td>D</td>\n      <td>U</td>\n      <td>3.05</td>\n      <td>3.15</td>\n      <td>2.30</td>\n      <td>1553012411</td>\n      <td>1553628437</td>\n    </tr>\n    <tr>\n      <th>18</th>\n      <td>EFEkIb54</td>\n      <td>163</td>\n      <td>2.58</td>\n      <td>3.13</td>\n      <td>3.05</td>\n      <td>D</td>\n      <td>D</td>\n      <td>U</td>\n      <td>3.05</td>\n      <td>3.15</td>\n      <td>2.30</td>\n      <td>1553012526</td>\n      <td>1553628529</td>\n    </tr>\n    <tr>\n      <th>19</th>\n      <td>EFEkIb54</td>\n      <td>44</td>\n      <td>2.52</td>\n      <td>3.20</td>\n      <td>3.35</td>\n      <td>U</td>\n      <td>U</td>\n      <td>U</td>\n      <td>2.10</td>\n      <td>2.20</td>\n      <td>1.75</td>\n      <td>1553014703</td>\n      <td>1553629155</td>\n    </tr>\n    <tr>\n      <th>20</th>\n      <td>EFEkIb54</td>\n      <td>139</td>\n      <td>2.55</td>\n      <td>3.00</td>\n      <td>2.92</td>\n      <td>D</td>\n      <td>U</td>\n      <td>U</td>\n      <td>2.60</td>\n      <td>2.90</td>\n      <td>2.30</td>\n      <td>1553071250</td>\n      <td>1553624495</td>\n    </tr>\n    <tr>\n      <th>21</th>\n      <td>EFEkIb54</td>\n      <td>419</td>\n      <td>2.40</td>\n      <td>3.20</td>\n      <td>3.40</td>\n      <td>D</td>\n      <td>N</td>\n      <td>U</td>\n      <td>2.75</td>\n      <td>3.20</td>\n      <td>2.60</td>\n      <td>1553082138</td>\n      <td>1553629164</td>\n    </tr>\n    <tr>\n      <th>22</th>\n      <td>EFEkIb54</td>\n      <td>16</td>\n      <td>2.40</td>\n      <td>3.20</td>\n      <td>3.40</td>\n      <td>D</td>\n      <td>N</td>\n      <td>U</td>\n      <td>2.75</td>\n      <td>3.20</td>\n      <td>2.60</td>\n      <td>1553082185</td>\n      <td>1553629240</td>\n    </tr>\n    <tr>\n      <th>23</th>\n      <td>EFEkIb54</td>\n      <td>383</td>\n      <td>2.40</td>\n      <td>3.05</td>\n      <td>3.15</td>\n      <td>D</td>\n      <td>D</td>\n      <td>U</td>\n      <td>2.70</td>\n      <td>3.10</td>\n      <td>2.50</td>\n      <td>1553092129</td>\n      <td>1553629081</td>\n    </tr>\n    <tr>\n      <th>24</th>\n      <td>EFEkIb54</td>\n      <td>464</td>\n      <td>2.40</td>\n      <td>3.05</td>\n      <td>3.15</td>\n      <td>D</td>\n      <td>D</td>\n      <td>U</td>\n      <td>2.70</td>\n      <td>3.10</td>\n      <td>2.50</td>\n      <td>1553092223</td>\n      <td>1553629249</td>\n    </tr>\n    <tr>\n      <th>25</th>\n      <td>EFEkIb54</td>\n      <td>414</td>\n      <td>2.45</td>\n      <td>3.15</td>\n      <td>3.25</td>\n      <td>D</td>\n      <td>U</td>\n      <td>U</td>\n      <td>2.70</td>\n      <td>3.10</td>\n      <td>2.50</td>\n      <td>1553092226</td>\n      <td>1553629092</td>\n    </tr>\n    <tr>\n      <th>26</th>\n      <td>EFEkIb54</td>\n      <td>14</td>\n      <td>2.35</td>\n      <td>3.00</td>\n      <td>3.05</td>\n      <td>D</td>\n      <td>D</td>\n      <td>U</td>\n      <td>2.65</td>\n      <td>3.05</td>\n      <td>2.45</td>\n      <td>1553092231</td>\n      <td>1553628926</td>\n    </tr>\n    <tr>\n      <th>27</th>\n      <td>EFEkIb54</td>\n      <td>43</td>\n      <td>2.40</td>\n      <td>3.15</td>\n      <td>3.30</td>\n      <td>D</td>\n      <td>D</td>\n      <td>U</td>\n      <td>2.95</td>\n      <td>3.20</td>\n      <td>2.60</td>\n      <td>1553095157</td>\n      <td>1553629051</td>\n    </tr>\n    <tr>\n      <th>28</th>\n      <td>EFEkIb54</td>\n      <td>472</td>\n      <td>2.40</td>\n      <td>3.10</td>\n      <td>3.20</td>\n      <td>D</td>\n      <td>D</td>\n      <td>U</td>\n      <td>2.90</td>\n      <td>3.20</td>\n      <td>2.55</td>\n      <td>1553100539</td>\n      <td>1553629352</td>\n    </tr>\n    <tr>\n      <th>29</th>\n      <td>EFEkIb54</td>\n      <td>3</td>\n      <td>2.36</td>\n      <td>2.99</td>\n      <td>3.10</td>\n      <td>D</td>\n      <td>D</td>\n      <td>U</td>\n      <td>2.81</td>\n      <td>3.11</td>\n      <td>2.48</td>\n      <td>1553104632</td>\n      <td>1553628932</td>\n    </tr>\n    <tr>\n      <th>30</th>\n      <td>EFEkIb54</td>\n      <td>30</td>\n      <td>2.40</td>\n      <td>3.00</td>\n      <td>3.20</td>\n      <td>D</td>\n      <td>D</td>\n      <td>U</td>\n      <td>2.80</td>\n      <td>3.10</td>\n      <td>2.63</td>\n      <td>1553114899</td>\n      <td>1553628977</td>\n    </tr>\n    <tr>\n      <th>31</th>\n      <td>EFEkIb54</td>\n      <td>57</td>\n      <td>2.40</td>\n      <td>3.10</td>\n      <td>3.20</td>\n      <td>D</td>\n      <td>U</td>\n      <td>U</td>\n      <td>2.50</td>\n      <td>2.80</td>\n      <td>2.60</td>\n      <td>1553115166</td>\n      <td>1553629187</td>\n    </tr>\n    <tr>\n      <th>32</th>\n      <td>EFEkIb54</td>\n      <td>381</td>\n      <td>2.40</td>\n      <td>3.20</td>\n      <td>3.38</td>\n      <td>D</td>\n      <td>D</td>\n      <td>U</td>\n      <td>2.96</td>\n      <td>3.25</td>\n      <td>2.63</td>\n      <td>1553152122</td>\n      <td>1553629188</td>\n    </tr>\n    <tr>\n      <th>33</th>\n      <td>EFEkIb54</td>\n      <td>531</td>\n      <td>2.40</td>\n      <td>3.20</td>\n      <td>3.38</td>\n      <td>D</td>\n      <td>D</td>\n      <td>U</td>\n      <td>2.96</td>\n      <td>3.25</td>\n      <td>2.63</td>\n      <td>1553152215</td>\n      <td>1553629200</td>\n    </tr>\n    <tr>\n      <th>34</th>\n      <td>EFEkIb54</td>\n      <td>157</td>\n      <td>2.40</td>\n      <td>3.20</td>\n      <td>3.40</td>\n      <td>D</td>\n      <td>U</td>\n      <td>U</td>\n      <td>2.80</td>\n      <td>3.10</td>\n      <td>2.70</td>\n      <td>1553164682</td>\n      <td>1553629458</td>\n    </tr>\n    <tr>\n      <th>35</th>\n      <td>EFEkIb54</td>\n      <td>27</td>\n      <td>2.40</td>\n      <td>3.20</td>\n      <td>3.40</td>\n      <td>D</td>\n      <td>U</td>\n      <td>U</td>\n      <td>2.80</td>\n      <td>3.10</td>\n      <td>2.70</td>\n      <td>1553164736</td>\n      <td>1553629334</td>\n    </tr>\n    <tr>\n      <th>36</th>\n      <td>EFEkIb54</td>\n      <td>5</td>\n      <td>2.55</td>\n      <td>3.20</td>\n      <td>3.15</td>\n      <td>D</td>\n      <td>U</td>\n      <td>U</td>\n      <td>2.80</td>\n      <td>3.10</td>\n      <td>2.70</td>\n      <td>1553164969</td>\n      <td>1553628749</td>\n    </tr>\n    <tr>\n      <th>37</th>\n      <td>EFEkIb54</td>\n      <td>26</td>\n      <td>2.38</td>\n      <td>3.10</td>\n      <td>3.00</td>\n      <td>D</td>\n      <td>N</td>\n      <td>U</td>\n      <td>2.88</td>\n      <td>3.10</td>\n      <td>2.50</td>\n      <td>1553170241</td>\n      <td>1553628771</td>\n    </tr>\n    <tr>\n      <th>38</th>\n      <td>EFEkIb54</td>\n      <td>33</td>\n      <td>2.38</td>\n      <td>3.10</td>\n      <td>3.25</td>\n      <td>D</td>\n      <td>N</td>\n      <td>U</td>\n      <td>2.80</td>\n      <td>3.10</td>\n      <td>2.65</td>\n      <td>1553197618</td>\n      <td>1553629426</td>\n    </tr>\n    <tr>\n      <th>39</th>\n      <td>EFEkIb54</td>\n      <td>24</td>\n      <td>2.35</td>\n      <td>3.10</td>\n      <td>3.25</td>\n      <td>D</td>\n      <td>N</td>\n      <td>U</td>\n      <td>2.80</td>\n      <td>3.10</td>\n      <td>2.65</td>\n      <td>1553197633</td>\n      <td>1553629444</td>\n    </tr>\n    <tr>\n      <th>40</th>\n      <td>EFEkIb54</td>\n      <td>56</td>\n      <td>2.38</td>\n      <td>3.15</td>\n      <td>3.25</td>\n      <td>D</td>\n      <td>D</td>\n      <td>U</td>\n      <td>2.83</td>\n      <td>3.25</td>\n      <td>2.57</td>\n      <td>1553270849</td>\n      <td>1553628819</td>\n    </tr>\n    <tr>\n      <th>41</th>\n      <td>EFEkIb54</td>\n      <td>476</td>\n      <td>2.38</td>\n      <td>3.14</td>\n      <td>3.30</td>\n      <td>D</td>\n      <td>D</td>\n      <td>U</td>\n      <td>2.83</td>\n      <td>3.25</td>\n      <td>2.57</td>\n      <td>1553271084</td>\n      <td>1553629502</td>\n    </tr>\n    <tr>\n      <th>42</th>\n      <td>EFEkIb54</td>\n      <td>372</td>\n      <td>2.35</td>\n      <td>3.10</td>\n      <td>3.20</td>\n      <td>D</td>\n      <td>N</td>\n      <td>U</td>\n      <td>2.88</td>\n      <td>3.10</td>\n      <td>2.55</td>\n      <td>1553274548</td>\n      <td>1553629443</td>\n    </tr>\n    <tr>\n      <th>43</th>\n      <td>EFEkIb54</td>\n      <td>15</td>\n      <td>2.35</td>\n      <td>3.10</td>\n      <td>3.20</td>\n      <td>D</td>\n      <td>N</td>\n      <td>U</td>\n      <td>2.88</td>\n      <td>3.10</td>\n      <td>2.55</td>\n      <td>1553274694</td>\n      <td>1553629262</td>\n    </tr>\n    <tr>\n      <th>44</th>\n      <td>EFEkIb54</td>\n      <td>31</td>\n      <td>2.35</td>\n      <td>2.95</td>\n      <td>3.10</td>\n      <td>D</td>\n      <td>D</td>\n      <td>U</td>\n      <td>2.70</td>\n      <td>3.05</td>\n      <td>2.50</td>\n      <td>1553276758</td>\n      <td>1553629022</td>\n    </tr>\n    <tr>\n      <th>45</th>\n      <td>EFEkIb54</td>\n      <td>45</td>\n      <td>2.46</td>\n      <td>3.22</td>\n      <td>3.25</td>\n      <td>D</td>\n      <td>U</td>\n      <td>U</td>\n      <td>2.80</td>\n      <td>2.90</td>\n      <td>2.60</td>\n      <td>1553381633</td>\n      <td>1553629401</td>\n    </tr>\n    <tr>\n      <th>46</th>\n      <td>EFEkIb54</td>\n      <td>49</td>\n      <td>2.46</td>\n      <td>3.22</td>\n      <td>3.25</td>\n      <td>D</td>\n      <td>U</td>\n      <td>U</td>\n      <td>2.80</td>\n      <td>2.90</td>\n      <td>2.60</td>\n      <td>1553381735</td>\n      <td>1553629413</td>\n    </tr>\n    <tr>\n      <th>47</th>\n      <td>EFEkIb54</td>\n      <td>411</td>\n      <td>2.46</td>\n      <td>3.22</td>\n      <td>3.25</td>\n      <td>D</td>\n      <td>U</td>\n      <td>U</td>\n      <td>2.80</td>\n      <td>2.90</td>\n      <td>2.60</td>\n      <td>1553381850</td>\n      <td>1553629428</td>\n    </tr>\n    <tr>\n      <th>48</th>\n      <td>EFEkIb54</td>\n      <td>392</td>\n      <td>2.40</td>\n      <td>3.10</td>\n      <td>3.20</td>\n      <td>D</td>\n      <td>D</td>\n      <td>U</td>\n      <td>2.60</td>\n      <td>3.20</td>\n      <td>2.80</td>\n      <td>1553414694</td>\n      <td>1553629342</td>\n    </tr>\n    <tr>\n      <th>49</th>\n      <td>EFEkIb54</td>\n      <td>128</td>\n      <td>2.22</td>\n      <td>2.85</td>\n      <td>2.95</td>\n      <td>D</td>\n      <td>D</td>\n      <td>U</td>\n      <td>2.55</td>\n      <td>3.10</td>\n      <td>2.75</td>\n      <td>1553414761</td>\n      <td>1553629158</td>\n    </tr>\n    <tr>\n      <th>50</th>\n      <td>EFEkIb54</td>\n      <td>129</td>\n      <td>2.30</td>\n      <td>2.95</td>\n      <td>3.10</td>\n      <td>D</td>\n      <td>D</td>\n      <td>U</td>\n      <td>2.50</td>\n      <td>3.00</td>\n      <td>2.70</td>\n      <td>1553414890</td>\n      <td>1553629349</td>\n    </tr>\n    <tr>\n      <th>51</th>\n      <td>EFEkIb54</td>\n      <td>2</td>\n      <td>2.55</td>\n      <td>3.10</td>\n      <td>3.00</td>\n      <td>D</td>\n      <td>D</td>\n      <td>U</td>\n      <td>2.60</td>\n      <td>3.20</td>\n      <td>2.80</td>\n      <td>1553414933</td>\n      <td>1553549223</td>\n    </tr>\n    <tr>\n      <th>52</th>\n      <td>EFEkIb54</td>\n      <td>75</td>\n      <td>2.40</td>\n      <td>3.10</td>\n      <td>2.94</td>\n      <td>D</td>\n      <td>U</td>\n      <td>U</td>\n      <td>2.59</td>\n      <td>3.00</td>\n      <td>2.76</td>\n      <td>1553419600</td>\n      <td>1553629445</td>\n    </tr>\n    <tr>\n      <th>53</th>\n      <td>EFEkIb54</td>\n      <td>147</td>\n      <td>2.42</td>\n      <td>3.00</td>\n      <td>3.00</td>\n      <td>D</td>\n      <td>N</td>\n      <td>U</td>\n      <td>2.53</td>\n      <td>3.00</td>\n      <td>2.84</td>\n      <td>1553419703</td>\n      <td>1553629333</td>\n    </tr>\n    <tr>\n      <th>54</th>\n      <td>EFEkIb54</td>\n      <td>18</td>\n      <td>2.41</td>\n      <td>3.19</td>\n      <td>3.37</td>\n      <td>D</td>\n      <td>D</td>\n      <td>U</td>\n      <td>2.67</td>\n      <td>3.35</td>\n      <td>2.80</td>\n      <td>1553427181</td>\n      <td>1553629466</td>\n    </tr>\n    <tr>\n      <th>55</th>\n      <td>EFEkIb54</td>\n      <td>390</td>\n      <td>2.44</td>\n      <td>3.22</td>\n      <td>3.50</td>\n      <td>D</td>\n      <td>D</td>\n      <td>U</td>\n      <td>2.62</td>\n      <td>3.26</td>\n      <td>3.00</td>\n      <td>1553467860</td>\n      <td>1553629485</td>\n    </tr>\n    <tr>\n      <th>56</th>\n      <td>EFEkIb54</td>\n      <td>164</td>\n      <td>2.58</td>\n      <td>3.05</td>\n      <td>3.05</td>\n      <td>U</td>\n      <td>D</td>\n      <td>U</td>\n      <td>2.52</td>\n      <td>3.20</td>\n      <td>3.00</td>\n      <td>1553555049</td>\n      <td>1553628534</td>\n    </tr>\n  </tbody>\n</table>\n</div>"
     },
     "metadata": {},
     "execution_count": 122
    }
   ],
   "source": [
    "pd.DataFrame([bookies[x] for x in bookies])\n"
   ]
  },
  {
   "cell_type": "code",
   "execution_count": 127,
   "metadata": {},
   "outputs": [],
   "source": [
    "from op_parser import OpParser\n",
    "\n",
    "op=OpParser()\n",
    "op.parse_matches()"
   ]
  },
  {
   "cell_type": "code",
   "execution_count": 128,
   "metadata": {},
   "outputs": [
    {
     "output_type": "execute_result",
     "data": {
      "text/plain": [
       "[         mid  bid    w1    wx    w2 move_1 move_x move_2  open_1  open_x  \\\n",
       " 0   003ZibWr    1  1.90  3.20  3.40      N      N      N     NaN     NaN   \n",
       " 1   003ZibWr    2  1.95  3.30  3.50      D      U      U    2.00    3.25   \n",
       " 2   003ZibWr    3  1.80  3.40  3.55      D      U      U    1.95    3.20   \n",
       " 3   003ZibWr    5  1.85  3.40  3.60      N      N      N    1.85    3.40   \n",
       " 4   003ZibWr    9  1.85  3.25  3.70      N      N      N     NaN     NaN   \n",
       " 5   003ZibWr   14  1.85  3.32  3.71      D      U      U    1.94    3.24   \n",
       " 6   003ZibWr   15  1.80  3.50  4.00      N      N      N     NaN     NaN   \n",
       " 7   003ZibWr   16  1.91  3.60  3.80      N      U      D    1.91    3.40   \n",
       " 8   003ZibWr   24  1.80  3.50  3.70      D      U      U    1.88    3.35   \n",
       " 9   003ZibWr   26  1.95  3.20  3.60      U      D      D    1.85    3.30   \n",
       " 10  003ZibWr   30  1.91  3.25  3.40      U      N      D    1.83    3.25   \n",
       " 11  003ZibWr   32  1.75  3.50  3.75      D      U      U    1.95    3.20   \n",
       " 12  003ZibWr   33  1.75  3.40  4.05      N      N      N     NaN     NaN   \n",
       " 13  003ZibWr   43  1.78  3.45  3.65      D      U      U    1.85    3.30   \n",
       " 14  003ZibWr   44  2.02  3.45  4.09      U      U      U    1.01    1.01   \n",
       " 15  003ZibWr   46  1.80  3.40  3.83      N      N      N     NaN     NaN   \n",
       " 16  003ZibWr   53  1.95  3.30  3.50      D      U      U    2.00    3.25   \n",
       " 17  003ZibWr   56  1.92  3.35  3.80      U      U      D    1.81    3.25   \n",
       " 18  003ZibWr   57  1.91  3.40  3.75      D      U      U    1.98    3.25   \n",
       " 19  003ZibWr   73  1.88  3.34  3.70      U      N      D    1.74    3.34   \n",
       " 20  003ZibWr   75  1.93  3.40  3.75      D      U      U    1.98    3.30   \n",
       " 21  003ZibWr   76  1.91  3.50  4.00      D      U      U    1.95    3.30   \n",
       " 22  003ZibWr  128  1.90  3.45  3.80      D      U      U    2.00    3.35   \n",
       " 23  003ZibWr  147  2.02  3.29  3.56      U      D      D    1.92    3.35   \n",
       " 24  003ZibWr  149  1.90  3.20  3.40      N      N      N     NaN     NaN   \n",
       " 25  003ZibWr  157  1.85  3.40  3.60      N      N      N    1.85    3.40   \n",
       " \n",
       "     open_2  time_close     time_open  \n",
       " 0      NaN  1345044717           NaN  \n",
       " 1     3.40  1345281013  1.344847e+09  \n",
       " 2     3.25  1345194456  1.344867e+09  \n",
       " 3     3.60  1345278408  1.344996e+09  \n",
       " 4      NaN  1345022128           NaN  \n",
       " 5     3.47  1345283951  1.344931e+09  \n",
       " 6      NaN  1345223766           NaN  \n",
       " 7     4.00  1345280634  1.344939e+09  \n",
       " 8     3.55  1345163795  1.345081e+09  \n",
       " 9     3.90  1345279745  1.345024e+09  \n",
       " 10    3.75  1345283938  1.345030e+09  \n",
       " 11    3.50  1345210531  1.344946e+09  \n",
       " 12     NaN  1345240798           NaN  \n",
       " 13    3.50  1345163835  1.345081e+09  \n",
       " 14    1.01  1345284037  1.344542e+09  \n",
       " 15     NaN  1345184204           NaN  \n",
       " 16    3.40  1345280954  1.344847e+09  \n",
       " 17    4.15  1345283983  1.345201e+09  \n",
       " 18    3.40  1345284306  1.344933e+09  \n",
       " 19    4.51  1345282541  1.345274e+09  \n",
       " 20    3.65  1345284072  1.344937e+09  \n",
       " 21    3.60  1345282426  1.344933e+09  \n",
       " 22    3.50  1345283188  1.344932e+09  \n",
       " 23    3.84  1345283661  1.344973e+09  \n",
       " 24     NaN  1345044698           NaN  \n",
       " 25    3.60  1345278302  1.344995e+09  ]"
      ]
     },
     "metadata": {},
     "execution_count": 128
    }
   ],
   "source": [
    "op.DATA"
   ]
  },
  {
   "cell_type": "code",
   "execution_count": null,
   "metadata": {},
   "outputs": [],
   "source": []
  }
 ]
}