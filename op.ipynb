{
 "metadata": {
  "language_info": {
   "codemirror_mode": {
    "name": "ipython",
    "version": 3
   },
   "file_extension": ".py",
   "mimetype": "text/x-python",
   "name": "python",
   "nbconvert_exporter": "python",
   "pygments_lexer": "ipython3",
   "version": "3.8.5-final"
  },
  "orig_nbformat": 2,
  "kernelspec": {
   "name": "python3",
   "display_name": "Python 3.8.5 64-bit ('mlenv': conda)",
   "metadata": {
    "interpreter": {
     "hash": "12f2fd9a8da6c9ddda222d67ff20ee53b82617d5a9ac88eb47f60b586ce1b05e"
    }
   }
  }
 },
 "nbformat": 4,
 "nbformat_minor": 2,
 "cells": [
  {
   "cell_type": "code",
   "execution_count": 148,
   "metadata": {},
   "outputs": [
    {
     "output_type": "stream",
     "name": "stdout",
     "text": [
      "The autoreload extension is already loaded. To reload it, use:\n  %reload_ext autoreload\n"
     ]
    }
   ],
   "source": [
    "import os\n",
    "import pandas as pd\n",
    "import numpy as np\n",
    "import seaborn as sns\n",
    "import pickle\n",
    "from datetime import datetime,timedelta\n",
    "from sklearn.preprocessing import LabelEncoder,OneHotEncoder,MinMaxScaler\n",
    "from sklearn.model_selection import RepeatedKFold,train_test_split\n",
    "import tensorflow as tf\n",
    "from tensorflow import keras\n",
    "from tensorflow.keras.layers import Dense, BatchNormalization,Dropout\n",
    "from tensorflow.keras.models import Sequential\n",
    "from sklearn.metrics import accuracy_score\n",
    "\n",
    "import api.util\n",
    "from api.predictions_converter import PredictionsConverter\n",
    "from api.op_dp import OpDataProvider\n",
    "\n",
    "from IPython.display import display\n",
    "pd.options.display.max_columns = None\n",
    "%load_ext autoreload\n",
    "%autoreload 2"
   ]
  },
  {
   "cell_type": "code",
   "execution_count": 149,
   "metadata": {},
   "outputs": [],
   "source": [
    "classes=['winner_away', 'winner_draw', 'winner_home']\n",
    "dp=OpDataProvider(load=False, exclude=['country_id'])\n",
    "data, labels, info, df=dp.provide_data()\n",
    "#df=dp._load_data()\n",
    "#df=dp._provide_odds()"
   ]
  },
  {
   "cell_type": "code",
   "execution_count": 150,
   "metadata": {},
   "outputs": [
    {
     "output_type": "execute_result",
     "data": {
      "text/plain": [
       "         bn  country                        ds              liga       mid  \\\n",
       "0  0.461538   greece 2014-01-18 15:15:00+00:00      super-league  xzLYjsqg   \n",
       "1  0.461538    spain 2013-02-16 17:00:00+00:00  segunda-division  M5Tqms6i   \n",
       "2  0.461538  germany 2013-09-28 13:30:00+00:00        bundesliga  EZp8Xc0a   \n",
       "3  0.846154   france 2019-01-13 20:00:00+00:00           ligue-1  UJjJ4QAp   \n",
       "4  0.538462  germany 2015-02-01 14:30:00+00:00        bundesliga  G25l1ArF   \n",
       "\n",
       "   odds_away  odds_draw  odds_home  sc1  sc2                  t1  \\\n",
       "0      27.83      11.00       1.06    2    0  olympiacos piraeus   \n",
       "1       2.47       3.16       2.85    2    2         guadalajara   \n",
       "2      17.23       8.23       1.15    1    0       bayern munich   \n",
       "3       4.42       3.91       1.78    1    1           marseille   \n",
       "4       3.35       3.45       2.21    2    0       werder bremen   \n",
       "\n",
       "              t2  tid1  tid2 winner  oddsprob_home  oddsprob_draw  \\\n",
       "0     levadiakos     0   506   home       0.881373       0.085437   \n",
       "1        almeria     1  1444   draw       0.333431       0.298337   \n",
       "2      wolfsburg     2    64   home       0.824268       0.117686   \n",
       "3         monaco     3   399   draw       0.535805       0.249926   \n",
       "4  hertha berlin     4   420   home       0.428344       0.277868   \n",
       "\n",
       "   oddsprob_away  drift_home  drift_away  drift_draw  \n",
       "0       0.033191   -0.072516    0.139235    0.086659  \n",
       "1       0.368232   -0.055178    0.054568   -0.016432  \n",
       "2       0.058046   -0.016230    0.091752    0.039680  \n",
       "3       0.214269    0.097888   -0.233988   -0.080705  \n",
       "4       0.293787   -0.098189    0.105136    0.010880  "
      ],
      "text/html": "<div>\n<style scoped>\n    .dataframe tbody tr th:only-of-type {\n        vertical-align: middle;\n    }\n\n    .dataframe tbody tr th {\n        vertical-align: top;\n    }\n\n    .dataframe thead th {\n        text-align: right;\n    }\n</style>\n<table border=\"1\" class=\"dataframe\">\n  <thead>\n    <tr style=\"text-align: right;\">\n      <th></th>\n      <th>bn</th>\n      <th>country</th>\n      <th>ds</th>\n      <th>liga</th>\n      <th>mid</th>\n      <th>odds_away</th>\n      <th>odds_draw</th>\n      <th>odds_home</th>\n      <th>sc1</th>\n      <th>sc2</th>\n      <th>t1</th>\n      <th>t2</th>\n      <th>tid1</th>\n      <th>tid2</th>\n      <th>winner</th>\n      <th>oddsprob_home</th>\n      <th>oddsprob_draw</th>\n      <th>oddsprob_away</th>\n      <th>drift_home</th>\n      <th>drift_away</th>\n      <th>drift_draw</th>\n    </tr>\n  </thead>\n  <tbody>\n    <tr>\n      <th>0</th>\n      <td>0.461538</td>\n      <td>greece</td>\n      <td>2014-01-18 15:15:00+00:00</td>\n      <td>super-league</td>\n      <td>xzLYjsqg</td>\n      <td>27.83</td>\n      <td>11.00</td>\n      <td>1.06</td>\n      <td>2</td>\n      <td>0</td>\n      <td>olympiacos piraeus</td>\n      <td>levadiakos</td>\n      <td>0</td>\n      <td>506</td>\n      <td>home</td>\n      <td>0.881373</td>\n      <td>0.085437</td>\n      <td>0.033191</td>\n      <td>-0.072516</td>\n      <td>0.139235</td>\n      <td>0.086659</td>\n    </tr>\n    <tr>\n      <th>1</th>\n      <td>0.461538</td>\n      <td>spain</td>\n      <td>2013-02-16 17:00:00+00:00</td>\n      <td>segunda-division</td>\n      <td>M5Tqms6i</td>\n      <td>2.47</td>\n      <td>3.16</td>\n      <td>2.85</td>\n      <td>2</td>\n      <td>2</td>\n      <td>guadalajara</td>\n      <td>almeria</td>\n      <td>1</td>\n      <td>1444</td>\n      <td>draw</td>\n      <td>0.333431</td>\n      <td>0.298337</td>\n      <td>0.368232</td>\n      <td>-0.055178</td>\n      <td>0.054568</td>\n      <td>-0.016432</td>\n    </tr>\n    <tr>\n      <th>2</th>\n      <td>0.461538</td>\n      <td>germany</td>\n      <td>2013-09-28 13:30:00+00:00</td>\n      <td>bundesliga</td>\n      <td>EZp8Xc0a</td>\n      <td>17.23</td>\n      <td>8.23</td>\n      <td>1.15</td>\n      <td>1</td>\n      <td>0</td>\n      <td>bayern munich</td>\n      <td>wolfsburg</td>\n      <td>2</td>\n      <td>64</td>\n      <td>home</td>\n      <td>0.824268</td>\n      <td>0.117686</td>\n      <td>0.058046</td>\n      <td>-0.016230</td>\n      <td>0.091752</td>\n      <td>0.039680</td>\n    </tr>\n    <tr>\n      <th>3</th>\n      <td>0.846154</td>\n      <td>france</td>\n      <td>2019-01-13 20:00:00+00:00</td>\n      <td>ligue-1</td>\n      <td>UJjJ4QAp</td>\n      <td>4.42</td>\n      <td>3.91</td>\n      <td>1.78</td>\n      <td>1</td>\n      <td>1</td>\n      <td>marseille</td>\n      <td>monaco</td>\n      <td>3</td>\n      <td>399</td>\n      <td>draw</td>\n      <td>0.535805</td>\n      <td>0.249926</td>\n      <td>0.214269</td>\n      <td>0.097888</td>\n      <td>-0.233988</td>\n      <td>-0.080705</td>\n    </tr>\n    <tr>\n      <th>4</th>\n      <td>0.538462</td>\n      <td>germany</td>\n      <td>2015-02-01 14:30:00+00:00</td>\n      <td>bundesliga</td>\n      <td>G25l1ArF</td>\n      <td>3.35</td>\n      <td>3.45</td>\n      <td>2.21</td>\n      <td>2</td>\n      <td>0</td>\n      <td>werder bremen</td>\n      <td>hertha berlin</td>\n      <td>4</td>\n      <td>420</td>\n      <td>home</td>\n      <td>0.428344</td>\n      <td>0.277868</td>\n      <td>0.293787</td>\n      <td>-0.098189</td>\n      <td>0.105136</td>\n      <td>0.010880</td>\n    </tr>\n  </tbody>\n</table>\n</div>"
     },
     "metadata": {},
     "execution_count": 150
    }
   ],
   "source": [
    "df.head()"
   ]
  },
  {
   "source": [
    "# Analysis"
   ],
   "cell_type": "markdown",
   "metadata": {}
  },
  {
   "source": [
    "data_train, data_test, labels_train, labels_test, info_train, info_test = train_test_split(data, labels, info, test_size=0.2, random_state=42)\n",
    "print(data_train.shape, data_test.shape)"
   ],
   "cell_type": "code",
   "metadata": {},
   "execution_count": 51,
   "outputs": [
    {
     "output_type": "stream",
     "name": "stdout",
     "text": [
      "(119680, 4) (29921, 4)\n"
     ]
    }
   ]
  },
  {
   "source": [
    "df.isnull().any()"
   ],
   "cell_type": "markdown",
   "metadata": {}
  },
  {
   "source": [
    "- **prevalence** - percent of winners\n",
    "- **Sensitivity** is the probability that our test outputs positive given that the case is actually positive.\n",
    "- **Specificity** is the probability that the test outputs negative given that the case is actually negative.\n",
    "- **Positive predictive value (PPV)** is the probability that subjects with a positive prediction truly wins.\n",
    "- **Negative predictive value (NPV)** is the probability that subjects with a negative prediction truly lost.\n",
    "- **The area under the ROC** curve is also called AUCROC or C-statistic and is a measure of goodness of fit. \n",
    "- **F1 score** is the harmonic mean of the precision and recall, where an F1 score reaches its best value at 1 (perfect precision and recall) and worst at 0."
   ],
   "cell_type": "markdown",
   "metadata": {}
  },
  {
   "cell_type": "code",
   "execution_count": 62,
   "metadata": {},
   "outputs": [],
   "source": [
    "def get_model(n_inputs, n_outputs):\n",
    "    model = Sequential()\n",
    "    model.add(Dense(1024, input_dim=n_inputs, kernel_initializer='he_uniform', activation='relu'))\n",
    "    #model.add(Dropout(0.2))\n",
    "    model.add(Dense(512, input_dim=n_inputs, kernel_initializer='he_uniform', activation='relu'))\n",
    "    #model.add(Dropout(0.2))\n",
    "    model.add(Dense(64, input_dim=n_inputs, kernel_initializer='he_uniform', activation='relu'))\n",
    "    model.add(Dense(16, input_dim=n_inputs, kernel_initializer='he_uniform', activation='relu'))\n",
    "    model.add(Dense(n_outputs, activation='softmax'))\n",
    "    model.compile(loss='binary_crossentropy', optimizer='adam')\n",
    "    return model\n",
    "\n",
    "def evaluate_model(X, y):\n",
    "    results = list()\n",
    "    n_inputs, n_outputs = X.shape[1], y.shape[1]\n",
    "    # define evaluation procedure\n",
    "    cv = RepeatedKFold(n_splits=3, n_repeats=2, random_state=1)\n",
    "    # enumerate folds\n",
    "    for train_ix, test_ix in cv.split(X):\n",
    "        # prepare data\n",
    "        X_train, X_test = X[train_ix], X[test_ix]\n",
    "        y_train, y_test = y[train_ix], y[test_ix]\n",
    "        # define model\n",
    "        model = get_model(n_inputs, n_outputs)\n",
    "        # fit model\n",
    "        model.fit(X_train, y_train, epochs=30)\n",
    "        # make a prediction on the test set\n",
    "        yhat = model.predict(X_test)\n",
    "        # round probabilities to class labels\n",
    "        yhat = yhat.round()\n",
    "        # calculate accuracy\n",
    "        acc = accuracy_score(y_test, yhat)\n",
    "        # store result\n",
    "        print('>%.3f' % acc)\n",
    "        results.append(acc)\n",
    "        break\n",
    "    return results, model"
   ]
  },
  {
   "cell_type": "code",
   "execution_count": 65,
   "metadata": {},
   "outputs": [
    {
     "output_type": "stream",
     "name": "stdout",
     "text": [
      "Epoch 1/30\n",
      "2494/2494 [==============================] - 38s 15ms/step - loss: 0.6088\n",
      "Epoch 2/30\n",
      "2494/2494 [==============================] - 35s 14ms/step - loss: 0.5917\n",
      "Epoch 3/30\n",
      "2494/2494 [==============================] - 36s 15ms/step - loss: 0.5888\n",
      "Epoch 4/30\n",
      "2494/2494 [==============================] - 35s 14ms/step - loss: 0.5884\n",
      "Epoch 5/30\n",
      "2494/2494 [==============================] - 37s 15ms/step - loss: 0.5865\n",
      "Epoch 6/30\n",
      "2494/2494 [==============================] - 37s 15ms/step - loss: 0.5847\n",
      "Epoch 7/30\n",
      "2494/2494 [==============================] - 37s 15ms/step - loss: 0.5856\n",
      "Epoch 8/30\n",
      "2494/2494 [==============================] - 37s 15ms/step - loss: 0.5840\n",
      "Epoch 9/30\n",
      "2494/2494 [==============================] - 37s 15ms/step - loss: 0.5841\n",
      "Epoch 10/30\n",
      "2494/2494 [==============================] - 36s 14ms/step - loss: 0.5846\n",
      "Epoch 11/30\n",
      "2494/2494 [==============================] - 37s 15ms/step - loss: 0.5851\n",
      "Epoch 12/30\n",
      "2494/2494 [==============================] - 36s 14ms/step - loss: 0.5839\n",
      "Epoch 13/30\n",
      "2494/2494 [==============================] - 34s 14ms/step - loss: 0.5841\n",
      "Epoch 14/30\n",
      "2494/2494 [==============================] - 34s 14ms/step - loss: 0.5846\n",
      "Epoch 15/30\n",
      "2494/2494 [==============================] - 34s 14ms/step - loss: 0.5823\n",
      "Epoch 16/30\n",
      "2494/2494 [==============================] - 34s 13ms/step - loss: 0.5833\n",
      "Epoch 17/30\n",
      "2494/2494 [==============================] - 32s 13ms/step - loss: 0.5829\n",
      "Epoch 18/30\n",
      "2494/2494 [==============================] - 32s 13ms/step - loss: 0.5834\n",
      "Epoch 19/30\n",
      "2494/2494 [==============================] - 37s 15ms/step - loss: 0.5826\n",
      "Epoch 20/30\n",
      "2494/2494 [==============================] - 34s 14ms/step - loss: 0.5836\n",
      "Epoch 21/30\n",
      "2494/2494 [==============================] - 38s 15ms/step - loss: 0.5837\n",
      "Epoch 22/30\n",
      "2494/2494 [==============================] - 34s 14ms/step - loss: 0.5827\n",
      "Epoch 23/30\n",
      "2494/2494 [==============================] - 33s 13ms/step - loss: 0.5813\n",
      "Epoch 24/30\n",
      "2494/2494 [==============================] - 31s 12ms/step - loss: 0.5837\n",
      "Epoch 25/30\n",
      "2494/2494 [==============================] - 32s 13ms/step - loss: 0.5842\n",
      "Epoch 26/30\n",
      "2494/2494 [==============================] - 38s 15ms/step - loss: 0.5824\n",
      "Epoch 27/30\n",
      "2494/2494 [==============================] - 38s 15ms/step - loss: 0.5823\n",
      "Epoch 28/30\n",
      "2494/2494 [==============================] - 38s 15ms/step - loss: 0.5814\n",
      "Epoch 29/30\n",
      "2494/2494 [==============================] - 37s 15ms/step - loss: 0.5816\n",
      "Epoch 30/30\n",
      "2494/2494 [==============================] - 38s 15ms/step - loss: 0.5822\n",
      ">0.388\n",
      "Accuracy: 0.388 (0.000)\n"
     ]
    }
   ],
   "source": [
    "#results = evaluate_model(data, labels)\n",
    "results, model = evaluate_model(data_train, labels_train)\n",
    "\n",
    "# summarize performance\n",
    "print('Accuracy: %.3f (%.3f)' % (np.mean(results), np.std(results)))"
   ]
  },
  {
   "cell_type": "code",
   "execution_count": 66,
   "metadata": {},
   "outputs": [],
   "source": [
    "yhat = model.predict(data_test)"
   ]
  },
  {
   "cell_type": "code",
   "execution_count": 348,
   "metadata": {},
   "outputs": [],
   "source": [
    "#model.save('models/op_1024_512_64_16_changedDrift.keras')\n",
    "model = keras.models.load_model('models/op_1024_512_64_16_changedDrift.keras')\n",
    "yhat = model.predict(data_test)"
   ]
  },
  {
   "cell_type": "code",
   "execution_count": 349,
   "metadata": {},
   "outputs": [],
   "source": [
    "from IPython.display import display\n",
    "class PredictionsConverter:\n",
    "    def __init__(self, provider,  yhat, y, info):\n",
    "        self.CLASSES=['HOME','DRAW','AWAY']\n",
    "        self.DATA_PATH=f'predictions/{provider}/'\n",
    "        self.LABELS_PREDICTED=yhat\n",
    "        self.LABELS=y\n",
    "        self.INFO=info.copy()\n",
    "\n",
    "    def make_df(self, threshold=0.5):\n",
    "        df_yhat=pd.DataFrame(data=self.LABELS_PREDICTED, columns=['prob_away', 'prob_draw', 'prob_home'])\n",
    "        df_y=pd.DataFrame(data=self.LABELS, columns=['winner_away', 'winner_draw', 'winner_home'])\n",
    "        df_i=self.INFO.reset_index(drop=True)\n",
    "        df_preds=pd.concat([df_i,df_y,df_yhat], axis=1)\n",
    "        if threshold=='max':\n",
    "            a=df_yhat.rank(method='max', axis=1)\n",
    "            df_preds['pred_home']=a['prob_home'].apply(lambda x: 1 if x>2 else 0)\n",
    "            df_preds['pred_draw']=a['prob_draw'].apply(lambda x: 1 if x>2 else 0)\n",
    "            df_preds['pred_away']=a['prob_away'].apply(lambda x: 1 if x>2 else 0)\n",
    "        else:\n",
    "            df_preds['pred_home']=np.where(df_preds['prob_home']>threshold,1,0)\n",
    "            df_preds['pred_draw']=np.where(df_preds['prob_draw']>threshold,1,0)\n",
    "            df_preds['pred_away']=np.where(df_preds['prob_away']>threshold,1,0)\n",
    "        df_preds=df_preds[(df_preds['pred_home']==1) | (df_preds['pred_draw']==1) |(df_preds['pred_away']==1)]\n",
    "        df_preds['winner_home']=df_preds['winner_home'].astype(int)\n",
    "        df_preds['winner_draw']=df_preds['winner_draw'].astype(int)\n",
    "        df_preds['winner_away']=df_preds['winner_away'].astype(int)\n",
    "        df_preds['pred_home']=df_preds['pred_home'].astype(int)\n",
    "        df_preds['pred_draw']=df_preds['pred_draw'].astype(int)\n",
    "        df_preds['pred_away']=df_preds['pred_away'].astype(int)\n",
    "        df_preds['win']=0\n",
    "        df_preds.loc[(df_preds['winner_home']==df_preds['pred_home']) & (df_preds['winner_home']==1),'win']=1\n",
    "        df_preds.loc[(df_preds['winner_draw']==df_preds['pred_draw']) & (df_preds['winner_draw']==1),'win']=1\n",
    "        df_preds.loc[(df_preds['winner_away']==df_preds['pred_away']) & (df_preds['winner_away']==1),'win']=1\n",
    "        df_preds.loc[df_preds['pred_home']==1,'odds']=df_preds['odds_home']\n",
    "        df_preds.loc[df_preds['pred_draw']==1,'odds']=df_preds['odds_draw']\n",
    "        df_preds.loc[df_preds['pred_away']==1,'odds']=df_preds['odds_away']\n",
    "        df_preds=df_preds.drop_duplicates()\n",
    "        df_preds['prf']=np.where(df_preds.win>0,df_preds.odds-1, -1)\n",
    "        self.Y=df_preds[['winner_home','winner_draw','winner_away']].values\n",
    "        self.YHAT=df_preds[['pred_home','pred_draw','pred_away']].values\n",
    "        self.DF=df_preds[['ds', 'country', 'liga', 't1', 't2', 'sc1', 'sc2', 'odds_home', 'odds_draw', 'odds_away','winner_home', 'winner_draw', 'winner_away','pred_home','pred_draw','pred_away','prob_home', 'prob_draw', 'prob_away','win','prf']]\n",
    "    \n",
    "    def performance_metrics(self):\n",
    "        display(util.get_performance_metrics(self.Y, self.YHAT, self.CLASSES))\n",
    "    \n",
    "    def graph(self,mode='tpfp'):\n",
    "        if mode == 'tpfp':\n",
    "            util.get_curve(self.Y, self.YHAT, self.CLASSES)\n",
    "        elif mode== 'prc':\n",
    "            util.get_curve(self.Y, self.YHAT, self.CLASSES, curve='prc')\n",
    "    \n",
    "    def profit(self):\n",
    "        print(self.DF.win.mean(), self.DF.prf.sum(), self.DF.prf.sum()/len(self.DF.index),len(self.DF.index))"
   ]
  },
  {
   "cell_type": "code",
   "execution_count": 60,
   "metadata": {},
   "outputs": [],
   "source": [
    "def odds2prob(df):\n",
    "    df['odds_away']=1/df['odds_away']\n",
    "    df['odds_draw']=1/df['odds_draw']\n",
    "    df['odds_home']=1/df['odds_home']\n",
    "    df['margin']=df[['odds_away','odds_draw','odds_home']].sum(axis=1)\n",
    "    df['odds_away']=df['odds_away']/df['margin']\n",
    "    df['odds_draw']=df['odds_draw']/df['margin']\n",
    "    df['odds_home']=df['odds_home']/df['margin']\n",
    "    return df[['odds_away','odds_draw','odds_home']]"
   ]
  },
  {
   "cell_type": "code",
   "execution_count": 67,
   "metadata": {},
   "outputs": [
    {
     "output_type": "stream",
     "name": "stdout",
     "text": [
      "0.6513761467889908 -311.53 -0.024017423483154728 12971\n0.5670935008456148 -619.1300000000001 -0.029916888137231222 20695\n"
     ]
    },
    {
     "output_type": "display_data",
     "data": {
      "text/plain": "   Name    TP     TN    FP    FN  Accuracy  Prevalence  Sensitivity  \\\n0  HOME  6512   2445  3540   474     0.691       0.539        0.932   \n1  DRAW     3  10363     4  2601     0.799       0.201        0.001   \n2  AWAY  1934   8612   978  1447     0.813       0.261        0.572   \n\n   Specificity    PPV    NPV    AUC     F1  Threshold  \n0        0.409  0.648  0.838  0.670  0.764        0.5  \n1        1.000  0.429  0.799  0.500  0.002        0.5  \n2        0.898  0.664  0.856  0.735  0.615        0.5  ",
      "text/html": "<div>\n<style scoped>\n    .dataframe tbody tr th:only-of-type {\n        vertical-align: middle;\n    }\n\n    .dataframe tbody tr th {\n        vertical-align: top;\n    }\n\n    .dataframe thead th {\n        text-align: right;\n    }\n</style>\n<table border=\"1\" class=\"dataframe\">\n  <thead>\n    <tr style=\"text-align: right;\">\n      <th></th>\n      <th>Name</th>\n      <th>TP</th>\n      <th>TN</th>\n      <th>FP</th>\n      <th>FN</th>\n      <th>Accuracy</th>\n      <th>Prevalence</th>\n      <th>Sensitivity</th>\n      <th>Specificity</th>\n      <th>PPV</th>\n      <th>NPV</th>\n      <th>AUC</th>\n      <th>F1</th>\n      <th>Threshold</th>\n    </tr>\n  </thead>\n  <tbody>\n    <tr>\n      <th>0</th>\n      <td>HOME</td>\n      <td>6512</td>\n      <td>2445</td>\n      <td>3540</td>\n      <td>474</td>\n      <td>0.691</td>\n      <td>0.539</td>\n      <td>0.932</td>\n      <td>0.409</td>\n      <td>0.648</td>\n      <td>0.838</td>\n      <td>0.670</td>\n      <td>0.764</td>\n      <td>0.5</td>\n    </tr>\n    <tr>\n      <th>1</th>\n      <td>DRAW</td>\n      <td>3</td>\n      <td>10363</td>\n      <td>4</td>\n      <td>2601</td>\n      <td>0.799</td>\n      <td>0.201</td>\n      <td>0.001</td>\n      <td>1.000</td>\n      <td>0.429</td>\n      <td>0.799</td>\n      <td>0.500</td>\n      <td>0.002</td>\n      <td>0.5</td>\n    </tr>\n    <tr>\n      <th>2</th>\n      <td>AWAY</td>\n      <td>1934</td>\n      <td>8612</td>\n      <td>978</td>\n      <td>1447</td>\n      <td>0.813</td>\n      <td>0.261</td>\n      <td>0.572</td>\n      <td>0.898</td>\n      <td>0.664</td>\n      <td>0.856</td>\n      <td>0.735</td>\n      <td>0.615</td>\n      <td>0.5</td>\n    </tr>\n  </tbody>\n</table>\n</div>"
     },
     "metadata": {}
    },
    {
     "output_type": "display_data",
     "data": {
      "text/plain": "   Name    TP     TN    FP    FN  Accuracy  Prevalence  Sensitivity  \\\n0  HOME  9216   3419  7180   880     0.611       0.488        0.913   \n1  DRAW     1  15980     1  4713     0.772       0.228        0.000   \n2  AWAY  2519  13032  1778  3366     0.751       0.284        0.428   \n\n   Specificity    PPV    NPV    AUC     F1  Threshold  \n0        0.323  0.562  0.795  0.618  0.696        0.5  \n1        1.000  0.500  0.772  0.500  0.000        0.5  \n2        0.880  0.586  0.795  0.654  0.495        0.5  ",
      "text/html": "<div>\n<style scoped>\n    .dataframe tbody tr th:only-of-type {\n        vertical-align: middle;\n    }\n\n    .dataframe tbody tr th {\n        vertical-align: top;\n    }\n\n    .dataframe thead th {\n        text-align: right;\n    }\n</style>\n<table border=\"1\" class=\"dataframe\">\n  <thead>\n    <tr style=\"text-align: right;\">\n      <th></th>\n      <th>Name</th>\n      <th>TP</th>\n      <th>TN</th>\n      <th>FP</th>\n      <th>FN</th>\n      <th>Accuracy</th>\n      <th>Prevalence</th>\n      <th>Sensitivity</th>\n      <th>Specificity</th>\n      <th>PPV</th>\n      <th>NPV</th>\n      <th>AUC</th>\n      <th>F1</th>\n      <th>Threshold</th>\n    </tr>\n  </thead>\n  <tbody>\n    <tr>\n      <th>0</th>\n      <td>HOME</td>\n      <td>9216</td>\n      <td>3419</td>\n      <td>7180</td>\n      <td>880</td>\n      <td>0.611</td>\n      <td>0.488</td>\n      <td>0.913</td>\n      <td>0.323</td>\n      <td>0.562</td>\n      <td>0.795</td>\n      <td>0.618</td>\n      <td>0.696</td>\n      <td>0.5</td>\n    </tr>\n    <tr>\n      <th>1</th>\n      <td>DRAW</td>\n      <td>1</td>\n      <td>15980</td>\n      <td>1</td>\n      <td>4713</td>\n      <td>0.772</td>\n      <td>0.228</td>\n      <td>0.000</td>\n      <td>1.000</td>\n      <td>0.500</td>\n      <td>0.772</td>\n      <td>0.500</td>\n      <td>0.000</td>\n      <td>0.5</td>\n    </tr>\n    <tr>\n      <th>2</th>\n      <td>AWAY</td>\n      <td>2519</td>\n      <td>13032</td>\n      <td>1778</td>\n      <td>3366</td>\n      <td>0.751</td>\n      <td>0.284</td>\n      <td>0.428</td>\n      <td>0.880</td>\n      <td>0.586</td>\n      <td>0.795</td>\n      <td>0.654</td>\n      <td>0.495</td>\n      <td>0.5</td>\n    </tr>\n  </tbody>\n</table>\n</div>"
     },
     "metadata": {}
    }
   ],
   "source": [
    "conv_bookies=PredictionsConverter('op', odds2prob(info_test.copy()).values, labels_test, info_test.copy())\n",
    "conv_bookies.make_df()\n",
    "conv=PredictionsConverter('op', yhat, labels_test, info_test.copy())\n",
    "conv.make_df()\n",
    "\n",
    "conv_bookies.profit()\n",
    "conv.profit()\n",
    "conv_bookies.performance_metrics()\n",
    "conv.performance_metrics()"
   ]
  },
  {
   "cell_type": "code",
   "execution_count": 68,
   "metadata": {},
   "outputs": [
    {
     "output_type": "stream",
     "name": "stdout",
     "text": [
      "0.5259534075336743 -1171.42 -0.03915304655904275 29919\n0.5121494702363046 -1210.19 -0.04044887863899194 29919\n"
     ]
    },
    {
     "output_type": "display_data",
     "data": {
      "text/plain": "   Name     TP     TN    FP    FN  Accuracy  Prevalence  Sensitivity  \\\n0  HOME  11350   6460  9881  2228     0.595       0.454        0.836   \n1  DRAW     23  22561    30  7305     0.755       0.245        0.003   \n2  AWAY   4363  16568  4338  4650     0.700       0.301        0.484   \n\n   Specificity    PPV    NPV    AUC     F1  Threshold  \n0        0.395  0.535  0.744  0.616  0.652        0.5  \n1        0.999  0.434  0.755  0.501  0.006        0.5  \n2        0.792  0.501  0.781  0.638  0.493        0.5  ",
      "text/html": "<div>\n<style scoped>\n    .dataframe tbody tr th:only-of-type {\n        vertical-align: middle;\n    }\n\n    .dataframe tbody tr th {\n        vertical-align: top;\n    }\n\n    .dataframe thead th {\n        text-align: right;\n    }\n</style>\n<table border=\"1\" class=\"dataframe\">\n  <thead>\n    <tr style=\"text-align: right;\">\n      <th></th>\n      <th>Name</th>\n      <th>TP</th>\n      <th>TN</th>\n      <th>FP</th>\n      <th>FN</th>\n      <th>Accuracy</th>\n      <th>Prevalence</th>\n      <th>Sensitivity</th>\n      <th>Specificity</th>\n      <th>PPV</th>\n      <th>NPV</th>\n      <th>AUC</th>\n      <th>F1</th>\n      <th>Threshold</th>\n    </tr>\n  </thead>\n  <tbody>\n    <tr>\n      <th>0</th>\n      <td>HOME</td>\n      <td>11350</td>\n      <td>6460</td>\n      <td>9881</td>\n      <td>2228</td>\n      <td>0.595</td>\n      <td>0.454</td>\n      <td>0.836</td>\n      <td>0.395</td>\n      <td>0.535</td>\n      <td>0.744</td>\n      <td>0.616</td>\n      <td>0.652</td>\n      <td>0.5</td>\n    </tr>\n    <tr>\n      <th>1</th>\n      <td>DRAW</td>\n      <td>23</td>\n      <td>22561</td>\n      <td>30</td>\n      <td>7305</td>\n      <td>0.755</td>\n      <td>0.245</td>\n      <td>0.003</td>\n      <td>0.999</td>\n      <td>0.434</td>\n      <td>0.755</td>\n      <td>0.501</td>\n      <td>0.006</td>\n      <td>0.5</td>\n    </tr>\n    <tr>\n      <th>2</th>\n      <td>AWAY</td>\n      <td>4363</td>\n      <td>16568</td>\n      <td>4338</td>\n      <td>4650</td>\n      <td>0.700</td>\n      <td>0.301</td>\n      <td>0.484</td>\n      <td>0.792</td>\n      <td>0.501</td>\n      <td>0.781</td>\n      <td>0.638</td>\n      <td>0.493</td>\n      <td>0.5</td>\n    </tr>\n  </tbody>\n</table>\n</div>"
     },
     "metadata": {}
    },
    {
     "output_type": "display_data",
     "data": {
      "text/plain": "   Name     TP     TN    FP    FN  Accuracy  Prevalence  Sensitivity  \\\n0  HOME  11115   6448  9893  2463     0.587       0.454        0.819   \n1  DRAW      2  22589     2  7326     0.755       0.245        0.000   \n2  AWAY   4206  16205  4701  4807     0.682       0.301        0.467   \n\n   Specificity    PPV    NPV    AUC     F1  Threshold  \n0        0.395  0.529  0.724  0.607  0.643        0.5  \n1        1.000  0.500  0.755  0.500  0.001        0.5  \n2        0.775  0.472  0.771  0.621  0.469        0.5  ",
      "text/html": "<div>\n<style scoped>\n    .dataframe tbody tr th:only-of-type {\n        vertical-align: middle;\n    }\n\n    .dataframe tbody tr th {\n        vertical-align: top;\n    }\n\n    .dataframe thead th {\n        text-align: right;\n    }\n</style>\n<table border=\"1\" class=\"dataframe\">\n  <thead>\n    <tr style=\"text-align: right;\">\n      <th></th>\n      <th>Name</th>\n      <th>TP</th>\n      <th>TN</th>\n      <th>FP</th>\n      <th>FN</th>\n      <th>Accuracy</th>\n      <th>Prevalence</th>\n      <th>Sensitivity</th>\n      <th>Specificity</th>\n      <th>PPV</th>\n      <th>NPV</th>\n      <th>AUC</th>\n      <th>F1</th>\n      <th>Threshold</th>\n    </tr>\n  </thead>\n  <tbody>\n    <tr>\n      <th>0</th>\n      <td>HOME</td>\n      <td>11115</td>\n      <td>6448</td>\n      <td>9893</td>\n      <td>2463</td>\n      <td>0.587</td>\n      <td>0.454</td>\n      <td>0.819</td>\n      <td>0.395</td>\n      <td>0.529</td>\n      <td>0.724</td>\n      <td>0.607</td>\n      <td>0.643</td>\n      <td>0.5</td>\n    </tr>\n    <tr>\n      <th>1</th>\n      <td>DRAW</td>\n      <td>2</td>\n      <td>22589</td>\n      <td>2</td>\n      <td>7326</td>\n      <td>0.755</td>\n      <td>0.245</td>\n      <td>0.000</td>\n      <td>1.000</td>\n      <td>0.500</td>\n      <td>0.755</td>\n      <td>0.500</td>\n      <td>0.001</td>\n      <td>0.5</td>\n    </tr>\n    <tr>\n      <th>2</th>\n      <td>AWAY</td>\n      <td>4206</td>\n      <td>16205</td>\n      <td>4701</td>\n      <td>4807</td>\n      <td>0.682</td>\n      <td>0.301</td>\n      <td>0.467</td>\n      <td>0.775</td>\n      <td>0.472</td>\n      <td>0.771</td>\n      <td>0.621</td>\n      <td>0.469</td>\n      <td>0.5</td>\n    </tr>\n  </tbody>\n</table>\n</div>"
     },
     "metadata": {}
    }
   ],
   "source": [
    "conv_bookies1=PredictionsConverter('op', odds2prob(info_test.copy()).values, labels_test, info_test.copy())\n",
    "conv_bookies1.make_df(threshold='max')\n",
    "conv1=PredictionsConverter('op', yhat, labels_test, info_test.copy())\n",
    "conv1.make_df(threshold='max')\n",
    "\n",
    "conv_bookies1.profit()\n",
    "conv1.profit()\n",
    "conv_bookies1.performance_metrics()\n",
    "conv1.performance_metrics()"
   ]
  },
  {
   "cell_type": "code",
   "execution_count": 238,
   "metadata": {},
   "outputs": [
    {
     "output_type": "display_data",
     "data": {
      "text/plain": "<Figure size 504x504 with 1 Axes>",
      "image/svg+xml": "<?xml version=\"1.0\" encoding=\"utf-8\" standalone=\"no\"?>\r\n<!DOCTYPE svg PUBLIC \"-//W3C//DTD SVG 1.1//EN\"\r\n  \"http://www.w3.org/Graphics/SVG/1.1/DTD/svg11.dtd\">\r\n<!-- Created with matplotlib (https://matplotlib.org/) -->\r\n<svg height=\"425.27625pt\" version=\"1.1\" viewBox=\"0 0 623.589375 425.27625\" width=\"623.589375pt\" xmlns=\"http://www.w3.org/2000/svg\" xmlns:xlink=\"http://www.w3.org/1999/xlink\">\r\n <metadata>\r\n  <rdf:RDF xmlns:cc=\"http://creativecommons.org/ns#\" xmlns:dc=\"http://purl.org/dc/elements/1.1/\" xmlns:rdf=\"http://www.w3.org/1999/02/22-rdf-syntax-ns#\">\r\n   <cc:Work>\r\n    <dc:type rdf:resource=\"http://purl.org/dc/dcmitype/StillImage\"/>\r\n    <dc:date>2021-01-10T23:33:32.949500</dc:date>\r\n    <dc:format>image/svg+xml</dc:format>\r\n    <dc:creator>\r\n     <cc:Agent>\r\n      <dc:title>Matplotlib v3.3.2, https://matplotlib.org/</dc:title>\r\n     </cc:Agent>\r\n    </dc:creator>\r\n   </cc:Work>\r\n  </rdf:RDF>\r\n </metadata>\r\n <defs>\r\n  <style type=\"text/css\">*{stroke-linecap:butt;stroke-linejoin:round;}</style>\r\n </defs>\r\n <g id=\"figure_1\">\r\n  <g id=\"patch_1\">\r\n   <path d=\"M 0 425.27625 \r\nL 623.589375 425.27625 \r\nL 623.589375 0 \r\nL 0 0 \r\nz\r\n\" style=\"fill:none;\"/>\r\n  </g>\r\n  <g id=\"axes_1\">\r\n   <g id=\"patch_2\">\r\n    <path d=\"M 43.78125 387.72 \r\nL 434.38125 387.72 \r\nL 434.38125 7.2 \r\nL 43.78125 7.2 \r\nz\r\n\" style=\"fill:#ffffff;\"/>\r\n   </g>\r\n   <g id=\"matplotlib.axis_1\">\r\n    <g id=\"xtick_1\">\r\n     <g id=\"line2d_1\">\r\n      <defs>\r\n       <path d=\"M 0 0 \r\nL 0 3.5 \r\n\" id=\"m978fe67894\" style=\"stroke:#000000;stroke-width:0.8;\"/>\r\n      </defs>\r\n      <g>\r\n       <use style=\"stroke:#000000;stroke-width:0.8;\" x=\"43.78125\" xlink:href=\"#m978fe67894\" y=\"387.72\"/>\r\n      </g>\r\n     </g>\r\n     <g id=\"text_1\">\r\n      <!-- 0.0 -->\r\n      <g transform=\"translate(35.829688 402.318437)scale(0.1 -0.1)\">\r\n       <defs>\r\n        <path d=\"M 31.78125 66.40625 \r\nQ 24.171875 66.40625 20.328125 58.90625 \r\nQ 16.5 51.421875 16.5 36.375 \r\nQ 16.5 21.390625 20.328125 13.890625 \r\nQ 24.171875 6.390625 31.78125 6.390625 \r\nQ 39.453125 6.390625 43.28125 13.890625 \r\nQ 47.125 21.390625 47.125 36.375 \r\nQ 47.125 51.421875 43.28125 58.90625 \r\nQ 39.453125 66.40625 31.78125 66.40625 \r\nz\r\nM 31.78125 74.21875 \r\nQ 44.046875 74.21875 50.515625 64.515625 \r\nQ 56.984375 54.828125 56.984375 36.375 \r\nQ 56.984375 17.96875 50.515625 8.265625 \r\nQ 44.046875 -1.421875 31.78125 -1.421875 \r\nQ 19.53125 -1.421875 13.0625 8.265625 \r\nQ 6.59375 17.96875 6.59375 36.375 \r\nQ 6.59375 54.828125 13.0625 64.515625 \r\nQ 19.53125 74.21875 31.78125 74.21875 \r\nz\r\n\" id=\"DejaVuSans-48\"/>\r\n        <path d=\"M 10.6875 12.40625 \r\nL 21 12.40625 \r\nL 21 0 \r\nL 10.6875 0 \r\nz\r\n\" id=\"DejaVuSans-46\"/>\r\n       </defs>\r\n       <use xlink:href=\"#DejaVuSans-48\"/>\r\n       <use x=\"63.623047\" xlink:href=\"#DejaVuSans-46\"/>\r\n       <use x=\"95.410156\" xlink:href=\"#DejaVuSans-48\"/>\r\n      </g>\r\n     </g>\r\n    </g>\r\n    <g id=\"xtick_2\">\r\n     <g id=\"line2d_2\">\r\n      <g>\r\n       <use style=\"stroke:#000000;stroke-width:0.8;\" x=\"121.90125\" xlink:href=\"#m978fe67894\" y=\"387.72\"/>\r\n      </g>\r\n     </g>\r\n     <g id=\"text_2\">\r\n      <!-- 0.2 -->\r\n      <g transform=\"translate(113.949688 402.318437)scale(0.1 -0.1)\">\r\n       <defs>\r\n        <path d=\"M 19.1875 8.296875 \r\nL 53.609375 8.296875 \r\nL 53.609375 0 \r\nL 7.328125 0 \r\nL 7.328125 8.296875 \r\nQ 12.9375 14.109375 22.625 23.890625 \r\nQ 32.328125 33.6875 34.8125 36.53125 \r\nQ 39.546875 41.84375 41.421875 45.53125 \r\nQ 43.3125 49.21875 43.3125 52.78125 \r\nQ 43.3125 58.59375 39.234375 62.25 \r\nQ 35.15625 65.921875 28.609375 65.921875 \r\nQ 23.96875 65.921875 18.8125 64.3125 \r\nQ 13.671875 62.703125 7.8125 59.421875 \r\nL 7.8125 69.390625 \r\nQ 13.765625 71.78125 18.9375 73 \r\nQ 24.125 74.21875 28.421875 74.21875 \r\nQ 39.75 74.21875 46.484375 68.546875 \r\nQ 53.21875 62.890625 53.21875 53.421875 \r\nQ 53.21875 48.921875 51.53125 44.890625 \r\nQ 49.859375 40.875 45.40625 35.40625 \r\nQ 44.1875 33.984375 37.640625 27.21875 \r\nQ 31.109375 20.453125 19.1875 8.296875 \r\nz\r\n\" id=\"DejaVuSans-50\"/>\r\n       </defs>\r\n       <use xlink:href=\"#DejaVuSans-48\"/>\r\n       <use x=\"63.623047\" xlink:href=\"#DejaVuSans-46\"/>\r\n       <use x=\"95.410156\" xlink:href=\"#DejaVuSans-50\"/>\r\n      </g>\r\n     </g>\r\n    </g>\r\n    <g id=\"xtick_3\">\r\n     <g id=\"line2d_3\">\r\n      <g>\r\n       <use style=\"stroke:#000000;stroke-width:0.8;\" x=\"200.02125\" xlink:href=\"#m978fe67894\" y=\"387.72\"/>\r\n      </g>\r\n     </g>\r\n     <g id=\"text_3\">\r\n      <!-- 0.4 -->\r\n      <g transform=\"translate(192.069688 402.318437)scale(0.1 -0.1)\">\r\n       <defs>\r\n        <path d=\"M 37.796875 64.3125 \r\nL 12.890625 25.390625 \r\nL 37.796875 25.390625 \r\nz\r\nM 35.203125 72.90625 \r\nL 47.609375 72.90625 \r\nL 47.609375 25.390625 \r\nL 58.015625 25.390625 \r\nL 58.015625 17.1875 \r\nL 47.609375 17.1875 \r\nL 47.609375 0 \r\nL 37.796875 0 \r\nL 37.796875 17.1875 \r\nL 4.890625 17.1875 \r\nL 4.890625 26.703125 \r\nz\r\n\" id=\"DejaVuSans-52\"/>\r\n       </defs>\r\n       <use xlink:href=\"#DejaVuSans-48\"/>\r\n       <use x=\"63.623047\" xlink:href=\"#DejaVuSans-46\"/>\r\n       <use x=\"95.410156\" xlink:href=\"#DejaVuSans-52\"/>\r\n      </g>\r\n     </g>\r\n    </g>\r\n    <g id=\"xtick_4\">\r\n     <g id=\"line2d_4\">\r\n      <g>\r\n       <use style=\"stroke:#000000;stroke-width:0.8;\" x=\"278.14125\" xlink:href=\"#m978fe67894\" y=\"387.72\"/>\r\n      </g>\r\n     </g>\r\n     <g id=\"text_4\">\r\n      <!-- 0.6 -->\r\n      <g transform=\"translate(270.189688 402.318437)scale(0.1 -0.1)\">\r\n       <defs>\r\n        <path d=\"M 33.015625 40.375 \r\nQ 26.375 40.375 22.484375 35.828125 \r\nQ 18.609375 31.296875 18.609375 23.390625 \r\nQ 18.609375 15.53125 22.484375 10.953125 \r\nQ 26.375 6.390625 33.015625 6.390625 \r\nQ 39.65625 6.390625 43.53125 10.953125 \r\nQ 47.40625 15.53125 47.40625 23.390625 \r\nQ 47.40625 31.296875 43.53125 35.828125 \r\nQ 39.65625 40.375 33.015625 40.375 \r\nz\r\nM 52.59375 71.296875 \r\nL 52.59375 62.3125 \r\nQ 48.875 64.0625 45.09375 64.984375 \r\nQ 41.3125 65.921875 37.59375 65.921875 \r\nQ 27.828125 65.921875 22.671875 59.328125 \r\nQ 17.53125 52.734375 16.796875 39.40625 \r\nQ 19.671875 43.65625 24.015625 45.921875 \r\nQ 28.375 48.1875 33.59375 48.1875 \r\nQ 44.578125 48.1875 50.953125 41.515625 \r\nQ 57.328125 34.859375 57.328125 23.390625 \r\nQ 57.328125 12.15625 50.6875 5.359375 \r\nQ 44.046875 -1.421875 33.015625 -1.421875 \r\nQ 20.359375 -1.421875 13.671875 8.265625 \r\nQ 6.984375 17.96875 6.984375 36.375 \r\nQ 6.984375 53.65625 15.1875 63.9375 \r\nQ 23.390625 74.21875 37.203125 74.21875 \r\nQ 40.921875 74.21875 44.703125 73.484375 \r\nQ 48.484375 72.75 52.59375 71.296875 \r\nz\r\n\" id=\"DejaVuSans-54\"/>\r\n       </defs>\r\n       <use xlink:href=\"#DejaVuSans-48\"/>\r\n       <use x=\"63.623047\" xlink:href=\"#DejaVuSans-46\"/>\r\n       <use x=\"95.410156\" xlink:href=\"#DejaVuSans-54\"/>\r\n      </g>\r\n     </g>\r\n    </g>\r\n    <g id=\"xtick_5\">\r\n     <g id=\"line2d_5\">\r\n      <g>\r\n       <use style=\"stroke:#000000;stroke-width:0.8;\" x=\"356.26125\" xlink:href=\"#m978fe67894\" y=\"387.72\"/>\r\n      </g>\r\n     </g>\r\n     <g id=\"text_5\">\r\n      <!-- 0.8 -->\r\n      <g transform=\"translate(348.309687 402.318437)scale(0.1 -0.1)\">\r\n       <defs>\r\n        <path d=\"M 31.78125 34.625 \r\nQ 24.75 34.625 20.71875 30.859375 \r\nQ 16.703125 27.09375 16.703125 20.515625 \r\nQ 16.703125 13.921875 20.71875 10.15625 \r\nQ 24.75 6.390625 31.78125 6.390625 \r\nQ 38.8125 6.390625 42.859375 10.171875 \r\nQ 46.921875 13.96875 46.921875 20.515625 \r\nQ 46.921875 27.09375 42.890625 30.859375 \r\nQ 38.875 34.625 31.78125 34.625 \r\nz\r\nM 21.921875 38.8125 \r\nQ 15.578125 40.375 12.03125 44.71875 \r\nQ 8.5 49.078125 8.5 55.328125 \r\nQ 8.5 64.0625 14.71875 69.140625 \r\nQ 20.953125 74.21875 31.78125 74.21875 \r\nQ 42.671875 74.21875 48.875 69.140625 \r\nQ 55.078125 64.0625 55.078125 55.328125 \r\nQ 55.078125 49.078125 51.53125 44.71875 \r\nQ 48 40.375 41.703125 38.8125 \r\nQ 48.828125 37.15625 52.796875 32.3125 \r\nQ 56.78125 27.484375 56.78125 20.515625 \r\nQ 56.78125 9.90625 50.3125 4.234375 \r\nQ 43.84375 -1.421875 31.78125 -1.421875 \r\nQ 19.734375 -1.421875 13.25 4.234375 \r\nQ 6.78125 9.90625 6.78125 20.515625 \r\nQ 6.78125 27.484375 10.78125 32.3125 \r\nQ 14.796875 37.15625 21.921875 38.8125 \r\nz\r\nM 18.3125 54.390625 \r\nQ 18.3125 48.734375 21.84375 45.5625 \r\nQ 25.390625 42.390625 31.78125 42.390625 \r\nQ 38.140625 42.390625 41.71875 45.5625 \r\nQ 45.3125 48.734375 45.3125 54.390625 \r\nQ 45.3125 60.0625 41.71875 63.234375 \r\nQ 38.140625 66.40625 31.78125 66.40625 \r\nQ 25.390625 66.40625 21.84375 63.234375 \r\nQ 18.3125 60.0625 18.3125 54.390625 \r\nz\r\n\" id=\"DejaVuSans-56\"/>\r\n       </defs>\r\n       <use xlink:href=\"#DejaVuSans-48\"/>\r\n       <use x=\"63.623047\" xlink:href=\"#DejaVuSans-46\"/>\r\n       <use x=\"95.410156\" xlink:href=\"#DejaVuSans-56\"/>\r\n      </g>\r\n     </g>\r\n    </g>\r\n    <g id=\"xtick_6\">\r\n     <g id=\"line2d_6\">\r\n      <g>\r\n       <use style=\"stroke:#000000;stroke-width:0.8;\" x=\"434.38125\" xlink:href=\"#m978fe67894\" y=\"387.72\"/>\r\n      </g>\r\n     </g>\r\n     <g id=\"text_6\">\r\n      <!-- 1.0 -->\r\n      <g transform=\"translate(426.429688 402.318437)scale(0.1 -0.1)\">\r\n       <defs>\r\n        <path d=\"M 12.40625 8.296875 \r\nL 28.515625 8.296875 \r\nL 28.515625 63.921875 \r\nL 10.984375 60.40625 \r\nL 10.984375 69.390625 \r\nL 28.421875 72.90625 \r\nL 38.28125 72.90625 \r\nL 38.28125 8.296875 \r\nL 54.390625 8.296875 \r\nL 54.390625 0 \r\nL 12.40625 0 \r\nz\r\n\" id=\"DejaVuSans-49\"/>\r\n       </defs>\r\n       <use xlink:href=\"#DejaVuSans-49\"/>\r\n       <use x=\"63.623047\" xlink:href=\"#DejaVuSans-46\"/>\r\n       <use x=\"95.410156\" xlink:href=\"#DejaVuSans-48\"/>\r\n      </g>\r\n     </g>\r\n    </g>\r\n    <g id=\"text_7\">\r\n     <!-- Recall -->\r\n     <g transform=\"translate(224.164062 415.996562)scale(0.1 -0.1)\">\r\n      <defs>\r\n       <path d=\"M 44.390625 34.1875 \r\nQ 47.5625 33.109375 50.5625 29.59375 \r\nQ 53.5625 26.078125 56.59375 19.921875 \r\nL 66.609375 0 \r\nL 56 0 \r\nL 46.6875 18.703125 \r\nQ 43.0625 26.03125 39.671875 28.421875 \r\nQ 36.28125 30.8125 30.421875 30.8125 \r\nL 19.671875 30.8125 \r\nL 19.671875 0 \r\nL 9.8125 0 \r\nL 9.8125 72.90625 \r\nL 32.078125 72.90625 \r\nQ 44.578125 72.90625 50.734375 67.671875 \r\nQ 56.890625 62.453125 56.890625 51.90625 \r\nQ 56.890625 45.015625 53.6875 40.46875 \r\nQ 50.484375 35.9375 44.390625 34.1875 \r\nz\r\nM 19.671875 64.796875 \r\nL 19.671875 38.921875 \r\nL 32.078125 38.921875 \r\nQ 39.203125 38.921875 42.84375 42.21875 \r\nQ 46.484375 45.515625 46.484375 51.90625 \r\nQ 46.484375 58.296875 42.84375 61.546875 \r\nQ 39.203125 64.796875 32.078125 64.796875 \r\nz\r\n\" id=\"DejaVuSans-82\"/>\r\n       <path d=\"M 56.203125 29.59375 \r\nL 56.203125 25.203125 \r\nL 14.890625 25.203125 \r\nQ 15.484375 15.921875 20.484375 11.0625 \r\nQ 25.484375 6.203125 34.421875 6.203125 \r\nQ 39.59375 6.203125 44.453125 7.46875 \r\nQ 49.3125 8.734375 54.109375 11.28125 \r\nL 54.109375 2.78125 \r\nQ 49.265625 0.734375 44.1875 -0.34375 \r\nQ 39.109375 -1.421875 33.890625 -1.421875 \r\nQ 20.796875 -1.421875 13.15625 6.1875 \r\nQ 5.515625 13.8125 5.515625 26.8125 \r\nQ 5.515625 40.234375 12.765625 48.109375 \r\nQ 20.015625 56 32.328125 56 \r\nQ 43.359375 56 49.78125 48.890625 \r\nQ 56.203125 41.796875 56.203125 29.59375 \r\nz\r\nM 47.21875 32.234375 \r\nQ 47.125 39.59375 43.09375 43.984375 \r\nQ 39.0625 48.390625 32.421875 48.390625 \r\nQ 24.90625 48.390625 20.390625 44.140625 \r\nQ 15.875 39.890625 15.1875 32.171875 \r\nz\r\n\" id=\"DejaVuSans-101\"/>\r\n       <path d=\"M 48.78125 52.59375 \r\nL 48.78125 44.1875 \r\nQ 44.96875 46.296875 41.140625 47.34375 \r\nQ 37.3125 48.390625 33.40625 48.390625 \r\nQ 24.65625 48.390625 19.8125 42.84375 \r\nQ 14.984375 37.3125 14.984375 27.296875 \r\nQ 14.984375 17.28125 19.8125 11.734375 \r\nQ 24.65625 6.203125 33.40625 6.203125 \r\nQ 37.3125 6.203125 41.140625 7.25 \r\nQ 44.96875 8.296875 48.78125 10.40625 \r\nL 48.78125 2.09375 \r\nQ 45.015625 0.34375 40.984375 -0.53125 \r\nQ 36.96875 -1.421875 32.421875 -1.421875 \r\nQ 20.0625 -1.421875 12.78125 6.34375 \r\nQ 5.515625 14.109375 5.515625 27.296875 \r\nQ 5.515625 40.671875 12.859375 48.328125 \r\nQ 20.21875 56 33.015625 56 \r\nQ 37.15625 56 41.109375 55.140625 \r\nQ 45.0625 54.296875 48.78125 52.59375 \r\nz\r\n\" id=\"DejaVuSans-99\"/>\r\n       <path d=\"M 34.28125 27.484375 \r\nQ 23.390625 27.484375 19.1875 25 \r\nQ 14.984375 22.515625 14.984375 16.5 \r\nQ 14.984375 11.71875 18.140625 8.90625 \r\nQ 21.296875 6.109375 26.703125 6.109375 \r\nQ 34.1875 6.109375 38.703125 11.40625 \r\nQ 43.21875 16.703125 43.21875 25.484375 \r\nL 43.21875 27.484375 \r\nz\r\nM 52.203125 31.203125 \r\nL 52.203125 0 \r\nL 43.21875 0 \r\nL 43.21875 8.296875 \r\nQ 40.140625 3.328125 35.546875 0.953125 \r\nQ 30.953125 -1.421875 24.3125 -1.421875 \r\nQ 15.921875 -1.421875 10.953125 3.296875 \r\nQ 6 8.015625 6 15.921875 \r\nQ 6 25.140625 12.171875 29.828125 \r\nQ 18.359375 34.515625 30.609375 34.515625 \r\nL 43.21875 34.515625 \r\nL 43.21875 35.40625 \r\nQ 43.21875 41.609375 39.140625 45 \r\nQ 35.0625 48.390625 27.6875 48.390625 \r\nQ 23 48.390625 18.546875 47.265625 \r\nQ 14.109375 46.140625 10.015625 43.890625 \r\nL 10.015625 52.203125 \r\nQ 14.9375 54.109375 19.578125 55.046875 \r\nQ 24.21875 56 28.609375 56 \r\nQ 40.484375 56 46.34375 49.84375 \r\nQ 52.203125 43.703125 52.203125 31.203125 \r\nz\r\n\" id=\"DejaVuSans-97\"/>\r\n       <path d=\"M 9.421875 75.984375 \r\nL 18.40625 75.984375 \r\nL 18.40625 0 \r\nL 9.421875 0 \r\nz\r\n\" id=\"DejaVuSans-108\"/>\r\n      </defs>\r\n      <use xlink:href=\"#DejaVuSans-82\"/>\r\n      <use x=\"64.982422\" xlink:href=\"#DejaVuSans-101\"/>\r\n      <use x=\"126.505859\" xlink:href=\"#DejaVuSans-99\"/>\r\n      <use x=\"181.486328\" xlink:href=\"#DejaVuSans-97\"/>\r\n      <use x=\"242.765625\" xlink:href=\"#DejaVuSans-108\"/>\r\n      <use x=\"270.548828\" xlink:href=\"#DejaVuSans-108\"/>\r\n     </g>\r\n    </g>\r\n   </g>\r\n   <g id=\"matplotlib.axis_2\">\r\n    <g id=\"ytick_1\">\r\n     <g id=\"line2d_7\">\r\n      <defs>\r\n       <path d=\"M 0 0 \r\nL -3.5 0 \r\n\" id=\"me1775046a6\" style=\"stroke:#000000;stroke-width:0.8;\"/>\r\n      </defs>\r\n      <g>\r\n       <use style=\"stroke:#000000;stroke-width:0.8;\" x=\"43.78125\" xlink:href=\"#me1775046a6\" y=\"387.72\"/>\r\n      </g>\r\n     </g>\r\n     <g id=\"text_8\">\r\n      <!-- 0.0 -->\r\n      <g transform=\"translate(20.878125 391.519219)scale(0.1 -0.1)\">\r\n       <use xlink:href=\"#DejaVuSans-48\"/>\r\n       <use x=\"63.623047\" xlink:href=\"#DejaVuSans-46\"/>\r\n       <use x=\"95.410156\" xlink:href=\"#DejaVuSans-48\"/>\r\n      </g>\r\n     </g>\r\n    </g>\r\n    <g id=\"ytick_2\">\r\n     <g id=\"line2d_8\">\r\n      <g>\r\n       <use style=\"stroke:#000000;stroke-width:0.8;\" x=\"43.78125\" xlink:href=\"#me1775046a6\" y=\"315.24\"/>\r\n      </g>\r\n     </g>\r\n     <g id=\"text_9\">\r\n      <!-- 0.2 -->\r\n      <g transform=\"translate(20.878125 319.039219)scale(0.1 -0.1)\">\r\n       <use xlink:href=\"#DejaVuSans-48\"/>\r\n       <use x=\"63.623047\" xlink:href=\"#DejaVuSans-46\"/>\r\n       <use x=\"95.410156\" xlink:href=\"#DejaVuSans-50\"/>\r\n      </g>\r\n     </g>\r\n    </g>\r\n    <g id=\"ytick_3\">\r\n     <g id=\"line2d_9\">\r\n      <g>\r\n       <use style=\"stroke:#000000;stroke-width:0.8;\" x=\"43.78125\" xlink:href=\"#me1775046a6\" y=\"242.76\"/>\r\n      </g>\r\n     </g>\r\n     <g id=\"text_10\">\r\n      <!-- 0.4 -->\r\n      <g transform=\"translate(20.878125 246.559219)scale(0.1 -0.1)\">\r\n       <use xlink:href=\"#DejaVuSans-48\"/>\r\n       <use x=\"63.623047\" xlink:href=\"#DejaVuSans-46\"/>\r\n       <use x=\"95.410156\" xlink:href=\"#DejaVuSans-52\"/>\r\n      </g>\r\n     </g>\r\n    </g>\r\n    <g id=\"ytick_4\">\r\n     <g id=\"line2d_10\">\r\n      <g>\r\n       <use style=\"stroke:#000000;stroke-width:0.8;\" x=\"43.78125\" xlink:href=\"#me1775046a6\" y=\"170.28\"/>\r\n      </g>\r\n     </g>\r\n     <g id=\"text_11\">\r\n      <!-- 0.6 -->\r\n      <g transform=\"translate(20.878125 174.079219)scale(0.1 -0.1)\">\r\n       <use xlink:href=\"#DejaVuSans-48\"/>\r\n       <use x=\"63.623047\" xlink:href=\"#DejaVuSans-46\"/>\r\n       <use x=\"95.410156\" xlink:href=\"#DejaVuSans-54\"/>\r\n      </g>\r\n     </g>\r\n    </g>\r\n    <g id=\"ytick_5\">\r\n     <g id=\"line2d_11\">\r\n      <g>\r\n       <use style=\"stroke:#000000;stroke-width:0.8;\" x=\"43.78125\" xlink:href=\"#me1775046a6\" y=\"97.8\"/>\r\n      </g>\r\n     </g>\r\n     <g id=\"text_12\">\r\n      <!-- 0.8 -->\r\n      <g transform=\"translate(20.878125 101.599219)scale(0.1 -0.1)\">\r\n       <use xlink:href=\"#DejaVuSans-48\"/>\r\n       <use x=\"63.623047\" xlink:href=\"#DejaVuSans-46\"/>\r\n       <use x=\"95.410156\" xlink:href=\"#DejaVuSans-56\"/>\r\n      </g>\r\n     </g>\r\n    </g>\r\n    <g id=\"ytick_6\">\r\n     <g id=\"line2d_12\">\r\n      <g>\r\n       <use style=\"stroke:#000000;stroke-width:0.8;\" x=\"43.78125\" xlink:href=\"#me1775046a6\" y=\"25.32\"/>\r\n      </g>\r\n     </g>\r\n     <g id=\"text_13\">\r\n      <!-- 1.0 -->\r\n      <g transform=\"translate(20.878125 29.119219)scale(0.1 -0.1)\">\r\n       <use xlink:href=\"#DejaVuSans-49\"/>\r\n       <use x=\"63.623047\" xlink:href=\"#DejaVuSans-46\"/>\r\n       <use x=\"95.410156\" xlink:href=\"#DejaVuSans-48\"/>\r\n      </g>\r\n     </g>\r\n    </g>\r\n    <g id=\"text_14\">\r\n     <!-- Precision -->\r\n     <g transform=\"translate(14.798438 219.767031)rotate(-90)scale(0.1 -0.1)\">\r\n      <defs>\r\n       <path d=\"M 19.671875 64.796875 \r\nL 19.671875 37.40625 \r\nL 32.078125 37.40625 \r\nQ 38.96875 37.40625 42.71875 40.96875 \r\nQ 46.484375 44.53125 46.484375 51.125 \r\nQ 46.484375 57.671875 42.71875 61.234375 \r\nQ 38.96875 64.796875 32.078125 64.796875 \r\nz\r\nM 9.8125 72.90625 \r\nL 32.078125 72.90625 \r\nQ 44.34375 72.90625 50.609375 67.359375 \r\nQ 56.890625 61.8125 56.890625 51.125 \r\nQ 56.890625 40.328125 50.609375 34.8125 \r\nQ 44.34375 29.296875 32.078125 29.296875 \r\nL 19.671875 29.296875 \r\nL 19.671875 0 \r\nL 9.8125 0 \r\nz\r\n\" id=\"DejaVuSans-80\"/>\r\n       <path d=\"M 41.109375 46.296875 \r\nQ 39.59375 47.171875 37.8125 47.578125 \r\nQ 36.03125 48 33.890625 48 \r\nQ 26.265625 48 22.1875 43.046875 \r\nQ 18.109375 38.09375 18.109375 28.8125 \r\nL 18.109375 0 \r\nL 9.078125 0 \r\nL 9.078125 54.6875 \r\nL 18.109375 54.6875 \r\nL 18.109375 46.1875 \r\nQ 20.953125 51.171875 25.484375 53.578125 \r\nQ 30.03125 56 36.53125 56 \r\nQ 37.453125 56 38.578125 55.875 \r\nQ 39.703125 55.765625 41.0625 55.515625 \r\nz\r\n\" id=\"DejaVuSans-114\"/>\r\n       <path d=\"M 9.421875 54.6875 \r\nL 18.40625 54.6875 \r\nL 18.40625 0 \r\nL 9.421875 0 \r\nz\r\nM 9.421875 75.984375 \r\nL 18.40625 75.984375 \r\nL 18.40625 64.59375 \r\nL 9.421875 64.59375 \r\nz\r\n\" id=\"DejaVuSans-105\"/>\r\n       <path d=\"M 44.28125 53.078125 \r\nL 44.28125 44.578125 \r\nQ 40.484375 46.53125 36.375 47.5 \r\nQ 32.28125 48.484375 27.875 48.484375 \r\nQ 21.1875 48.484375 17.84375 46.4375 \r\nQ 14.5 44.390625 14.5 40.28125 \r\nQ 14.5 37.15625 16.890625 35.375 \r\nQ 19.28125 33.59375 26.515625 31.984375 \r\nL 29.59375 31.296875 \r\nQ 39.15625 29.25 43.1875 25.515625 \r\nQ 47.21875 21.78125 47.21875 15.09375 \r\nQ 47.21875 7.46875 41.1875 3.015625 \r\nQ 35.15625 -1.421875 24.609375 -1.421875 \r\nQ 20.21875 -1.421875 15.453125 -0.5625 \r\nQ 10.6875 0.296875 5.421875 2 \r\nL 5.421875 11.28125 \r\nQ 10.40625 8.6875 15.234375 7.390625 \r\nQ 20.0625 6.109375 24.8125 6.109375 \r\nQ 31.15625 6.109375 34.5625 8.28125 \r\nQ 37.984375 10.453125 37.984375 14.40625 \r\nQ 37.984375 18.0625 35.515625 20.015625 \r\nQ 33.0625 21.96875 24.703125 23.78125 \r\nL 21.578125 24.515625 \r\nQ 13.234375 26.265625 9.515625 29.90625 \r\nQ 5.8125 33.546875 5.8125 39.890625 \r\nQ 5.8125 47.609375 11.28125 51.796875 \r\nQ 16.75 56 26.8125 56 \r\nQ 31.78125 56 36.171875 55.265625 \r\nQ 40.578125 54.546875 44.28125 53.078125 \r\nz\r\n\" id=\"DejaVuSans-115\"/>\r\n       <path d=\"M 30.609375 48.390625 \r\nQ 23.390625 48.390625 19.1875 42.75 \r\nQ 14.984375 37.109375 14.984375 27.296875 \r\nQ 14.984375 17.484375 19.15625 11.84375 \r\nQ 23.34375 6.203125 30.609375 6.203125 \r\nQ 37.796875 6.203125 41.984375 11.859375 \r\nQ 46.1875 17.53125 46.1875 27.296875 \r\nQ 46.1875 37.015625 41.984375 42.703125 \r\nQ 37.796875 48.390625 30.609375 48.390625 \r\nz\r\nM 30.609375 56 \r\nQ 42.328125 56 49.015625 48.375 \r\nQ 55.71875 40.765625 55.71875 27.296875 \r\nQ 55.71875 13.875 49.015625 6.21875 \r\nQ 42.328125 -1.421875 30.609375 -1.421875 \r\nQ 18.84375 -1.421875 12.171875 6.21875 \r\nQ 5.515625 13.875 5.515625 27.296875 \r\nQ 5.515625 40.765625 12.171875 48.375 \r\nQ 18.84375 56 30.609375 56 \r\nz\r\n\" id=\"DejaVuSans-111\"/>\r\n       <path d=\"M 54.890625 33.015625 \r\nL 54.890625 0 \r\nL 45.90625 0 \r\nL 45.90625 32.71875 \r\nQ 45.90625 40.484375 42.875 44.328125 \r\nQ 39.84375 48.1875 33.796875 48.1875 \r\nQ 26.515625 48.1875 22.3125 43.546875 \r\nQ 18.109375 38.921875 18.109375 30.90625 \r\nL 18.109375 0 \r\nL 9.078125 0 \r\nL 9.078125 54.6875 \r\nL 18.109375 54.6875 \r\nL 18.109375 46.1875 \r\nQ 21.34375 51.125 25.703125 53.5625 \r\nQ 30.078125 56 35.796875 56 \r\nQ 45.21875 56 50.046875 50.171875 \r\nQ 54.890625 44.34375 54.890625 33.015625 \r\nz\r\n\" id=\"DejaVuSans-110\"/>\r\n      </defs>\r\n      <use xlink:href=\"#DejaVuSans-80\"/>\r\n      <use x=\"58.552734\" xlink:href=\"#DejaVuSans-114\"/>\r\n      <use x=\"97.416016\" xlink:href=\"#DejaVuSans-101\"/>\r\n      <use x=\"158.939453\" xlink:href=\"#DejaVuSans-99\"/>\r\n      <use x=\"213.919922\" xlink:href=\"#DejaVuSans-105\"/>\r\n      <use x=\"241.703125\" xlink:href=\"#DejaVuSans-115\"/>\r\n      <use x=\"293.802734\" xlink:href=\"#DejaVuSans-105\"/>\r\n      <use x=\"321.585938\" xlink:href=\"#DejaVuSans-111\"/>\r\n      <use x=\"382.767578\" xlink:href=\"#DejaVuSans-110\"/>\r\n     </g>\r\n    </g>\r\n   </g>\r\n   <g id=\"line2d_13\">\r\n    <path clip-path=\"url(#pbd8c4345e9)\" d=\"M 434.38125 208.323198 \r\nL 402.563129 208.323198 \r\nL 402.563129 181.261429 \r\nL 43.78125 181.261429 \r\nL 43.78125 25.32 \r\n\" style=\"fill:none;stroke:#1f77b4;stroke-linecap:square;stroke-width:1.5;\"/>\r\n   </g>\r\n   <g id=\"line2d_14\">\r\n    <path clip-path=\"url(#pbd8c4345e9)\" d=\"M 434.38125 303.696117 \r\nL 44.416889 303.696117 \r\nL 44.416889 271.752 \r\nL 43.78125 271.752 \r\nL 43.78125 25.32 \r\n\" style=\"fill:none;stroke:#ff7f0e;stroke-linecap:square;stroke-width:1.5;\"/>\r\n   </g>\r\n   <g id=\"line2d_15\">\r\n    <path clip-path=\"url(#pbd8c4345e9)\" d=\"M 434.38125 288.740686 \r\nL 213.956315 288.740686 \r\nL 213.956315 172.835112 \r\nL 43.78125 172.835112 \r\nL 43.78125 25.32 \r\n\" style=\"fill:none;stroke:#2ca02c;stroke-linecap:square;stroke-width:1.5;\"/>\r\n   </g>\r\n   <g id=\"patch_3\">\r\n    <path d=\"M 43.78125 387.72 \r\nL 43.78125 7.2 \r\n\" style=\"fill:none;stroke:#000000;stroke-linecap:square;stroke-linejoin:miter;stroke-width:0.8;\"/>\r\n   </g>\r\n   <g id=\"patch_4\">\r\n    <path d=\"M 434.38125 387.72 \r\nL 434.38125 7.2 \r\n\" style=\"fill:none;stroke:#000000;stroke-linecap:square;stroke-linejoin:miter;stroke-width:0.8;\"/>\r\n   </g>\r\n   <g id=\"patch_5\">\r\n    <path d=\"M 43.78125 387.72 \r\nL 434.38125 387.72 \r\n\" style=\"fill:none;stroke:#000000;stroke-linecap:square;stroke-linejoin:miter;stroke-width:0.8;\"/>\r\n   </g>\r\n   <g id=\"patch_6\">\r\n    <path d=\"M 43.78125 7.2 \r\nL 434.38125 7.2 \r\n\" style=\"fill:none;stroke:#000000;stroke-linecap:square;stroke-linejoin:miter;stroke-width:0.8;\"/>\r\n   </g>\r\n   <g id=\"legend_1\">\r\n    <g id=\"patch_7\">\r\n     <path d=\"M 488.733125 59.234375 \r\nL 614.389375 59.234375 \r\nQ 616.389375 59.234375 616.389375 57.234375 \r\nL 616.389375 14.2 \r\nQ 616.389375 12.2 614.389375 12.2 \r\nL 488.733125 12.2 \r\nQ 486.733125 12.2 486.733125 14.2 \r\nL 486.733125 57.234375 \r\nQ 486.733125 59.234375 488.733125 59.234375 \r\nz\r\n\" style=\"fill:#ffffff;opacity:0.8;stroke:#cccccc;stroke-linejoin:miter;\"/>\r\n    </g>\r\n    <g id=\"line2d_16\">\r\n     <path d=\"M 490.733125 20.298437 \r\nL 510.733125 20.298437 \r\n\" style=\"fill:none;stroke:#1f77b4;stroke-linecap:square;stroke-width:1.5;\"/>\r\n    </g>\r\n    <g id=\"line2d_17\"/>\r\n    <g id=\"text_15\">\r\n     <!-- HOME Avg.: 0.564  -->\r\n     <g transform=\"translate(518.733125 23.798437)scale(0.1 -0.1)\">\r\n      <defs>\r\n       <path d=\"M 9.8125 72.90625 \r\nL 19.671875 72.90625 \r\nL 19.671875 43.015625 \r\nL 55.515625 43.015625 \r\nL 55.515625 72.90625 \r\nL 65.375 72.90625 \r\nL 65.375 0 \r\nL 55.515625 0 \r\nL 55.515625 34.71875 \r\nL 19.671875 34.71875 \r\nL 19.671875 0 \r\nL 9.8125 0 \r\nz\r\n\" id=\"DejaVuSans-72\"/>\r\n       <path d=\"M 39.40625 66.21875 \r\nQ 28.65625 66.21875 22.328125 58.203125 \r\nQ 16.015625 50.203125 16.015625 36.375 \r\nQ 16.015625 22.609375 22.328125 14.59375 \r\nQ 28.65625 6.59375 39.40625 6.59375 \r\nQ 50.140625 6.59375 56.421875 14.59375 \r\nQ 62.703125 22.609375 62.703125 36.375 \r\nQ 62.703125 50.203125 56.421875 58.203125 \r\nQ 50.140625 66.21875 39.40625 66.21875 \r\nz\r\nM 39.40625 74.21875 \r\nQ 54.734375 74.21875 63.90625 63.9375 \r\nQ 73.09375 53.65625 73.09375 36.375 \r\nQ 73.09375 19.140625 63.90625 8.859375 \r\nQ 54.734375 -1.421875 39.40625 -1.421875 \r\nQ 24.03125 -1.421875 14.8125 8.828125 \r\nQ 5.609375 19.09375 5.609375 36.375 \r\nQ 5.609375 53.65625 14.8125 63.9375 \r\nQ 24.03125 74.21875 39.40625 74.21875 \r\nz\r\n\" id=\"DejaVuSans-79\"/>\r\n       <path d=\"M 9.8125 72.90625 \r\nL 24.515625 72.90625 \r\nL 43.109375 23.296875 \r\nL 61.8125 72.90625 \r\nL 76.515625 72.90625 \r\nL 76.515625 0 \r\nL 66.890625 0 \r\nL 66.890625 64.015625 \r\nL 48.09375 14.015625 \r\nL 38.1875 14.015625 \r\nL 19.390625 64.015625 \r\nL 19.390625 0 \r\nL 9.8125 0 \r\nz\r\n\" id=\"DejaVuSans-77\"/>\r\n       <path d=\"M 9.8125 72.90625 \r\nL 55.90625 72.90625 \r\nL 55.90625 64.59375 \r\nL 19.671875 64.59375 \r\nL 19.671875 43.015625 \r\nL 54.390625 43.015625 \r\nL 54.390625 34.71875 \r\nL 19.671875 34.71875 \r\nL 19.671875 8.296875 \r\nL 56.78125 8.296875 \r\nL 56.78125 0 \r\nL 9.8125 0 \r\nz\r\n\" id=\"DejaVuSans-69\"/>\r\n       <path id=\"DejaVuSans-32\"/>\r\n       <path d=\"M 34.1875 63.1875 \r\nL 20.796875 26.90625 \r\nL 47.609375 26.90625 \r\nz\r\nM 28.609375 72.90625 \r\nL 39.796875 72.90625 \r\nL 67.578125 0 \r\nL 57.328125 0 \r\nL 50.6875 18.703125 \r\nL 17.828125 18.703125 \r\nL 11.1875 0 \r\nL 0.78125 0 \r\nz\r\n\" id=\"DejaVuSans-65\"/>\r\n       <path d=\"M 2.984375 54.6875 \r\nL 12.5 54.6875 \r\nL 29.59375 8.796875 \r\nL 46.6875 54.6875 \r\nL 56.203125 54.6875 \r\nL 35.6875 0 \r\nL 23.484375 0 \r\nz\r\n\" id=\"DejaVuSans-118\"/>\r\n       <path d=\"M 45.40625 27.984375 \r\nQ 45.40625 37.75 41.375 43.109375 \r\nQ 37.359375 48.484375 30.078125 48.484375 \r\nQ 22.859375 48.484375 18.828125 43.109375 \r\nQ 14.796875 37.75 14.796875 27.984375 \r\nQ 14.796875 18.265625 18.828125 12.890625 \r\nQ 22.859375 7.515625 30.078125 7.515625 \r\nQ 37.359375 7.515625 41.375 12.890625 \r\nQ 45.40625 18.265625 45.40625 27.984375 \r\nz\r\nM 54.390625 6.78125 \r\nQ 54.390625 -7.171875 48.1875 -13.984375 \r\nQ 42 -20.796875 29.203125 -20.796875 \r\nQ 24.46875 -20.796875 20.265625 -20.09375 \r\nQ 16.0625 -19.390625 12.109375 -17.921875 \r\nL 12.109375 -9.1875 \r\nQ 16.0625 -11.328125 19.921875 -12.34375 \r\nQ 23.78125 -13.375 27.78125 -13.375 \r\nQ 36.625 -13.375 41.015625 -8.765625 \r\nQ 45.40625 -4.15625 45.40625 5.171875 \r\nL 45.40625 9.625 \r\nQ 42.625 4.78125 38.28125 2.390625 \r\nQ 33.9375 0 27.875 0 \r\nQ 17.828125 0 11.671875 7.65625 \r\nQ 5.515625 15.328125 5.515625 27.984375 \r\nQ 5.515625 40.671875 11.671875 48.328125 \r\nQ 17.828125 56 27.875 56 \r\nQ 33.9375 56 38.28125 53.609375 \r\nQ 42.625 51.21875 45.40625 46.390625 \r\nL 45.40625 54.6875 \r\nL 54.390625 54.6875 \r\nz\r\n\" id=\"DejaVuSans-103\"/>\r\n       <path d=\"M 11.71875 12.40625 \r\nL 22.015625 12.40625 \r\nL 22.015625 0 \r\nL 11.71875 0 \r\nz\r\nM 11.71875 51.703125 \r\nL 22.015625 51.703125 \r\nL 22.015625 39.3125 \r\nL 11.71875 39.3125 \r\nz\r\n\" id=\"DejaVuSans-58\"/>\r\n       <path d=\"M 10.796875 72.90625 \r\nL 49.515625 72.90625 \r\nL 49.515625 64.59375 \r\nL 19.828125 64.59375 \r\nL 19.828125 46.734375 \r\nQ 21.96875 47.46875 24.109375 47.828125 \r\nQ 26.265625 48.1875 28.421875 48.1875 \r\nQ 40.625 48.1875 47.75 41.5 \r\nQ 54.890625 34.8125 54.890625 23.390625 \r\nQ 54.890625 11.625 47.5625 5.09375 \r\nQ 40.234375 -1.421875 26.90625 -1.421875 \r\nQ 22.3125 -1.421875 17.546875 -0.640625 \r\nQ 12.796875 0.140625 7.71875 1.703125 \r\nL 7.71875 11.625 \r\nQ 12.109375 9.234375 16.796875 8.0625 \r\nQ 21.484375 6.890625 26.703125 6.890625 \r\nQ 35.15625 6.890625 40.078125 11.328125 \r\nQ 45.015625 15.765625 45.015625 23.390625 \r\nQ 45.015625 31 40.078125 35.4375 \r\nQ 35.15625 39.890625 26.703125 39.890625 \r\nQ 22.75 39.890625 18.8125 39.015625 \r\nQ 14.890625 38.140625 10.796875 36.28125 \r\nz\r\n\" id=\"DejaVuSans-53\"/>\r\n      </defs>\r\n      <use xlink:href=\"#DejaVuSans-72\"/>\r\n      <use x=\"75.195312\" xlink:href=\"#DejaVuSans-79\"/>\r\n      <use x=\"153.90625\" xlink:href=\"#DejaVuSans-77\"/>\r\n      <use x=\"240.185547\" xlink:href=\"#DejaVuSans-69\"/>\r\n      <use x=\"303.369141\" xlink:href=\"#DejaVuSans-32\"/>\r\n      <use x=\"335.15625\" xlink:href=\"#DejaVuSans-65\"/>\r\n      <use x=\"397.689453\" xlink:href=\"#DejaVuSans-118\"/>\r\n      <use x=\"456.869141\" xlink:href=\"#DejaVuSans-103\"/>\r\n      <use x=\"520.345703\" xlink:href=\"#DejaVuSans-46\"/>\r\n      <use x=\"552.132812\" xlink:href=\"#DejaVuSans-58\"/>\r\n      <use x=\"585.824219\" xlink:href=\"#DejaVuSans-32\"/>\r\n      <use x=\"617.611328\" xlink:href=\"#DejaVuSans-48\"/>\r\n      <use x=\"681.234375\" xlink:href=\"#DejaVuSans-46\"/>\r\n      <use x=\"713.021484\" xlink:href=\"#DejaVuSans-53\"/>\r\n      <use x=\"776.644531\" xlink:href=\"#DejaVuSans-54\"/>\r\n      <use x=\"840.267578\" xlink:href=\"#DejaVuSans-52\"/>\r\n      <use x=\"903.890625\" xlink:href=\"#DejaVuSans-32\"/>\r\n     </g>\r\n    </g>\r\n    <g id=\"line2d_18\">\r\n     <path d=\"M 490.733125 34.976562 \r\nL 510.733125 34.976562 \r\n\" style=\"fill:none;stroke:#ff7f0e;stroke-linecap:square;stroke-width:1.5;\"/>\r\n    </g>\r\n    <g id=\"line2d_19\"/>\r\n    <g id=\"text_16\">\r\n     <!-- DRAW Avg.: 0.232  -->\r\n     <g transform=\"translate(518.733125 38.476562)scale(0.1 -0.1)\">\r\n      <defs>\r\n       <path d=\"M 19.671875 64.796875 \r\nL 19.671875 8.109375 \r\nL 31.59375 8.109375 \r\nQ 46.6875 8.109375 53.6875 14.9375 \r\nQ 60.6875 21.78125 60.6875 36.53125 \r\nQ 60.6875 51.171875 53.6875 57.984375 \r\nQ 46.6875 64.796875 31.59375 64.796875 \r\nz\r\nM 9.8125 72.90625 \r\nL 30.078125 72.90625 \r\nQ 51.265625 72.90625 61.171875 64.09375 \r\nQ 71.09375 55.28125 71.09375 36.53125 \r\nQ 71.09375 17.671875 61.125 8.828125 \r\nQ 51.171875 0 30.078125 0 \r\nL 9.8125 0 \r\nz\r\n\" id=\"DejaVuSans-68\"/>\r\n       <path d=\"M 3.328125 72.90625 \r\nL 13.28125 72.90625 \r\nL 28.609375 11.28125 \r\nL 43.890625 72.90625 \r\nL 54.984375 72.90625 \r\nL 70.3125 11.28125 \r\nL 85.59375 72.90625 \r\nL 95.609375 72.90625 \r\nL 77.296875 0 \r\nL 64.890625 0 \r\nL 49.515625 63.28125 \r\nL 33.984375 0 \r\nL 21.578125 0 \r\nz\r\n\" id=\"DejaVuSans-87\"/>\r\n       <path d=\"M 40.578125 39.3125 \r\nQ 47.65625 37.796875 51.625 33 \r\nQ 55.609375 28.21875 55.609375 21.1875 \r\nQ 55.609375 10.40625 48.1875 4.484375 \r\nQ 40.765625 -1.421875 27.09375 -1.421875 \r\nQ 22.515625 -1.421875 17.65625 -0.515625 \r\nQ 12.796875 0.390625 7.625 2.203125 \r\nL 7.625 11.71875 \r\nQ 11.71875 9.328125 16.59375 8.109375 \r\nQ 21.484375 6.890625 26.8125 6.890625 \r\nQ 36.078125 6.890625 40.9375 10.546875 \r\nQ 45.796875 14.203125 45.796875 21.1875 \r\nQ 45.796875 27.640625 41.28125 31.265625 \r\nQ 36.765625 34.90625 28.71875 34.90625 \r\nL 20.21875 34.90625 \r\nL 20.21875 43.015625 \r\nL 29.109375 43.015625 \r\nQ 36.375 43.015625 40.234375 45.921875 \r\nQ 44.09375 48.828125 44.09375 54.296875 \r\nQ 44.09375 59.90625 40.109375 62.90625 \r\nQ 36.140625 65.921875 28.71875 65.921875 \r\nQ 24.65625 65.921875 20.015625 65.03125 \r\nQ 15.375 64.15625 9.8125 62.3125 \r\nL 9.8125 71.09375 \r\nQ 15.4375 72.65625 20.34375 73.4375 \r\nQ 25.25 74.21875 29.59375 74.21875 \r\nQ 40.828125 74.21875 47.359375 69.109375 \r\nQ 53.90625 64.015625 53.90625 55.328125 \r\nQ 53.90625 49.265625 50.4375 45.09375 \r\nQ 46.96875 40.921875 40.578125 39.3125 \r\nz\r\n\" id=\"DejaVuSans-51\"/>\r\n      </defs>\r\n      <use xlink:href=\"#DejaVuSans-68\"/>\r\n      <use x=\"77.001953\" xlink:href=\"#DejaVuSans-82\"/>\r\n      <use x=\"142.484375\" xlink:href=\"#DejaVuSans-65\"/>\r\n      <use x=\"205.392578\" xlink:href=\"#DejaVuSans-87\"/>\r\n      <use x=\"304.269531\" xlink:href=\"#DejaVuSans-32\"/>\r\n      <use x=\"336.056641\" xlink:href=\"#DejaVuSans-65\"/>\r\n      <use x=\"398.589844\" xlink:href=\"#DejaVuSans-118\"/>\r\n      <use x=\"457.769531\" xlink:href=\"#DejaVuSans-103\"/>\r\n      <use x=\"521.246094\" xlink:href=\"#DejaVuSans-46\"/>\r\n      <use x=\"553.033203\" xlink:href=\"#DejaVuSans-58\"/>\r\n      <use x=\"586.724609\" xlink:href=\"#DejaVuSans-32\"/>\r\n      <use x=\"618.511719\" xlink:href=\"#DejaVuSans-48\"/>\r\n      <use x=\"682.134766\" xlink:href=\"#DejaVuSans-46\"/>\r\n      <use x=\"713.921875\" xlink:href=\"#DejaVuSans-50\"/>\r\n      <use x=\"777.544922\" xlink:href=\"#DejaVuSans-51\"/>\r\n      <use x=\"841.167969\" xlink:href=\"#DejaVuSans-50\"/>\r\n      <use x=\"904.791016\" xlink:href=\"#DejaVuSans-32\"/>\r\n     </g>\r\n    </g>\r\n    <g id=\"line2d_20\">\r\n     <path d=\"M 490.733125 49.654687 \r\nL 510.733125 49.654687 \r\n\" style=\"fill:none;stroke:#2ca02c;stroke-linecap:square;stroke-width:1.5;\"/>\r\n    </g>\r\n    <g id=\"line2d_21\"/>\r\n    <g id=\"text_17\">\r\n     <!-- AWAY Avg.: 0.412  -->\r\n     <g transform=\"translate(518.733125 53.154687)scale(0.1 -0.1)\">\r\n      <defs>\r\n       <path d=\"M -0.203125 72.90625 \r\nL 10.40625 72.90625 \r\nL 30.609375 42.921875 \r\nL 50.6875 72.90625 \r\nL 61.28125 72.90625 \r\nL 35.5 34.71875 \r\nL 35.5 0 \r\nL 25.59375 0 \r\nL 25.59375 34.71875 \r\nz\r\n\" id=\"DejaVuSans-89\"/>\r\n      </defs>\r\n      <use xlink:href=\"#DejaVuSans-65\"/>\r\n      <use x=\"62.908203\" xlink:href=\"#DejaVuSans-87\"/>\r\n      <use x=\"156.285156\" xlink:href=\"#DejaVuSans-65\"/>\r\n      <use x=\"216.943359\" xlink:href=\"#DejaVuSans-89\"/>\r\n      <use x=\"278.027344\" xlink:href=\"#DejaVuSans-32\"/>\r\n      <use x=\"309.814453\" xlink:href=\"#DejaVuSans-65\"/>\r\n      <use x=\"372.347656\" xlink:href=\"#DejaVuSans-118\"/>\r\n      <use x=\"431.527344\" xlink:href=\"#DejaVuSans-103\"/>\r\n      <use x=\"495.003906\" xlink:href=\"#DejaVuSans-46\"/>\r\n      <use x=\"526.791016\" xlink:href=\"#DejaVuSans-58\"/>\r\n      <use x=\"560.482422\" xlink:href=\"#DejaVuSans-32\"/>\r\n      <use x=\"592.269531\" xlink:href=\"#DejaVuSans-48\"/>\r\n      <use x=\"655.892578\" xlink:href=\"#DejaVuSans-46\"/>\r\n      <use x=\"687.679688\" xlink:href=\"#DejaVuSans-52\"/>\r\n      <use x=\"751.302734\" xlink:href=\"#DejaVuSans-49\"/>\r\n      <use x=\"814.925781\" xlink:href=\"#DejaVuSans-50\"/>\r\n      <use x=\"878.548828\" xlink:href=\"#DejaVuSans-32\"/>\r\n     </g>\r\n    </g>\r\n   </g>\r\n  </g>\r\n </g>\r\n <defs>\r\n  <clipPath id=\"pbd8c4345e9\">\r\n   <rect height=\"380.52\" width=\"390.6\" x=\"43.78125\" y=\"7.2\"/>\r\n  </clipPath>\r\n </defs>\r\n</svg>\r\n",
      "image/png": "[encoded data removed]"
     },
     "metadata": {
      "needs_background": "light"
     }
    }
   ],
   "source": [
    "conv.graph(mode='prc')"
   ]
  },
  {
   "cell_type": "code",
   "execution_count": 140,
   "metadata": {},
   "outputs": [],
   "source": [
    "res.drop_duplicates().to_csv('data/opres.csv', index=False)"
   ]
  },
  {
   "source": [
    "## Data manipulations"
   ],
   "cell_type": "markdown",
   "metadata": {}
  },
  {
   "cell_type": "code",
   "execution_count": null,
   "metadata": {},
   "outputs": [],
   "source": [
    "COUNTRIES=['england', 'france', 'greece', 'spain', 'italy', 'portugal', 'mexico', 'asia', 'scotland', 'netherlands', 'belgium', \n",
    "                        'turkey', 'argentina', 'germany', 'switzerland', 'poland', 'austria', 'europe', 'south-america', 'denmark',\n",
    "                        'ukraine', 'usa', 'russia', 'japan', 'bulgaria', 'lithuania', 'sweden', 'norway', 'romania', 'brazil', 'estonia',\n",
    "                        'slovakia', 'north-central-america', 'finland', 'serbia', 'slovenia', 'china', 'hungary', 'czech-republic', 'chile',\n",
    "                        'belarus', 'croatia', 'paraguay', 'cyprus', 'uruguay', 'ireland', 'colombia', 'south-korea', 'ecuador']\n",
    "df1=pd.read_csv('data/op/matches.csv', index_col=None)\n",
    "df1=df1[df1.country.isin(COUNTRIES)]\n",
    "df1.drop_duplicates().to_csv('data/op/matches.csv', index=False)"
   ]
  },
  {
   "cell_type": "code",
   "execution_count": null,
   "metadata": {},
   "outputs": [],
   "source": []
  }
 ]
}